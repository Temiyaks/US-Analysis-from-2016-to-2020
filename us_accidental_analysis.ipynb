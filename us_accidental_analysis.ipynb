{
  "nbformat": 4,
  "nbformat_minor": 0,
  "metadata": {
    "colab": {
      "name": "us-accidental-analysis.ipynb",
      "provenance": [],
      "collapsed_sections": []
    },
    "kernelspec": {
      "display_name": "Python 3",
      "language": "python",
      "name": "python3"
    },
    "language_info": {
      "codemirror_mode": {
        "name": "ipython",
        "version": 3
      },
      "file_extension": ".py",
      "mimetype": "text/x-python",
      "name": "python",
      "nbconvert_exporter": "python",
      "pygments_lexer": "ipython3",
      "version": "3.7.6"
    }
  },
  "cells": [
    {
      "cell_type": "code",
      "metadata": {
        "id": "GRDiSQWkdzaE",
        "colab": {
          "base_uri": "https://localhost:8080/"
        },
        "outputId": "217b496e-6992-4f2e-bbad-2a68bcc9a97f"
      },
      "source": [
        "from google.colab import drive\n",
        "drive.mount('/content/drive')"
      ],
      "execution_count": 1,
      "outputs": [
        {
          "output_type": "stream",
          "text": [
            "Mounted at /content/drive\n"
          ],
          "name": "stdout"
        }
      ]
    },
    {
      "cell_type": "code",
      "metadata": {
        "colab": {
          "base_uri": "https://localhost:8080/"
        },
        "id": "8kHZ31YA1i9-",
        "outputId": "d1f0558c-a3a3-41b9-bdaf-de24fc09a23e"
      },
      "source": [
        "# Jovian Commit Essentials\n",
        "# Please retain and execute this cell without modifying the contents for `jovian.commit` to work\n",
        "!pip install jovian --upgrade -q\n",
        "import jovian\n",
        "jovian.set_project('us-accidental-analysis')\n",
        "jovian.set_colab_id('1QfVIWX3xg8btKn1wC0N8DNz2ZyU7VQWa')"
      ],
      "execution_count": 2,
      "outputs": [
        {
          "output_type": "stream",
          "text": [
            "\u001b[?25l\r\u001b[K     |████▊                           | 10 kB 20.4 MB/s eta 0:00:01\r\u001b[K     |█████████▌                      | 20 kB 9.9 MB/s eta 0:00:01\r\u001b[K     |██████████████▎                 | 30 kB 8.3 MB/s eta 0:00:01\r\u001b[K     |███████████████████             | 40 kB 7.7 MB/s eta 0:00:01\r\u001b[K     |███████████████████████▉        | 51 kB 4.1 MB/s eta 0:00:01\r\u001b[K     |████████████████████████████▋   | 61 kB 4.3 MB/s eta 0:00:01\r\u001b[K     |████████████████████████████████| 68 kB 2.6 MB/s \n",
            "\u001b[?25h  Building wheel for uuid (setup.py) ... \u001b[?25l\u001b[?25hdone\n"
          ],
          "name": "stdout"
        }
      ]
    },
    {
      "cell_type": "markdown",
      "metadata": {
        "id": "Pet4c3P-1i-C"
      },
      "source": [
        "# us-accidental-analysis\n",
        "\n",
        "Use the \"Run\" button to execute the code."
      ]
    },
    {
      "cell_type": "code",
      "metadata": {
        "id": "0hxbbxTq1i-C"
      },
      "source": [
        "!pip install jovian --upgrade --quiet"
      ],
      "execution_count": 3,
      "outputs": []
    },
    {
      "cell_type": "code",
      "metadata": {
        "id": "kgZg3VYO1i-D"
      },
      "source": [
        "import jovian"
      ],
      "execution_count": 4,
      "outputs": []
    },
    {
      "cell_type": "code",
      "metadata": {
        "colab": {
          "base_uri": "https://localhost:8080/",
          "height": 120
        },
        "id": "1HClHPZL1i-E",
        "outputId": "92b78a7d-ba9b-4f56-bf95-ef2eb1f44031"
      },
      "source": [
        "# Execute this to save new versions of the notebook\n",
        "jovian.commit(project=\"us-accidental-analysis\")"
      ],
      "execution_count": 5,
      "outputs": [
        {
          "output_type": "stream",
          "text": [
            "[jovian] Detected Colab notebook...\u001b[0m\n",
            "[jovian] Please enter your API key ( from https://jovian.ai/ ):\u001b[0m\n",
            "API KEY: ··········\n",
            "[jovian] Uploading colab notebook to Jovian...\u001b[0m\n",
            "Committed successfully! https://jovian.ai/temitopeyakub28/us-accidental-analysis\n"
          ],
          "name": "stdout"
        },
        {
          "output_type": "execute_result",
          "data": {
            "application/vnd.google.colaboratory.intrinsic+json": {
              "type": "string"
            },
            "text/plain": [
              "'https://jovian.ai/temitopeyakub28/us-accidental-analysis'"
            ]
          },
          "metadata": {
            "tags": []
          },
          "execution_count": 5
        }
      ]
    },
    {
      "cell_type": "code",
      "metadata": {
        "id": "OKOywEg61i-E"
      },
      "source": [
        "pip install opendatasets --quiet"
      ],
      "execution_count": 6,
      "outputs": []
    },
    {
      "cell_type": "code",
      "metadata": {
        "id": "r1-WykVc3vHw"
      },
      "source": [
        "import opendatasets as od\n"
      ],
      "execution_count": 7,
      "outputs": []
    },
    {
      "cell_type": "code",
      "metadata": {
        "id": "eQg0XQf64FsZ"
      },
      "source": [
        "dataset_url = \"https://www.kaggle.com/sobhanmoosavi/us-accidents\""
      ],
      "execution_count": 8,
      "outputs": []
    },
    {
      "cell_type": "code",
      "metadata": {
        "colab": {
          "base_uri": "https://localhost:8080/"
        },
        "id": "fGt1GTRk4Od0",
        "outputId": "dc1b751d-e16f-43ab-a8ea-fc37c9dec446"
      },
      "source": [
        "od.download(dataset_url)"
      ],
      "execution_count": 9,
      "outputs": [
        {
          "output_type": "stream",
          "text": [
            "Please provide your Kaggle credentials to download this dataset. Learn more: http://bit.ly/kaggle-creds\n",
            "Your Kaggle username: temitopeyakub\n",
            "Your Kaggle Key: ··········\n"
          ],
          "name": "stdout"
        },
        {
          "output_type": "stream",
          "text": [
            "\r  0%|          | 0.00/290M [00:00<?, ?B/s]"
          ],
          "name": "stderr"
        },
        {
          "output_type": "stream",
          "text": [
            "Downloading us-accidents.zip to ./us-accidents\n"
          ],
          "name": "stdout"
        },
        {
          "output_type": "stream",
          "text": [
            "100%|██████████| 290M/290M [00:11<00:00, 27.3MB/s]\n"
          ],
          "name": "stderr"
        },
        {
          "output_type": "stream",
          "text": [
            "\n"
          ],
          "name": "stdout"
        }
      ]
    },
    {
      "cell_type": "code",
      "metadata": {
        "id": "z3avN0tT4Y3n"
      },
      "source": [
        "us_data = \"./content/us-accidents/US_Accidents_Dec20_Updated.csv\""
      ],
      "execution_count": 10,
      "outputs": []
    },
    {
      "cell_type": "code",
      "metadata": {
        "id": "iXdp6HWk9baS"
      },
      "source": [
        "import pandas as pd\n",
        "import numpy as np\n",
        "import matplotlib.pyplot as plt # visualization\n"
      ],
      "execution_count": 11,
      "outputs": []
    },
    {
      "cell_type": "code",
      "metadata": {
        "colab": {
          "base_uri": "https://localhost:8080/",
          "height": 530
        },
        "id": "ub57uVjk9mT7",
        "outputId": "212158ec-e107-4877-a056-630a371398c0"
      },
      "source": [
        "missing_values = [\"n.a.\",\"n/a\", \"na\", \"--\", \"0\"]\n",
        "df = pd.read_csv(\"/content/us-accidents/US_Accidents_Dec20_Updated.csv\",na_values = missing_values)\n",
        "df.head(5)\n"
      ],
      "execution_count": 12,
      "outputs": [
        {
          "output_type": "execute_result",
          "data": {
            "text/html": [
              "<div>\n",
              "<style scoped>\n",
              "    .dataframe tbody tr th:only-of-type {\n",
              "        vertical-align: middle;\n",
              "    }\n",
              "\n",
              "    .dataframe tbody tr th {\n",
              "        vertical-align: top;\n",
              "    }\n",
              "\n",
              "    .dataframe thead th {\n",
              "        text-align: right;\n",
              "    }\n",
              "</style>\n",
              "<table border=\"1\" class=\"dataframe\">\n",
              "  <thead>\n",
              "    <tr style=\"text-align: right;\">\n",
              "      <th></th>\n",
              "      <th>ID</th>\n",
              "      <th>Severity</th>\n",
              "      <th>Start_Time</th>\n",
              "      <th>End_Time</th>\n",
              "      <th>Start_Lat</th>\n",
              "      <th>Start_Lng</th>\n",
              "      <th>End_Lat</th>\n",
              "      <th>End_Lng</th>\n",
              "      <th>Distance(mi)</th>\n",
              "      <th>Description</th>\n",
              "      <th>Number</th>\n",
              "      <th>Street</th>\n",
              "      <th>Side</th>\n",
              "      <th>City</th>\n",
              "      <th>County</th>\n",
              "      <th>State</th>\n",
              "      <th>Zipcode</th>\n",
              "      <th>Country</th>\n",
              "      <th>Timezone</th>\n",
              "      <th>Airport_Code</th>\n",
              "      <th>Weather_Timestamp</th>\n",
              "      <th>Temperature(F)</th>\n",
              "      <th>Wind_Chill(F)</th>\n",
              "      <th>Humidity(%)</th>\n",
              "      <th>Pressure(in)</th>\n",
              "      <th>Visibility(mi)</th>\n",
              "      <th>Wind_Direction</th>\n",
              "      <th>Wind_Speed(mph)</th>\n",
              "      <th>Precipitation(in)</th>\n",
              "      <th>Weather_Condition</th>\n",
              "      <th>Amenity</th>\n",
              "      <th>Bump</th>\n",
              "      <th>Crossing</th>\n",
              "      <th>Give_Way</th>\n",
              "      <th>Junction</th>\n",
              "      <th>No_Exit</th>\n",
              "      <th>Railway</th>\n",
              "      <th>Roundabout</th>\n",
              "      <th>Station</th>\n",
              "      <th>Stop</th>\n",
              "      <th>Traffic_Calming</th>\n",
              "      <th>Traffic_Signal</th>\n",
              "      <th>Turning_Loop</th>\n",
              "      <th>Sunrise_Sunset</th>\n",
              "      <th>Civil_Twilight</th>\n",
              "      <th>Nautical_Twilight</th>\n",
              "      <th>Astronomical_Twilight</th>\n",
              "    </tr>\n",
              "  </thead>\n",
              "  <tbody>\n",
              "    <tr>\n",
              "      <th>0</th>\n",
              "      <td>A-1</td>\n",
              "      <td>2</td>\n",
              "      <td>2019-05-21 08:29:55</td>\n",
              "      <td>2019-05-21 09:29:40</td>\n",
              "      <td>34.808868</td>\n",
              "      <td>-82.269157</td>\n",
              "      <td>34.808868</td>\n",
              "      <td>-82.269157</td>\n",
              "      <td>NaN</td>\n",
              "      <td>Accident on Tanner Rd at Pennbrooke Ln.</td>\n",
              "      <td>439.0</td>\n",
              "      <td>Tanner Rd</td>\n",
              "      <td>R</td>\n",
              "      <td>Greenville</td>\n",
              "      <td>Greenville</td>\n",
              "      <td>SC</td>\n",
              "      <td>29607-6027</td>\n",
              "      <td>US</td>\n",
              "      <td>US/Eastern</td>\n",
              "      <td>KGMU</td>\n",
              "      <td>2019-05-21 08:53:00</td>\n",
              "      <td>76.0</td>\n",
              "      <td>76.0</td>\n",
              "      <td>52.0</td>\n",
              "      <td>28.91</td>\n",
              "      <td>10.0</td>\n",
              "      <td>N</td>\n",
              "      <td>7.0</td>\n",
              "      <td>NaN</td>\n",
              "      <td>Fair</td>\n",
              "      <td>False</td>\n",
              "      <td>False</td>\n",
              "      <td>False</td>\n",
              "      <td>False</td>\n",
              "      <td>False</td>\n",
              "      <td>False</td>\n",
              "      <td>False</td>\n",
              "      <td>False</td>\n",
              "      <td>False</td>\n",
              "      <td>False</td>\n",
              "      <td>False</td>\n",
              "      <td>False</td>\n",
              "      <td>False</td>\n",
              "      <td>Day</td>\n",
              "      <td>Day</td>\n",
              "      <td>Day</td>\n",
              "      <td>Day</td>\n",
              "    </tr>\n",
              "    <tr>\n",
              "      <th>1</th>\n",
              "      <td>A-2</td>\n",
              "      <td>2</td>\n",
              "      <td>2019-10-07 17:43:09</td>\n",
              "      <td>2019-10-07 19:42:50</td>\n",
              "      <td>35.090080</td>\n",
              "      <td>-80.745560</td>\n",
              "      <td>35.090080</td>\n",
              "      <td>-80.745560</td>\n",
              "      <td>NaN</td>\n",
              "      <td>Accident on Houston Branch Rd at Providence Br...</td>\n",
              "      <td>3299.0</td>\n",
              "      <td>Providence Branch Ln</td>\n",
              "      <td>R</td>\n",
              "      <td>Charlotte</td>\n",
              "      <td>Mecklenburg</td>\n",
              "      <td>NC</td>\n",
              "      <td>28270-8560</td>\n",
              "      <td>US</td>\n",
              "      <td>US/Eastern</td>\n",
              "      <td>KEQY</td>\n",
              "      <td>2019-10-07 17:53:00</td>\n",
              "      <td>76.0</td>\n",
              "      <td>76.0</td>\n",
              "      <td>62.0</td>\n",
              "      <td>29.30</td>\n",
              "      <td>10.0</td>\n",
              "      <td>VAR</td>\n",
              "      <td>3.0</td>\n",
              "      <td>NaN</td>\n",
              "      <td>Cloudy</td>\n",
              "      <td>False</td>\n",
              "      <td>False</td>\n",
              "      <td>False</td>\n",
              "      <td>False</td>\n",
              "      <td>False</td>\n",
              "      <td>False</td>\n",
              "      <td>False</td>\n",
              "      <td>False</td>\n",
              "      <td>False</td>\n",
              "      <td>False</td>\n",
              "      <td>False</td>\n",
              "      <td>False</td>\n",
              "      <td>False</td>\n",
              "      <td>Day</td>\n",
              "      <td>Day</td>\n",
              "      <td>Day</td>\n",
              "      <td>Day</td>\n",
              "    </tr>\n",
              "    <tr>\n",
              "      <th>2</th>\n",
              "      <td>A-3</td>\n",
              "      <td>2</td>\n",
              "      <td>2020-12-13 21:53:00</td>\n",
              "      <td>2020-12-13 22:44:00</td>\n",
              "      <td>37.145730</td>\n",
              "      <td>-121.985052</td>\n",
              "      <td>37.165850</td>\n",
              "      <td>-121.988062</td>\n",
              "      <td>1.4</td>\n",
              "      <td>Stationary traffic on CA-17 from Summit Rd (CA...</td>\n",
              "      <td>NaN</td>\n",
              "      <td>Santa Cruz Hwy</td>\n",
              "      <td>R</td>\n",
              "      <td>Los Gatos</td>\n",
              "      <td>Santa Clara</td>\n",
              "      <td>CA</td>\n",
              "      <td>95033</td>\n",
              "      <td>US</td>\n",
              "      <td>US/Pacific</td>\n",
              "      <td>KSJC</td>\n",
              "      <td>2020-12-13 21:53:00</td>\n",
              "      <td>51.0</td>\n",
              "      <td>51.0</td>\n",
              "      <td>80.0</td>\n",
              "      <td>30.17</td>\n",
              "      <td>10.0</td>\n",
              "      <td>W</td>\n",
              "      <td>6.0</td>\n",
              "      <td>NaN</td>\n",
              "      <td>Fair</td>\n",
              "      <td>False</td>\n",
              "      <td>False</td>\n",
              "      <td>False</td>\n",
              "      <td>False</td>\n",
              "      <td>False</td>\n",
              "      <td>False</td>\n",
              "      <td>False</td>\n",
              "      <td>False</td>\n",
              "      <td>False</td>\n",
              "      <td>False</td>\n",
              "      <td>False</td>\n",
              "      <td>False</td>\n",
              "      <td>False</td>\n",
              "      <td>Night</td>\n",
              "      <td>Night</td>\n",
              "      <td>Night</td>\n",
              "      <td>Night</td>\n",
              "    </tr>\n",
              "    <tr>\n",
              "      <th>3</th>\n",
              "      <td>A-4</td>\n",
              "      <td>2</td>\n",
              "      <td>2018-04-17 16:51:23</td>\n",
              "      <td>2018-04-17 17:50:46</td>\n",
              "      <td>39.110390</td>\n",
              "      <td>-119.773781</td>\n",
              "      <td>39.110390</td>\n",
              "      <td>-119.773781</td>\n",
              "      <td>NaN</td>\n",
              "      <td>Accident on US-395 Southbound at Topsy Ln.</td>\n",
              "      <td>NaN</td>\n",
              "      <td>US Highway 395 S</td>\n",
              "      <td>R</td>\n",
              "      <td>Carson City</td>\n",
              "      <td>Douglas</td>\n",
              "      <td>NV</td>\n",
              "      <td>89705</td>\n",
              "      <td>US</td>\n",
              "      <td>US/Pacific</td>\n",
              "      <td>KCXP</td>\n",
              "      <td>2018-04-17 16:55:00</td>\n",
              "      <td>53.6</td>\n",
              "      <td>NaN</td>\n",
              "      <td>16.0</td>\n",
              "      <td>30.16</td>\n",
              "      <td>10.0</td>\n",
              "      <td>SSW</td>\n",
              "      <td>4.6</td>\n",
              "      <td>NaN</td>\n",
              "      <td>Clear</td>\n",
              "      <td>False</td>\n",
              "      <td>False</td>\n",
              "      <td>False</td>\n",
              "      <td>False</td>\n",
              "      <td>False</td>\n",
              "      <td>False</td>\n",
              "      <td>False</td>\n",
              "      <td>False</td>\n",
              "      <td>False</td>\n",
              "      <td>False</td>\n",
              "      <td>False</td>\n",
              "      <td>True</td>\n",
              "      <td>False</td>\n",
              "      <td>Day</td>\n",
              "      <td>Day</td>\n",
              "      <td>Day</td>\n",
              "      <td>Day</td>\n",
              "    </tr>\n",
              "    <tr>\n",
              "      <th>4</th>\n",
              "      <td>A-5</td>\n",
              "      <td>3</td>\n",
              "      <td>2016-08-31 17:40:49</td>\n",
              "      <td>2016-08-31 18:10:49</td>\n",
              "      <td>26.102942</td>\n",
              "      <td>-80.265091</td>\n",
              "      <td>26.102942</td>\n",
              "      <td>-80.265091</td>\n",
              "      <td>NaN</td>\n",
              "      <td>Accident on I-595 Westbound at Exit 4 / Pine I...</td>\n",
              "      <td>NaN</td>\n",
              "      <td>I-595 W</td>\n",
              "      <td>R</td>\n",
              "      <td>Fort Lauderdale</td>\n",
              "      <td>Broward</td>\n",
              "      <td>FL</td>\n",
              "      <td>33324</td>\n",
              "      <td>US</td>\n",
              "      <td>US/Eastern</td>\n",
              "      <td>KHWO</td>\n",
              "      <td>2016-08-31 17:53:00</td>\n",
              "      <td>84.2</td>\n",
              "      <td>NaN</td>\n",
              "      <td>84.0</td>\n",
              "      <td>29.92</td>\n",
              "      <td>10.0</td>\n",
              "      <td>SSE</td>\n",
              "      <td>13.8</td>\n",
              "      <td>NaN</td>\n",
              "      <td>Overcast</td>\n",
              "      <td>False</td>\n",
              "      <td>False</td>\n",
              "      <td>False</td>\n",
              "      <td>False</td>\n",
              "      <td>True</td>\n",
              "      <td>False</td>\n",
              "      <td>False</td>\n",
              "      <td>False</td>\n",
              "      <td>False</td>\n",
              "      <td>False</td>\n",
              "      <td>False</td>\n",
              "      <td>True</td>\n",
              "      <td>False</td>\n",
              "      <td>Day</td>\n",
              "      <td>Day</td>\n",
              "      <td>Day</td>\n",
              "      <td>Day</td>\n",
              "    </tr>\n",
              "  </tbody>\n",
              "</table>\n",
              "</div>"
            ],
            "text/plain": [
              "    ID  Severity  ... Nautical_Twilight Astronomical_Twilight\n",
              "0  A-1         2  ...               Day                   Day\n",
              "1  A-2         2  ...               Day                   Day\n",
              "2  A-3         2  ...             Night                 Night\n",
              "3  A-4         2  ...               Day                   Day\n",
              "4  A-5         3  ...               Day                   Day\n",
              "\n",
              "[5 rows x 47 columns]"
            ]
          },
          "metadata": {
            "tags": []
          },
          "execution_count": 12
        }
      ]
    },
    {
      "cell_type": "code",
      "metadata": {
        "colab": {
          "base_uri": "https://localhost:8080/",
          "height": 428
        },
        "id": "8Y4yKn8bDK_u",
        "outputId": "aa2e584b-fca8-434d-8170-7faf9b671d25"
      },
      "source": [
        "df.tail() #TO DISPLAY THE BOOTOM FIVE ROWS \n"
      ],
      "execution_count": 13,
      "outputs": [
        {
          "output_type": "execute_result",
          "data": {
            "text/html": [
              "<div>\n",
              "<style scoped>\n",
              "    .dataframe tbody tr th:only-of-type {\n",
              "        vertical-align: middle;\n",
              "    }\n",
              "\n",
              "    .dataframe tbody tr th {\n",
              "        vertical-align: top;\n",
              "    }\n",
              "\n",
              "    .dataframe thead th {\n",
              "        text-align: right;\n",
              "    }\n",
              "</style>\n",
              "<table border=\"1\" class=\"dataframe\">\n",
              "  <thead>\n",
              "    <tr style=\"text-align: right;\">\n",
              "      <th></th>\n",
              "      <th>ID</th>\n",
              "      <th>Severity</th>\n",
              "      <th>Start_Time</th>\n",
              "      <th>End_Time</th>\n",
              "      <th>Start_Lat</th>\n",
              "      <th>Start_Lng</th>\n",
              "      <th>End_Lat</th>\n",
              "      <th>End_Lng</th>\n",
              "      <th>Distance(mi)</th>\n",
              "      <th>Description</th>\n",
              "      <th>Number</th>\n",
              "      <th>Street</th>\n",
              "      <th>Side</th>\n",
              "      <th>City</th>\n",
              "      <th>County</th>\n",
              "      <th>State</th>\n",
              "      <th>Zipcode</th>\n",
              "      <th>Country</th>\n",
              "      <th>Timezone</th>\n",
              "      <th>Airport_Code</th>\n",
              "      <th>Weather_Timestamp</th>\n",
              "      <th>Temperature(F)</th>\n",
              "      <th>Wind_Chill(F)</th>\n",
              "      <th>Humidity(%)</th>\n",
              "      <th>Pressure(in)</th>\n",
              "      <th>Visibility(mi)</th>\n",
              "      <th>Wind_Direction</th>\n",
              "      <th>Wind_Speed(mph)</th>\n",
              "      <th>Precipitation(in)</th>\n",
              "      <th>Weather_Condition</th>\n",
              "      <th>Amenity</th>\n",
              "      <th>Bump</th>\n",
              "      <th>Crossing</th>\n",
              "      <th>Give_Way</th>\n",
              "      <th>Junction</th>\n",
              "      <th>No_Exit</th>\n",
              "      <th>Railway</th>\n",
              "      <th>Roundabout</th>\n",
              "      <th>Station</th>\n",
              "      <th>Stop</th>\n",
              "      <th>Traffic_Calming</th>\n",
              "      <th>Traffic_Signal</th>\n",
              "      <th>Turning_Loop</th>\n",
              "      <th>Sunrise_Sunset</th>\n",
              "      <th>Civil_Twilight</th>\n",
              "      <th>Nautical_Twilight</th>\n",
              "      <th>Astronomical_Twilight</th>\n",
              "    </tr>\n",
              "  </thead>\n",
              "  <tbody>\n",
              "    <tr>\n",
              "      <th>2906605</th>\n",
              "      <td>A-2906606</td>\n",
              "      <td>2</td>\n",
              "      <td>2018-06-28 08:49:01</td>\n",
              "      <td>2018-06-28 09:18:51</td>\n",
              "      <td>29.813824</td>\n",
              "      <td>-95.399437</td>\n",
              "      <td>29.813824</td>\n",
              "      <td>-95.399437</td>\n",
              "      <td>NaN</td>\n",
              "      <td>Accident on 30th St at Yale St.</td>\n",
              "      <td>3001.0</td>\n",
              "      <td>Yale St</td>\n",
              "      <td>L</td>\n",
              "      <td>Houston</td>\n",
              "      <td>Harris</td>\n",
              "      <td>TX</td>\n",
              "      <td>77018-8433</td>\n",
              "      <td>US</td>\n",
              "      <td>US/Central</td>\n",
              "      <td>KMCJ</td>\n",
              "      <td>2018-06-28 08:35:00</td>\n",
              "      <td>84.2</td>\n",
              "      <td>NaN</td>\n",
              "      <td>70.0</td>\n",
              "      <td>30.02</td>\n",
              "      <td>9.0</td>\n",
              "      <td>Variable</td>\n",
              "      <td>5.8</td>\n",
              "      <td>NaN</td>\n",
              "      <td>Clear</td>\n",
              "      <td>False</td>\n",
              "      <td>False</td>\n",
              "      <td>False</td>\n",
              "      <td>False</td>\n",
              "      <td>False</td>\n",
              "      <td>False</td>\n",
              "      <td>False</td>\n",
              "      <td>False</td>\n",
              "      <td>False</td>\n",
              "      <td>True</td>\n",
              "      <td>False</td>\n",
              "      <td>False</td>\n",
              "      <td>False</td>\n",
              "      <td>Day</td>\n",
              "      <td>Day</td>\n",
              "      <td>Day</td>\n",
              "      <td>Day</td>\n",
              "    </tr>\n",
              "    <tr>\n",
              "      <th>2906606</th>\n",
              "      <td>A-2906607</td>\n",
              "      <td>2</td>\n",
              "      <td>2019-01-10 02:01:01</td>\n",
              "      <td>2019-01-10 02:30:32</td>\n",
              "      <td>34.068890</td>\n",
              "      <td>-117.342010</td>\n",
              "      <td>34.068890</td>\n",
              "      <td>-117.342010</td>\n",
              "      <td>NaN</td>\n",
              "      <td>At Valley Blvd - Accident.</td>\n",
              "      <td>NaN</td>\n",
              "      <td>Cypress Ave</td>\n",
              "      <td>R</td>\n",
              "      <td>Colton</td>\n",
              "      <td>San Bernardino</td>\n",
              "      <td>CA</td>\n",
              "      <td>92324</td>\n",
              "      <td>US</td>\n",
              "      <td>US/Pacific</td>\n",
              "      <td>KSBD</td>\n",
              "      <td>2019-01-10 02:00:00</td>\n",
              "      <td>46.9</td>\n",
              "      <td>NaN</td>\n",
              "      <td>74.0</td>\n",
              "      <td>30.14</td>\n",
              "      <td>10.0</td>\n",
              "      <td>Calm</td>\n",
              "      <td>NaN</td>\n",
              "      <td>NaN</td>\n",
              "      <td>Clear</td>\n",
              "      <td>False</td>\n",
              "      <td>False</td>\n",
              "      <td>False</td>\n",
              "      <td>False</td>\n",
              "      <td>False</td>\n",
              "      <td>False</td>\n",
              "      <td>False</td>\n",
              "      <td>False</td>\n",
              "      <td>False</td>\n",
              "      <td>False</td>\n",
              "      <td>False</td>\n",
              "      <td>False</td>\n",
              "      <td>False</td>\n",
              "      <td>Night</td>\n",
              "      <td>Night</td>\n",
              "      <td>Night</td>\n",
              "      <td>Night</td>\n",
              "    </tr>\n",
              "    <tr>\n",
              "      <th>2906607</th>\n",
              "      <td>A-2906608</td>\n",
              "      <td>2</td>\n",
              "      <td>2020-11-23 12:52:00</td>\n",
              "      <td>2020-11-24 00:47:37</td>\n",
              "      <td>25.702200</td>\n",
              "      <td>-80.335556</td>\n",
              "      <td>25.703040</td>\n",
              "      <td>-80.334099</td>\n",
              "      <td>0.108</td>\n",
              "      <td>Stationary traffic on County Hwy-913 - FL-986 ...</td>\n",
              "      <td>8798.0</td>\n",
              "      <td>SW 72nd St</td>\n",
              "      <td>L</td>\n",
              "      <td>Miami</td>\n",
              "      <td>Miami-Dade</td>\n",
              "      <td>FL</td>\n",
              "      <td>33173-3512</td>\n",
              "      <td>US</td>\n",
              "      <td>US/Eastern</td>\n",
              "      <td>KTMB</td>\n",
              "      <td>2020-11-23 12:53:00</td>\n",
              "      <td>76.0</td>\n",
              "      <td>76.0</td>\n",
              "      <td>85.0</td>\n",
              "      <td>30.00</td>\n",
              "      <td>10.0</td>\n",
              "      <td>NNW</td>\n",
              "      <td>16.0</td>\n",
              "      <td>NaN</td>\n",
              "      <td>Mostly Cloudy</td>\n",
              "      <td>False</td>\n",
              "      <td>False</td>\n",
              "      <td>False</td>\n",
              "      <td>False</td>\n",
              "      <td>False</td>\n",
              "      <td>False</td>\n",
              "      <td>False</td>\n",
              "      <td>False</td>\n",
              "      <td>False</td>\n",
              "      <td>False</td>\n",
              "      <td>False</td>\n",
              "      <td>False</td>\n",
              "      <td>False</td>\n",
              "      <td>Day</td>\n",
              "      <td>Day</td>\n",
              "      <td>Day</td>\n",
              "      <td>Day</td>\n",
              "    </tr>\n",
              "    <tr>\n",
              "      <th>2906608</th>\n",
              "      <td>A-2906609</td>\n",
              "      <td>2</td>\n",
              "      <td>2019-12-29 22:38:00</td>\n",
              "      <td>2019-12-29 23:38:00</td>\n",
              "      <td>40.660140</td>\n",
              "      <td>-111.952460</td>\n",
              "      <td>40.660140</td>\n",
              "      <td>-111.952460</td>\n",
              "      <td>NaN</td>\n",
              "      <td>At UT-266/4700/Exit 15 - Accident.</td>\n",
              "      <td>NaN</td>\n",
              "      <td>I-215 N</td>\n",
              "      <td>R</td>\n",
              "      <td>Salt Lake City</td>\n",
              "      <td>Salt Lake</td>\n",
              "      <td>UT</td>\n",
              "      <td>84129</td>\n",
              "      <td>US</td>\n",
              "      <td>US/Mountain</td>\n",
              "      <td>KU42</td>\n",
              "      <td>2019-12-29 22:54:00</td>\n",
              "      <td>27.0</td>\n",
              "      <td>19.0</td>\n",
              "      <td>81.0</td>\n",
              "      <td>25.81</td>\n",
              "      <td>10.0</td>\n",
              "      <td>SSE</td>\n",
              "      <td>8.0</td>\n",
              "      <td>NaN</td>\n",
              "      <td>Cloudy</td>\n",
              "      <td>False</td>\n",
              "      <td>False</td>\n",
              "      <td>False</td>\n",
              "      <td>False</td>\n",
              "      <td>False</td>\n",
              "      <td>False</td>\n",
              "      <td>False</td>\n",
              "      <td>False</td>\n",
              "      <td>False</td>\n",
              "      <td>False</td>\n",
              "      <td>False</td>\n",
              "      <td>False</td>\n",
              "      <td>False</td>\n",
              "      <td>Night</td>\n",
              "      <td>Night</td>\n",
              "      <td>Night</td>\n",
              "      <td>Night</td>\n",
              "    </tr>\n",
              "    <tr>\n",
              "      <th>2906609</th>\n",
              "      <td>A-2906610</td>\n",
              "      <td>2</td>\n",
              "      <td>2018-03-26 13:35:03</td>\n",
              "      <td>2018-03-26 14:39:00</td>\n",
              "      <td>38.831749</td>\n",
              "      <td>-104.748161</td>\n",
              "      <td>38.831749</td>\n",
              "      <td>-104.748161</td>\n",
              "      <td>NaN</td>\n",
              "      <td>Accident on Murray Blvd at Byron Dr.</td>\n",
              "      <td>NaN</td>\n",
              "      <td>Byron Dr</td>\n",
              "      <td>R</td>\n",
              "      <td>Colorado Springs</td>\n",
              "      <td>El Paso</td>\n",
              "      <td>CO</td>\n",
              "      <td>80916</td>\n",
              "      <td>US</td>\n",
              "      <td>US/Mountain</td>\n",
              "      <td>KCOS</td>\n",
              "      <td>2018-03-26 13:54:00</td>\n",
              "      <td>51.1</td>\n",
              "      <td>NaN</td>\n",
              "      <td>38.0</td>\n",
              "      <td>29.77</td>\n",
              "      <td>10.0</td>\n",
              "      <td>SE</td>\n",
              "      <td>13.8</td>\n",
              "      <td>NaN</td>\n",
              "      <td>Scattered Clouds</td>\n",
              "      <td>False</td>\n",
              "      <td>False</td>\n",
              "      <td>True</td>\n",
              "      <td>False</td>\n",
              "      <td>False</td>\n",
              "      <td>False</td>\n",
              "      <td>False</td>\n",
              "      <td>False</td>\n",
              "      <td>False</td>\n",
              "      <td>False</td>\n",
              "      <td>False</td>\n",
              "      <td>True</td>\n",
              "      <td>False</td>\n",
              "      <td>Day</td>\n",
              "      <td>Day</td>\n",
              "      <td>Day</td>\n",
              "      <td>Day</td>\n",
              "    </tr>\n",
              "  </tbody>\n",
              "</table>\n",
              "</div>"
            ],
            "text/plain": [
              "                ID  Severity  ... Nautical_Twilight Astronomical_Twilight\n",
              "2906605  A-2906606         2  ...               Day                   Day\n",
              "2906606  A-2906607         2  ...             Night                 Night\n",
              "2906607  A-2906608         2  ...               Day                   Day\n",
              "2906608  A-2906609         2  ...             Night                 Night\n",
              "2906609  A-2906610         2  ...               Day                   Day\n",
              "\n",
              "[5 rows x 47 columns]"
            ]
          },
          "metadata": {
            "tags": []
          },
          "execution_count": 13
        }
      ]
    },
    {
      "cell_type": "code",
      "metadata": {
        "colab": {
          "base_uri": "https://localhost:8080/"
        },
        "id": "1kJNakKp9rjQ",
        "outputId": "49ac3286-98f6-46b6-9fcf-0e675b158666"
      },
      "source": [
        "df.columns  #TO CHECK THE HEADERS IF IT IS WELL WRITTEN\n",
        "\n"
      ],
      "execution_count": 14,
      "outputs": [
        {
          "output_type": "execute_result",
          "data": {
            "text/plain": [
              "Index(['ID', 'Severity', 'Start_Time', 'End_Time', 'Start_Lat', 'Start_Lng',\n",
              "       'End_Lat', 'End_Lng', 'Distance(mi)', 'Description', 'Number', 'Street',\n",
              "       'Side', 'City', 'County', 'State', 'Zipcode', 'Country', 'Timezone',\n",
              "       'Airport_Code', 'Weather_Timestamp', 'Temperature(F)', 'Wind_Chill(F)',\n",
              "       'Humidity(%)', 'Pressure(in)', 'Visibility(mi)', 'Wind_Direction',\n",
              "       'Wind_Speed(mph)', 'Precipitation(in)', 'Weather_Condition', 'Amenity',\n",
              "       'Bump', 'Crossing', 'Give_Way', 'Junction', 'No_Exit', 'Railway',\n",
              "       'Roundabout', 'Station', 'Stop', 'Traffic_Calming', 'Traffic_Signal',\n",
              "       'Turning_Loop', 'Sunrise_Sunset', 'Civil_Twilight', 'Nautical_Twilight',\n",
              "       'Astronomical_Twilight'],\n",
              "      dtype='object')"
            ]
          },
          "metadata": {
            "tags": []
          },
          "execution_count": 14
        }
      ]
    },
    {
      "cell_type": "code",
      "metadata": {
        "id": "U1eAmQkGDJMd"
      },
      "source": [
        ""
      ],
      "execution_count": 14,
      "outputs": []
    },
    {
      "cell_type": "code",
      "metadata": {
        "colab": {
          "base_uri": "https://localhost:8080/"
        },
        "id": "iXD6CfxC0DV8",
        "outputId": "ada26812-f6a9-45cd-ced0-5a974b4c82f2"
      },
      "source": [
        "df.info()  #TO GET THE SUMMARY OP THE DATATFRAME, THE DATA TYPES IN THIS DATAFRAME ARE INTEGER, FLOAT, AND OBJECT"
      ],
      "execution_count": 15,
      "outputs": [
        {
          "output_type": "stream",
          "text": [
            "<class 'pandas.core.frame.DataFrame'>\n",
            "RangeIndex: 2906610 entries, 0 to 2906609\n",
            "Data columns (total 47 columns):\n",
            " #   Column                 Dtype  \n",
            "---  ------                 -----  \n",
            " 0   ID                     object \n",
            " 1   Severity               int64  \n",
            " 2   Start_Time             object \n",
            " 3   End_Time               object \n",
            " 4   Start_Lat              float64\n",
            " 5   Start_Lng              float64\n",
            " 6   End_Lat                float64\n",
            " 7   End_Lng                float64\n",
            " 8   Distance(mi)           float64\n",
            " 9   Description            object \n",
            " 10  Number                 float64\n",
            " 11  Street                 object \n",
            " 12  Side                   object \n",
            " 13  City                   object \n",
            " 14  County                 object \n",
            " 15  State                  object \n",
            " 16  Zipcode                object \n",
            " 17  Country                object \n",
            " 18  Timezone               object \n",
            " 19  Airport_Code           object \n",
            " 20  Weather_Timestamp      object \n",
            " 21  Temperature(F)         float64\n",
            " 22  Wind_Chill(F)          float64\n",
            " 23  Humidity(%)            float64\n",
            " 24  Pressure(in)           float64\n",
            " 25  Visibility(mi)         float64\n",
            " 26  Wind_Direction         object \n",
            " 27  Wind_Speed(mph)        float64\n",
            " 28  Precipitation(in)      float64\n",
            " 29  Weather_Condition      object \n",
            " 30  Amenity                bool   \n",
            " 31  Bump                   bool   \n",
            " 32  Crossing               bool   \n",
            " 33  Give_Way               bool   \n",
            " 34  Junction               bool   \n",
            " 35  No_Exit                bool   \n",
            " 36  Railway                bool   \n",
            " 37  Roundabout             bool   \n",
            " 38  Station                bool   \n",
            " 39  Stop                   bool   \n",
            " 40  Traffic_Calming        bool   \n",
            " 41  Traffic_Signal         bool   \n",
            " 42  Turning_Loop           bool   \n",
            " 43  Sunrise_Sunset         object \n",
            " 44  Civil_Twilight         object \n",
            " 45  Nautical_Twilight      object \n",
            " 46  Astronomical_Twilight  object \n",
            "dtypes: bool(13), float64(13), int64(1), object(20)\n",
            "memory usage: 790.0+ MB\n"
          ],
          "name": "stdout"
        }
      ]
    },
    {
      "cell_type": "code",
      "metadata": {
        "colab": {
          "base_uri": "https://localhost:8080/"
        },
        "id": "8SbbfNds5JxA",
        "outputId": "d5e9c7ee-7279-46a4-f116-a92b51030560"
      },
      "source": [
        "df.shape  #TO GET THE DIMENSIONS OF THE DATAFRAME"
      ],
      "execution_count": 16,
      "outputs": [
        {
          "output_type": "execute_result",
          "data": {
            "text/plain": [
              "(2906610, 47)"
            ]
          },
          "metadata": {
            "tags": []
          },
          "execution_count": 16
        }
      ]
    },
    {
      "cell_type": "code",
      "metadata": {
        "colab": {
          "base_uri": "https://localhost:8080/"
        },
        "id": "Z9vvJ-PzDExp",
        "outputId": "2aaa0e88-3cb8-4688-dc26-e9e0a8267a5e"
      },
      "source": [
        "df.count() #To get the number of non-missing values for each column "
      ],
      "execution_count": 17,
      "outputs": [
        {
          "output_type": "execute_result",
          "data": {
            "text/plain": [
              "ID                       2906610\n",
              "Severity                 2906610\n",
              "Start_Time               2906610\n",
              "End_Time                 2906610\n",
              "Start_Lat                2906610\n",
              "Start_Lng                2906610\n",
              "End_Lat                  2623789\n",
              "End_Lng                  2623789\n",
              "Distance(mi)             1339358\n",
              "Description              2906610\n",
              "Number                   1014937\n",
              "Street                   2906610\n",
              "Side                     2906610\n",
              "City                     2906502\n",
              "County                   2906610\n",
              "State                    2906610\n",
              "Zipcode                  2905496\n",
              "Country                  2906610\n",
              "Timezone                 2903180\n",
              "Airport_Code             2900002\n",
              "Weather_Timestamp        2859693\n",
              "Temperature(F)           2838548\n",
              "Wind_Chill(F)            1722077\n",
              "Humidity(%)              2835340\n",
              "Pressure(in)             2849701\n",
              "Visibility(mi)           2832467\n",
              "Wind_Direction           2843136\n",
              "Wind_Speed(mph)          2303036\n",
              "Precipitation(in)         198664\n",
              "Weather_Condition        2834759\n",
              "Amenity                  2906610\n",
              "Bump                     2906610\n",
              "Crossing                 2906610\n",
              "Give_Way                 2906610\n",
              "Junction                 2906610\n",
              "No_Exit                  2906610\n",
              "Railway                  2906610\n",
              "Roundabout               2906610\n",
              "Station                  2906610\n",
              "Stop                     2906610\n",
              "Traffic_Calming          2906610\n",
              "Traffic_Signal           2906610\n",
              "Turning_Loop             2906610\n",
              "Sunrise_Sunset           2906500\n",
              "Civil_Twilight           2906500\n",
              "Nautical_Twilight        2906500\n",
              "Astronomical_Twilight    2906500\n",
              "dtype: int64"
            ]
          },
          "metadata": {
            "tags": []
          },
          "execution_count": 17
        }
      ]
    },
    {
      "cell_type": "code",
      "metadata": {
        "colab": {
          "base_uri": "https://localhost:8080/",
          "height": 317
        },
        "id": "akl4IjK5B88u",
        "outputId": "25dacf0b-1de5-4157-f7ba-c406badb33b1"
      },
      "source": [
        "df.describe()\n"
      ],
      "execution_count": 18,
      "outputs": [
        {
          "output_type": "execute_result",
          "data": {
            "text/html": [
              "<div>\n",
              "<style scoped>\n",
              "    .dataframe tbody tr th:only-of-type {\n",
              "        vertical-align: middle;\n",
              "    }\n",
              "\n",
              "    .dataframe tbody tr th {\n",
              "        vertical-align: top;\n",
              "    }\n",
              "\n",
              "    .dataframe thead th {\n",
              "        text-align: right;\n",
              "    }\n",
              "</style>\n",
              "<table border=\"1\" class=\"dataframe\">\n",
              "  <thead>\n",
              "    <tr style=\"text-align: right;\">\n",
              "      <th></th>\n",
              "      <th>Severity</th>\n",
              "      <th>Start_Lat</th>\n",
              "      <th>Start_Lng</th>\n",
              "      <th>End_Lat</th>\n",
              "      <th>End_Lng</th>\n",
              "      <th>Distance(mi)</th>\n",
              "      <th>Number</th>\n",
              "      <th>Temperature(F)</th>\n",
              "      <th>Wind_Chill(F)</th>\n",
              "      <th>Humidity(%)</th>\n",
              "      <th>Pressure(in)</th>\n",
              "      <th>Visibility(mi)</th>\n",
              "      <th>Wind_Speed(mph)</th>\n",
              "      <th>Precipitation(in)</th>\n",
              "    </tr>\n",
              "  </thead>\n",
              "  <tbody>\n",
              "    <tr>\n",
              "      <th>count</th>\n",
              "      <td>2.906610e+06</td>\n",
              "      <td>2.906610e+06</td>\n",
              "      <td>2.906610e+06</td>\n",
              "      <td>2.623789e+06</td>\n",
              "      <td>2.623789e+06</td>\n",
              "      <td>1.339358e+06</td>\n",
              "      <td>1.014937e+06</td>\n",
              "      <td>2.838548e+06</td>\n",
              "      <td>1.722077e+06</td>\n",
              "      <td>2.835340e+06</td>\n",
              "      <td>2.849701e+06</td>\n",
              "      <td>2.832467e+06</td>\n",
              "      <td>2.303036e+06</td>\n",
              "      <td>198664.000000</td>\n",
              "    </tr>\n",
              "    <tr>\n",
              "      <th>mean</th>\n",
              "      <td>2.288649e+00</td>\n",
              "      <td>3.653027e+01</td>\n",
              "      <td>-9.642676e+01</td>\n",
              "      <td>3.651733e+01</td>\n",
              "      <td>-9.620367e+01</td>\n",
              "      <td>8.638377e-01</td>\n",
              "      <td>6.789734e+03</td>\n",
              "      <td>6.100673e+01</td>\n",
              "      <td>5.501200e+01</td>\n",
              "      <td>6.537758e+01</td>\n",
              "      <td>2.965686e+01</td>\n",
              "      <td>9.123412e+00</td>\n",
              "      <td>8.824337e+00</td>\n",
              "      <td>0.090457</td>\n",
              "    </tr>\n",
              "    <tr>\n",
              "      <th>std</th>\n",
              "      <td>5.541618e-01</td>\n",
              "      <td>5.013964e+00</td>\n",
              "      <td>1.775412e+01</td>\n",
              "      <td>5.016609e+00</td>\n",
              "      <td>1.765971e+01</td>\n",
              "      <td>2.258684e+00</td>\n",
              "      <td>1.697225e+04</td>\n",
              "      <td>1.842552e+01</td>\n",
              "      <td>2.217308e+01</td>\n",
              "      <td>2.287854e+01</td>\n",
              "      <td>9.092438e-01</td>\n",
              "      <td>2.827603e+00</td>\n",
              "      <td>4.941135e+00</td>\n",
              "      <td>0.429730</td>\n",
              "    </tr>\n",
              "    <tr>\n",
              "      <th>min</th>\n",
              "      <td>1.000000e+00</td>\n",
              "      <td>2.455527e+01</td>\n",
              "      <td>-1.246238e+02</td>\n",
              "      <td>2.455527e+01</td>\n",
              "      <td>-1.246238e+02</td>\n",
              "      <td>1.000000e-03</td>\n",
              "      <td>1.000000e+00</td>\n",
              "      <td>-8.900000e+01</td>\n",
              "      <td>-8.900000e+01</td>\n",
              "      <td>1.000000e+00</td>\n",
              "      <td>2.000000e-02</td>\n",
              "      <td>6.000000e-02</td>\n",
              "      <td>1.000000e+00</td>\n",
              "      <td>0.010000</td>\n",
              "    </tr>\n",
              "    <tr>\n",
              "      <th>25%</th>\n",
              "      <td>2.000000e+00</td>\n",
              "      <td>3.366453e+01</td>\n",
              "      <td>-1.178232e+02</td>\n",
              "      <td>3.364659e+01</td>\n",
              "      <td>-1.177020e+02</td>\n",
              "      <td>7.200000e-02</td>\n",
              "      <td>9.650000e+02</td>\n",
              "      <td>4.890000e+01</td>\n",
              "      <td>3.900000e+01</td>\n",
              "      <td>4.900000e+01</td>\n",
              "      <td>2.959000e+01</td>\n",
              "      <td>1.000000e+01</td>\n",
              "      <td>5.800000e+00</td>\n",
              "      <td>0.010000</td>\n",
              "    </tr>\n",
              "    <tr>\n",
              "      <th>50%</th>\n",
              "      <td>2.000000e+00</td>\n",
              "      <td>3.609977e+01</td>\n",
              "      <td>-9.116690e+01</td>\n",
              "      <td>3.605898e+01</td>\n",
              "      <td>-9.105163e+01</td>\n",
              "      <td>3.380000e-01</td>\n",
              "      <td>3.093000e+03</td>\n",
              "      <td>6.300000e+01</td>\n",
              "      <td>5.800000e+01</td>\n",
              "      <td>6.800000e+01</td>\n",
              "      <td>2.992000e+01</td>\n",
              "      <td>1.000000e+01</td>\n",
              "      <td>8.000000e+00</td>\n",
              "      <td>0.030000</td>\n",
              "    </tr>\n",
              "    <tr>\n",
              "      <th>75%</th>\n",
              "      <td>3.000000e+00</td>\n",
              "      <td>4.037505e+01</td>\n",
              "      <td>-8.085814e+01</td>\n",
              "      <td>4.033133e+01</td>\n",
              "      <td>-8.084679e+01</td>\n",
              "      <td>8.170000e-01</td>\n",
              "      <td>7.976000e+03</td>\n",
              "      <td>7.500000e+01</td>\n",
              "      <td>7.200000e+01</td>\n",
              "      <td>8.500000e+01</td>\n",
              "      <td>3.007000e+01</td>\n",
              "      <td>1.000000e+01</td>\n",
              "      <td>1.150000e+01</td>\n",
              "      <td>0.080000</td>\n",
              "    </tr>\n",
              "    <tr>\n",
              "      <th>max</th>\n",
              "      <td>4.000000e+00</td>\n",
              "      <td>4.900220e+01</td>\n",
              "      <td>-6.711317e+01</td>\n",
              "      <td>4.907500e+01</td>\n",
              "      <td>-6.710924e+01</td>\n",
              "      <td>3.336300e+02</td>\n",
              "      <td>9.999997e+06</td>\n",
              "      <td>2.030000e+02</td>\n",
              "      <td>1.740000e+02</td>\n",
              "      <td>1.000000e+02</td>\n",
              "      <td>5.804000e+01</td>\n",
              "      <td>1.400000e+02</td>\n",
              "      <td>9.840000e+02</td>\n",
              "      <td>24.000000</td>\n",
              "    </tr>\n",
              "  </tbody>\n",
              "</table>\n",
              "</div>"
            ],
            "text/plain": [
              "           Severity     Start_Lat  ...  Wind_Speed(mph)  Precipitation(in)\n",
              "count  2.906610e+06  2.906610e+06  ...     2.303036e+06      198664.000000\n",
              "mean   2.288649e+00  3.653027e+01  ...     8.824337e+00           0.090457\n",
              "std    5.541618e-01  5.013964e+00  ...     4.941135e+00           0.429730\n",
              "min    1.000000e+00  2.455527e+01  ...     1.000000e+00           0.010000\n",
              "25%    2.000000e+00  3.366453e+01  ...     5.800000e+00           0.010000\n",
              "50%    2.000000e+00  3.609977e+01  ...     8.000000e+00           0.030000\n",
              "75%    3.000000e+00  4.037505e+01  ...     1.150000e+01           0.080000\n",
              "max    4.000000e+00  4.900220e+01  ...     9.840000e+02          24.000000\n",
              "\n",
              "[8 rows x 14 columns]"
            ]
          },
          "metadata": {
            "tags": []
          },
          "execution_count": 18
        }
      ]
    },
    {
      "cell_type": "code",
      "metadata": {
        "colab": {
          "base_uri": "https://localhost:8080/"
        },
        "id": "-vN-OI-0Ccgu",
        "outputId": "3c19e874-e3ba-4a95-bad6-943a0b649229"
      },
      "source": [
        "df.isnull().values.any() #To know if there is any misiing data in our dataframe"
      ],
      "execution_count": 19,
      "outputs": [
        {
          "output_type": "execute_result",
          "data": {
            "text/plain": [
              "True"
            ]
          },
          "metadata": {
            "tags": []
          },
          "execution_count": 19
        }
      ]
    },
    {
      "cell_type": "code",
      "metadata": {
        "id": "HBv-QDuWXHpi"
      },
      "source": [
        ""
      ],
      "execution_count": 19,
      "outputs": []
    },
    {
      "cell_type": "code",
      "metadata": {
        "id": "9orGKoC-XI3q"
      },
      "source": [
        ""
      ],
      "execution_count": 19,
      "outputs": []
    },
    {
      "cell_type": "code",
      "metadata": {
        "id": "JCgU2MM5XGA1"
      },
      "source": [
        ""
      ],
      "execution_count": 19,
      "outputs": []
    },
    {
      "cell_type": "code",
      "metadata": {
        "id": "5KwXOZdSJRAd"
      },
      "source": [
        "df.replace('', np.nan, inplace=True) #TO REPLACE EMPTY CELL TO NAN"
      ],
      "execution_count": 20,
      "outputs": []
    },
    {
      "cell_type": "code",
      "metadata": {
        "id": "FeH5ChDpXN_7",
        "colab": {
          "base_uri": "https://localhost:8080/"
        },
        "outputId": "822b53bf-a349-4410-b101-82f53666351b"
      },
      "source": [
        " df.isnull().sum() #THE SUM OF  MISSING VALUE DATA\n",
        " "
      ],
      "execution_count": 21,
      "outputs": [
        {
          "output_type": "execute_result",
          "data": {
            "text/plain": [
              "ID                             0\n",
              "Severity                       0\n",
              "Start_Time                     0\n",
              "End_Time                       0\n",
              "Start_Lat                      0\n",
              "Start_Lng                      0\n",
              "End_Lat                   282821\n",
              "End_Lng                   282821\n",
              "Distance(mi)             1567252\n",
              "Description                    0\n",
              "Number                   1891673\n",
              "Street                         0\n",
              "Side                           0\n",
              "City                         108\n",
              "County                         0\n",
              "State                          0\n",
              "Zipcode                     1114\n",
              "Country                        0\n",
              "Timezone                    3430\n",
              "Airport_Code                6608\n",
              "Weather_Timestamp          46917\n",
              "Temperature(F)             68062\n",
              "Wind_Chill(F)            1184533\n",
              "Humidity(%)                71270\n",
              "Pressure(in)               56909\n",
              "Visibility(mi)             74143\n",
              "Wind_Direction             63474\n",
              "Wind_Speed(mph)           603574\n",
              "Precipitation(in)        2707946\n",
              "Weather_Condition          71851\n",
              "Amenity                        0\n",
              "Bump                           0\n",
              "Crossing                       0\n",
              "Give_Way                       0\n",
              "Junction                       0\n",
              "No_Exit                        0\n",
              "Railway                        0\n",
              "Roundabout                     0\n",
              "Station                        0\n",
              "Stop                           0\n",
              "Traffic_Calming                0\n",
              "Traffic_Signal                 0\n",
              "Turning_Loop                   0\n",
              "Sunrise_Sunset               110\n",
              "Civil_Twilight               110\n",
              "Nautical_Twilight            110\n",
              "Astronomical_Twilight        110\n",
              "dtype: int64"
            ]
          },
          "metadata": {
            "tags": []
          },
          "execution_count": 21
        }
      ]
    },
    {
      "cell_type": "code",
      "metadata": {
        "colab": {
          "base_uri": "https://localhost:8080/",
          "height": 1000
        },
        "id": "obhCx2qTLO2F",
        "outputId": "2d840598-eead-4d01-db2d-eae6e255be02"
      },
      "source": [
        "missing_percentages = pd.DataFrame(df.isna().mean().round(4).sort_values(ascending=False)*100 )  # THE PERCENTAGE OF MISSING VALUE  DATA\n",
        "missing_percentages\n"
      ],
      "execution_count": 22,
      "outputs": [
        {
          "output_type": "execute_result",
          "data": {
            "text/html": [
              "<div>\n",
              "<style scoped>\n",
              "    .dataframe tbody tr th:only-of-type {\n",
              "        vertical-align: middle;\n",
              "    }\n",
              "\n",
              "    .dataframe tbody tr th {\n",
              "        vertical-align: top;\n",
              "    }\n",
              "\n",
              "    .dataframe thead th {\n",
              "        text-align: right;\n",
              "    }\n",
              "</style>\n",
              "<table border=\"1\" class=\"dataframe\">\n",
              "  <thead>\n",
              "    <tr style=\"text-align: right;\">\n",
              "      <th></th>\n",
              "      <th>0</th>\n",
              "    </tr>\n",
              "  </thead>\n",
              "  <tbody>\n",
              "    <tr>\n",
              "      <th>Precipitation(in)</th>\n",
              "      <td>93.17</td>\n",
              "    </tr>\n",
              "    <tr>\n",
              "      <th>Number</th>\n",
              "      <td>65.08</td>\n",
              "    </tr>\n",
              "    <tr>\n",
              "      <th>Distance(mi)</th>\n",
              "      <td>53.92</td>\n",
              "    </tr>\n",
              "    <tr>\n",
              "      <th>Wind_Chill(F)</th>\n",
              "      <td>40.75</td>\n",
              "    </tr>\n",
              "    <tr>\n",
              "      <th>Wind_Speed(mph)</th>\n",
              "      <td>20.77</td>\n",
              "    </tr>\n",
              "    <tr>\n",
              "      <th>End_Lat</th>\n",
              "      <td>9.73</td>\n",
              "    </tr>\n",
              "    <tr>\n",
              "      <th>End_Lng</th>\n",
              "      <td>9.73</td>\n",
              "    </tr>\n",
              "    <tr>\n",
              "      <th>Visibility(mi)</th>\n",
              "      <td>2.55</td>\n",
              "    </tr>\n",
              "    <tr>\n",
              "      <th>Weather_Condition</th>\n",
              "      <td>2.47</td>\n",
              "    </tr>\n",
              "    <tr>\n",
              "      <th>Humidity(%)</th>\n",
              "      <td>2.45</td>\n",
              "    </tr>\n",
              "    <tr>\n",
              "      <th>Temperature(F)</th>\n",
              "      <td>2.34</td>\n",
              "    </tr>\n",
              "    <tr>\n",
              "      <th>Wind_Direction</th>\n",
              "      <td>2.18</td>\n",
              "    </tr>\n",
              "    <tr>\n",
              "      <th>Pressure(in)</th>\n",
              "      <td>1.96</td>\n",
              "    </tr>\n",
              "    <tr>\n",
              "      <th>Weather_Timestamp</th>\n",
              "      <td>1.61</td>\n",
              "    </tr>\n",
              "    <tr>\n",
              "      <th>Airport_Code</th>\n",
              "      <td>0.23</td>\n",
              "    </tr>\n",
              "    <tr>\n",
              "      <th>Timezone</th>\n",
              "      <td>0.12</td>\n",
              "    </tr>\n",
              "    <tr>\n",
              "      <th>Zipcode</th>\n",
              "      <td>0.04</td>\n",
              "    </tr>\n",
              "    <tr>\n",
              "      <th>State</th>\n",
              "      <td>0.00</td>\n",
              "    </tr>\n",
              "    <tr>\n",
              "      <th>County</th>\n",
              "      <td>0.00</td>\n",
              "    </tr>\n",
              "    <tr>\n",
              "      <th>Country</th>\n",
              "      <td>0.00</td>\n",
              "    </tr>\n",
              "    <tr>\n",
              "      <th>Side</th>\n",
              "      <td>0.00</td>\n",
              "    </tr>\n",
              "    <tr>\n",
              "      <th>Street</th>\n",
              "      <td>0.00</td>\n",
              "    </tr>\n",
              "    <tr>\n",
              "      <th>Description</th>\n",
              "      <td>0.00</td>\n",
              "    </tr>\n",
              "    <tr>\n",
              "      <th>Start_Lng</th>\n",
              "      <td>0.00</td>\n",
              "    </tr>\n",
              "    <tr>\n",
              "      <th>Start_Lat</th>\n",
              "      <td>0.00</td>\n",
              "    </tr>\n",
              "    <tr>\n",
              "      <th>End_Time</th>\n",
              "      <td>0.00</td>\n",
              "    </tr>\n",
              "    <tr>\n",
              "      <th>Start_Time</th>\n",
              "      <td>0.00</td>\n",
              "    </tr>\n",
              "    <tr>\n",
              "      <th>Severity</th>\n",
              "      <td>0.00</td>\n",
              "    </tr>\n",
              "    <tr>\n",
              "      <th>City</th>\n",
              "      <td>0.00</td>\n",
              "    </tr>\n",
              "    <tr>\n",
              "      <th>Astronomical_Twilight</th>\n",
              "      <td>0.00</td>\n",
              "    </tr>\n",
              "    <tr>\n",
              "      <th>Nautical_Twilight</th>\n",
              "      <td>0.00</td>\n",
              "    </tr>\n",
              "    <tr>\n",
              "      <th>Station</th>\n",
              "      <td>0.00</td>\n",
              "    </tr>\n",
              "    <tr>\n",
              "      <th>Civil_Twilight</th>\n",
              "      <td>0.00</td>\n",
              "    </tr>\n",
              "    <tr>\n",
              "      <th>Sunrise_Sunset</th>\n",
              "      <td>0.00</td>\n",
              "    </tr>\n",
              "    <tr>\n",
              "      <th>Turning_Loop</th>\n",
              "      <td>0.00</td>\n",
              "    </tr>\n",
              "    <tr>\n",
              "      <th>Traffic_Signal</th>\n",
              "      <td>0.00</td>\n",
              "    </tr>\n",
              "    <tr>\n",
              "      <th>Traffic_Calming</th>\n",
              "      <td>0.00</td>\n",
              "    </tr>\n",
              "    <tr>\n",
              "      <th>Stop</th>\n",
              "      <td>0.00</td>\n",
              "    </tr>\n",
              "    <tr>\n",
              "      <th>Roundabout</th>\n",
              "      <td>0.00</td>\n",
              "    </tr>\n",
              "    <tr>\n",
              "      <th>Amenity</th>\n",
              "      <td>0.00</td>\n",
              "    </tr>\n",
              "    <tr>\n",
              "      <th>Railway</th>\n",
              "      <td>0.00</td>\n",
              "    </tr>\n",
              "    <tr>\n",
              "      <th>No_Exit</th>\n",
              "      <td>0.00</td>\n",
              "    </tr>\n",
              "    <tr>\n",
              "      <th>Junction</th>\n",
              "      <td>0.00</td>\n",
              "    </tr>\n",
              "    <tr>\n",
              "      <th>Give_Way</th>\n",
              "      <td>0.00</td>\n",
              "    </tr>\n",
              "    <tr>\n",
              "      <th>Crossing</th>\n",
              "      <td>0.00</td>\n",
              "    </tr>\n",
              "    <tr>\n",
              "      <th>Bump</th>\n",
              "      <td>0.00</td>\n",
              "    </tr>\n",
              "    <tr>\n",
              "      <th>ID</th>\n",
              "      <td>0.00</td>\n",
              "    </tr>\n",
              "  </tbody>\n",
              "</table>\n",
              "</div>"
            ],
            "text/plain": [
              "                           0\n",
              "Precipitation(in)      93.17\n",
              "Number                 65.08\n",
              "Distance(mi)           53.92\n",
              "Wind_Chill(F)          40.75\n",
              "Wind_Speed(mph)        20.77\n",
              "End_Lat                 9.73\n",
              "End_Lng                 9.73\n",
              "Visibility(mi)          2.55\n",
              "Weather_Condition       2.47\n",
              "Humidity(%)             2.45\n",
              "Temperature(F)          2.34\n",
              "Wind_Direction          2.18\n",
              "Pressure(in)            1.96\n",
              "Weather_Timestamp       1.61\n",
              "Airport_Code            0.23\n",
              "Timezone                0.12\n",
              "Zipcode                 0.04\n",
              "State                   0.00\n",
              "County                  0.00\n",
              "Country                 0.00\n",
              "Side                    0.00\n",
              "Street                  0.00\n",
              "Description             0.00\n",
              "Start_Lng               0.00\n",
              "Start_Lat               0.00\n",
              "End_Time                0.00\n",
              "Start_Time              0.00\n",
              "Severity                0.00\n",
              "City                    0.00\n",
              "Astronomical_Twilight   0.00\n",
              "Nautical_Twilight       0.00\n",
              "Station                 0.00\n",
              "Civil_Twilight          0.00\n",
              "Sunrise_Sunset          0.00\n",
              "Turning_Loop            0.00\n",
              "Traffic_Signal          0.00\n",
              "Traffic_Calming         0.00\n",
              "Stop                    0.00\n",
              "Roundabout              0.00\n",
              "Amenity                 0.00\n",
              "Railway                 0.00\n",
              "No_Exit                 0.00\n",
              "Junction                0.00\n",
              "Give_Way                0.00\n",
              "Crossing                0.00\n",
              "Bump                    0.00\n",
              "ID                      0.00"
            ]
          },
          "metadata": {
            "tags": []
          },
          "execution_count": 22
        }
      ]
    },
    {
      "cell_type": "markdown",
      "metadata": {
        "id": "eI1c7hMioUaj"
      },
      "source": [
        "### **Percentage of Missing Data**"
      ]
    },
    {
      "cell_type": "code",
      "metadata": {
        "colab": {
          "base_uri": "https://localhost:8080/",
          "height": 576
        },
        "id": "EOKxPAufnzRS",
        "outputId": "3a07d970-2ead-4049-b56a-baf82b4da5b3"
      },
      "source": [
        "missing_percentage_only = missing_percentages.loc[(missing_percentages != 0).any(axis=1)]\n",
        "missing_percentage_only"
      ],
      "execution_count": 23,
      "outputs": [
        {
          "output_type": "execute_result",
          "data": {
            "text/html": [
              "<div>\n",
              "<style scoped>\n",
              "    .dataframe tbody tr th:only-of-type {\n",
              "        vertical-align: middle;\n",
              "    }\n",
              "\n",
              "    .dataframe tbody tr th {\n",
              "        vertical-align: top;\n",
              "    }\n",
              "\n",
              "    .dataframe thead th {\n",
              "        text-align: right;\n",
              "    }\n",
              "</style>\n",
              "<table border=\"1\" class=\"dataframe\">\n",
              "  <thead>\n",
              "    <tr style=\"text-align: right;\">\n",
              "      <th></th>\n",
              "      <th>0</th>\n",
              "    </tr>\n",
              "  </thead>\n",
              "  <tbody>\n",
              "    <tr>\n",
              "      <th>Precipitation(in)</th>\n",
              "      <td>93.17</td>\n",
              "    </tr>\n",
              "    <tr>\n",
              "      <th>Number</th>\n",
              "      <td>65.08</td>\n",
              "    </tr>\n",
              "    <tr>\n",
              "      <th>Distance(mi)</th>\n",
              "      <td>53.92</td>\n",
              "    </tr>\n",
              "    <tr>\n",
              "      <th>Wind_Chill(F)</th>\n",
              "      <td>40.75</td>\n",
              "    </tr>\n",
              "    <tr>\n",
              "      <th>Wind_Speed(mph)</th>\n",
              "      <td>20.77</td>\n",
              "    </tr>\n",
              "    <tr>\n",
              "      <th>End_Lat</th>\n",
              "      <td>9.73</td>\n",
              "    </tr>\n",
              "    <tr>\n",
              "      <th>End_Lng</th>\n",
              "      <td>9.73</td>\n",
              "    </tr>\n",
              "    <tr>\n",
              "      <th>Visibility(mi)</th>\n",
              "      <td>2.55</td>\n",
              "    </tr>\n",
              "    <tr>\n",
              "      <th>Weather_Condition</th>\n",
              "      <td>2.47</td>\n",
              "    </tr>\n",
              "    <tr>\n",
              "      <th>Humidity(%)</th>\n",
              "      <td>2.45</td>\n",
              "    </tr>\n",
              "    <tr>\n",
              "      <th>Temperature(F)</th>\n",
              "      <td>2.34</td>\n",
              "    </tr>\n",
              "    <tr>\n",
              "      <th>Wind_Direction</th>\n",
              "      <td>2.18</td>\n",
              "    </tr>\n",
              "    <tr>\n",
              "      <th>Pressure(in)</th>\n",
              "      <td>1.96</td>\n",
              "    </tr>\n",
              "    <tr>\n",
              "      <th>Weather_Timestamp</th>\n",
              "      <td>1.61</td>\n",
              "    </tr>\n",
              "    <tr>\n",
              "      <th>Airport_Code</th>\n",
              "      <td>0.23</td>\n",
              "    </tr>\n",
              "    <tr>\n",
              "      <th>Timezone</th>\n",
              "      <td>0.12</td>\n",
              "    </tr>\n",
              "    <tr>\n",
              "      <th>Zipcode</th>\n",
              "      <td>0.04</td>\n",
              "    </tr>\n",
              "  </tbody>\n",
              "</table>\n",
              "</div>"
            ],
            "text/plain": [
              "                       0\n",
              "Precipitation(in)  93.17\n",
              "Number             65.08\n",
              "Distance(mi)       53.92\n",
              "Wind_Chill(F)      40.75\n",
              "Wind_Speed(mph)    20.77\n",
              "End_Lat             9.73\n",
              "End_Lng             9.73\n",
              "Visibility(mi)      2.55\n",
              "Weather_Condition   2.47\n",
              "Humidity(%)         2.45\n",
              "Temperature(F)      2.34\n",
              "Wind_Direction      2.18\n",
              "Pressure(in)        1.96\n",
              "Weather_Timestamp   1.61\n",
              "Airport_Code        0.23\n",
              "Timezone            0.12\n",
              "Zipcode             0.04"
            ]
          },
          "metadata": {
            "tags": []
          },
          "execution_count": 23
        }
      ]
    },
    {
      "cell_type": "code",
      "metadata": {
        "colab": {
          "base_uri": "https://localhost:8080/",
          "height": 285
        },
        "id": "j1pzRIitoib9",
        "outputId": "531f5fbd-ed1f-40d0-95c3-e2f272de865d"
      },
      "source": [
        "missing_percentage_only.plot(kind=\"barh\") #A basic plot of missing data "
      ],
      "execution_count": 113,
      "outputs": [
        {
          "output_type": "execute_result",
          "data": {
            "text/plain": [
              "<matplotlib.axes._subplots.AxesSubplot at 0x7f99c35dbd90>"
            ]
          },
          "metadata": {
            "tags": []
          },
          "execution_count": 113
        },
        {
          "output_type": "display_data",
          "data": {
            "image/png": "[encoded data removed]",
            "text/plain": [
              "<Figure size 432x288 with 1 Axes>"
            ]
          },
          "metadata": {
            "tags": []
          }
        }
      ]
    },
    {
      "cell_type": "code",
      "metadata": {
        "id": "crw-YeRqIhqI"
      },
      "source": [
        ""
      ],
      "execution_count": 24,
      "outputs": []
    },
    {
      "cell_type": "markdown",
      "metadata": {
        "id": "g8fum83PU1Oa"
      },
      "source": [
        "FILLING AND DROPPING"
      ]
    },
    {
      "cell_type": "markdown",
      "metadata": {
        "id": "0wo4HFyUqBX-"
      },
      "source": [
        "FILLING\n",
        "## **Filling rows that the column is less than 50%"
      ]
    },
    {
      "cell_type": "code",
      "metadata": {
        "colab": {
          "base_uri": "https://localhost:8080/"
        },
        "id": "46phks2uuF4K",
        "outputId": "20aa570a-4b1a-4fd8-9c7b-2fbc1beee47a"
      },
      "source": [
        "\n",
        "# using fillna() to fill i missing data by mean\n",
        "df[[\"End_Lat\", \"End_Lng\",\"Zipcode\",\"Timezone\",\"Airport_Code\",'Weather_Timestamp', 'Temperature(F)', 'Wind_Chill(F)', 'Humidity(%)', 'Pressure(in)', 'Visibility(mi)', 'Wind_Direction','Wind_Speed(mph)','Weather_Condition']].fillna(df[[\"End_Lat\", \"End_Lng\",\"Zipcode\",\"Timezone\",\"Airport_Code\",'Weather_Timestamp', 'Temperature(F)', 'Wind_Chill(F)','Humidity(%)', 'Pressure(in)', 'Visibility(mi)', 'Wind_Direction','Wind_Speed(mph)','Weather_Condition']].mean(), inplace = True)\n"
      ],
      "execution_count": 27,
      "outputs": [
        {
          "output_type": "stream",
          "text": [
            "/usr/local/lib/python3.7/dist-packages/pandas/core/series.py:4536: SettingWithCopyWarning: \n",
            "A value is trying to be set on a copy of a slice from a DataFrame\n",
            "\n",
            "See the caveats in the documentation: https://pandas.pydata.org/pandas-docs/stable/user_guide/indexing.html#returning-a-view-versus-a-copy\n",
            "  downcast=downcast,\n"
          ],
          "name": "stderr"
        }
      ]
    },
    {
      "cell_type": "code",
      "metadata": {
        "colab": {
          "base_uri": "https://localhost:8080/",
          "height": 250
        },
        "id": "G2-3o7wPMfki",
        "outputId": "65ebefc7-ba67-4f54-a9f3-cb0b48ebe51f"
      },
      "source": [
        "df.head(2)"
      ],
      "execution_count": 28,
      "outputs": [
        {
          "output_type": "execute_result",
          "data": {
            "text/html": [
              "<div>\n",
              "<style scoped>\n",
              "    .dataframe tbody tr th:only-of-type {\n",
              "        vertical-align: middle;\n",
              "    }\n",
              "\n",
              "    .dataframe tbody tr th {\n",
              "        vertical-align: top;\n",
              "    }\n",
              "\n",
              "    .dataframe thead th {\n",
              "        text-align: right;\n",
              "    }\n",
              "</style>\n",
              "<table border=\"1\" class=\"dataframe\">\n",
              "  <thead>\n",
              "    <tr style=\"text-align: right;\">\n",
              "      <th></th>\n",
              "      <th>ID</th>\n",
              "      <th>Severity</th>\n",
              "      <th>Start_Time</th>\n",
              "      <th>End_Time</th>\n",
              "      <th>Start_Lat</th>\n",
              "      <th>Start_Lng</th>\n",
              "      <th>End_Lat</th>\n",
              "      <th>End_Lng</th>\n",
              "      <th>Distance(mi)</th>\n",
              "      <th>Description</th>\n",
              "      <th>Number</th>\n",
              "      <th>Street</th>\n",
              "      <th>Side</th>\n",
              "      <th>City</th>\n",
              "      <th>County</th>\n",
              "      <th>State</th>\n",
              "      <th>Zipcode</th>\n",
              "      <th>Country</th>\n",
              "      <th>Timezone</th>\n",
              "      <th>Airport_Code</th>\n",
              "      <th>Weather_Timestamp</th>\n",
              "      <th>Temperature(F)</th>\n",
              "      <th>Wind_Chill(F)</th>\n",
              "      <th>Humidity(%)</th>\n",
              "      <th>Pressure(in)</th>\n",
              "      <th>Visibility(mi)</th>\n",
              "      <th>Wind_Direction</th>\n",
              "      <th>Wind_Speed(mph)</th>\n",
              "      <th>Precipitation(in)</th>\n",
              "      <th>Weather_Condition</th>\n",
              "      <th>Amenity</th>\n",
              "      <th>Bump</th>\n",
              "      <th>Crossing</th>\n",
              "      <th>Give_Way</th>\n",
              "      <th>Junction</th>\n",
              "      <th>No_Exit</th>\n",
              "      <th>Railway</th>\n",
              "      <th>Roundabout</th>\n",
              "      <th>Station</th>\n",
              "      <th>Stop</th>\n",
              "      <th>Traffic_Calming</th>\n",
              "      <th>Traffic_Signal</th>\n",
              "      <th>Turning_Loop</th>\n",
              "      <th>Sunrise_Sunset</th>\n",
              "      <th>Civil_Twilight</th>\n",
              "      <th>Nautical_Twilight</th>\n",
              "      <th>Astronomical_Twilight</th>\n",
              "    </tr>\n",
              "  </thead>\n",
              "  <tbody>\n",
              "    <tr>\n",
              "      <th>0</th>\n",
              "      <td>A-1</td>\n",
              "      <td>2</td>\n",
              "      <td>2019-05-21 08:29:55</td>\n",
              "      <td>2019-05-21 09:29:40</td>\n",
              "      <td>34.808868</td>\n",
              "      <td>-82.269157</td>\n",
              "      <td>34.808868</td>\n",
              "      <td>-82.269157</td>\n",
              "      <td>NaN</td>\n",
              "      <td>Accident on Tanner Rd at Pennbrooke Ln.</td>\n",
              "      <td>439.0</td>\n",
              "      <td>Tanner Rd</td>\n",
              "      <td>R</td>\n",
              "      <td>Greenville</td>\n",
              "      <td>Greenville</td>\n",
              "      <td>SC</td>\n",
              "      <td>29607-6027</td>\n",
              "      <td>US</td>\n",
              "      <td>US/Eastern</td>\n",
              "      <td>KGMU</td>\n",
              "      <td>2019-05-21 08:53:00</td>\n",
              "      <td>76.0</td>\n",
              "      <td>76.0</td>\n",
              "      <td>52.0</td>\n",
              "      <td>28.91</td>\n",
              "      <td>10.0</td>\n",
              "      <td>N</td>\n",
              "      <td>7.0</td>\n",
              "      <td>NaN</td>\n",
              "      <td>Fair</td>\n",
              "      <td>False</td>\n",
              "      <td>False</td>\n",
              "      <td>False</td>\n",
              "      <td>False</td>\n",
              "      <td>False</td>\n",
              "      <td>False</td>\n",
              "      <td>False</td>\n",
              "      <td>False</td>\n",
              "      <td>False</td>\n",
              "      <td>False</td>\n",
              "      <td>False</td>\n",
              "      <td>False</td>\n",
              "      <td>False</td>\n",
              "      <td>Day</td>\n",
              "      <td>Day</td>\n",
              "      <td>Day</td>\n",
              "      <td>Day</td>\n",
              "    </tr>\n",
              "    <tr>\n",
              "      <th>1</th>\n",
              "      <td>A-2</td>\n",
              "      <td>2</td>\n",
              "      <td>2019-10-07 17:43:09</td>\n",
              "      <td>2019-10-07 19:42:50</td>\n",
              "      <td>35.090080</td>\n",
              "      <td>-80.745560</td>\n",
              "      <td>35.090080</td>\n",
              "      <td>-80.745560</td>\n",
              "      <td>NaN</td>\n",
              "      <td>Accident on Houston Branch Rd at Providence Br...</td>\n",
              "      <td>3299.0</td>\n",
              "      <td>Providence Branch Ln</td>\n",
              "      <td>R</td>\n",
              "      <td>Charlotte</td>\n",
              "      <td>Mecklenburg</td>\n",
              "      <td>NC</td>\n",
              "      <td>28270-8560</td>\n",
              "      <td>US</td>\n",
              "      <td>US/Eastern</td>\n",
              "      <td>KEQY</td>\n",
              "      <td>2019-10-07 17:53:00</td>\n",
              "      <td>76.0</td>\n",
              "      <td>76.0</td>\n",
              "      <td>62.0</td>\n",
              "      <td>29.30</td>\n",
              "      <td>10.0</td>\n",
              "      <td>VAR</td>\n",
              "      <td>3.0</td>\n",
              "      <td>NaN</td>\n",
              "      <td>Cloudy</td>\n",
              "      <td>False</td>\n",
              "      <td>False</td>\n",
              "      <td>False</td>\n",
              "      <td>False</td>\n",
              "      <td>False</td>\n",
              "      <td>False</td>\n",
              "      <td>False</td>\n",
              "      <td>False</td>\n",
              "      <td>False</td>\n",
              "      <td>False</td>\n",
              "      <td>False</td>\n",
              "      <td>False</td>\n",
              "      <td>False</td>\n",
              "      <td>Day</td>\n",
              "      <td>Day</td>\n",
              "      <td>Day</td>\n",
              "      <td>Day</td>\n",
              "    </tr>\n",
              "  </tbody>\n",
              "</table>\n",
              "</div>"
            ],
            "text/plain": [
              "    ID  Severity  ... Nautical_Twilight Astronomical_Twilight\n",
              "0  A-1         2  ...               Day                   Day\n",
              "1  A-2         2  ...               Day                   Day\n",
              "\n",
              "[2 rows x 47 columns]"
            ]
          },
          "metadata": {
            "tags": []
          },
          "execution_count": 28
        }
      ]
    },
    {
      "cell_type": "code",
      "metadata": {
        "id": "2fAltsN0xg_x"
      },
      "source": [
        ""
      ],
      "execution_count": 28,
      "outputs": []
    },
    {
      "cell_type": "markdown",
      "metadata": {
        "id": "I_GKwsxnpEG8"
      },
      "source": [
        "### \n",
        "\n",
        "## Here, I will be dropping column that is more than 50%"
      ]
    },
    {
      "cell_type": "code",
      "metadata": {
        "id": "QH8D2lfNUxrw"
      },
      "source": [
        "df.dropna(inplace=True)  #To drop rows that contain missing values\n",
        "df.reset_index(drop=True, inplace=True) #To reset the index after dropping some rows\n",
        "df.drop(['Precipitation(in)','Number','Distance(mi)'], axis=1, inplace=True)\n",
        "\n"
      ],
      "execution_count": 29,
      "outputs": []
    },
    {
      "cell_type": "markdown",
      "metadata": {
        "id": "Xh9UnPE8sDBT"
      },
      "source": [
        "To check if the datframe still has empty data"
      ]
    },
    {
      "cell_type": "code",
      "metadata": {
        "colab": {
          "base_uri": "https://localhost:8080/"
        },
        "id": "CzhMlPmaqxRn",
        "outputId": "a65c5d84-58bf-4b03-84e0-7ecb23139a5b"
      },
      "source": [
        "df.isnull().values.any() #No missing data again"
      ],
      "execution_count": 30,
      "outputs": [
        {
          "output_type": "execute_result",
          "data": {
            "text/plain": [
              "False"
            ]
          },
          "metadata": {
            "tags": []
          },
          "execution_count": 30
        }
      ]
    },
    {
      "cell_type": "code",
      "metadata": {
        "colab": {
          "base_uri": "https://localhost:8080/"
        },
        "id": "QjOkRJ2Qq2Kb",
        "outputId": "ab8e9e0d-83bd-46da-e19e-2e4879c01cca"
      },
      "source": [
        "df.columns"
      ],
      "execution_count": 31,
      "outputs": [
        {
          "output_type": "execute_result",
          "data": {
            "text/plain": [
              "Index(['ID', 'Severity', 'Start_Time', 'End_Time', 'Start_Lat', 'Start_Lng',\n",
              "       'End_Lat', 'End_Lng', 'Description', 'Street', 'Side', 'City', 'County',\n",
              "       'State', 'Zipcode', 'Country', 'Timezone', 'Airport_Code',\n",
              "       'Weather_Timestamp', 'Temperature(F)', 'Wind_Chill(F)', 'Humidity(%)',\n",
              "       'Pressure(in)', 'Visibility(mi)', 'Wind_Direction', 'Wind_Speed(mph)',\n",
              "       'Weather_Condition', 'Amenity', 'Bump', 'Crossing', 'Give_Way',\n",
              "       'Junction', 'No_Exit', 'Railway', 'Roundabout', 'Station', 'Stop',\n",
              "       'Traffic_Calming', 'Traffic_Signal', 'Turning_Loop', 'Sunrise_Sunset',\n",
              "       'Civil_Twilight', 'Nautical_Twilight', 'Astronomical_Twilight'],\n",
              "      dtype='object')"
            ]
          },
          "metadata": {
            "tags": []
          },
          "execution_count": 31
        }
      ]
    },
    {
      "cell_type": "code",
      "metadata": {
        "id": "oipv-YBwq3xG"
      },
      "source": [
        ""
      ],
      "execution_count": 31,
      "outputs": []
    },
    {
      "cell_type": "markdown",
      "metadata": {
        "id": "v5px1A_hsy3h"
      },
      "source": [
        "### States with the highest number of accidents"
      ]
    },
    {
      "cell_type": "code",
      "metadata": {
        "colab": {
          "base_uri": "https://localhost:8080/"
        },
        "id": "SCplavP5s6_X",
        "outputId": "175c372f-133a-455f-a5c2-1dd506febce9"
      },
      "source": [
        "States = df.State.unique()\n",
        "States"
      ],
      "execution_count": 32,
      "outputs": [
        {
          "output_type": "execute_result",
          "data": {
            "text/plain": [
              "array(['OR', 'CT', 'PA', 'LA', 'SC', 'MN', 'CA', 'MA', 'FL', 'TX', 'NY',\n",
              "       'MO', 'IL', 'AZ', 'NC', 'MD', 'AL', 'WA', 'CO', 'VA', 'TN', 'UT',\n",
              "       'NV', 'GA', 'MS', 'NJ', 'MI', 'DC', 'OH', 'AR', 'KY', 'MT', 'IN',\n",
              "       'VT', 'WV', 'IA', 'ME', 'ID', 'WI', 'NH', 'RI', 'DE', 'NM', 'ND',\n",
              "       'NE', 'SD', 'KS', 'OK', 'WY'], dtype=object)"
            ]
          },
          "metadata": {
            "tags": []
          },
          "execution_count": 32
        }
      ]
    },
    {
      "cell_type": "markdown",
      "metadata": {
        "id": "Qb6maE3ytzct"
      },
      "source": [
        "### **To get the number of States in the dataset**"
      ]
    },
    {
      "cell_type": "code",
      "metadata": {
        "colab": {
          "base_uri": "https://localhost:8080/"
        },
        "id": "IbvNWfo_tAQ7",
        "outputId": "048c503e-7ca6-4269-a02c-ff4006d52b73"
      },
      "source": [
        "len(States)"
      ],
      "execution_count": 33,
      "outputs": [
        {
          "output_type": "execute_result",
          "data": {
            "text/plain": [
              "49"
            ]
          },
          "metadata": {
            "tags": []
          },
          "execution_count": 33
        }
      ]
    },
    {
      "cell_type": "code",
      "metadata": {
        "colab": {
          "base_uri": "https://localhost:8080/"
        },
        "id": "a7StDWi-t7c4",
        "outputId": "2786dec9-4d93-4c62-f1ed-7f24182b3ec3"
      },
      "source": [
        "States_by_Accident = df.State.value_counts()[:10]\n",
        "States_by_Accident"
      ],
      "execution_count": 34,
      "outputs": [
        {
          "output_type": "execute_result",
          "data": {
            "text/plain": [
              "OR    2333\n",
              "FL    2239\n",
              "PA    1063\n",
              "CA     753\n",
              "NY     653\n",
              "SC     584\n",
              "NC     546\n",
              "TX     537\n",
              "VA     455\n",
              "IL     370\n",
              "Name: State, dtype: int64"
            ]
          },
          "metadata": {
            "tags": []
          },
          "execution_count": 34
        }
      ]
    },
    {
      "cell_type": "code",
      "metadata": {
        "colab": {
          "base_uri": "https://localhost:8080/",
          "height": 316
        },
        "id": "YlfIwkEfuNts",
        "outputId": "e45d8f33-a8a6-4416-bfac-4b3168873dfc"
      },
      "source": [
        "#Visualization\n",
        "import seaborn as sns\n",
        "sns.set(style=\"dark\")\n",
        "fig, ax = plt.subplots(figsize=(12,4))\n",
        "States_by_Accident.plot(kind=\"bar\")\n",
        "# sns.barplot(data=data, x=\"severity\", y=\"freq\", palette=\"Green\")\n",
        "plt.xlabel('State')\n",
        "plt.ylabel('Accidents', size=18)\n",
        "plt.title('Accidents By State(Top 10)', size=18)\n",
        "\n",
        "plt.xticks(size=14)\n",
        "plt.yticks(size=14)\n",
        "sns.despine(left=True);\n"
      ],
      "execution_count": 35,
      "outputs": [
        {
          "output_type": "display_data",
          "data": {
            "image/png": "[encoded data removed]",
            "text/plain": [
              "<Figure size 864x288 with 1 Axes>"
            ]
          },
          "metadata": {
            "tags": []
          }
        }
      ]
    },
    {
      "cell_type": "markdown",
      "metadata": {
        "id": "R0D63DezUF7I"
      },
      "source": [
        "\n",
        "The plot potrays that Oregon(OR) has the highest  number of accidents followed by Florida(FL) and Pennsylvania(PA).\n"
      ]
    },
    {
      "cell_type": "code",
      "metadata": {
        "id": "Sqyu7UWzubpq"
      },
      "source": [
        ""
      ],
      "execution_count": 35,
      "outputs": []
    },
    {
      "cell_type": "markdown",
      "metadata": {
        "id": "7bld3IknwtsV"
      },
      "source": [
        "**Cities** with the highest number of accidents"
      ]
    },
    {
      "cell_type": "code",
      "metadata": {
        "colab": {
          "base_uri": "https://localhost:8080/"
        },
        "id": "WyAXiVbewxRe",
        "outputId": "ad6470cf-2cdc-4a56-eba7-aa7391e6a793"
      },
      "source": [
        "Cities = df.City.unique() #\n",
        "Cities"
      ],
      "execution_count": 36,
      "outputs": [
        {
          "output_type": "execute_result",
          "data": {
            "text/plain": [
              "array(['Portland', 'Meriden', 'Mc Alisterville', ..., 'Warm Springs',\n",
              "       'Burlington', 'Castile'], dtype=object)"
            ]
          },
          "metadata": {
            "tags": []
          },
          "execution_count": 36
        }
      ]
    },
    {
      "cell_type": "code",
      "metadata": {
        "colab": {
          "base_uri": "https://localhost:8080/"
        },
        "id": "1w7JJ-CLw42m",
        "outputId": "dc529b45-bc8e-46ce-ca7e-f30546af0bae"
      },
      "source": [
        "len(Cities) #Number of Cities"
      ],
      "execution_count": 37,
      "outputs": [
        {
          "output_type": "execute_result",
          "data": {
            "text/plain": [
              "2145"
            ]
          },
          "metadata": {
            "tags": []
          },
          "execution_count": 37
        }
      ]
    },
    {
      "cell_type": "markdown",
      "metadata": {
        "id": "L_ya2p5WV0xX"
      },
      "source": [
        "The number of cities in the dataset is 2145."
      ]
    },
    {
      "cell_type": "code",
      "metadata": {
        "colab": {
          "base_uri": "https://localhost:8080/"
        },
        "id": "IioUvn3Aw9TC",
        "outputId": "3cd04600-1d17-465d-94b3-e2e9418f8e5a"
      },
      "source": [
        "Cities_by_Accident = df.City.value_counts()[:10]\n",
        "Cities_by_Accident"
      ],
      "execution_count": 115,
      "outputs": [
        {
          "output_type": "execute_result",
          "data": {
            "text/plain": [
              "Miami          921\n",
              "Orlando        292\n",
              "Houston        246\n",
              "Raleigh        209\n",
              "Dallas         162\n",
              "Rochester      156\n",
              "Charlotte      154\n",
              "Portland       132\n",
              "Baton Rouge    119\n",
              "Chattanooga    112\n",
              "Name: City, dtype: int64"
            ]
          },
          "metadata": {
            "tags": []
          },
          "execution_count": 115
        }
      ]
    },
    {
      "cell_type": "code",
      "metadata": {
        "colab": {
          "base_uri": "https://localhost:8080/",
          "height": 443
        },
        "id": "9dImf0HlxHME",
        "outputId": "5858bef5-d733-49fa-bce1-2e56876588df"
      },
      "source": [
        "\n",
        "Cities_by_Accident.plot(kind=\"barh\", figsize = (7,6), rot = 0, color= \"r\")\n",
        "# sns.barplot(data=data, x=\"severity\", y=\"freq\", palette=\"Green\")\n",
        "plt.xlabel('Cities', labelpad= 14)\n",
        "plt.ylabel('Accidents', labelpad= 14)\n",
        "plt.title('Accidents By Cities(Top 10)', y= 1.02)"
      ],
      "execution_count": 117,
      "outputs": [
        {
          "output_type": "execute_result",
          "data": {
            "text/plain": [
              "Text(0.5, 1.02, 'Accidents By Cities(Top 10)')"
            ]
          },
          "metadata": {
            "tags": []
          },
          "execution_count": 117
        },
        {
          "output_type": "display_data",
          "data": {
            "image/png": "[encoded data removed]",
            "text/plain": [
              "<Figure size 504x432 with 1 Axes>"
            ]
          },
          "metadata": {
            "tags": []
          }
        }
      ]
    },
    {
      "cell_type": "markdown",
      "metadata": {
        "id": "FdEnEuVGWgco"
      },
      "source": [
        "We can see that the most accident-prone city in the USA are  Miami and Orlando which they are  in Florida(The second State with highest  number of accidents) followed by Houston."
      ]
    },
    {
      "cell_type": "markdown",
      "metadata": {
        "id": "IRGwf9jGy2G5"
      },
      "source": [
        "Accident by **Region**"
      ]
    },
    {
      "cell_type": "code",
      "metadata": {
        "colab": {
          "base_uri": "https://localhost:8080/",
          "height": 173
        },
        "id": "g4LbyUh0xz5p",
        "outputId": "a914c154-d1be-4756-9210-b57f14cf0266"
      },
      "source": [
        "Accident_by_Timezone = df.value_counts([\"Timezone\"]).reset_index(name=\"Accident\")\n",
        "Accident_by_Timezone"
      ],
      "execution_count": 41,
      "outputs": [
        {
          "output_type": "execute_result",
          "data": {
            "text/html": [
              "<div>\n",
              "<style scoped>\n",
              "    .dataframe tbody tr th:only-of-type {\n",
              "        vertical-align: middle;\n",
              "    }\n",
              "\n",
              "    .dataframe tbody tr th {\n",
              "        vertical-align: top;\n",
              "    }\n",
              "\n",
              "    .dataframe thead th {\n",
              "        text-align: right;\n",
              "    }\n",
              "</style>\n",
              "<table border=\"1\" class=\"dataframe\">\n",
              "  <thead>\n",
              "    <tr style=\"text-align: right;\">\n",
              "      <th></th>\n",
              "      <th>Timezone</th>\n",
              "      <th>Accident</th>\n",
              "    </tr>\n",
              "  </thead>\n",
              "  <tbody>\n",
              "    <tr>\n",
              "      <th>0</th>\n",
              "      <td>US/Eastern</td>\n",
              "      <td>6870</td>\n",
              "    </tr>\n",
              "    <tr>\n",
              "      <th>1</th>\n",
              "      <td>US/Pacific</td>\n",
              "      <td>3418</td>\n",
              "    </tr>\n",
              "    <tr>\n",
              "      <th>2</th>\n",
              "      <td>US/Central</td>\n",
              "      <td>1953</td>\n",
              "    </tr>\n",
              "    <tr>\n",
              "      <th>3</th>\n",
              "      <td>US/Mountain</td>\n",
              "      <td>421</td>\n",
              "    </tr>\n",
              "  </tbody>\n",
              "</table>\n",
              "</div>"
            ],
            "text/plain": [
              "      Timezone  Accident\n",
              "0   US/Eastern      6870\n",
              "1   US/Pacific      3418\n",
              "2   US/Central      1953\n",
              "3  US/Mountain       421"
            ]
          },
          "metadata": {
            "tags": []
          },
          "execution_count": 41
        }
      ]
    },
    {
      "cell_type": "code",
      "metadata": {
        "colab": {
          "base_uri": "https://localhost:8080/"
        },
        "id": "hh85oBgN0rIg",
        "outputId": "4e242083-68d0-4df1-9e52-cc2ff5648113"
      },
      "source": [
        "len(df[\"Timezone\"].unique())\n",
        "# len(Timezone)\n",
        "\n"
      ],
      "execution_count": 42,
      "outputs": [
        {
          "output_type": "execute_result",
          "data": {
            "text/plain": [
              "4"
            ]
          },
          "metadata": {
            "tags": []
          },
          "execution_count": 42
        }
      ]
    },
    {
      "cell_type": "code",
      "metadata": {
        "colab": {
          "base_uri": "https://localhost:8080/",
          "height": 285
        },
        "id": "9GcMcMq31Asd",
        "outputId": "d5a79d6c-1b55-4217-a8c5-fa0a15420202"
      },
      "source": [
        "r =sns.barplot(x=\"Timezone\", y=\"Accident\", data=Accident_by_Timezone)\n",
        "\n",
        "for index, row in Accident_by_Timezone.iterrows():\n",
        "  r.text(row.name, row.Accident, round(row.Accident,2), color= \"black\", ha=\"center\")"
      ],
      "execution_count": 43,
      "outputs": [
        {
          "output_type": "display_data",
          "data": {
            "image/png": "[encoded data removed]",
            "text/plain": [
              "<Figure size 432x288 with 1 Axes>"
            ]
          },
          "metadata": {
            "tags": []
          }
        }
      ]
    },
    {
      "cell_type": "markdown",
      "metadata": {
        "id": "33LXn2ByaAnN"
      },
      "source": [
        "We can seee that most numbers of accidents that took place in regions with timezone are\n",
        "Eastern Standard Time followed by Pacific Standard Time."
      ]
    },
    {
      "cell_type": "markdown",
      "metadata": {
        "id": "OftecZ6l8P_f"
      },
      "source": [
        "**Wind Direction by Accident**"
      ]
    },
    {
      "cell_type": "markdown",
      "metadata": {
        "id": "0CwfiymMZ_JS"
      },
      "source": [
        ""
      ]
    },
    {
      "cell_type": "code",
      "metadata": {
        "colab": {
          "base_uri": "https://localhost:8080/",
          "height": 359
        },
        "id": "r3JVVRZY2j7o",
        "outputId": "a9adccab-41d2-429f-9036-66ef656c0c9c"
      },
      "source": [
        "Accident_by_Wind_direction =df.value_counts([\"Wind_Direction\"]).reset_index(name= \"Accident\")[:10]\n",
        "Accident_by_Wind_direction"
      ],
      "execution_count": 44,
      "outputs": [
        {
          "output_type": "execute_result",
          "data": {
            "text/html": [
              "<div>\n",
              "<style scoped>\n",
              "    .dataframe tbody tr th:only-of-type {\n",
              "        vertical-align: middle;\n",
              "    }\n",
              "\n",
              "    .dataframe tbody tr th {\n",
              "        vertical-align: top;\n",
              "    }\n",
              "\n",
              "    .dataframe thead th {\n",
              "        text-align: right;\n",
              "    }\n",
              "</style>\n",
              "<table border=\"1\" class=\"dataframe\">\n",
              "  <thead>\n",
              "    <tr style=\"text-align: right;\">\n",
              "      <th></th>\n",
              "      <th>Wind_Direction</th>\n",
              "      <th>Accident</th>\n",
              "    </tr>\n",
              "  </thead>\n",
              "  <tbody>\n",
              "    <tr>\n",
              "      <th>0</th>\n",
              "      <td>S</td>\n",
              "      <td>1046</td>\n",
              "    </tr>\n",
              "    <tr>\n",
              "      <th>1</th>\n",
              "      <td>E</td>\n",
              "      <td>994</td>\n",
              "    </tr>\n",
              "    <tr>\n",
              "      <th>2</th>\n",
              "      <td>SSE</td>\n",
              "      <td>974</td>\n",
              "    </tr>\n",
              "    <tr>\n",
              "      <th>3</th>\n",
              "      <td>ENE</td>\n",
              "      <td>824</td>\n",
              "    </tr>\n",
              "    <tr>\n",
              "      <th>4</th>\n",
              "      <td>NE</td>\n",
              "      <td>812</td>\n",
              "    </tr>\n",
              "    <tr>\n",
              "      <th>5</th>\n",
              "      <td>ESE</td>\n",
              "      <td>809</td>\n",
              "    </tr>\n",
              "    <tr>\n",
              "      <th>6</th>\n",
              "      <td>SE</td>\n",
              "      <td>793</td>\n",
              "    </tr>\n",
              "    <tr>\n",
              "      <th>7</th>\n",
              "      <td>NNE</td>\n",
              "      <td>763</td>\n",
              "    </tr>\n",
              "    <tr>\n",
              "      <th>8</th>\n",
              "      <td>N</td>\n",
              "      <td>739</td>\n",
              "    </tr>\n",
              "    <tr>\n",
              "      <th>9</th>\n",
              "      <td>SSW</td>\n",
              "      <td>643</td>\n",
              "    </tr>\n",
              "  </tbody>\n",
              "</table>\n",
              "</div>"
            ],
            "text/plain": [
              "  Wind_Direction  Accident\n",
              "0              S      1046\n",
              "1              E       994\n",
              "2            SSE       974\n",
              "3            ENE       824\n",
              "4             NE       812\n",
              "5            ESE       809\n",
              "6             SE       793\n",
              "7            NNE       763\n",
              "8              N       739\n",
              "9            SSW       643"
            ]
          },
          "metadata": {
            "tags": []
          },
          "execution_count": 44
        }
      ]
    },
    {
      "cell_type": "code",
      "metadata": {
        "colab": {
          "base_uri": "https://localhost:8080/",
          "height": 343
        },
        "id": "Z_vS46WW5OyV",
        "outputId": "987e26e0-bd5a-4aaa-caba-8785664a298b"
      },
      "source": [
        "sns.set(style=\"dark\")\n",
        "fig, ax = plt.subplots(figsize=(12,4))\n",
        "sns.barplot(data=Accident_by_Wind_direction, x=\"Wind_Direction\", y=\"Accident\", palette=\"Greens\")\n",
        "plt.xlabel('Wind_Direction')\n",
        "plt.ylabel('Number of Accidents', size=18)\n",
        "plt.title('Accident By Wind Direction', size=18)\n",
        "plt.xticks(size=14)\n",
        "plt.yticks(size=14)\n",
        "# sns.despine(left=True);"
      ],
      "execution_count": 45,
      "outputs": [
        {
          "output_type": "execute_result",
          "data": {
            "text/plain": [
              "(array([   0.,  200.,  400.,  600.,  800., 1000., 1200.]),\n",
              " <a list of 7 Text major ticklabel objects>)"
            ]
          },
          "metadata": {
            "tags": []
          },
          "execution_count": 45
        },
        {
          "output_type": "display_data",
          "data": {
            "image/png": "[encoded data removed]",
            "text/plain": [
              "<Figure size 864x288 with 1 Axes>"
            ]
          },
          "metadata": {
            "tags": []
          }
        }
      ]
    },
    {
      "cell_type": "markdown",
      "metadata": {
        "id": "Vo6Z_ib2aWiP"
      },
      "source": [
        "The Wind direction to the South, East and South-South_East has the highest numbers of accidents>"
      ]
    },
    {
      "cell_type": "code",
      "metadata": {
        "colab": {
          "base_uri": "https://localhost:8080/",
          "height": 359
        },
        "id": "phgWzXZH7qS6",
        "outputId": "ef89da5b-4ba1-42a7-abd8-810990b9232e"
      },
      "source": [
        "Accident_by_Weather_Condition =df.value_counts([\"Weather_Condition\"]).reset_index(name= \"Accident\")[:10]\n",
        "Accident_by_Weather_Condition"
      ],
      "execution_count": 46,
      "outputs": [
        {
          "output_type": "execute_result",
          "data": {
            "text/html": [
              "<div>\n",
              "<style scoped>\n",
              "    .dataframe tbody tr th:only-of-type {\n",
              "        vertical-align: middle;\n",
              "    }\n",
              "\n",
              "    .dataframe tbody tr th {\n",
              "        vertical-align: top;\n",
              "    }\n",
              "\n",
              "    .dataframe thead th {\n",
              "        text-align: right;\n",
              "    }\n",
              "</style>\n",
              "<table border=\"1\" class=\"dataframe\">\n",
              "  <thead>\n",
              "    <tr style=\"text-align: right;\">\n",
              "      <th></th>\n",
              "      <th>Weather_Condition</th>\n",
              "      <th>Accident</th>\n",
              "    </tr>\n",
              "  </thead>\n",
              "  <tbody>\n",
              "    <tr>\n",
              "      <th>0</th>\n",
              "      <td>Light Rain</td>\n",
              "      <td>5469</td>\n",
              "    </tr>\n",
              "    <tr>\n",
              "      <th>1</th>\n",
              "      <td>Rain</td>\n",
              "      <td>1539</td>\n",
              "    </tr>\n",
              "    <tr>\n",
              "      <th>2</th>\n",
              "      <td>Cloudy</td>\n",
              "      <td>1480</td>\n",
              "    </tr>\n",
              "    <tr>\n",
              "      <th>3</th>\n",
              "      <td>Light Snow</td>\n",
              "      <td>946</td>\n",
              "    </tr>\n",
              "    <tr>\n",
              "      <th>4</th>\n",
              "      <td>Heavy Rain</td>\n",
              "      <td>544</td>\n",
              "    </tr>\n",
              "    <tr>\n",
              "      <th>5</th>\n",
              "      <td>Mostly Cloudy</td>\n",
              "      <td>478</td>\n",
              "    </tr>\n",
              "    <tr>\n",
              "      <th>6</th>\n",
              "      <td>Overcast</td>\n",
              "      <td>323</td>\n",
              "    </tr>\n",
              "    <tr>\n",
              "      <th>7</th>\n",
              "      <td>Snow</td>\n",
              "      <td>229</td>\n",
              "    </tr>\n",
              "    <tr>\n",
              "      <th>8</th>\n",
              "      <td>Light Rain / Windy</td>\n",
              "      <td>166</td>\n",
              "    </tr>\n",
              "    <tr>\n",
              "      <th>9</th>\n",
              "      <td>Partly Cloudy</td>\n",
              "      <td>156</td>\n",
              "    </tr>\n",
              "  </tbody>\n",
              "</table>\n",
              "</div>"
            ],
            "text/plain": [
              "    Weather_Condition  Accident\n",
              "0          Light Rain      5469\n",
              "1                Rain      1539\n",
              "2              Cloudy      1480\n",
              "3          Light Snow       946\n",
              "4          Heavy Rain       544\n",
              "5       Mostly Cloudy       478\n",
              "6            Overcast       323\n",
              "7                Snow       229\n",
              "8  Light Rain / Windy       166\n",
              "9       Partly Cloudy       156"
            ]
          },
          "metadata": {
            "tags": []
          },
          "execution_count": 46
        }
      ]
    },
    {
      "cell_type": "code",
      "metadata": {
        "colab": {
          "base_uri": "https://localhost:8080/",
          "height": 506
        },
        "id": "Uu9AfZkw9ZL3",
        "outputId": "906bb359-4191-432f-d406-3b24c4e957e2"
      },
      "source": [
        "sns.set(style=\"dark\")\n",
        "fig, ax = plt.subplots(figsize=(17,7))\n",
        "sns.barplot(data=Accident_by_Weather_Condition, x=\"Weather_Condition\", y=\"Accident\")\n",
        "plt.xlabel('Weather_Condition')\n",
        "plt.ylabel('Accidents', size=18)\n",
        "plt.title('Accident By Weather Condition', size=18)\n",
        "plt.xticks(size=14)\n",
        "plt.yticks(size=14)\n",
        "# sns.despine(left=True);"
      ],
      "execution_count": 47,
      "outputs": [
        {
          "output_type": "execute_result",
          "data": {
            "text/plain": [
              "(array([   0., 1000., 2000., 3000., 4000., 5000., 6000.]),\n",
              " <a list of 7 Text major ticklabel objects>)"
            ]
          },
          "metadata": {
            "tags": []
          },
          "execution_count": 47
        },
        {
          "output_type": "display_data",
          "data": {
            "image/png": "[encoded data removed]",
            "text/plain": [
              "<Figure size 1224x504 with 1 Axes>"
            ]
          },
          "metadata": {
            "tags": []
          }
        }
      ]
    },
    {
      "cell_type": "markdown",
      "metadata": {
        "id": "KpNsZAQPbIAO"
      },
      "source": [
        "The plot shows  that the weather condition for most of the accidents was Light Rain, folowed by Rain, and Cloudy. Light Rain, Rain and Cloudy may be a reasonable factors for accidents. which means that weather conditions also does not play a major role."
      ]
    },
    {
      "cell_type": "code",
      "metadata": {
        "colab": {
          "base_uri": "https://localhost:8080/",
          "height": 496
        },
        "id": "8GRQpn4KCa4T",
        "outputId": "d22a3dd4-5a24-4a25-e5fa-0dee93f67c17"
      },
      "source": [
        "df.head(5)"
      ],
      "execution_count": 48,
      "outputs": [
        {
          "output_type": "execute_result",
          "data": {
            "text/html": [
              "<div>\n",
              "<style scoped>\n",
              "    .dataframe tbody tr th:only-of-type {\n",
              "        vertical-align: middle;\n",
              "    }\n",
              "\n",
              "    .dataframe tbody tr th {\n",
              "        vertical-align: top;\n",
              "    }\n",
              "\n",
              "    .dataframe thead th {\n",
              "        text-align: right;\n",
              "    }\n",
              "</style>\n",
              "<table border=\"1\" class=\"dataframe\">\n",
              "  <thead>\n",
              "    <tr style=\"text-align: right;\">\n",
              "      <th></th>\n",
              "      <th>ID</th>\n",
              "      <th>Severity</th>\n",
              "      <th>Start_Time</th>\n",
              "      <th>End_Time</th>\n",
              "      <th>Start_Lat</th>\n",
              "      <th>Start_Lng</th>\n",
              "      <th>End_Lat</th>\n",
              "      <th>End_Lng</th>\n",
              "      <th>Description</th>\n",
              "      <th>Street</th>\n",
              "      <th>Side</th>\n",
              "      <th>City</th>\n",
              "      <th>County</th>\n",
              "      <th>State</th>\n",
              "      <th>Zipcode</th>\n",
              "      <th>Country</th>\n",
              "      <th>Timezone</th>\n",
              "      <th>Airport_Code</th>\n",
              "      <th>Weather_Timestamp</th>\n",
              "      <th>Temperature(F)</th>\n",
              "      <th>Wind_Chill(F)</th>\n",
              "      <th>Humidity(%)</th>\n",
              "      <th>Pressure(in)</th>\n",
              "      <th>Visibility(mi)</th>\n",
              "      <th>Wind_Direction</th>\n",
              "      <th>Wind_Speed(mph)</th>\n",
              "      <th>Weather_Condition</th>\n",
              "      <th>Amenity</th>\n",
              "      <th>Bump</th>\n",
              "      <th>Crossing</th>\n",
              "      <th>Give_Way</th>\n",
              "      <th>Junction</th>\n",
              "      <th>No_Exit</th>\n",
              "      <th>Railway</th>\n",
              "      <th>Roundabout</th>\n",
              "      <th>Station</th>\n",
              "      <th>Stop</th>\n",
              "      <th>Traffic_Calming</th>\n",
              "      <th>Traffic_Signal</th>\n",
              "      <th>Turning_Loop</th>\n",
              "      <th>Sunrise_Sunset</th>\n",
              "      <th>Civil_Twilight</th>\n",
              "      <th>Nautical_Twilight</th>\n",
              "      <th>Astronomical_Twilight</th>\n",
              "    </tr>\n",
              "  </thead>\n",
              "  <tbody>\n",
              "    <tr>\n",
              "      <th>0</th>\n",
              "      <td>A-394</td>\n",
              "      <td>2</td>\n",
              "      <td>2019-04-08 07:55:21</td>\n",
              "      <td>2019-04-08 11:55:21</td>\n",
              "      <td>45.562813</td>\n",
              "      <td>-122.590408</td>\n",
              "      <td>45.562904</td>\n",
              "      <td>-122.590929</td>\n",
              "      <td>At OR-213/NE 82nd Ave - Accident.</td>\n",
              "      <td>NE Killingsworth St</td>\n",
              "      <td>R</td>\n",
              "      <td>Portland</td>\n",
              "      <td>Multnomah</td>\n",
              "      <td>OR</td>\n",
              "      <td>97218-3324</td>\n",
              "      <td>US</td>\n",
              "      <td>US/Pacific</td>\n",
              "      <td>KPDX</td>\n",
              "      <td>2019-04-08 07:53:00</td>\n",
              "      <td>49.0</td>\n",
              "      <td>45.0</td>\n",
              "      <td>97.0</td>\n",
              "      <td>29.97</td>\n",
              "      <td>10.0</td>\n",
              "      <td>ESE</td>\n",
              "      <td>9.0</td>\n",
              "      <td>Light Rain</td>\n",
              "      <td>False</td>\n",
              "      <td>False</td>\n",
              "      <td>False</td>\n",
              "      <td>False</td>\n",
              "      <td>False</td>\n",
              "      <td>False</td>\n",
              "      <td>False</td>\n",
              "      <td>False</td>\n",
              "      <td>False</td>\n",
              "      <td>False</td>\n",
              "      <td>False</td>\n",
              "      <td>False</td>\n",
              "      <td>False</td>\n",
              "      <td>Day</td>\n",
              "      <td>Day</td>\n",
              "      <td>Day</td>\n",
              "      <td>Day</td>\n",
              "    </tr>\n",
              "    <tr>\n",
              "      <th>1</th>\n",
              "      <td>A-499</td>\n",
              "      <td>2</td>\n",
              "      <td>2020-10-29 18:18:20</td>\n",
              "      <td>2020-10-29 20:34:12</td>\n",
              "      <td>41.565275</td>\n",
              "      <td>-72.774369</td>\n",
              "      <td>41.562706</td>\n",
              "      <td>-72.775415</td>\n",
              "      <td>Incident on N BROAD ST near HOUSE 1722 Expect ...</td>\n",
              "      <td>N Broad St</td>\n",
              "      <td>L</td>\n",
              "      <td>Meriden</td>\n",
              "      <td>New Haven</td>\n",
              "      <td>CT</td>\n",
              "      <td>06450-2465</td>\n",
              "      <td>US</td>\n",
              "      <td>US/Eastern</td>\n",
              "      <td>KMMK</td>\n",
              "      <td>2020-10-29 18:08:00</td>\n",
              "      <td>46.0</td>\n",
              "      <td>41.0</td>\n",
              "      <td>89.0</td>\n",
              "      <td>29.55</td>\n",
              "      <td>8.0</td>\n",
              "      <td>N</td>\n",
              "      <td>9.0</td>\n",
              "      <td>Light Rain</td>\n",
              "      <td>False</td>\n",
              "      <td>False</td>\n",
              "      <td>False</td>\n",
              "      <td>False</td>\n",
              "      <td>False</td>\n",
              "      <td>False</td>\n",
              "      <td>False</td>\n",
              "      <td>False</td>\n",
              "      <td>False</td>\n",
              "      <td>False</td>\n",
              "      <td>False</td>\n",
              "      <td>False</td>\n",
              "      <td>False</td>\n",
              "      <td>Night</td>\n",
              "      <td>Night</td>\n",
              "      <td>Day</td>\n",
              "      <td>Day</td>\n",
              "    </tr>\n",
              "    <tr>\n",
              "      <th>2</th>\n",
              "      <td>A-537</td>\n",
              "      <td>2</td>\n",
              "      <td>2020-12-25 01:43:00</td>\n",
              "      <td>2020-12-25 03:57:37</td>\n",
              "      <td>40.644755</td>\n",
              "      <td>-77.293184</td>\n",
              "      <td>40.653826</td>\n",
              "      <td>-77.296075</td>\n",
              "      <td>Incident on TENNIS PARK RD near YODER LN Drive...</td>\n",
              "      <td>Tennis Park Rd</td>\n",
              "      <td>L</td>\n",
              "      <td>Mc Alisterville</td>\n",
              "      <td>Juniata</td>\n",
              "      <td>PA</td>\n",
              "      <td>17049</td>\n",
              "      <td>US</td>\n",
              "      <td>US/Eastern</td>\n",
              "      <td>KSEG</td>\n",
              "      <td>2020-12-25 01:51:00</td>\n",
              "      <td>54.0</td>\n",
              "      <td>54.0</td>\n",
              "      <td>94.0</td>\n",
              "      <td>28.89</td>\n",
              "      <td>5.0</td>\n",
              "      <td>WSW</td>\n",
              "      <td>3.0</td>\n",
              "      <td>Rain</td>\n",
              "      <td>False</td>\n",
              "      <td>False</td>\n",
              "      <td>False</td>\n",
              "      <td>False</td>\n",
              "      <td>False</td>\n",
              "      <td>False</td>\n",
              "      <td>False</td>\n",
              "      <td>False</td>\n",
              "      <td>False</td>\n",
              "      <td>False</td>\n",
              "      <td>False</td>\n",
              "      <td>False</td>\n",
              "      <td>False</td>\n",
              "      <td>Night</td>\n",
              "      <td>Night</td>\n",
              "      <td>Night</td>\n",
              "      <td>Night</td>\n",
              "    </tr>\n",
              "    <tr>\n",
              "      <th>3</th>\n",
              "      <td>A-643</td>\n",
              "      <td>2</td>\n",
              "      <td>2020-12-19 09:26:00</td>\n",
              "      <td>2020-12-19 11:07:26</td>\n",
              "      <td>32.515087</td>\n",
              "      <td>-93.748596</td>\n",
              "      <td>32.514381</td>\n",
              "      <td>-93.749573</td>\n",
              "      <td>Incident on TRAVIS ST near MARKET ST Drive wit...</td>\n",
              "      <td>Market St</td>\n",
              "      <td>L</td>\n",
              "      <td>Shreveport</td>\n",
              "      <td>Caddo</td>\n",
              "      <td>LA</td>\n",
              "      <td>71101-3221</td>\n",
              "      <td>US</td>\n",
              "      <td>US/Central</td>\n",
              "      <td>KDTN</td>\n",
              "      <td>2020-12-19 09:39:00</td>\n",
              "      <td>49.0</td>\n",
              "      <td>45.0</td>\n",
              "      <td>86.0</td>\n",
              "      <td>29.96</td>\n",
              "      <td>2.0</td>\n",
              "      <td>NNW</td>\n",
              "      <td>10.0</td>\n",
              "      <td>Rain</td>\n",
              "      <td>False</td>\n",
              "      <td>False</td>\n",
              "      <td>False</td>\n",
              "      <td>False</td>\n",
              "      <td>False</td>\n",
              "      <td>False</td>\n",
              "      <td>False</td>\n",
              "      <td>False</td>\n",
              "      <td>False</td>\n",
              "      <td>False</td>\n",
              "      <td>False</td>\n",
              "      <td>False</td>\n",
              "      <td>False</td>\n",
              "      <td>Day</td>\n",
              "      <td>Day</td>\n",
              "      <td>Day</td>\n",
              "      <td>Day</td>\n",
              "    </tr>\n",
              "    <tr>\n",
              "      <th>4</th>\n",
              "      <td>A-778</td>\n",
              "      <td>2</td>\n",
              "      <td>2020-11-11 21:08:15</td>\n",
              "      <td>2020-11-11 22:48:54</td>\n",
              "      <td>34.865355</td>\n",
              "      <td>-82.433279</td>\n",
              "      <td>34.865183</td>\n",
              "      <td>-82.433517</td>\n",
              "      <td>Incident on SC-253 near PARKER RD Drive with c...</td>\n",
              "      <td>W Blue Ridge Dr</td>\n",
              "      <td>L</td>\n",
              "      <td>Greenville</td>\n",
              "      <td>Greenville</td>\n",
              "      <td>SC</td>\n",
              "      <td>29611-3441</td>\n",
              "      <td>US</td>\n",
              "      <td>US/Eastern</td>\n",
              "      <td>KGMU</td>\n",
              "      <td>2020-11-11 20:53:00</td>\n",
              "      <td>71.0</td>\n",
              "      <td>71.0</td>\n",
              "      <td>93.0</td>\n",
              "      <td>28.82</td>\n",
              "      <td>9.0</td>\n",
              "      <td>S</td>\n",
              "      <td>5.0</td>\n",
              "      <td>Light Rain</td>\n",
              "      <td>False</td>\n",
              "      <td>False</td>\n",
              "      <td>True</td>\n",
              "      <td>False</td>\n",
              "      <td>False</td>\n",
              "      <td>False</td>\n",
              "      <td>False</td>\n",
              "      <td>False</td>\n",
              "      <td>False</td>\n",
              "      <td>False</td>\n",
              "      <td>False</td>\n",
              "      <td>True</td>\n",
              "      <td>False</td>\n",
              "      <td>Night</td>\n",
              "      <td>Night</td>\n",
              "      <td>Night</td>\n",
              "      <td>Night</td>\n",
              "    </tr>\n",
              "  </tbody>\n",
              "</table>\n",
              "</div>"
            ],
            "text/plain": [
              "      ID  Severity  ... Nautical_Twilight Astronomical_Twilight\n",
              "0  A-394         2  ...               Day                   Day\n",
              "1  A-499         2  ...               Day                   Day\n",
              "2  A-537         2  ...             Night                 Night\n",
              "3  A-643         2  ...               Day                   Day\n",
              "4  A-778         2  ...             Night                 Night\n",
              "\n",
              "[5 rows x 44 columns]"
            ]
          },
          "metadata": {
            "tags": []
          },
          "execution_count": 48
        }
      ]
    },
    {
      "cell_type": "code",
      "metadata": {
        "id": "bfHMNUKBFSxr"
      },
      "source": [
        "df.columns\n"
      ],
      "execution_count": null,
      "outputs": []
    },
    {
      "cell_type": "code",
      "metadata": {
        "id": "sU-M4paqFhnK"
      },
      "source": [
        "df.info()"
      ],
      "execution_count": null,
      "outputs": []
    },
    {
      "cell_type": "markdown",
      "metadata": {
        "id": "W-rCFg-4IjLy"
      },
      "source": [
        "### **More Cleansing**\n",
        "I need to drop Country and Turning Loop beacuse the two columns has only one entry  which are \"USA\" and \"False\". This shows that the dataset contains only USA and there is no turning point beacuse the column is  False."
      ]
    },
    {
      "cell_type": "code",
      "metadata": {
        "id": "p46i-t9RJSlu"
      },
      "source": [
        "df.drop([\"Country\",\"Turning_Loop\"], axis=1,inplace=True) #To drop the two columns\n"
      ],
      "execution_count": 51,
      "outputs": []
    },
    {
      "cell_type": "markdown",
      "metadata": {
        "id": "40VE56SOKFoD"
      },
      "source": [
        "## **Correlation of the dataframe**"
      ]
    },
    {
      "cell_type": "code",
      "metadata": {
        "colab": {
          "base_uri": "https://localhost:8080/",
          "height": 782
        },
        "id": "CPtO88niJ7PX",
        "outputId": "4e8828c2-6763-4835-f17a-fdd2252816c1"
      },
      "source": [
        "df.corr() # A brief paerson\"s correlation of the dataframe"
      ],
      "execution_count": 52,
      "outputs": [
        {
          "output_type": "execute_result",
          "data": {
            "text/html": [
              "<div>\n",
              "<style scoped>\n",
              "    .dataframe tbody tr th:only-of-type {\n",
              "        vertical-align: middle;\n",
              "    }\n",
              "\n",
              "    .dataframe tbody tr th {\n",
              "        vertical-align: top;\n",
              "    }\n",
              "\n",
              "    .dataframe thead th {\n",
              "        text-align: right;\n",
              "    }\n",
              "</style>\n",
              "<table border=\"1\" class=\"dataframe\">\n",
              "  <thead>\n",
              "    <tr style=\"text-align: right;\">\n",
              "      <th></th>\n",
              "      <th>Severity</th>\n",
              "      <th>Start_Lat</th>\n",
              "      <th>Start_Lng</th>\n",
              "      <th>End_Lat</th>\n",
              "      <th>End_Lng</th>\n",
              "      <th>Temperature(F)</th>\n",
              "      <th>Wind_Chill(F)</th>\n",
              "      <th>Humidity(%)</th>\n",
              "      <th>Pressure(in)</th>\n",
              "      <th>Visibility(mi)</th>\n",
              "      <th>Wind_Speed(mph)</th>\n",
              "      <th>Amenity</th>\n",
              "      <th>Bump</th>\n",
              "      <th>Crossing</th>\n",
              "      <th>Give_Way</th>\n",
              "      <th>Junction</th>\n",
              "      <th>No_Exit</th>\n",
              "      <th>Railway</th>\n",
              "      <th>Roundabout</th>\n",
              "      <th>Station</th>\n",
              "      <th>Stop</th>\n",
              "      <th>Traffic_Calming</th>\n",
              "      <th>Traffic_Signal</th>\n",
              "    </tr>\n",
              "  </thead>\n",
              "  <tbody>\n",
              "    <tr>\n",
              "      <th>Severity</th>\n",
              "      <td>1.000000</td>\n",
              "      <td>0.188835</td>\n",
              "      <td>0.102669</td>\n",
              "      <td>0.188869</td>\n",
              "      <td>0.102683</td>\n",
              "      <td>-0.165136</td>\n",
              "      <td>-0.166235</td>\n",
              "      <td>0.008362</td>\n",
              "      <td>0.016201</td>\n",
              "      <td>-0.065369</td>\n",
              "      <td>-0.029884</td>\n",
              "      <td>-0.010612</td>\n",
              "      <td>0.000105</td>\n",
              "      <td>-0.024441</td>\n",
              "      <td>0.021015</td>\n",
              "      <td>0.034393</td>\n",
              "      <td>-0.005335</td>\n",
              "      <td>-0.006174</td>\n",
              "      <td>-0.003750</td>\n",
              "      <td>-0.028748</td>\n",
              "      <td>-0.003934</td>\n",
              "      <td>0.000105</td>\n",
              "      <td>-0.003281</td>\n",
              "    </tr>\n",
              "    <tr>\n",
              "      <th>Start_Lat</th>\n",
              "      <td>0.188835</td>\n",
              "      <td>1.000000</td>\n",
              "      <td>-0.479826</td>\n",
              "      <td>0.999998</td>\n",
              "      <td>-0.479806</td>\n",
              "      <td>-0.699860</td>\n",
              "      <td>-0.675216</td>\n",
              "      <td>-0.020719</td>\n",
              "      <td>-0.213287</td>\n",
              "      <td>-0.123099</td>\n",
              "      <td>-0.034455</td>\n",
              "      <td>-0.013358</td>\n",
              "      <td>-0.011902</td>\n",
              "      <td>-0.060812</td>\n",
              "      <td>0.006975</td>\n",
              "      <td>0.028651</td>\n",
              "      <td>-0.017312</td>\n",
              "      <td>0.016048</td>\n",
              "      <td>-0.016335</td>\n",
              "      <td>-0.159428</td>\n",
              "      <td>0.033764</td>\n",
              "      <td>-0.011902</td>\n",
              "      <td>-0.088376</td>\n",
              "    </tr>\n",
              "    <tr>\n",
              "      <th>Start_Lng</th>\n",
              "      <td>0.102669</td>\n",
              "      <td>-0.479826</td>\n",
              "      <td>1.000000</td>\n",
              "      <td>-0.479729</td>\n",
              "      <td>0.999999</td>\n",
              "      <td>0.304299</td>\n",
              "      <td>0.278790</td>\n",
              "      <td>0.070118</td>\n",
              "      <td>0.111003</td>\n",
              "      <td>-0.044070</td>\n",
              "      <td>0.066477</td>\n",
              "      <td>0.001275</td>\n",
              "      <td>0.011118</td>\n",
              "      <td>0.044313</td>\n",
              "      <td>0.013398</td>\n",
              "      <td>0.024745</td>\n",
              "      <td>-0.003857</td>\n",
              "      <td>-0.020118</td>\n",
              "      <td>0.006341</td>\n",
              "      <td>0.072273</td>\n",
              "      <td>-0.034505</td>\n",
              "      <td>0.011118</td>\n",
              "      <td>0.125900</td>\n",
              "    </tr>\n",
              "    <tr>\n",
              "      <th>End_Lat</th>\n",
              "      <td>0.188869</td>\n",
              "      <td>0.999998</td>\n",
              "      <td>-0.479729</td>\n",
              "      <td>1.000000</td>\n",
              "      <td>-0.479709</td>\n",
              "      <td>-0.699838</td>\n",
              "      <td>-0.675194</td>\n",
              "      <td>-0.020742</td>\n",
              "      <td>-0.213312</td>\n",
              "      <td>-0.123097</td>\n",
              "      <td>-0.034422</td>\n",
              "      <td>-0.013347</td>\n",
              "      <td>-0.011901</td>\n",
              "      <td>-0.060776</td>\n",
              "      <td>0.006943</td>\n",
              "      <td>0.028657</td>\n",
              "      <td>-0.017310</td>\n",
              "      <td>0.016048</td>\n",
              "      <td>-0.016340</td>\n",
              "      <td>-0.159439</td>\n",
              "      <td>0.033776</td>\n",
              "      <td>-0.011901</td>\n",
              "      <td>-0.088351</td>\n",
              "    </tr>\n",
              "    <tr>\n",
              "      <th>End_Lng</th>\n",
              "      <td>0.102683</td>\n",
              "      <td>-0.479806</td>\n",
              "      <td>0.999999</td>\n",
              "      <td>-0.479709</td>\n",
              "      <td>1.000000</td>\n",
              "      <td>0.304299</td>\n",
              "      <td>0.278793</td>\n",
              "      <td>0.070116</td>\n",
              "      <td>0.110998</td>\n",
              "      <td>-0.044069</td>\n",
              "      <td>0.066459</td>\n",
              "      <td>0.001272</td>\n",
              "      <td>0.011117</td>\n",
              "      <td>0.044299</td>\n",
              "      <td>0.013400</td>\n",
              "      <td>0.024749</td>\n",
              "      <td>-0.003858</td>\n",
              "      <td>-0.020127</td>\n",
              "      <td>0.006341</td>\n",
              "      <td>0.072268</td>\n",
              "      <td>-0.034497</td>\n",
              "      <td>0.011117</td>\n",
              "      <td>0.125888</td>\n",
              "    </tr>\n",
              "    <tr>\n",
              "      <th>Temperature(F)</th>\n",
              "      <td>-0.165136</td>\n",
              "      <td>-0.699860</td>\n",
              "      <td>0.304299</td>\n",
              "      <td>-0.699838</td>\n",
              "      <td>0.304299</td>\n",
              "      <td>1.000000</td>\n",
              "      <td>0.992979</td>\n",
              "      <td>-0.026762</td>\n",
              "      <td>0.206462</td>\n",
              "      <td>0.293960</td>\n",
              "      <td>0.008435</td>\n",
              "      <td>0.011678</td>\n",
              "      <td>0.005535</td>\n",
              "      <td>0.064235</td>\n",
              "      <td>-0.005146</td>\n",
              "      <td>-0.018120</td>\n",
              "      <td>0.007568</td>\n",
              "      <td>-0.002342</td>\n",
              "      <td>0.010971</td>\n",
              "      <td>0.143712</td>\n",
              "      <td>-0.017310</td>\n",
              "      <td>0.005535</td>\n",
              "      <td>0.045754</td>\n",
              "    </tr>\n",
              "    <tr>\n",
              "      <th>Wind_Chill(F)</th>\n",
              "      <td>-0.166235</td>\n",
              "      <td>-0.675216</td>\n",
              "      <td>0.278790</td>\n",
              "      <td>-0.675194</td>\n",
              "      <td>0.278793</td>\n",
              "      <td>0.992979</td>\n",
              "      <td>1.000000</td>\n",
              "      <td>-0.015400</td>\n",
              "      <td>0.204576</td>\n",
              "      <td>0.297378</td>\n",
              "      <td>-0.052688</td>\n",
              "      <td>0.013983</td>\n",
              "      <td>0.005904</td>\n",
              "      <td>0.063709</td>\n",
              "      <td>-0.002885</td>\n",
              "      <td>-0.019590</td>\n",
              "      <td>0.008706</td>\n",
              "      <td>-0.000223</td>\n",
              "      <td>0.010501</td>\n",
              "      <td>0.135175</td>\n",
              "      <td>-0.013278</td>\n",
              "      <td>0.005904</td>\n",
              "      <td>0.043029</td>\n",
              "    </tr>\n",
              "    <tr>\n",
              "      <th>Humidity(%)</th>\n",
              "      <td>0.008362</td>\n",
              "      <td>-0.020719</td>\n",
              "      <td>0.070118</td>\n",
              "      <td>-0.020742</td>\n",
              "      <td>0.070116</td>\n",
              "      <td>-0.026762</td>\n",
              "      <td>-0.015400</td>\n",
              "      <td>1.000000</td>\n",
              "      <td>0.070904</td>\n",
              "      <td>-0.262531</td>\n",
              "      <td>-0.113293</td>\n",
              "      <td>0.002058</td>\n",
              "      <td>-0.003448</td>\n",
              "      <td>-0.019461</td>\n",
              "      <td>0.002864</td>\n",
              "      <td>-0.010150</td>\n",
              "      <td>0.012946</td>\n",
              "      <td>-0.004778</td>\n",
              "      <td>0.011468</td>\n",
              "      <td>-0.008675</td>\n",
              "      <td>-0.010420</td>\n",
              "      <td>-0.003448</td>\n",
              "      <td>-0.026735</td>\n",
              "    </tr>\n",
              "    <tr>\n",
              "      <th>Pressure(in)</th>\n",
              "      <td>0.016201</td>\n",
              "      <td>-0.213287</td>\n",
              "      <td>0.111003</td>\n",
              "      <td>-0.213312</td>\n",
              "      <td>0.110998</td>\n",
              "      <td>0.206462</td>\n",
              "      <td>0.204576</td>\n",
              "      <td>0.070904</td>\n",
              "      <td>1.000000</td>\n",
              "      <td>0.052214</td>\n",
              "      <td>-0.043948</td>\n",
              "      <td>0.019452</td>\n",
              "      <td>0.011285</td>\n",
              "      <td>0.037733</td>\n",
              "      <td>-0.011296</td>\n",
              "      <td>0.008509</td>\n",
              "      <td>0.010972</td>\n",
              "      <td>0.014691</td>\n",
              "      <td>0.004633</td>\n",
              "      <td>0.076218</td>\n",
              "      <td>-0.021857</td>\n",
              "      <td>0.011285</td>\n",
              "      <td>0.030145</td>\n",
              "    </tr>\n",
              "    <tr>\n",
              "      <th>Visibility(mi)</th>\n",
              "      <td>-0.065369</td>\n",
              "      <td>-0.123099</td>\n",
              "      <td>-0.044070</td>\n",
              "      <td>-0.123097</td>\n",
              "      <td>-0.044069</td>\n",
              "      <td>0.293960</td>\n",
              "      <td>0.297378</td>\n",
              "      <td>-0.262531</td>\n",
              "      <td>0.052214</td>\n",
              "      <td>1.000000</td>\n",
              "      <td>-0.044214</td>\n",
              "      <td>-0.004616</td>\n",
              "      <td>0.011697</td>\n",
              "      <td>0.040575</td>\n",
              "      <td>-0.011646</td>\n",
              "      <td>-0.022336</td>\n",
              "      <td>0.013403</td>\n",
              "      <td>0.002018</td>\n",
              "      <td>0.010315</td>\n",
              "      <td>0.047008</td>\n",
              "      <td>-0.011762</td>\n",
              "      <td>0.011697</td>\n",
              "      <td>0.013787</td>\n",
              "    </tr>\n",
              "    <tr>\n",
              "      <th>Wind_Speed(mph)</th>\n",
              "      <td>-0.029884</td>\n",
              "      <td>-0.034455</td>\n",
              "      <td>0.066477</td>\n",
              "      <td>-0.034422</td>\n",
              "      <td>0.066459</td>\n",
              "      <td>0.008435</td>\n",
              "      <td>-0.052688</td>\n",
              "      <td>-0.113293</td>\n",
              "      <td>-0.043948</td>\n",
              "      <td>-0.044214</td>\n",
              "      <td>1.000000</td>\n",
              "      <td>-0.017083</td>\n",
              "      <td>-0.012898</td>\n",
              "      <td>-0.010295</td>\n",
              "      <td>-0.019866</td>\n",
              "      <td>-0.003268</td>\n",
              "      <td>-0.007142</td>\n",
              "      <td>-0.025099</td>\n",
              "      <td>-0.006482</td>\n",
              "      <td>0.005413</td>\n",
              "      <td>-0.014978</td>\n",
              "      <td>-0.012898</td>\n",
              "      <td>0.011329</td>\n",
              "    </tr>\n",
              "    <tr>\n",
              "      <th>Amenity</th>\n",
              "      <td>-0.010612</td>\n",
              "      <td>-0.013358</td>\n",
              "      <td>0.001275</td>\n",
              "      <td>-0.013347</td>\n",
              "      <td>0.001272</td>\n",
              "      <td>0.011678</td>\n",
              "      <td>0.013983</td>\n",
              "      <td>0.002058</td>\n",
              "      <td>0.019452</td>\n",
              "      <td>-0.004616</td>\n",
              "      <td>-0.017083</td>\n",
              "      <td>1.000000</td>\n",
              "      <td>-0.003412</td>\n",
              "      <td>0.101866</td>\n",
              "      <td>-0.007302</td>\n",
              "      <td>-0.002929</td>\n",
              "      <td>-0.004468</td>\n",
              "      <td>0.001527</td>\n",
              "      <td>-0.001289</td>\n",
              "      <td>0.097353</td>\n",
              "      <td>0.011230</td>\n",
              "      <td>-0.003412</td>\n",
              "      <td>0.079659</td>\n",
              "    </tr>\n",
              "    <tr>\n",
              "      <th>Bump</th>\n",
              "      <td>0.000105</td>\n",
              "      <td>-0.011902</td>\n",
              "      <td>0.011118</td>\n",
              "      <td>-0.011901</td>\n",
              "      <td>0.011117</td>\n",
              "      <td>0.005535</td>\n",
              "      <td>0.005904</td>\n",
              "      <td>-0.003448</td>\n",
              "      <td>0.011285</td>\n",
              "      <td>0.011697</td>\n",
              "      <td>-0.012898</td>\n",
              "      <td>-0.003412</td>\n",
              "      <td>1.000000</td>\n",
              "      <td>-0.007316</td>\n",
              "      <td>-0.001184</td>\n",
              "      <td>0.032075</td>\n",
              "      <td>-0.000724</td>\n",
              "      <td>-0.002414</td>\n",
              "      <td>-0.000209</td>\n",
              "      <td>-0.004916</td>\n",
              "      <td>0.018859</td>\n",
              "      <td>1.000000</td>\n",
              "      <td>-0.009271</td>\n",
              "    </tr>\n",
              "    <tr>\n",
              "      <th>Crossing</th>\n",
              "      <td>-0.024441</td>\n",
              "      <td>-0.060812</td>\n",
              "      <td>0.044313</td>\n",
              "      <td>-0.060776</td>\n",
              "      <td>0.044299</td>\n",
              "      <td>0.064235</td>\n",
              "      <td>0.063709</td>\n",
              "      <td>-0.019461</td>\n",
              "      <td>0.037733</td>\n",
              "      <td>0.040575</td>\n",
              "      <td>-0.010295</td>\n",
              "      <td>0.101866</td>\n",
              "      <td>-0.007316</td>\n",
              "      <td>1.000000</td>\n",
              "      <td>0.050899</td>\n",
              "      <td>-0.010726</td>\n",
              "      <td>0.017569</td>\n",
              "      <td>0.269659</td>\n",
              "      <td>-0.002764</td>\n",
              "      <td>0.093505</td>\n",
              "      <td>0.051037</td>\n",
              "      <td>-0.007316</td>\n",
              "      <td>0.368723</td>\n",
              "    </tr>\n",
              "    <tr>\n",
              "      <th>Give_Way</th>\n",
              "      <td>0.021015</td>\n",
              "      <td>0.006975</td>\n",
              "      <td>0.013398</td>\n",
              "      <td>0.006943</td>\n",
              "      <td>0.013400</td>\n",
              "      <td>-0.005146</td>\n",
              "      <td>-0.002885</td>\n",
              "      <td>0.002864</td>\n",
              "      <td>-0.011296</td>\n",
              "      <td>-0.011646</td>\n",
              "      <td>-0.019866</td>\n",
              "      <td>-0.007302</td>\n",
              "      <td>-0.001184</td>\n",
              "      <td>0.050899</td>\n",
              "      <td>1.000000</td>\n",
              "      <td>-0.004965</td>\n",
              "      <td>-0.001550</td>\n",
              "      <td>-0.005166</td>\n",
              "      <td>-0.000447</td>\n",
              "      <td>-0.010521</td>\n",
              "      <td>0.065898</td>\n",
              "      <td>-0.001184</td>\n",
              "      <td>0.044702</td>\n",
              "    </tr>\n",
              "    <tr>\n",
              "      <th>Junction</th>\n",
              "      <td>0.034393</td>\n",
              "      <td>0.028651</td>\n",
              "      <td>0.024745</td>\n",
              "      <td>0.028657</td>\n",
              "      <td>0.024749</td>\n",
              "      <td>-0.018120</td>\n",
              "      <td>-0.019590</td>\n",
              "      <td>-0.010150</td>\n",
              "      <td>0.008509</td>\n",
              "      <td>-0.022336</td>\n",
              "      <td>-0.003268</td>\n",
              "      <td>-0.002929</td>\n",
              "      <td>0.032075</td>\n",
              "      <td>-0.010726</td>\n",
              "      <td>-0.004965</td>\n",
              "      <td>1.000000</td>\n",
              "      <td>-0.003038</td>\n",
              "      <td>0.005796</td>\n",
              "      <td>0.090102</td>\n",
              "      <td>-0.020616</td>\n",
              "      <td>0.006517</td>\n",
              "      <td>0.032075</td>\n",
              "      <td>-0.022295</td>\n",
              "    </tr>\n",
              "    <tr>\n",
              "      <th>No_Exit</th>\n",
              "      <td>-0.005335</td>\n",
              "      <td>-0.017312</td>\n",
              "      <td>-0.003857</td>\n",
              "      <td>-0.017310</td>\n",
              "      <td>-0.003858</td>\n",
              "      <td>0.007568</td>\n",
              "      <td>0.008706</td>\n",
              "      <td>0.012946</td>\n",
              "      <td>0.010972</td>\n",
              "      <td>0.013403</td>\n",
              "      <td>-0.007142</td>\n",
              "      <td>-0.004468</td>\n",
              "      <td>-0.000724</td>\n",
              "      <td>0.017569</td>\n",
              "      <td>-0.001550</td>\n",
              "      <td>-0.003038</td>\n",
              "      <td>1.000000</td>\n",
              "      <td>-0.003161</td>\n",
              "      <td>-0.000274</td>\n",
              "      <td>-0.006437</td>\n",
              "      <td>0.012442</td>\n",
              "      <td>-0.000724</td>\n",
              "      <td>-0.004619</td>\n",
              "    </tr>\n",
              "    <tr>\n",
              "      <th>Railway</th>\n",
              "      <td>-0.006174</td>\n",
              "      <td>0.016048</td>\n",
              "      <td>-0.020118</td>\n",
              "      <td>0.016048</td>\n",
              "      <td>-0.020127</td>\n",
              "      <td>-0.002342</td>\n",
              "      <td>-0.000223</td>\n",
              "      <td>-0.004778</td>\n",
              "      <td>0.014691</td>\n",
              "      <td>0.002018</td>\n",
              "      <td>-0.025099</td>\n",
              "      <td>0.001527</td>\n",
              "      <td>-0.002414</td>\n",
              "      <td>0.269659</td>\n",
              "      <td>-0.005166</td>\n",
              "      <td>0.005796</td>\n",
              "      <td>-0.003161</td>\n",
              "      <td>1.000000</td>\n",
              "      <td>-0.000912</td>\n",
              "      <td>0.087263</td>\n",
              "      <td>0.020671</td>\n",
              "      <td>-0.002414</td>\n",
              "      <td>0.043863</td>\n",
              "    </tr>\n",
              "    <tr>\n",
              "      <th>Roundabout</th>\n",
              "      <td>-0.003750</td>\n",
              "      <td>-0.016335</td>\n",
              "      <td>0.006341</td>\n",
              "      <td>-0.016340</td>\n",
              "      <td>0.006341</td>\n",
              "      <td>0.010971</td>\n",
              "      <td>0.010501</td>\n",
              "      <td>0.011468</td>\n",
              "      <td>0.004633</td>\n",
              "      <td>0.010315</td>\n",
              "      <td>-0.006482</td>\n",
              "      <td>-0.001289</td>\n",
              "      <td>-0.000209</td>\n",
              "      <td>-0.002764</td>\n",
              "      <td>-0.000447</td>\n",
              "      <td>0.090102</td>\n",
              "      <td>-0.000274</td>\n",
              "      <td>-0.000912</td>\n",
              "      <td>1.000000</td>\n",
              "      <td>-0.001858</td>\n",
              "      <td>-0.001361</td>\n",
              "      <td>-0.000209</td>\n",
              "      <td>-0.003503</td>\n",
              "    </tr>\n",
              "    <tr>\n",
              "      <th>Station</th>\n",
              "      <td>-0.028748</td>\n",
              "      <td>-0.159428</td>\n",
              "      <td>0.072273</td>\n",
              "      <td>-0.159439</td>\n",
              "      <td>0.072268</td>\n",
              "      <td>0.143712</td>\n",
              "      <td>0.135175</td>\n",
              "      <td>-0.008675</td>\n",
              "      <td>0.076218</td>\n",
              "      <td>0.047008</td>\n",
              "      <td>0.005413</td>\n",
              "      <td>0.097353</td>\n",
              "      <td>-0.004916</td>\n",
              "      <td>0.093505</td>\n",
              "      <td>-0.010521</td>\n",
              "      <td>-0.020616</td>\n",
              "      <td>-0.006437</td>\n",
              "      <td>0.087263</td>\n",
              "      <td>-0.001858</td>\n",
              "      <td>1.000000</td>\n",
              "      <td>-0.018819</td>\n",
              "      <td>-0.004916</td>\n",
              "      <td>0.095609</td>\n",
              "    </tr>\n",
              "    <tr>\n",
              "      <th>Stop</th>\n",
              "      <td>-0.003934</td>\n",
              "      <td>0.033764</td>\n",
              "      <td>-0.034505</td>\n",
              "      <td>0.033776</td>\n",
              "      <td>-0.034497</td>\n",
              "      <td>-0.017310</td>\n",
              "      <td>-0.013278</td>\n",
              "      <td>-0.010420</td>\n",
              "      <td>-0.021857</td>\n",
              "      <td>-0.011762</td>\n",
              "      <td>-0.014978</td>\n",
              "      <td>0.011230</td>\n",
              "      <td>0.018859</td>\n",
              "      <td>0.051037</td>\n",
              "      <td>0.065898</td>\n",
              "      <td>0.006517</td>\n",
              "      <td>0.012442</td>\n",
              "      <td>0.020671</td>\n",
              "      <td>-0.001361</td>\n",
              "      <td>-0.018819</td>\n",
              "      <td>1.000000</td>\n",
              "      <td>0.018859</td>\n",
              "      <td>-0.046427</td>\n",
              "    </tr>\n",
              "    <tr>\n",
              "      <th>Traffic_Calming</th>\n",
              "      <td>0.000105</td>\n",
              "      <td>-0.011902</td>\n",
              "      <td>0.011118</td>\n",
              "      <td>-0.011901</td>\n",
              "      <td>0.011117</td>\n",
              "      <td>0.005535</td>\n",
              "      <td>0.005904</td>\n",
              "      <td>-0.003448</td>\n",
              "      <td>0.011285</td>\n",
              "      <td>0.011697</td>\n",
              "      <td>-0.012898</td>\n",
              "      <td>-0.003412</td>\n",
              "      <td>1.000000</td>\n",
              "      <td>-0.007316</td>\n",
              "      <td>-0.001184</td>\n",
              "      <td>0.032075</td>\n",
              "      <td>-0.000724</td>\n",
              "      <td>-0.002414</td>\n",
              "      <td>-0.000209</td>\n",
              "      <td>-0.004916</td>\n",
              "      <td>0.018859</td>\n",
              "      <td>1.000000</td>\n",
              "      <td>-0.009271</td>\n",
              "    </tr>\n",
              "    <tr>\n",
              "      <th>Traffic_Signal</th>\n",
              "      <td>-0.003281</td>\n",
              "      <td>-0.088376</td>\n",
              "      <td>0.125900</td>\n",
              "      <td>-0.088351</td>\n",
              "      <td>0.125888</td>\n",
              "      <td>0.045754</td>\n",
              "      <td>0.043029</td>\n",
              "      <td>-0.026735</td>\n",
              "      <td>0.030145</td>\n",
              "      <td>0.013787</td>\n",
              "      <td>0.011329</td>\n",
              "      <td>0.079659</td>\n",
              "      <td>-0.009271</td>\n",
              "      <td>0.368723</td>\n",
              "      <td>0.044702</td>\n",
              "      <td>-0.022295</td>\n",
              "      <td>-0.004619</td>\n",
              "      <td>0.043863</td>\n",
              "      <td>-0.003503</td>\n",
              "      <td>0.095609</td>\n",
              "      <td>-0.046427</td>\n",
              "      <td>-0.009271</td>\n",
              "      <td>1.000000</td>\n",
              "    </tr>\n",
              "  </tbody>\n",
              "</table>\n",
              "</div>"
            ],
            "text/plain": [
              "                 Severity  Start_Lat  ...  Traffic_Calming  Traffic_Signal\n",
              "Severity         1.000000   0.188835  ...         0.000105       -0.003281\n",
              "Start_Lat        0.188835   1.000000  ...        -0.011902       -0.088376\n",
              "Start_Lng        0.102669  -0.479826  ...         0.011118        0.125900\n",
              "End_Lat          0.188869   0.999998  ...        -0.011901       -0.088351\n",
              "End_Lng          0.102683  -0.479806  ...         0.011117        0.125888\n",
              "Temperature(F)  -0.165136  -0.699860  ...         0.005535        0.045754\n",
              "Wind_Chill(F)   -0.166235  -0.675216  ...         0.005904        0.043029\n",
              "Humidity(%)      0.008362  -0.020719  ...        -0.003448       -0.026735\n",
              "Pressure(in)     0.016201  -0.213287  ...         0.011285        0.030145\n",
              "Visibility(mi)  -0.065369  -0.123099  ...         0.011697        0.013787\n",
              "Wind_Speed(mph) -0.029884  -0.034455  ...        -0.012898        0.011329\n",
              "Amenity         -0.010612  -0.013358  ...        -0.003412        0.079659\n",
              "Bump             0.000105  -0.011902  ...         1.000000       -0.009271\n",
              "Crossing        -0.024441  -0.060812  ...        -0.007316        0.368723\n",
              "Give_Way         0.021015   0.006975  ...        -0.001184        0.044702\n",
              "Junction         0.034393   0.028651  ...         0.032075       -0.022295\n",
              "No_Exit         -0.005335  -0.017312  ...        -0.000724       -0.004619\n",
              "Railway         -0.006174   0.016048  ...        -0.002414        0.043863\n",
              "Roundabout      -0.003750  -0.016335  ...        -0.000209       -0.003503\n",
              "Station         -0.028748  -0.159428  ...        -0.004916        0.095609\n",
              "Stop            -0.003934   0.033764  ...         0.018859       -0.046427\n",
              "Traffic_Calming  0.000105  -0.011902  ...         1.000000       -0.009271\n",
              "Traffic_Signal  -0.003281  -0.088376  ...        -0.009271        1.000000\n",
              "\n",
              "[23 rows x 23 columns]"
            ]
          },
          "metadata": {
            "tags": []
          },
          "execution_count": 52
        }
      ]
    },
    {
      "cell_type": "markdown",
      "metadata": {
        "id": "pX8gOvhiJvIL"
      },
      "source": [
        "After checking the correlation, End_Lat and Start_Lat, and Wind Chill(F) and Temperature(F) are highly positively correlated.\n",
        "Also, End_lng and Start_lng are  highly  positive correllated for continous data. Now, I'II be dropping End_Lat and End_lng, Wind Chill(F) columns respectively. "
      ]
    },
    {
      "cell_type": "code",
      "metadata": {
        "id": "t-LPNAN8LbXj"
      },
      "source": [
        " df.drop([\"End_Lat\",\"End_Lng\",\"Wind_Chill(F)\"], axis=1,inplace=True) #To drop the two columns\n",
        "df.drop([\"Wind_Chill(F)\"], axis=1,inplace=True) #To drop Wind_CHill column"
      ],
      "execution_count": 120,
      "outputs": []
    },
    {
      "cell_type": "code",
      "metadata": {
        "colab": {
          "base_uri": "https://localhost:8080/",
          "height": 332
        },
        "id": "q6W04u3XeTwi",
        "outputId": "9bcad791-ef2e-469c-af9a-008f9f70e848"
      },
      "source": [
        "df.head(3)"
      ],
      "execution_count": 54,
      "outputs": [
        {
          "output_type": "execute_result",
          "data": {
            "text/html": [
              "<div>\n",
              "<style scoped>\n",
              "    .dataframe tbody tr th:only-of-type {\n",
              "        vertical-align: middle;\n",
              "    }\n",
              "\n",
              "    .dataframe tbody tr th {\n",
              "        vertical-align: top;\n",
              "    }\n",
              "\n",
              "    .dataframe thead th {\n",
              "        text-align: right;\n",
              "    }\n",
              "</style>\n",
              "<table border=\"1\" class=\"dataframe\">\n",
              "  <thead>\n",
              "    <tr style=\"text-align: right;\">\n",
              "      <th></th>\n",
              "      <th>ID</th>\n",
              "      <th>Severity</th>\n",
              "      <th>Start_Time</th>\n",
              "      <th>End_Time</th>\n",
              "      <th>Start_Lat</th>\n",
              "      <th>Start_Lng</th>\n",
              "      <th>Description</th>\n",
              "      <th>Street</th>\n",
              "      <th>Side</th>\n",
              "      <th>City</th>\n",
              "      <th>County</th>\n",
              "      <th>State</th>\n",
              "      <th>Zipcode</th>\n",
              "      <th>Timezone</th>\n",
              "      <th>Airport_Code</th>\n",
              "      <th>Weather_Timestamp</th>\n",
              "      <th>Temperature(F)</th>\n",
              "      <th>Wind_Chill(F)</th>\n",
              "      <th>Humidity(%)</th>\n",
              "      <th>Pressure(in)</th>\n",
              "      <th>Visibility(mi)</th>\n",
              "      <th>Wind_Direction</th>\n",
              "      <th>Wind_Speed(mph)</th>\n",
              "      <th>Weather_Condition</th>\n",
              "      <th>Amenity</th>\n",
              "      <th>Bump</th>\n",
              "      <th>Crossing</th>\n",
              "      <th>Give_Way</th>\n",
              "      <th>Junction</th>\n",
              "      <th>No_Exit</th>\n",
              "      <th>Railway</th>\n",
              "      <th>Roundabout</th>\n",
              "      <th>Station</th>\n",
              "      <th>Stop</th>\n",
              "      <th>Traffic_Calming</th>\n",
              "      <th>Traffic_Signal</th>\n",
              "      <th>Sunrise_Sunset</th>\n",
              "      <th>Civil_Twilight</th>\n",
              "      <th>Nautical_Twilight</th>\n",
              "      <th>Astronomical_Twilight</th>\n",
              "    </tr>\n",
              "  </thead>\n",
              "  <tbody>\n",
              "    <tr>\n",
              "      <th>0</th>\n",
              "      <td>A-394</td>\n",
              "      <td>2</td>\n",
              "      <td>2019-04-08 07:55:21</td>\n",
              "      <td>2019-04-08 11:55:21</td>\n",
              "      <td>45.562813</td>\n",
              "      <td>-122.590408</td>\n",
              "      <td>At OR-213/NE 82nd Ave - Accident.</td>\n",
              "      <td>NE Killingsworth St</td>\n",
              "      <td>R</td>\n",
              "      <td>Portland</td>\n",
              "      <td>Multnomah</td>\n",
              "      <td>OR</td>\n",
              "      <td>97218-3324</td>\n",
              "      <td>US/Pacific</td>\n",
              "      <td>KPDX</td>\n",
              "      <td>2019-04-08 07:53:00</td>\n",
              "      <td>49.0</td>\n",
              "      <td>45.0</td>\n",
              "      <td>97.0</td>\n",
              "      <td>29.97</td>\n",
              "      <td>10.0</td>\n",
              "      <td>ESE</td>\n",
              "      <td>9.0</td>\n",
              "      <td>Light Rain</td>\n",
              "      <td>False</td>\n",
              "      <td>False</td>\n",
              "      <td>False</td>\n",
              "      <td>False</td>\n",
              "      <td>False</td>\n",
              "      <td>False</td>\n",
              "      <td>False</td>\n",
              "      <td>False</td>\n",
              "      <td>False</td>\n",
              "      <td>False</td>\n",
              "      <td>False</td>\n",
              "      <td>False</td>\n",
              "      <td>Day</td>\n",
              "      <td>Day</td>\n",
              "      <td>Day</td>\n",
              "      <td>Day</td>\n",
              "    </tr>\n",
              "    <tr>\n",
              "      <th>1</th>\n",
              "      <td>A-499</td>\n",
              "      <td>2</td>\n",
              "      <td>2020-10-29 18:18:20</td>\n",
              "      <td>2020-10-29 20:34:12</td>\n",
              "      <td>41.565275</td>\n",
              "      <td>-72.774369</td>\n",
              "      <td>Incident on N BROAD ST near HOUSE 1722 Expect ...</td>\n",
              "      <td>N Broad St</td>\n",
              "      <td>L</td>\n",
              "      <td>Meriden</td>\n",
              "      <td>New Haven</td>\n",
              "      <td>CT</td>\n",
              "      <td>06450-2465</td>\n",
              "      <td>US/Eastern</td>\n",
              "      <td>KMMK</td>\n",
              "      <td>2020-10-29 18:08:00</td>\n",
              "      <td>46.0</td>\n",
              "      <td>41.0</td>\n",
              "      <td>89.0</td>\n",
              "      <td>29.55</td>\n",
              "      <td>8.0</td>\n",
              "      <td>N</td>\n",
              "      <td>9.0</td>\n",
              "      <td>Light Rain</td>\n",
              "      <td>False</td>\n",
              "      <td>False</td>\n",
              "      <td>False</td>\n",
              "      <td>False</td>\n",
              "      <td>False</td>\n",
              "      <td>False</td>\n",
              "      <td>False</td>\n",
              "      <td>False</td>\n",
              "      <td>False</td>\n",
              "      <td>False</td>\n",
              "      <td>False</td>\n",
              "      <td>False</td>\n",
              "      <td>Night</td>\n",
              "      <td>Night</td>\n",
              "      <td>Day</td>\n",
              "      <td>Day</td>\n",
              "    </tr>\n",
              "    <tr>\n",
              "      <th>2</th>\n",
              "      <td>A-537</td>\n",
              "      <td>2</td>\n",
              "      <td>2020-12-25 01:43:00</td>\n",
              "      <td>2020-12-25 03:57:37</td>\n",
              "      <td>40.644755</td>\n",
              "      <td>-77.293184</td>\n",
              "      <td>Incident on TENNIS PARK RD near YODER LN Drive...</td>\n",
              "      <td>Tennis Park Rd</td>\n",
              "      <td>L</td>\n",
              "      <td>Mc Alisterville</td>\n",
              "      <td>Juniata</td>\n",
              "      <td>PA</td>\n",
              "      <td>17049</td>\n",
              "      <td>US/Eastern</td>\n",
              "      <td>KSEG</td>\n",
              "      <td>2020-12-25 01:51:00</td>\n",
              "      <td>54.0</td>\n",
              "      <td>54.0</td>\n",
              "      <td>94.0</td>\n",
              "      <td>28.89</td>\n",
              "      <td>5.0</td>\n",
              "      <td>WSW</td>\n",
              "      <td>3.0</td>\n",
              "      <td>Rain</td>\n",
              "      <td>False</td>\n",
              "      <td>False</td>\n",
              "      <td>False</td>\n",
              "      <td>False</td>\n",
              "      <td>False</td>\n",
              "      <td>False</td>\n",
              "      <td>False</td>\n",
              "      <td>False</td>\n",
              "      <td>False</td>\n",
              "      <td>False</td>\n",
              "      <td>False</td>\n",
              "      <td>False</td>\n",
              "      <td>Night</td>\n",
              "      <td>Night</td>\n",
              "      <td>Night</td>\n",
              "      <td>Night</td>\n",
              "    </tr>\n",
              "  </tbody>\n",
              "</table>\n",
              "</div>"
            ],
            "text/plain": [
              "      ID  Severity  ... Nautical_Twilight Astronomical_Twilight\n",
              "0  A-394         2  ...               Day                   Day\n",
              "1  A-499         2  ...               Day                   Day\n",
              "2  A-537         2  ...             Night                 Night\n",
              "\n",
              "[3 rows x 40 columns]"
            ]
          },
          "metadata": {
            "tags": []
          },
          "execution_count": 54
        }
      ]
    },
    {
      "cell_type": "markdown",
      "metadata": {
        "id": "ZpVx2zJGoci2"
      },
      "source": [
        "### **Categorical Data**\n",
        "# Categorical data is a collection of information that is divided into groups.Categorical data can also take on numerical values (such as “1” indicating Yes and “2” indicating No), but those numbers don’t have mathematical meaning. One can neither add them together nor subtract them from each other. An example of numerical value that  is a category data is \"severity\" in the our dataset, which ranges from 1-4."
      ]
    },
    {
      "cell_type": "code",
      "metadata": {
        "colab": {
          "base_uri": "https://localhost:8080/",
          "height": 1000
        },
        "id": "qDqtoMfgCw-j",
        "outputId": "6cacb4ae-8204-4357-8a53-0e4292549e90"
      },
      "source": [
        "categorical_data= df.select_dtypes(exclude=[np.number]) #These are columns that can be grouped\n",
        "categorical_data\n"
      ],
      "execution_count": 55,
      "outputs": [
        {
          "output_type": "execute_result",
          "data": {
            "text/html": [
              "<div>\n",
              "<style scoped>\n",
              "    .dataframe tbody tr th:only-of-type {\n",
              "        vertical-align: middle;\n",
              "    }\n",
              "\n",
              "    .dataframe tbody tr th {\n",
              "        vertical-align: top;\n",
              "    }\n",
              "\n",
              "    .dataframe thead th {\n",
              "        text-align: right;\n",
              "    }\n",
              "</style>\n",
              "<table border=\"1\" class=\"dataframe\">\n",
              "  <thead>\n",
              "    <tr style=\"text-align: right;\">\n",
              "      <th></th>\n",
              "      <th>ID</th>\n",
              "      <th>Start_Time</th>\n",
              "      <th>End_Time</th>\n",
              "      <th>Description</th>\n",
              "      <th>Street</th>\n",
              "      <th>Side</th>\n",
              "      <th>City</th>\n",
              "      <th>County</th>\n",
              "      <th>State</th>\n",
              "      <th>Zipcode</th>\n",
              "      <th>Timezone</th>\n",
              "      <th>Airport_Code</th>\n",
              "      <th>Weather_Timestamp</th>\n",
              "      <th>Wind_Direction</th>\n",
              "      <th>Weather_Condition</th>\n",
              "      <th>Amenity</th>\n",
              "      <th>Bump</th>\n",
              "      <th>Crossing</th>\n",
              "      <th>Give_Way</th>\n",
              "      <th>Junction</th>\n",
              "      <th>No_Exit</th>\n",
              "      <th>Railway</th>\n",
              "      <th>Roundabout</th>\n",
              "      <th>Station</th>\n",
              "      <th>Stop</th>\n",
              "      <th>Traffic_Calming</th>\n",
              "      <th>Traffic_Signal</th>\n",
              "      <th>Sunrise_Sunset</th>\n",
              "      <th>Civil_Twilight</th>\n",
              "      <th>Nautical_Twilight</th>\n",
              "      <th>Astronomical_Twilight</th>\n",
              "    </tr>\n",
              "  </thead>\n",
              "  <tbody>\n",
              "    <tr>\n",
              "      <th>0</th>\n",
              "      <td>A-394</td>\n",
              "      <td>2019-04-08 07:55:21</td>\n",
              "      <td>2019-04-08 11:55:21</td>\n",
              "      <td>At OR-213/NE 82nd Ave - Accident.</td>\n",
              "      <td>NE Killingsworth St</td>\n",
              "      <td>R</td>\n",
              "      <td>Portland</td>\n",
              "      <td>Multnomah</td>\n",
              "      <td>OR</td>\n",
              "      <td>97218-3324</td>\n",
              "      <td>US/Pacific</td>\n",
              "      <td>KPDX</td>\n",
              "      <td>2019-04-08 07:53:00</td>\n",
              "      <td>ESE</td>\n",
              "      <td>Light Rain</td>\n",
              "      <td>False</td>\n",
              "      <td>False</td>\n",
              "      <td>False</td>\n",
              "      <td>False</td>\n",
              "      <td>False</td>\n",
              "      <td>False</td>\n",
              "      <td>False</td>\n",
              "      <td>False</td>\n",
              "      <td>False</td>\n",
              "      <td>False</td>\n",
              "      <td>False</td>\n",
              "      <td>False</td>\n",
              "      <td>Day</td>\n",
              "      <td>Day</td>\n",
              "      <td>Day</td>\n",
              "      <td>Day</td>\n",
              "    </tr>\n",
              "    <tr>\n",
              "      <th>1</th>\n",
              "      <td>A-499</td>\n",
              "      <td>2020-10-29 18:18:20</td>\n",
              "      <td>2020-10-29 20:34:12</td>\n",
              "      <td>Incident on N BROAD ST near HOUSE 1722 Expect ...</td>\n",
              "      <td>N Broad St</td>\n",
              "      <td>L</td>\n",
              "      <td>Meriden</td>\n",
              "      <td>New Haven</td>\n",
              "      <td>CT</td>\n",
              "      <td>06450-2465</td>\n",
              "      <td>US/Eastern</td>\n",
              "      <td>KMMK</td>\n",
              "      <td>2020-10-29 18:08:00</td>\n",
              "      <td>N</td>\n",
              "      <td>Light Rain</td>\n",
              "      <td>False</td>\n",
              "      <td>False</td>\n",
              "      <td>False</td>\n",
              "      <td>False</td>\n",
              "      <td>False</td>\n",
              "      <td>False</td>\n",
              "      <td>False</td>\n",
              "      <td>False</td>\n",
              "      <td>False</td>\n",
              "      <td>False</td>\n",
              "      <td>False</td>\n",
              "      <td>False</td>\n",
              "      <td>Night</td>\n",
              "      <td>Night</td>\n",
              "      <td>Day</td>\n",
              "      <td>Day</td>\n",
              "    </tr>\n",
              "    <tr>\n",
              "      <th>2</th>\n",
              "      <td>A-537</td>\n",
              "      <td>2020-12-25 01:43:00</td>\n",
              "      <td>2020-12-25 03:57:37</td>\n",
              "      <td>Incident on TENNIS PARK RD near YODER LN Drive...</td>\n",
              "      <td>Tennis Park Rd</td>\n",
              "      <td>L</td>\n",
              "      <td>Mc Alisterville</td>\n",
              "      <td>Juniata</td>\n",
              "      <td>PA</td>\n",
              "      <td>17049</td>\n",
              "      <td>US/Eastern</td>\n",
              "      <td>KSEG</td>\n",
              "      <td>2020-12-25 01:51:00</td>\n",
              "      <td>WSW</td>\n",
              "      <td>Rain</td>\n",
              "      <td>False</td>\n",
              "      <td>False</td>\n",
              "      <td>False</td>\n",
              "      <td>False</td>\n",
              "      <td>False</td>\n",
              "      <td>False</td>\n",
              "      <td>False</td>\n",
              "      <td>False</td>\n",
              "      <td>False</td>\n",
              "      <td>False</td>\n",
              "      <td>False</td>\n",
              "      <td>False</td>\n",
              "      <td>Night</td>\n",
              "      <td>Night</td>\n",
              "      <td>Night</td>\n",
              "      <td>Night</td>\n",
              "    </tr>\n",
              "    <tr>\n",
              "      <th>3</th>\n",
              "      <td>A-643</td>\n",
              "      <td>2020-12-19 09:26:00</td>\n",
              "      <td>2020-12-19 11:07:26</td>\n",
              "      <td>Incident on TRAVIS ST near MARKET ST Drive wit...</td>\n",
              "      <td>Market St</td>\n",
              "      <td>L</td>\n",
              "      <td>Shreveport</td>\n",
              "      <td>Caddo</td>\n",
              "      <td>LA</td>\n",
              "      <td>71101-3221</td>\n",
              "      <td>US/Central</td>\n",
              "      <td>KDTN</td>\n",
              "      <td>2020-12-19 09:39:00</td>\n",
              "      <td>NNW</td>\n",
              "      <td>Rain</td>\n",
              "      <td>False</td>\n",
              "      <td>False</td>\n",
              "      <td>False</td>\n",
              "      <td>False</td>\n",
              "      <td>False</td>\n",
              "      <td>False</td>\n",
              "      <td>False</td>\n",
              "      <td>False</td>\n",
              "      <td>False</td>\n",
              "      <td>False</td>\n",
              "      <td>False</td>\n",
              "      <td>False</td>\n",
              "      <td>Day</td>\n",
              "      <td>Day</td>\n",
              "      <td>Day</td>\n",
              "      <td>Day</td>\n",
              "    </tr>\n",
              "    <tr>\n",
              "      <th>4</th>\n",
              "      <td>A-778</td>\n",
              "      <td>2020-11-11 21:08:15</td>\n",
              "      <td>2020-11-11 22:48:54</td>\n",
              "      <td>Incident on SC-253 near PARKER RD Drive with c...</td>\n",
              "      <td>W Blue Ridge Dr</td>\n",
              "      <td>L</td>\n",
              "      <td>Greenville</td>\n",
              "      <td>Greenville</td>\n",
              "      <td>SC</td>\n",
              "      <td>29611-3441</td>\n",
              "      <td>US/Eastern</td>\n",
              "      <td>KGMU</td>\n",
              "      <td>2020-11-11 20:53:00</td>\n",
              "      <td>S</td>\n",
              "      <td>Light Rain</td>\n",
              "      <td>False</td>\n",
              "      <td>False</td>\n",
              "      <td>True</td>\n",
              "      <td>False</td>\n",
              "      <td>False</td>\n",
              "      <td>False</td>\n",
              "      <td>False</td>\n",
              "      <td>False</td>\n",
              "      <td>False</td>\n",
              "      <td>False</td>\n",
              "      <td>False</td>\n",
              "      <td>True</td>\n",
              "      <td>Night</td>\n",
              "      <td>Night</td>\n",
              "      <td>Night</td>\n",
              "      <td>Night</td>\n",
              "    </tr>\n",
              "    <tr>\n",
              "      <th>...</th>\n",
              "      <td>...</td>\n",
              "      <td>...</td>\n",
              "      <td>...</td>\n",
              "      <td>...</td>\n",
              "      <td>...</td>\n",
              "      <td>...</td>\n",
              "      <td>...</td>\n",
              "      <td>...</td>\n",
              "      <td>...</td>\n",
              "      <td>...</td>\n",
              "      <td>...</td>\n",
              "      <td>...</td>\n",
              "      <td>...</td>\n",
              "      <td>...</td>\n",
              "      <td>...</td>\n",
              "      <td>...</td>\n",
              "      <td>...</td>\n",
              "      <td>...</td>\n",
              "      <td>...</td>\n",
              "      <td>...</td>\n",
              "      <td>...</td>\n",
              "      <td>...</td>\n",
              "      <td>...</td>\n",
              "      <td>...</td>\n",
              "      <td>...</td>\n",
              "      <td>...</td>\n",
              "      <td>...</td>\n",
              "      <td>...</td>\n",
              "      <td>...</td>\n",
              "      <td>...</td>\n",
              "      <td>...</td>\n",
              "    </tr>\n",
              "    <tr>\n",
              "      <th>12657</th>\n",
              "      <td>A-2905837</td>\n",
              "      <td>2018-12-22 02:48:16</td>\n",
              "      <td>2018-12-22 03:17:48</td>\n",
              "      <td>Closed at 9th St - Road closed due to accident.</td>\n",
              "      <td>E Main St</td>\n",
              "      <td>L</td>\n",
              "      <td>West Newton</td>\n",
              "      <td>Westmoreland</td>\n",
              "      <td>PA</td>\n",
              "      <td>15089-1507</td>\n",
              "      <td>US/Eastern</td>\n",
              "      <td>KAGC</td>\n",
              "      <td>2018-12-22 02:53:00</td>\n",
              "      <td>WNW</td>\n",
              "      <td>Light Rain</td>\n",
              "      <td>False</td>\n",
              "      <td>False</td>\n",
              "      <td>False</td>\n",
              "      <td>False</td>\n",
              "      <td>False</td>\n",
              "      <td>False</td>\n",
              "      <td>False</td>\n",
              "      <td>False</td>\n",
              "      <td>False</td>\n",
              "      <td>False</td>\n",
              "      <td>False</td>\n",
              "      <td>False</td>\n",
              "      <td>Night</td>\n",
              "      <td>Night</td>\n",
              "      <td>Night</td>\n",
              "      <td>Night</td>\n",
              "    </tr>\n",
              "    <tr>\n",
              "      <th>12658</th>\n",
              "      <td>A-2905882</td>\n",
              "      <td>2020-11-07 06:56:00</td>\n",
              "      <td>2020-11-07 09:19:11</td>\n",
              "      <td>Incident on COUNTRY CLUB DR near HARMONY GROVE...</td>\n",
              "      <td>Country Club Dr</td>\n",
              "      <td>L</td>\n",
              "      <td>Escondido</td>\n",
              "      <td>San Diego</td>\n",
              "      <td>CA</td>\n",
              "      <td>92029-2711</td>\n",
              "      <td>US/Pacific</td>\n",
              "      <td>KCRQ</td>\n",
              "      <td>2020-11-07 06:53:00</td>\n",
              "      <td>ESE</td>\n",
              "      <td>Light Rain</td>\n",
              "      <td>False</td>\n",
              "      <td>False</td>\n",
              "      <td>False</td>\n",
              "      <td>False</td>\n",
              "      <td>False</td>\n",
              "      <td>False</td>\n",
              "      <td>False</td>\n",
              "      <td>False</td>\n",
              "      <td>False</td>\n",
              "      <td>False</td>\n",
              "      <td>False</td>\n",
              "      <td>False</td>\n",
              "      <td>Day</td>\n",
              "      <td>Day</td>\n",
              "      <td>Day</td>\n",
              "      <td>Day</td>\n",
              "    </tr>\n",
              "    <tr>\n",
              "      <th>12659</th>\n",
              "      <td>A-2905943</td>\n",
              "      <td>2020-09-26 06:26:43</td>\n",
              "      <td>2020-09-26 12:35:44</td>\n",
              "      <td>Incident on W COMMERCE RD WB near BAINBRIDGE S...</td>\n",
              "      <td>W Commerce Rd</td>\n",
              "      <td>R</td>\n",
              "      <td>Richmond</td>\n",
              "      <td>Richmond City</td>\n",
              "      <td>VA</td>\n",
              "      <td>23224-2315</td>\n",
              "      <td>US/Eastern</td>\n",
              "      <td>KFCI</td>\n",
              "      <td>2020-09-26 06:56:00</td>\n",
              "      <td>NNE</td>\n",
              "      <td>Cloudy</td>\n",
              "      <td>False</td>\n",
              "      <td>False</td>\n",
              "      <td>False</td>\n",
              "      <td>False</td>\n",
              "      <td>False</td>\n",
              "      <td>False</td>\n",
              "      <td>False</td>\n",
              "      <td>False</td>\n",
              "      <td>False</td>\n",
              "      <td>False</td>\n",
              "      <td>False</td>\n",
              "      <td>False</td>\n",
              "      <td>Night</td>\n",
              "      <td>Night</td>\n",
              "      <td>Day</td>\n",
              "      <td>Day</td>\n",
              "    </tr>\n",
              "    <tr>\n",
              "      <th>12660</th>\n",
              "      <td>A-2905958</td>\n",
              "      <td>2020-11-29 05:12:04</td>\n",
              "      <td>2020-11-29 07:54:04</td>\n",
              "      <td>Incident on BRAZOS ST near DREW ST Drive with ...</td>\n",
              "      <td>Tuam St</td>\n",
              "      <td>R</td>\n",
              "      <td>Houston</td>\n",
              "      <td>Harris</td>\n",
              "      <td>TX</td>\n",
              "      <td>77006-3408</td>\n",
              "      <td>US/Central</td>\n",
              "      <td>KMCJ</td>\n",
              "      <td>2020-11-29 04:53:00</td>\n",
              "      <td>N</td>\n",
              "      <td>Cloudy</td>\n",
              "      <td>False</td>\n",
              "      <td>False</td>\n",
              "      <td>False</td>\n",
              "      <td>False</td>\n",
              "      <td>False</td>\n",
              "      <td>False</td>\n",
              "      <td>False</td>\n",
              "      <td>False</td>\n",
              "      <td>False</td>\n",
              "      <td>False</td>\n",
              "      <td>False</td>\n",
              "      <td>True</td>\n",
              "      <td>Night</td>\n",
              "      <td>Night</td>\n",
              "      <td>Night</td>\n",
              "      <td>Night</td>\n",
              "    </tr>\n",
              "    <tr>\n",
              "      <th>12661</th>\n",
              "      <td>A-2906135</td>\n",
              "      <td>2020-11-07 06:56:00</td>\n",
              "      <td>2020-11-07 10:17:55</td>\n",
              "      <td>OCC HARMONY GR / JWO QUESTHAVEN. 1039 CORDS //...</td>\n",
              "      <td>Country Club Dr</td>\n",
              "      <td>L</td>\n",
              "      <td>Escondido</td>\n",
              "      <td>San Diego</td>\n",
              "      <td>CA</td>\n",
              "      <td>92029-2711</td>\n",
              "      <td>US/Pacific</td>\n",
              "      <td>KCRQ</td>\n",
              "      <td>2020-11-07 06:53:00</td>\n",
              "      <td>ESE</td>\n",
              "      <td>Light Rain</td>\n",
              "      <td>False</td>\n",
              "      <td>False</td>\n",
              "      <td>False</td>\n",
              "      <td>False</td>\n",
              "      <td>False</td>\n",
              "      <td>False</td>\n",
              "      <td>False</td>\n",
              "      <td>False</td>\n",
              "      <td>False</td>\n",
              "      <td>False</td>\n",
              "      <td>False</td>\n",
              "      <td>False</td>\n",
              "      <td>Day</td>\n",
              "      <td>Day</td>\n",
              "      <td>Day</td>\n",
              "      <td>Day</td>\n",
              "    </tr>\n",
              "  </tbody>\n",
              "</table>\n",
              "<p>12662 rows × 31 columns</p>\n",
              "</div>"
            ],
            "text/plain": [
              "              ID           Start_Time  ... Nautical_Twilight Astronomical_Twilight\n",
              "0          A-394  2019-04-08 07:55:21  ...               Day                   Day\n",
              "1          A-499  2020-10-29 18:18:20  ...               Day                   Day\n",
              "2          A-537  2020-12-25 01:43:00  ...             Night                 Night\n",
              "3          A-643  2020-12-19 09:26:00  ...               Day                   Day\n",
              "4          A-778  2020-11-11 21:08:15  ...             Night                 Night\n",
              "...          ...                  ...  ...               ...                   ...\n",
              "12657  A-2905837  2018-12-22 02:48:16  ...             Night                 Night\n",
              "12658  A-2905882  2020-11-07 06:56:00  ...               Day                   Day\n",
              "12659  A-2905943  2020-09-26 06:26:43  ...               Day                   Day\n",
              "12660  A-2905958  2020-11-29 05:12:04  ...             Night                 Night\n",
              "12661  A-2906135  2020-11-07 06:56:00  ...               Day                   Day\n",
              "\n",
              "[12662 rows x 31 columns]"
            ]
          },
          "metadata": {
            "tags": []
          },
          "execution_count": 55
        }
      ]
    },
    {
      "cell_type": "markdown",
      "metadata": {
        "id": "l5T8jsP0ptdZ"
      },
      "source": [
        "Also, there is another column that need to be added to the categorical data, Here, i need to get the column from the dataframe(df) and join it together with Categorical data to get the full categorical data in the dataset."
      ]
    },
    {
      "cell_type": "code",
      "metadata": {
        "colab": {
          "base_uri": "https://localhost:8080/",
          "height": 419
        },
        "id": "C-wHEXD_Hyet",
        "outputId": "889a4032-99a5-4b2f-9baf-e28be60fa2ce"
      },
      "source": [
        "df[[\"Severity\"]]"
      ],
      "execution_count": 56,
      "outputs": [
        {
          "output_type": "execute_result",
          "data": {
            "text/html": [
              "<div>\n",
              "<style scoped>\n",
              "    .dataframe tbody tr th:only-of-type {\n",
              "        vertical-align: middle;\n",
              "    }\n",
              "\n",
              "    .dataframe tbody tr th {\n",
              "        vertical-align: top;\n",
              "    }\n",
              "\n",
              "    .dataframe thead th {\n",
              "        text-align: right;\n",
              "    }\n",
              "</style>\n",
              "<table border=\"1\" class=\"dataframe\">\n",
              "  <thead>\n",
              "    <tr style=\"text-align: right;\">\n",
              "      <th></th>\n",
              "      <th>Severity</th>\n",
              "    </tr>\n",
              "  </thead>\n",
              "  <tbody>\n",
              "    <tr>\n",
              "      <th>0</th>\n",
              "      <td>2</td>\n",
              "    </tr>\n",
              "    <tr>\n",
              "      <th>1</th>\n",
              "      <td>2</td>\n",
              "    </tr>\n",
              "    <tr>\n",
              "      <th>2</th>\n",
              "      <td>2</td>\n",
              "    </tr>\n",
              "    <tr>\n",
              "      <th>3</th>\n",
              "      <td>2</td>\n",
              "    </tr>\n",
              "    <tr>\n",
              "      <th>4</th>\n",
              "      <td>2</td>\n",
              "    </tr>\n",
              "    <tr>\n",
              "      <th>...</th>\n",
              "      <td>...</td>\n",
              "    </tr>\n",
              "    <tr>\n",
              "      <th>12657</th>\n",
              "      <td>4</td>\n",
              "    </tr>\n",
              "    <tr>\n",
              "      <th>12658</th>\n",
              "      <td>2</td>\n",
              "    </tr>\n",
              "    <tr>\n",
              "      <th>12659</th>\n",
              "      <td>2</td>\n",
              "    </tr>\n",
              "    <tr>\n",
              "      <th>12660</th>\n",
              "      <td>2</td>\n",
              "    </tr>\n",
              "    <tr>\n",
              "      <th>12661</th>\n",
              "      <td>2</td>\n",
              "    </tr>\n",
              "  </tbody>\n",
              "</table>\n",
              "<p>12662 rows × 1 columns</p>\n",
              "</div>"
            ],
            "text/plain": [
              "       Severity\n",
              "0             2\n",
              "1             2\n",
              "2             2\n",
              "3             2\n",
              "4             2\n",
              "...         ...\n",
              "12657         4\n",
              "12658         2\n",
              "12659         2\n",
              "12660         2\n",
              "12661         2\n",
              "\n",
              "[12662 rows x 1 columns]"
            ]
          },
          "metadata": {
            "tags": []
          },
          "execution_count": 56
        }
      ]
    },
    {
      "cell_type": "markdown",
      "metadata": {
        "id": "2fwpK0nOd46d"
      },
      "source": [
        "## **Dataframe for all Categorical Data**"
      ]
    },
    {
      "cell_type": "code",
      "metadata": {
        "colab": {
          "base_uri": "https://localhost:8080/",
          "height": 332
        },
        "id": "SfEvVSM_hx9A",
        "outputId": "a5500655-c7ec-4c4f-b7a0-4740c495dba3"
      },
      "source": [
        " full_categorical_dataframe = pd.concat([categorical_data, df[[\"Severity\"]]], axis=1, join=\"inner\") #Combining the tow datframe together\n",
        "full_categorical_dataframe.head(3)"
      ],
      "execution_count": 57,
      "outputs": [
        {
          "output_type": "execute_result",
          "data": {
            "text/html": [
              "<div>\n",
              "<style scoped>\n",
              "    .dataframe tbody tr th:only-of-type {\n",
              "        vertical-align: middle;\n",
              "    }\n",
              "\n",
              "    .dataframe tbody tr th {\n",
              "        vertical-align: top;\n",
              "    }\n",
              "\n",
              "    .dataframe thead th {\n",
              "        text-align: right;\n",
              "    }\n",
              "</style>\n",
              "<table border=\"1\" class=\"dataframe\">\n",
              "  <thead>\n",
              "    <tr style=\"text-align: right;\">\n",
              "      <th></th>\n",
              "      <th>ID</th>\n",
              "      <th>Start_Time</th>\n",
              "      <th>End_Time</th>\n",
              "      <th>Description</th>\n",
              "      <th>Street</th>\n",
              "      <th>Side</th>\n",
              "      <th>City</th>\n",
              "      <th>County</th>\n",
              "      <th>State</th>\n",
              "      <th>Zipcode</th>\n",
              "      <th>Timezone</th>\n",
              "      <th>Airport_Code</th>\n",
              "      <th>Weather_Timestamp</th>\n",
              "      <th>Wind_Direction</th>\n",
              "      <th>Weather_Condition</th>\n",
              "      <th>Amenity</th>\n",
              "      <th>Bump</th>\n",
              "      <th>Crossing</th>\n",
              "      <th>Give_Way</th>\n",
              "      <th>Junction</th>\n",
              "      <th>No_Exit</th>\n",
              "      <th>Railway</th>\n",
              "      <th>Roundabout</th>\n",
              "      <th>Station</th>\n",
              "      <th>Stop</th>\n",
              "      <th>Traffic_Calming</th>\n",
              "      <th>Traffic_Signal</th>\n",
              "      <th>Sunrise_Sunset</th>\n",
              "      <th>Civil_Twilight</th>\n",
              "      <th>Nautical_Twilight</th>\n",
              "      <th>Astronomical_Twilight</th>\n",
              "      <th>Severity</th>\n",
              "    </tr>\n",
              "  </thead>\n",
              "  <tbody>\n",
              "    <tr>\n",
              "      <th>0</th>\n",
              "      <td>A-394</td>\n",
              "      <td>2019-04-08 07:55:21</td>\n",
              "      <td>2019-04-08 11:55:21</td>\n",
              "      <td>At OR-213/NE 82nd Ave - Accident.</td>\n",
              "      <td>NE Killingsworth St</td>\n",
              "      <td>R</td>\n",
              "      <td>Portland</td>\n",
              "      <td>Multnomah</td>\n",
              "      <td>OR</td>\n",
              "      <td>97218-3324</td>\n",
              "      <td>US/Pacific</td>\n",
              "      <td>KPDX</td>\n",
              "      <td>2019-04-08 07:53:00</td>\n",
              "      <td>ESE</td>\n",
              "      <td>Light Rain</td>\n",
              "      <td>False</td>\n",
              "      <td>False</td>\n",
              "      <td>False</td>\n",
              "      <td>False</td>\n",
              "      <td>False</td>\n",
              "      <td>False</td>\n",
              "      <td>False</td>\n",
              "      <td>False</td>\n",
              "      <td>False</td>\n",
              "      <td>False</td>\n",
              "      <td>False</td>\n",
              "      <td>False</td>\n",
              "      <td>Day</td>\n",
              "      <td>Day</td>\n",
              "      <td>Day</td>\n",
              "      <td>Day</td>\n",
              "      <td>2</td>\n",
              "    </tr>\n",
              "    <tr>\n",
              "      <th>1</th>\n",
              "      <td>A-499</td>\n",
              "      <td>2020-10-29 18:18:20</td>\n",
              "      <td>2020-10-29 20:34:12</td>\n",
              "      <td>Incident on N BROAD ST near HOUSE 1722 Expect ...</td>\n",
              "      <td>N Broad St</td>\n",
              "      <td>L</td>\n",
              "      <td>Meriden</td>\n",
              "      <td>New Haven</td>\n",
              "      <td>CT</td>\n",
              "      <td>06450-2465</td>\n",
              "      <td>US/Eastern</td>\n",
              "      <td>KMMK</td>\n",
              "      <td>2020-10-29 18:08:00</td>\n",
              "      <td>N</td>\n",
              "      <td>Light Rain</td>\n",
              "      <td>False</td>\n",
              "      <td>False</td>\n",
              "      <td>False</td>\n",
              "      <td>False</td>\n",
              "      <td>False</td>\n",
              "      <td>False</td>\n",
              "      <td>False</td>\n",
              "      <td>False</td>\n",
              "      <td>False</td>\n",
              "      <td>False</td>\n",
              "      <td>False</td>\n",
              "      <td>False</td>\n",
              "      <td>Night</td>\n",
              "      <td>Night</td>\n",
              "      <td>Day</td>\n",
              "      <td>Day</td>\n",
              "      <td>2</td>\n",
              "    </tr>\n",
              "    <tr>\n",
              "      <th>2</th>\n",
              "      <td>A-537</td>\n",
              "      <td>2020-12-25 01:43:00</td>\n",
              "      <td>2020-12-25 03:57:37</td>\n",
              "      <td>Incident on TENNIS PARK RD near YODER LN Drive...</td>\n",
              "      <td>Tennis Park Rd</td>\n",
              "      <td>L</td>\n",
              "      <td>Mc Alisterville</td>\n",
              "      <td>Juniata</td>\n",
              "      <td>PA</td>\n",
              "      <td>17049</td>\n",
              "      <td>US/Eastern</td>\n",
              "      <td>KSEG</td>\n",
              "      <td>2020-12-25 01:51:00</td>\n",
              "      <td>WSW</td>\n",
              "      <td>Rain</td>\n",
              "      <td>False</td>\n",
              "      <td>False</td>\n",
              "      <td>False</td>\n",
              "      <td>False</td>\n",
              "      <td>False</td>\n",
              "      <td>False</td>\n",
              "      <td>False</td>\n",
              "      <td>False</td>\n",
              "      <td>False</td>\n",
              "      <td>False</td>\n",
              "      <td>False</td>\n",
              "      <td>False</td>\n",
              "      <td>Night</td>\n",
              "      <td>Night</td>\n",
              "      <td>Night</td>\n",
              "      <td>Night</td>\n",
              "      <td>2</td>\n",
              "    </tr>\n",
              "  </tbody>\n",
              "</table>\n",
              "</div>"
            ],
            "text/plain": [
              "      ID           Start_Time  ... Astronomical_Twilight Severity\n",
              "0  A-394  2019-04-08 07:55:21  ...                   Day        2\n",
              "1  A-499  2020-10-29 18:18:20  ...                   Day        2\n",
              "2  A-537  2020-12-25 01:43:00  ...                 Night        2\n",
              "\n",
              "[3 rows x 32 columns]"
            ]
          },
          "metadata": {
            "tags": []
          },
          "execution_count": 57
        }
      ]
    },
    {
      "cell_type": "markdown",
      "metadata": {
        "id": "Tr5vKeofFL4m"
      },
      "source": [
        "### **Drop all features that need to be dropped in the above categorical features.**"
      ]
    },
    {
      "cell_type": "markdown",
      "metadata": {
        "id": "QChNanuaFTwr"
      },
      "source": [
        "To drop any faetures, i need to check for the correlation, if two features  is  highly correlated absolutely(>|-0.80, 0.80|), I\"II drop one."
      ]
    },
    {
      "cell_type": "code",
      "metadata": {
        "colab": {
          "base_uri": "https://localhost:8080/",
          "height": 472
        },
        "id": "dF5qaOLgF_A9",
        "outputId": "ade31a49-b8b9-4334-cdd3-749ed31aad3f"
      },
      "source": [
        "full_categorical_dataframe.corr()"
      ],
      "execution_count": 58,
      "outputs": [
        {
          "output_type": "execute_result",
          "data": {
            "text/html": [
              "<div>\n",
              "<style scoped>\n",
              "    .dataframe tbody tr th:only-of-type {\n",
              "        vertical-align: middle;\n",
              "    }\n",
              "\n",
              "    .dataframe tbody tr th {\n",
              "        vertical-align: top;\n",
              "    }\n",
              "\n",
              "    .dataframe thead th {\n",
              "        text-align: right;\n",
              "    }\n",
              "</style>\n",
              "<table border=\"1\" class=\"dataframe\">\n",
              "  <thead>\n",
              "    <tr style=\"text-align: right;\">\n",
              "      <th></th>\n",
              "      <th>Amenity</th>\n",
              "      <th>Bump</th>\n",
              "      <th>Crossing</th>\n",
              "      <th>Give_Way</th>\n",
              "      <th>Junction</th>\n",
              "      <th>No_Exit</th>\n",
              "      <th>Railway</th>\n",
              "      <th>Roundabout</th>\n",
              "      <th>Station</th>\n",
              "      <th>Stop</th>\n",
              "      <th>Traffic_Calming</th>\n",
              "      <th>Traffic_Signal</th>\n",
              "      <th>Severity</th>\n",
              "    </tr>\n",
              "  </thead>\n",
              "  <tbody>\n",
              "    <tr>\n",
              "      <th>Amenity</th>\n",
              "      <td>1.000000</td>\n",
              "      <td>-0.003412</td>\n",
              "      <td>0.101866</td>\n",
              "      <td>-0.007302</td>\n",
              "      <td>-0.002929</td>\n",
              "      <td>-0.004468</td>\n",
              "      <td>0.001527</td>\n",
              "      <td>-0.001289</td>\n",
              "      <td>0.097353</td>\n",
              "      <td>0.011230</td>\n",
              "      <td>-0.003412</td>\n",
              "      <td>0.079659</td>\n",
              "      <td>-0.010612</td>\n",
              "    </tr>\n",
              "    <tr>\n",
              "      <th>Bump</th>\n",
              "      <td>-0.003412</td>\n",
              "      <td>1.000000</td>\n",
              "      <td>-0.007316</td>\n",
              "      <td>-0.001184</td>\n",
              "      <td>0.032075</td>\n",
              "      <td>-0.000724</td>\n",
              "      <td>-0.002414</td>\n",
              "      <td>-0.000209</td>\n",
              "      <td>-0.004916</td>\n",
              "      <td>0.018859</td>\n",
              "      <td>1.000000</td>\n",
              "      <td>-0.009271</td>\n",
              "      <td>0.000105</td>\n",
              "    </tr>\n",
              "    <tr>\n",
              "      <th>Crossing</th>\n",
              "      <td>0.101866</td>\n",
              "      <td>-0.007316</td>\n",
              "      <td>1.000000</td>\n",
              "      <td>0.050899</td>\n",
              "      <td>-0.010726</td>\n",
              "      <td>0.017569</td>\n",
              "      <td>0.269659</td>\n",
              "      <td>-0.002764</td>\n",
              "      <td>0.093505</td>\n",
              "      <td>0.051037</td>\n",
              "      <td>-0.007316</td>\n",
              "      <td>0.368723</td>\n",
              "      <td>-0.024441</td>\n",
              "    </tr>\n",
              "    <tr>\n",
              "      <th>Give_Way</th>\n",
              "      <td>-0.007302</td>\n",
              "      <td>-0.001184</td>\n",
              "      <td>0.050899</td>\n",
              "      <td>1.000000</td>\n",
              "      <td>-0.004965</td>\n",
              "      <td>-0.001550</td>\n",
              "      <td>-0.005166</td>\n",
              "      <td>-0.000447</td>\n",
              "      <td>-0.010521</td>\n",
              "      <td>0.065898</td>\n",
              "      <td>-0.001184</td>\n",
              "      <td>0.044702</td>\n",
              "      <td>0.021015</td>\n",
              "    </tr>\n",
              "    <tr>\n",
              "      <th>Junction</th>\n",
              "      <td>-0.002929</td>\n",
              "      <td>0.032075</td>\n",
              "      <td>-0.010726</td>\n",
              "      <td>-0.004965</td>\n",
              "      <td>1.000000</td>\n",
              "      <td>-0.003038</td>\n",
              "      <td>0.005796</td>\n",
              "      <td>0.090102</td>\n",
              "      <td>-0.020616</td>\n",
              "      <td>0.006517</td>\n",
              "      <td>0.032075</td>\n",
              "      <td>-0.022295</td>\n",
              "      <td>0.034393</td>\n",
              "    </tr>\n",
              "    <tr>\n",
              "      <th>No_Exit</th>\n",
              "      <td>-0.004468</td>\n",
              "      <td>-0.000724</td>\n",
              "      <td>0.017569</td>\n",
              "      <td>-0.001550</td>\n",
              "      <td>-0.003038</td>\n",
              "      <td>1.000000</td>\n",
              "      <td>-0.003161</td>\n",
              "      <td>-0.000274</td>\n",
              "      <td>-0.006437</td>\n",
              "      <td>0.012442</td>\n",
              "      <td>-0.000724</td>\n",
              "      <td>-0.004619</td>\n",
              "      <td>-0.005335</td>\n",
              "    </tr>\n",
              "    <tr>\n",
              "      <th>Railway</th>\n",
              "      <td>0.001527</td>\n",
              "      <td>-0.002414</td>\n",
              "      <td>0.269659</td>\n",
              "      <td>-0.005166</td>\n",
              "      <td>0.005796</td>\n",
              "      <td>-0.003161</td>\n",
              "      <td>1.000000</td>\n",
              "      <td>-0.000912</td>\n",
              "      <td>0.087263</td>\n",
              "      <td>0.020671</td>\n",
              "      <td>-0.002414</td>\n",
              "      <td>0.043863</td>\n",
              "      <td>-0.006174</td>\n",
              "    </tr>\n",
              "    <tr>\n",
              "      <th>Roundabout</th>\n",
              "      <td>-0.001289</td>\n",
              "      <td>-0.000209</td>\n",
              "      <td>-0.002764</td>\n",
              "      <td>-0.000447</td>\n",
              "      <td>0.090102</td>\n",
              "      <td>-0.000274</td>\n",
              "      <td>-0.000912</td>\n",
              "      <td>1.000000</td>\n",
              "      <td>-0.001858</td>\n",
              "      <td>-0.001361</td>\n",
              "      <td>-0.000209</td>\n",
              "      <td>-0.003503</td>\n",
              "      <td>-0.003750</td>\n",
              "    </tr>\n",
              "    <tr>\n",
              "      <th>Station</th>\n",
              "      <td>0.097353</td>\n",
              "      <td>-0.004916</td>\n",
              "      <td>0.093505</td>\n",
              "      <td>-0.010521</td>\n",
              "      <td>-0.020616</td>\n",
              "      <td>-0.006437</td>\n",
              "      <td>0.087263</td>\n",
              "      <td>-0.001858</td>\n",
              "      <td>1.000000</td>\n",
              "      <td>-0.018819</td>\n",
              "      <td>-0.004916</td>\n",
              "      <td>0.095609</td>\n",
              "      <td>-0.028748</td>\n",
              "    </tr>\n",
              "    <tr>\n",
              "      <th>Stop</th>\n",
              "      <td>0.011230</td>\n",
              "      <td>0.018859</td>\n",
              "      <td>0.051037</td>\n",
              "      <td>0.065898</td>\n",
              "      <td>0.006517</td>\n",
              "      <td>0.012442</td>\n",
              "      <td>0.020671</td>\n",
              "      <td>-0.001361</td>\n",
              "      <td>-0.018819</td>\n",
              "      <td>1.000000</td>\n",
              "      <td>0.018859</td>\n",
              "      <td>-0.046427</td>\n",
              "      <td>-0.003934</td>\n",
              "    </tr>\n",
              "    <tr>\n",
              "      <th>Traffic_Calming</th>\n",
              "      <td>-0.003412</td>\n",
              "      <td>1.000000</td>\n",
              "      <td>-0.007316</td>\n",
              "      <td>-0.001184</td>\n",
              "      <td>0.032075</td>\n",
              "      <td>-0.000724</td>\n",
              "      <td>-0.002414</td>\n",
              "      <td>-0.000209</td>\n",
              "      <td>-0.004916</td>\n",
              "      <td>0.018859</td>\n",
              "      <td>1.000000</td>\n",
              "      <td>-0.009271</td>\n",
              "      <td>0.000105</td>\n",
              "    </tr>\n",
              "    <tr>\n",
              "      <th>Traffic_Signal</th>\n",
              "      <td>0.079659</td>\n",
              "      <td>-0.009271</td>\n",
              "      <td>0.368723</td>\n",
              "      <td>0.044702</td>\n",
              "      <td>-0.022295</td>\n",
              "      <td>-0.004619</td>\n",
              "      <td>0.043863</td>\n",
              "      <td>-0.003503</td>\n",
              "      <td>0.095609</td>\n",
              "      <td>-0.046427</td>\n",
              "      <td>-0.009271</td>\n",
              "      <td>1.000000</td>\n",
              "      <td>-0.003281</td>\n",
              "    </tr>\n",
              "    <tr>\n",
              "      <th>Severity</th>\n",
              "      <td>-0.010612</td>\n",
              "      <td>0.000105</td>\n",
              "      <td>-0.024441</td>\n",
              "      <td>0.021015</td>\n",
              "      <td>0.034393</td>\n",
              "      <td>-0.005335</td>\n",
              "      <td>-0.006174</td>\n",
              "      <td>-0.003750</td>\n",
              "      <td>-0.028748</td>\n",
              "      <td>-0.003934</td>\n",
              "      <td>0.000105</td>\n",
              "      <td>-0.003281</td>\n",
              "      <td>1.000000</td>\n",
              "    </tr>\n",
              "  </tbody>\n",
              "</table>\n",
              "</div>"
            ],
            "text/plain": [
              "                  Amenity      Bump  ...  Traffic_Signal  Severity\n",
              "Amenity          1.000000 -0.003412  ...        0.079659 -0.010612\n",
              "Bump            -0.003412  1.000000  ...       -0.009271  0.000105\n",
              "Crossing         0.101866 -0.007316  ...        0.368723 -0.024441\n",
              "Give_Way        -0.007302 -0.001184  ...        0.044702  0.021015\n",
              "Junction        -0.002929  0.032075  ...       -0.022295  0.034393\n",
              "No_Exit         -0.004468 -0.000724  ...       -0.004619 -0.005335\n",
              "Railway          0.001527 -0.002414  ...        0.043863 -0.006174\n",
              "Roundabout      -0.001289 -0.000209  ...       -0.003503 -0.003750\n",
              "Station          0.097353 -0.004916  ...        0.095609 -0.028748\n",
              "Stop             0.011230  0.018859  ...       -0.046427 -0.003934\n",
              "Traffic_Calming -0.003412  1.000000  ...       -0.009271  0.000105\n",
              "Traffic_Signal   0.079659 -0.009271  ...        1.000000 -0.003281\n",
              "Severity        -0.010612  0.000105  ...       -0.003281  1.000000\n",
              "\n",
              "[13 rows x 13 columns]"
            ]
          },
          "metadata": {
            "tags": []
          },
          "execution_count": 58
        }
      ]
    },
    {
      "cell_type": "code",
      "metadata": {
        "colab": {
          "base_uri": "https://localhost:8080/",
          "height": 363
        },
        "id": "cr-DQElRIogq",
        "outputId": "d4465d25-c232-42f3-ae6d-baecfaec44b7"
      },
      "source": [
        "sns.heatmap(full_categorical_dataframe.corr(), annot=True) # annot is optional"
      ],
      "execution_count": 59,
      "outputs": [
        {
          "output_type": "execute_result",
          "data": {
            "text/plain": [
              "<matplotlib.axes._subplots.AxesSubplot at 0x7f99d28aa610>"
            ]
          },
          "metadata": {
            "tags": []
          },
          "execution_count": 59
        },
        {
          "output_type": "display_data",
          "data": {
            "image/png": "[encoded data removed]",
            "text/plain": [
              "<Figure size 432x288 with 2 Axes>"
            ]
          },
          "metadata": {
            "tags": []
          }
        }
      ]
    },
    {
      "cell_type": "markdown",
      "metadata": {
        "id": "BIRxkYaWeHH-"
      },
      "source": [
        "Traffic Calming and Bump are highly correlated, I will be dropping the Traffic Calmimg column."
      ]
    },
    {
      "cell_type": "code",
      "metadata": {
        "id": "Zla9ItudfIBX"
      },
      "source": [
        "full_categorical_dataframe.drop([\"Traffic_Calming\"], axis=1,inplace=True)"
      ],
      "execution_count": 121,
      "outputs": []
    },
    {
      "cell_type": "code",
      "metadata": {
        "colab": {
          "base_uri": "https://localhost:8080/"
        },
        "id": "W5sE1vzWszK6",
        "outputId": "9081cd32-8c24-4705-c75c-825b52b7ebac"
      },
      "source": [
        "df.columns"
      ],
      "execution_count": 60,
      "outputs": [
        {
          "output_type": "execute_result",
          "data": {
            "text/plain": [
              "Index(['ID', 'Severity', 'Start_Time', 'End_Time', 'Start_Lat', 'Start_Lng',\n",
              "       'Description', 'Street', 'Side', 'City', 'County', 'State', 'Zipcode',\n",
              "       'Timezone', 'Airport_Code', 'Weather_Timestamp', 'Temperature(F)',\n",
              "       'Wind_Chill(F)', 'Humidity(%)', 'Pressure(in)', 'Visibility(mi)',\n",
              "       'Wind_Direction', 'Wind_Speed(mph)', 'Weather_Condition', 'Amenity',\n",
              "       'Bump', 'Crossing', 'Give_Way', 'Junction', 'No_Exit', 'Railway',\n",
              "       'Roundabout', 'Station', 'Stop', 'Traffic_Calming', 'Traffic_Signal',\n",
              "       'Sunrise_Sunset', 'Civil_Twilight', 'Nautical_Twilight',\n",
              "       'Astronomical_Twilight'],\n",
              "      dtype='object')"
            ]
          },
          "metadata": {
            "tags": []
          },
          "execution_count": 60
        }
      ]
    },
    {
      "cell_type": "markdown",
      "metadata": {
        "id": "Ze7N8efhrcwB"
      },
      "source": [
        "### **Check for correlation between all features with the suffix “twilight”. Include sunrise_sunset**"
      ]
    },
    {
      "cell_type": "code",
      "metadata": {
        "id": "W7tfl8F9rcdo"
      },
      "source": [
        "corr_btwn_Suffix = df[['Sunrise_Sunset', 'Civil_Twilight','Nautical_Twilight', 'Astronomical_Twilight']]\n"
      ],
      "execution_count": 61,
      "outputs": []
    },
    {
      "cell_type": "code",
      "metadata": {
        "id": "KvVi1g14vW3f"
      },
      "source": [
        "# df['Nautical_Twilight'].corr(df['Civil_Twilight'])\n"
      ],
      "execution_count": 62,
      "outputs": []
    },
    {
      "cell_type": "code",
      "metadata": {
        "colab": {
          "base_uri": "https://localhost:8080/"
        },
        "id": "Li3BY69ttXN1",
        "outputId": "70c5bb3f-69e3-41e5-ac5f-5bb0d9126f4b"
      },
      "source": [
        "corr_btwn_Suffix.corr().values"
      ],
      "execution_count": 63,
      "outputs": [
        {
          "output_type": "execute_result",
          "data": {
            "text/plain": [
              "array([], shape=(0, 0), dtype=float64)"
            ]
          },
          "metadata": {
            "tags": []
          },
          "execution_count": 63
        }
      ]
    },
    {
      "cell_type": "code",
      "metadata": {
        "id": "MOQOiEW0oRjA"
      },
      "source": [
        "#Using the P VAlue"
      ],
      "execution_count": 63,
      "outputs": []
    },
    {
      "cell_type": "code",
      "metadata": {
        "colab": {
          "base_uri": "https://localhost:8080/"
        },
        "id": "pg4Bheci0yTS",
        "outputId": "3e23f1d9-778d-4a98-ac49-96aa3dd8d1e4"
      },
      "source": [
        "# Cross tabulation between GENDER and APPROVE_LOAN\n",
        "CrosstabResult=pd.crosstab(index=df['Sunrise_Sunset'],columns=df['Nautical_Twilight'])\n",
        "# print(CrosstabResult)\n",
        " \n",
        "# importing the required function\n",
        "from scipy.stats import chi2_contingency\n",
        " \n",
        "# Performing Chi-sq test\n",
        "ChiSqResult = chi2_contingency(CrosstabResult)\n",
        " \n",
        "# P-Value is the Probability of H0 being True\n",
        "# If P-Value>0.05 then only we Accept the assumption(H0)\n",
        " \n",
        "print('The P-Value of the ChiSq Test is:', ChiSqResult[1])"
      ],
      "execution_count": 65,
      "outputs": [
        {
          "output_type": "stream",
          "text": [
            "The P-Value of the ChiSq Test is: 0.0\n"
          ],
          "name": "stdout"
        }
      ]
    },
    {
      "cell_type": "markdown",
      "metadata": {
        "id": "TmmItqwJD5rl"
      },
      "source": [
        "### **Create a dataframe for boolean features**\n",
        "\n"
      ]
    },
    {
      "cell_type": "code",
      "metadata": {
        "colab": {
          "base_uri": "https://localhost:8080/",
          "height": 439
        },
        "id": "AAyl3bI1ChQJ",
        "outputId": "12438b20-2579-40f3-ee3e-c3e71c216e63"
      },
      "source": [
        "bool_data= df.select_dtypes(include=[\"bool\"]) # To get the columns with boolean values using dtypes\n",
        "bool_data"
      ],
      "execution_count": 66,
      "outputs": [
        {
          "output_type": "execute_result",
          "data": {
            "text/html": [
              "<div>\n",
              "<style scoped>\n",
              "    .dataframe tbody tr th:only-of-type {\n",
              "        vertical-align: middle;\n",
              "    }\n",
              "\n",
              "    .dataframe tbody tr th {\n",
              "        vertical-align: top;\n",
              "    }\n",
              "\n",
              "    .dataframe thead th {\n",
              "        text-align: right;\n",
              "    }\n",
              "</style>\n",
              "<table border=\"1\" class=\"dataframe\">\n",
              "  <thead>\n",
              "    <tr style=\"text-align: right;\">\n",
              "      <th></th>\n",
              "      <th>Amenity</th>\n",
              "      <th>Bump</th>\n",
              "      <th>Crossing</th>\n",
              "      <th>Give_Way</th>\n",
              "      <th>Junction</th>\n",
              "      <th>No_Exit</th>\n",
              "      <th>Railway</th>\n",
              "      <th>Roundabout</th>\n",
              "      <th>Station</th>\n",
              "      <th>Stop</th>\n",
              "      <th>Traffic_Calming</th>\n",
              "      <th>Traffic_Signal</th>\n",
              "    </tr>\n",
              "  </thead>\n",
              "  <tbody>\n",
              "    <tr>\n",
              "      <th>0</th>\n",
              "      <td>False</td>\n",
              "      <td>False</td>\n",
              "      <td>False</td>\n",
              "      <td>False</td>\n",
              "      <td>False</td>\n",
              "      <td>False</td>\n",
              "      <td>False</td>\n",
              "      <td>False</td>\n",
              "      <td>False</td>\n",
              "      <td>False</td>\n",
              "      <td>False</td>\n",
              "      <td>False</td>\n",
              "    </tr>\n",
              "    <tr>\n",
              "      <th>1</th>\n",
              "      <td>False</td>\n",
              "      <td>False</td>\n",
              "      <td>False</td>\n",
              "      <td>False</td>\n",
              "      <td>False</td>\n",
              "      <td>False</td>\n",
              "      <td>False</td>\n",
              "      <td>False</td>\n",
              "      <td>False</td>\n",
              "      <td>False</td>\n",
              "      <td>False</td>\n",
              "      <td>False</td>\n",
              "    </tr>\n",
              "    <tr>\n",
              "      <th>2</th>\n",
              "      <td>False</td>\n",
              "      <td>False</td>\n",
              "      <td>False</td>\n",
              "      <td>False</td>\n",
              "      <td>False</td>\n",
              "      <td>False</td>\n",
              "      <td>False</td>\n",
              "      <td>False</td>\n",
              "      <td>False</td>\n",
              "      <td>False</td>\n",
              "      <td>False</td>\n",
              "      <td>False</td>\n",
              "    </tr>\n",
              "    <tr>\n",
              "      <th>3</th>\n",
              "      <td>False</td>\n",
              "      <td>False</td>\n",
              "      <td>False</td>\n",
              "      <td>False</td>\n",
              "      <td>False</td>\n",
              "      <td>False</td>\n",
              "      <td>False</td>\n",
              "      <td>False</td>\n",
              "      <td>False</td>\n",
              "      <td>False</td>\n",
              "      <td>False</td>\n",
              "      <td>False</td>\n",
              "    </tr>\n",
              "    <tr>\n",
              "      <th>4</th>\n",
              "      <td>False</td>\n",
              "      <td>False</td>\n",
              "      <td>True</td>\n",
              "      <td>False</td>\n",
              "      <td>False</td>\n",
              "      <td>False</td>\n",
              "      <td>False</td>\n",
              "      <td>False</td>\n",
              "      <td>False</td>\n",
              "      <td>False</td>\n",
              "      <td>False</td>\n",
              "      <td>True</td>\n",
              "    </tr>\n",
              "    <tr>\n",
              "      <th>...</th>\n",
              "      <td>...</td>\n",
              "      <td>...</td>\n",
              "      <td>...</td>\n",
              "      <td>...</td>\n",
              "      <td>...</td>\n",
              "      <td>...</td>\n",
              "      <td>...</td>\n",
              "      <td>...</td>\n",
              "      <td>...</td>\n",
              "      <td>...</td>\n",
              "      <td>...</td>\n",
              "      <td>...</td>\n",
              "    </tr>\n",
              "    <tr>\n",
              "      <th>12657</th>\n",
              "      <td>False</td>\n",
              "      <td>False</td>\n",
              "      <td>False</td>\n",
              "      <td>False</td>\n",
              "      <td>False</td>\n",
              "      <td>False</td>\n",
              "      <td>False</td>\n",
              "      <td>False</td>\n",
              "      <td>False</td>\n",
              "      <td>False</td>\n",
              "      <td>False</td>\n",
              "      <td>False</td>\n",
              "    </tr>\n",
              "    <tr>\n",
              "      <th>12658</th>\n",
              "      <td>False</td>\n",
              "      <td>False</td>\n",
              "      <td>False</td>\n",
              "      <td>False</td>\n",
              "      <td>False</td>\n",
              "      <td>False</td>\n",
              "      <td>False</td>\n",
              "      <td>False</td>\n",
              "      <td>False</td>\n",
              "      <td>False</td>\n",
              "      <td>False</td>\n",
              "      <td>False</td>\n",
              "    </tr>\n",
              "    <tr>\n",
              "      <th>12659</th>\n",
              "      <td>False</td>\n",
              "      <td>False</td>\n",
              "      <td>False</td>\n",
              "      <td>False</td>\n",
              "      <td>False</td>\n",
              "      <td>False</td>\n",
              "      <td>False</td>\n",
              "      <td>False</td>\n",
              "      <td>False</td>\n",
              "      <td>False</td>\n",
              "      <td>False</td>\n",
              "      <td>False</td>\n",
              "    </tr>\n",
              "    <tr>\n",
              "      <th>12660</th>\n",
              "      <td>False</td>\n",
              "      <td>False</td>\n",
              "      <td>False</td>\n",
              "      <td>False</td>\n",
              "      <td>False</td>\n",
              "      <td>False</td>\n",
              "      <td>False</td>\n",
              "      <td>False</td>\n",
              "      <td>False</td>\n",
              "      <td>False</td>\n",
              "      <td>False</td>\n",
              "      <td>True</td>\n",
              "    </tr>\n",
              "    <tr>\n",
              "      <th>12661</th>\n",
              "      <td>False</td>\n",
              "      <td>False</td>\n",
              "      <td>False</td>\n",
              "      <td>False</td>\n",
              "      <td>False</td>\n",
              "      <td>False</td>\n",
              "      <td>False</td>\n",
              "      <td>False</td>\n",
              "      <td>False</td>\n",
              "      <td>False</td>\n",
              "      <td>False</td>\n",
              "      <td>False</td>\n",
              "    </tr>\n",
              "  </tbody>\n",
              "</table>\n",
              "<p>12662 rows × 12 columns</p>\n",
              "</div>"
            ],
            "text/plain": [
              "       Amenity   Bump  Crossing  ...   Stop  Traffic_Calming  Traffic_Signal\n",
              "0        False  False     False  ...  False            False           False\n",
              "1        False  False     False  ...  False            False           False\n",
              "2        False  False     False  ...  False            False           False\n",
              "3        False  False     False  ...  False            False           False\n",
              "4        False  False      True  ...  False            False            True\n",
              "...        ...    ...       ...  ...    ...              ...             ...\n",
              "12657    False  False     False  ...  False            False           False\n",
              "12658    False  False     False  ...  False            False           False\n",
              "12659    False  False     False  ...  False            False           False\n",
              "12660    False  False     False  ...  False            False            True\n",
              "12661    False  False     False  ...  False            False           False\n",
              "\n",
              "[12662 rows x 12 columns]"
            ]
          },
          "metadata": {
            "tags": []
          },
          "execution_count": 66
        }
      ]
    },
    {
      "cell_type": "markdown",
      "metadata": {
        "id": "mYXQ61t9RUav"
      },
      "source": [
        "MORE INSIGHT DERIVED FROM THE DATA"
      ]
    },
    {
      "cell_type": "code",
      "metadata": {
        "colab": {
          "base_uri": "https://localhost:8080/",
          "height": 441
        },
        "id": "s6bBG7ZGVumM",
        "outputId": "a50b8565-d7ca-451e-81a7-1cc436676e92"
      },
      "source": [
        "bool_data.corr() #The correlation for the boolean datafraME"
      ],
      "execution_count": 67,
      "outputs": [
        {
          "output_type": "execute_result",
          "data": {
            "text/html": [
              "<div>\n",
              "<style scoped>\n",
              "    .dataframe tbody tr th:only-of-type {\n",
              "        vertical-align: middle;\n",
              "    }\n",
              "\n",
              "    .dataframe tbody tr th {\n",
              "        vertical-align: top;\n",
              "    }\n",
              "\n",
              "    .dataframe thead th {\n",
              "        text-align: right;\n",
              "    }\n",
              "</style>\n",
              "<table border=\"1\" class=\"dataframe\">\n",
              "  <thead>\n",
              "    <tr style=\"text-align: right;\">\n",
              "      <th></th>\n",
              "      <th>Amenity</th>\n",
              "      <th>Bump</th>\n",
              "      <th>Crossing</th>\n",
              "      <th>Give_Way</th>\n",
              "      <th>Junction</th>\n",
              "      <th>No_Exit</th>\n",
              "      <th>Railway</th>\n",
              "      <th>Roundabout</th>\n",
              "      <th>Station</th>\n",
              "      <th>Stop</th>\n",
              "      <th>Traffic_Calming</th>\n",
              "      <th>Traffic_Signal</th>\n",
              "    </tr>\n",
              "  </thead>\n",
              "  <tbody>\n",
              "    <tr>\n",
              "      <th>Amenity</th>\n",
              "      <td>1.000000</td>\n",
              "      <td>-0.003412</td>\n",
              "      <td>0.101866</td>\n",
              "      <td>-0.007302</td>\n",
              "      <td>-0.002929</td>\n",
              "      <td>-0.004468</td>\n",
              "      <td>0.001527</td>\n",
              "      <td>-0.001289</td>\n",
              "      <td>0.097353</td>\n",
              "      <td>0.011230</td>\n",
              "      <td>-0.003412</td>\n",
              "      <td>0.079659</td>\n",
              "    </tr>\n",
              "    <tr>\n",
              "      <th>Bump</th>\n",
              "      <td>-0.003412</td>\n",
              "      <td>1.000000</td>\n",
              "      <td>-0.007316</td>\n",
              "      <td>-0.001184</td>\n",
              "      <td>0.032075</td>\n",
              "      <td>-0.000724</td>\n",
              "      <td>-0.002414</td>\n",
              "      <td>-0.000209</td>\n",
              "      <td>-0.004916</td>\n",
              "      <td>0.018859</td>\n",
              "      <td>1.000000</td>\n",
              "      <td>-0.009271</td>\n",
              "    </tr>\n",
              "    <tr>\n",
              "      <th>Crossing</th>\n",
              "      <td>0.101866</td>\n",
              "      <td>-0.007316</td>\n",
              "      <td>1.000000</td>\n",
              "      <td>0.050899</td>\n",
              "      <td>-0.010726</td>\n",
              "      <td>0.017569</td>\n",
              "      <td>0.269659</td>\n",
              "      <td>-0.002764</td>\n",
              "      <td>0.093505</td>\n",
              "      <td>0.051037</td>\n",
              "      <td>-0.007316</td>\n",
              "      <td>0.368723</td>\n",
              "    </tr>\n",
              "    <tr>\n",
              "      <th>Give_Way</th>\n",
              "      <td>-0.007302</td>\n",
              "      <td>-0.001184</td>\n",
              "      <td>0.050899</td>\n",
              "      <td>1.000000</td>\n",
              "      <td>-0.004965</td>\n",
              "      <td>-0.001550</td>\n",
              "      <td>-0.005166</td>\n",
              "      <td>-0.000447</td>\n",
              "      <td>-0.010521</td>\n",
              "      <td>0.065898</td>\n",
              "      <td>-0.001184</td>\n",
              "      <td>0.044702</td>\n",
              "    </tr>\n",
              "    <tr>\n",
              "      <th>Junction</th>\n",
              "      <td>-0.002929</td>\n",
              "      <td>0.032075</td>\n",
              "      <td>-0.010726</td>\n",
              "      <td>-0.004965</td>\n",
              "      <td>1.000000</td>\n",
              "      <td>-0.003038</td>\n",
              "      <td>0.005796</td>\n",
              "      <td>0.090102</td>\n",
              "      <td>-0.020616</td>\n",
              "      <td>0.006517</td>\n",
              "      <td>0.032075</td>\n",
              "      <td>-0.022295</td>\n",
              "    </tr>\n",
              "    <tr>\n",
              "      <th>No_Exit</th>\n",
              "      <td>-0.004468</td>\n",
              "      <td>-0.000724</td>\n",
              "      <td>0.017569</td>\n",
              "      <td>-0.001550</td>\n",
              "      <td>-0.003038</td>\n",
              "      <td>1.000000</td>\n",
              "      <td>-0.003161</td>\n",
              "      <td>-0.000274</td>\n",
              "      <td>-0.006437</td>\n",
              "      <td>0.012442</td>\n",
              "      <td>-0.000724</td>\n",
              "      <td>-0.004619</td>\n",
              "    </tr>\n",
              "    <tr>\n",
              "      <th>Railway</th>\n",
              "      <td>0.001527</td>\n",
              "      <td>-0.002414</td>\n",
              "      <td>0.269659</td>\n",
              "      <td>-0.005166</td>\n",
              "      <td>0.005796</td>\n",
              "      <td>-0.003161</td>\n",
              "      <td>1.000000</td>\n",
              "      <td>-0.000912</td>\n",
              "      <td>0.087263</td>\n",
              "      <td>0.020671</td>\n",
              "      <td>-0.002414</td>\n",
              "      <td>0.043863</td>\n",
              "    </tr>\n",
              "    <tr>\n",
              "      <th>Roundabout</th>\n",
              "      <td>-0.001289</td>\n",
              "      <td>-0.000209</td>\n",
              "      <td>-0.002764</td>\n",
              "      <td>-0.000447</td>\n",
              "      <td>0.090102</td>\n",
              "      <td>-0.000274</td>\n",
              "      <td>-0.000912</td>\n",
              "      <td>1.000000</td>\n",
              "      <td>-0.001858</td>\n",
              "      <td>-0.001361</td>\n",
              "      <td>-0.000209</td>\n",
              "      <td>-0.003503</td>\n",
              "    </tr>\n",
              "    <tr>\n",
              "      <th>Station</th>\n",
              "      <td>0.097353</td>\n",
              "      <td>-0.004916</td>\n",
              "      <td>0.093505</td>\n",
              "      <td>-0.010521</td>\n",
              "      <td>-0.020616</td>\n",
              "      <td>-0.006437</td>\n",
              "      <td>0.087263</td>\n",
              "      <td>-0.001858</td>\n",
              "      <td>1.000000</td>\n",
              "      <td>-0.018819</td>\n",
              "      <td>-0.004916</td>\n",
              "      <td>0.095609</td>\n",
              "    </tr>\n",
              "    <tr>\n",
              "      <th>Stop</th>\n",
              "      <td>0.011230</td>\n",
              "      <td>0.018859</td>\n",
              "      <td>0.051037</td>\n",
              "      <td>0.065898</td>\n",
              "      <td>0.006517</td>\n",
              "      <td>0.012442</td>\n",
              "      <td>0.020671</td>\n",
              "      <td>-0.001361</td>\n",
              "      <td>-0.018819</td>\n",
              "      <td>1.000000</td>\n",
              "      <td>0.018859</td>\n",
              "      <td>-0.046427</td>\n",
              "    </tr>\n",
              "    <tr>\n",
              "      <th>Traffic_Calming</th>\n",
              "      <td>-0.003412</td>\n",
              "      <td>1.000000</td>\n",
              "      <td>-0.007316</td>\n",
              "      <td>-0.001184</td>\n",
              "      <td>0.032075</td>\n",
              "      <td>-0.000724</td>\n",
              "      <td>-0.002414</td>\n",
              "      <td>-0.000209</td>\n",
              "      <td>-0.004916</td>\n",
              "      <td>0.018859</td>\n",
              "      <td>1.000000</td>\n",
              "      <td>-0.009271</td>\n",
              "    </tr>\n",
              "    <tr>\n",
              "      <th>Traffic_Signal</th>\n",
              "      <td>0.079659</td>\n",
              "      <td>-0.009271</td>\n",
              "      <td>0.368723</td>\n",
              "      <td>0.044702</td>\n",
              "      <td>-0.022295</td>\n",
              "      <td>-0.004619</td>\n",
              "      <td>0.043863</td>\n",
              "      <td>-0.003503</td>\n",
              "      <td>0.095609</td>\n",
              "      <td>-0.046427</td>\n",
              "      <td>-0.009271</td>\n",
              "      <td>1.000000</td>\n",
              "    </tr>\n",
              "  </tbody>\n",
              "</table>\n",
              "</div>"
            ],
            "text/plain": [
              "                  Amenity      Bump  ...  Traffic_Calming  Traffic_Signal\n",
              "Amenity          1.000000 -0.003412  ...        -0.003412        0.079659\n",
              "Bump            -0.003412  1.000000  ...         1.000000       -0.009271\n",
              "Crossing         0.101866 -0.007316  ...        -0.007316        0.368723\n",
              "Give_Way        -0.007302 -0.001184  ...        -0.001184        0.044702\n",
              "Junction        -0.002929  0.032075  ...         0.032075       -0.022295\n",
              "No_Exit         -0.004468 -0.000724  ...        -0.000724       -0.004619\n",
              "Railway          0.001527 -0.002414  ...        -0.002414        0.043863\n",
              "Roundabout      -0.001289 -0.000209  ...        -0.000209       -0.003503\n",
              "Station          0.097353 -0.004916  ...        -0.004916        0.095609\n",
              "Stop             0.011230  0.018859  ...         0.018859       -0.046427\n",
              "Traffic_Calming -0.003412  1.000000  ...         1.000000       -0.009271\n",
              "Traffic_Signal   0.079659 -0.009271  ...        -0.009271        1.000000\n",
              "\n",
              "[12 rows x 12 columns]"
            ]
          },
          "metadata": {
            "tags": []
          },
          "execution_count": 67
        }
      ]
    },
    {
      "cell_type": "code",
      "metadata": {
        "colab": {
          "base_uri": "https://localhost:8080/"
        },
        "id": "JLWMpA8YCpiA",
        "outputId": "e596c0e4-963f-4086-b370-1c4dcf25d5be"
      },
      "source": [
        " bool_data['Amenity'].corr(df['Bump']) #REALTIONSHIP BETWEN TWO FEATURES"
      ],
      "execution_count": 68,
      "outputs": [
        {
          "output_type": "execute_result",
          "data": {
            "text/plain": [
              "-0.003412006463360133"
            ]
          },
          "metadata": {
            "tags": []
          },
          "execution_count": 68
        }
      ]
    },
    {
      "cell_type": "code",
      "metadata": {
        "colab": {
          "base_uri": "https://localhost:8080/"
        },
        "id": "6EdHkUC9Rxyj",
        "outputId": "ef443ca3-8afa-45e9-91bc-0b94895fd2ab"
      },
      "source": [
        " bool_data['Traffic_Signal'].corr(df['Bump'])"
      ],
      "execution_count": 69,
      "outputs": [
        {
          "output_type": "execute_result",
          "data": {
            "text/plain": [
              "-0.009271282315472763"
            ]
          },
          "metadata": {
            "tags": []
          },
          "execution_count": 69
        }
      ]
    },
    {
      "cell_type": "markdown",
      "metadata": {
        "id": "mCIq0JU9XzYE"
      },
      "source": [
        "Now let’s look at the bump feature. This feature indicates the presence of a speed bump  in a nearby location. "
      ]
    },
    {
      "cell_type": "code",
      "metadata": {
        "colab": {
          "base_uri": "https://localhost:8080/",
          "height": 111
        },
        "id": "CXuk3ZRmXU0R",
        "outputId": "20414561-a628-4f59-b6c2-28dfc89f61fe"
      },
      "source": [
        "Accident_by_Bump =df.value_counts([\"Bump\"]).reset_index(name= \"Accident\")\n",
        "Accident_by_Bump"
      ],
      "execution_count": 70,
      "outputs": [
        {
          "output_type": "execute_result",
          "data": {
            "text/html": [
              "<div>\n",
              "<style scoped>\n",
              "    .dataframe tbody tr th:only-of-type {\n",
              "        vertical-align: middle;\n",
              "    }\n",
              "\n",
              "    .dataframe tbody tr th {\n",
              "        vertical-align: top;\n",
              "    }\n",
              "\n",
              "    .dataframe thead th {\n",
              "        text-align: right;\n",
              "    }\n",
              "</style>\n",
              "<table border=\"1\" class=\"dataframe\">\n",
              "  <thead>\n",
              "    <tr style=\"text-align: right;\">\n",
              "      <th></th>\n",
              "      <th>Bump</th>\n",
              "      <th>Accident</th>\n",
              "    </tr>\n",
              "  </thead>\n",
              "  <tbody>\n",
              "    <tr>\n",
              "      <th>0</th>\n",
              "      <td>False</td>\n",
              "      <td>12655</td>\n",
              "    </tr>\n",
              "    <tr>\n",
              "      <th>1</th>\n",
              "      <td>True</td>\n",
              "      <td>7</td>\n",
              "    </tr>\n",
              "  </tbody>\n",
              "</table>\n",
              "</div>"
            ],
            "text/plain": [
              "    Bump  Accident\n",
              "0  False     12655\n",
              "1   True         7"
            ]
          },
          "metadata": {
            "tags": []
          },
          "execution_count": 70
        }
      ]
    },
    {
      "cell_type": "markdown",
      "metadata": {
        "id": "emCp2kLyeVgJ"
      },
      "source": [
        "### **PIE CHART**"
      ]
    },
    {
      "cell_type": "code",
      "metadata": {
        "id": "is-A0G4_cFev"
      },
      "source": [
        "grouped = Accident_by_Bump.groupby(\"Bump\")[\"Accident\"].sum() "
      ],
      "execution_count": 71,
      "outputs": []
    },
    {
      "cell_type": "code",
      "metadata": {
        "id": "7-1hDqc_dK06"
      },
      "source": [
        "grouped = pd.DataFrame(grouped)  #changing the series to dataframe"
      ],
      "execution_count": 73,
      "outputs": []
    },
    {
      "cell_type": "code",
      "metadata": {
        "colab": {
          "base_uri": "https://localhost:8080/",
          "height": 264
        },
        "id": "hxYyq72HaaPd",
        "outputId": "3fd7590f-dcf0-447c-920f-8964c237d735"
      },
      "source": [
        "desired_cat = grouped.index.to_list()  #beacuse the grouped is an index type\n",
        "accident_proportions = grouped[\"Accident\"].to_list() #converting to list\n",
        "\n",
        "plt.pie(accident_proportions, labels = desired_cat, radius = 1.0, colors = [\"Gold\", \"silver\"], autopct =\"%0.2f%%\", explode = [0.4,0])\n",
        "plt.title(\"Pie Chart of Bump\")\n",
        "\n",
        "plt.show()\n",
        "\n"
      ],
      "execution_count": 105,
      "outputs": [
        {
          "output_type": "display_data",
          "data": {
            "image/png": "[encoded data removed]",
            "text/plain": [
              "<Figure size 432x288 with 1 Axes>"
            ]
          },
          "metadata": {
            "tags": []
          }
        }
      ]
    },
    {
      "cell_type": "markdown",
      "metadata": {
        "id": "LVCQQGMXe5yP"
      },
      "source": [
        "Here, we can see the accident is not caused by Bump. We see that 99.99% of the accidents were not due to a speed bump"
      ]
    },
    {
      "cell_type": "code",
      "metadata": {
        "id": "Oy0eoszncg8I"
      },
      "source": [
        ""
      ],
      "execution_count": 74,
      "outputs": []
    },
    {
      "cell_type": "markdown",
      "metadata": {
        "id": "FvHf2IvRfPy2"
      },
      "source": [
        "Let's look at the Time Features to get the hours and days."
      ]
    },
    {
      "cell_type": "code",
      "metadata": {
        "id": "x9kvQMG2fcdG"
      },
      "source": [
        "from datetime import datetime as dt\n",
        "df.Start_Time = pd.to_datetime(df.Start_Time) #Converting  the starttime  colummn to a datetime\n"
      ],
      "execution_count": 75,
      "outputs": []
    },
    {
      "cell_type": "code",
      "metadata": {
        "colab": {
          "base_uri": "https://localhost:8080/"
        },
        "id": "RNkOEC5xgrSZ",
        "outputId": "314930ce-27c0-45c7-cd12-be9070bca2ce"
      },
      "source": [
        "df.Start_Time"
      ],
      "execution_count": 76,
      "outputs": [
        {
          "output_type": "execute_result",
          "data": {
            "text/plain": [
              "0       2019-04-08 07:55:21\n",
              "1       2020-10-29 18:18:20\n",
              "2       2020-12-25 01:43:00\n",
              "3       2020-12-19 09:26:00\n",
              "4       2020-11-11 21:08:15\n",
              "                ...        \n",
              "12657   2018-12-22 02:48:16\n",
              "12658   2020-11-07 06:56:00\n",
              "12659   2020-09-26 06:26:43\n",
              "12660   2020-11-29 05:12:04\n",
              "12661   2020-11-07 06:56:00\n",
              "Name: Start_Time, Length: 12662, dtype: datetime64[ns]"
            ]
          },
          "metadata": {
            "tags": []
          },
          "execution_count": 76
        }
      ]
    },
    {
      "cell_type": "code",
      "metadata": {
        "id": "XWH-GIEXh7Z4"
      },
      "source": [
        " hours = df.Start_Time.dt.hour #to get hours from Start time"
      ],
      "execution_count": 77,
      "outputs": []
    },
    {
      "cell_type": "code",
      "metadata": {
        "colab": {
          "base_uri": "https://localhost:8080/",
          "height": 356
        },
        "id": "DfrJbU5SiWHb",
        "outputId": "833ca0da-e134-44db-8592-00f28d362d80"
      },
      "source": [
        "sns.distplot(hours, bins= 24, kde=False, norm_hist=True )"
      ],
      "execution_count": 78,
      "outputs": [
        {
          "output_type": "stream",
          "text": [
            "/usr/local/lib/python3.7/dist-packages/seaborn/distributions.py:2557: FutureWarning: `distplot` is a deprecated function and will be removed in a future version. Please adapt your code to use either `displot` (a figure-level function with similar flexibility) or `histplot` (an axes-level function for histograms).\n",
            "  warnings.warn(msg, FutureWarning)\n"
          ],
          "name": "stderr"
        },
        {
          "output_type": "execute_result",
          "data": {
            "text/plain": [
              "<matplotlib.axes._subplots.AxesSubplot at 0x7f99c83b4550>"
            ]
          },
          "metadata": {
            "tags": []
          },
          "execution_count": 78
        },
        {
          "output_type": "display_data",
          "data": {
            "image/png": "[encoded data removed]",
            "text/plain": [
              "<Figure size 432x288 with 1 Axes>"
            ]
          },
          "metadata": {
            "tags": []
          }
        }
      ]
    },
    {
      "cell_type": "code",
      "metadata": {
        "colab": {
          "base_uri": "https://localhost:8080/",
          "height": 266
        },
        "id": "RWQ12quIHY-b",
        "outputId": "5aa3037a-28e6-4aa8-dd3f-4a36955e375b"
      },
      "source": [
        "Day = df.Start_Time.dt.day_name()\n",
        "Accident_by_day =df.value_counts([Day]).reset_index(name= \"Accident\")\n",
        "Accident_by_day"
      ],
      "execution_count": 87,
      "outputs": [
        {
          "output_type": "execute_result",
          "data": {
            "text/html": [
              "<div>\n",
              "<style scoped>\n",
              "    .dataframe tbody tr th:only-of-type {\n",
              "        vertical-align: middle;\n",
              "    }\n",
              "\n",
              "    .dataframe tbody tr th {\n",
              "        vertical-align: top;\n",
              "    }\n",
              "\n",
              "    .dataframe thead th {\n",
              "        text-align: right;\n",
              "    }\n",
              "</style>\n",
              "<table border=\"1\" class=\"dataframe\">\n",
              "  <thead>\n",
              "    <tr style=\"text-align: right;\">\n",
              "      <th></th>\n",
              "      <th>Start_Time</th>\n",
              "      <th>Accident</th>\n",
              "    </tr>\n",
              "  </thead>\n",
              "  <tbody>\n",
              "    <tr>\n",
              "      <th>0</th>\n",
              "      <td>Thursday</td>\n",
              "      <td>2407</td>\n",
              "    </tr>\n",
              "    <tr>\n",
              "      <th>1</th>\n",
              "      <td>Wednesday</td>\n",
              "      <td>2304</td>\n",
              "    </tr>\n",
              "    <tr>\n",
              "      <th>2</th>\n",
              "      <td>Monday</td>\n",
              "      <td>1951</td>\n",
              "    </tr>\n",
              "    <tr>\n",
              "      <th>3</th>\n",
              "      <td>Friday</td>\n",
              "      <td>1811</td>\n",
              "    </tr>\n",
              "    <tr>\n",
              "      <th>4</th>\n",
              "      <td>Sunday</td>\n",
              "      <td>1511</td>\n",
              "    </tr>\n",
              "    <tr>\n",
              "      <th>5</th>\n",
              "      <td>Tuesday</td>\n",
              "      <td>1369</td>\n",
              "    </tr>\n",
              "    <tr>\n",
              "      <th>6</th>\n",
              "      <td>Saturday</td>\n",
              "      <td>1309</td>\n",
              "    </tr>\n",
              "  </tbody>\n",
              "</table>\n",
              "</div>"
            ],
            "text/plain": [
              "  Start_Time  Accident\n",
              "0   Thursday      2407\n",
              "1  Wednesday      2304\n",
              "2     Monday      1951\n",
              "3     Friday      1811\n",
              "4     Sunday      1511\n",
              "5    Tuesday      1369\n",
              "6   Saturday      1309"
            ]
          },
          "metadata": {
            "tags": []
          },
          "execution_count": 87
        }
      ]
    },
    {
      "cell_type": "code",
      "metadata": {
        "colab": {
          "base_uri": "https://localhost:8080/",
          "height": 506
        },
        "id": "LuOJUlTSIwCM",
        "outputId": "80918ddf-7956-4606-8be8-6ecd900b4fdd"
      },
      "source": [
        "\n",
        "sns.set(style=\"dark\")\n",
        "fig, ax = plt.subplots(figsize=(17,7))\n",
        "sns.barplot(data=Accident_by_day, x=\"Start_Time\", y=\"Accident\")\n",
        "plt.xlabel('Day')\n",
        "plt.ylabel('Accidents', size=18)\n",
        "plt.title('Accident By Day', size=18)\n",
        "plt.xticks(size=14)\n",
        "plt.yticks(size=14)\n",
        "# sns.despine(left=True);"
      ],
      "execution_count": 91,
      "outputs": [
        {
          "output_type": "execute_result",
          "data": {
            "text/plain": [
              "(array([   0.,  500., 1000., 1500., 2000., 2500., 3000.]),\n",
              " <a list of 7 Text major ticklabel objects>)"
            ]
          },
          "metadata": {
            "tags": []
          },
          "execution_count": 91
        },
        {
          "output_type": "display_data",
          "data": {
            "image/png": "[encoded data removed]",
            "text/plain": [
              "<Figure size 1224x504 with 1 Axes>"
            ]
          },
          "metadata": {
            "tags": []
          }
        }
      ]
    },
    {
      "cell_type": "markdown",
      "metadata": {
        "id": "FDN_-pTygDMM"
      },
      "source": [
        "Between 2016 and 2020, there is a large number of accidents during weekdays (Monday to Thursday). On the contrary, there are relatively fewer accidents on weekends (Friday, Saturday, and Sunday)"
      ]
    },
    {
      "cell_type": "code",
      "metadata": {
        "colab": {
          "base_uri": "https://localhost:8080/",
          "height": 204
        },
        "id": "XYl3uCV-snA-",
        "outputId": "02ac21e5-0c3d-433c-c8ce-471c7d0459a8"
      },
      "source": [
        "year = df.Start_Time.dt.year\n",
        "Accident_by_year =df.value_counts([year]).reset_index(name= \"Accident\")\n",
        "Accident_by_year"
      ],
      "execution_count": 94,
      "outputs": [
        {
          "output_type": "execute_result",
          "data": {
            "text/html": [
              "<div>\n",
              "<style scoped>\n",
              "    .dataframe tbody tr th:only-of-type {\n",
              "        vertical-align: middle;\n",
              "    }\n",
              "\n",
              "    .dataframe tbody tr th {\n",
              "        vertical-align: top;\n",
              "    }\n",
              "\n",
              "    .dataframe thead th {\n",
              "        text-align: right;\n",
              "    }\n",
              "</style>\n",
              "<table border=\"1\" class=\"dataframe\">\n",
              "  <thead>\n",
              "    <tr style=\"text-align: right;\">\n",
              "      <th></th>\n",
              "      <th>Start_Time</th>\n",
              "      <th>Accident</th>\n",
              "    </tr>\n",
              "  </thead>\n",
              "  <tbody>\n",
              "    <tr>\n",
              "      <th>0</th>\n",
              "      <td>2020</td>\n",
              "      <td>8854</td>\n",
              "    </tr>\n",
              "    <tr>\n",
              "      <th>1</th>\n",
              "      <td>2019</td>\n",
              "      <td>2387</td>\n",
              "    </tr>\n",
              "    <tr>\n",
              "      <th>2</th>\n",
              "      <td>2018</td>\n",
              "      <td>684</td>\n",
              "    </tr>\n",
              "    <tr>\n",
              "      <th>3</th>\n",
              "      <td>2017</td>\n",
              "      <td>512</td>\n",
              "    </tr>\n",
              "    <tr>\n",
              "      <th>4</th>\n",
              "      <td>2016</td>\n",
              "      <td>225</td>\n",
              "    </tr>\n",
              "  </tbody>\n",
              "</table>\n",
              "</div>"
            ],
            "text/plain": [
              "   Start_Time  Accident\n",
              "0        2020      8854\n",
              "1        2019      2387\n",
              "2        2018       684\n",
              "3        2017       512\n",
              "4        2016       225"
            ]
          },
          "metadata": {
            "tags": []
          },
          "execution_count": 94
        }
      ]
    },
    {
      "cell_type": "code",
      "metadata": {
        "colab": {
          "base_uri": "https://localhost:8080/",
          "height": 288
        },
        "id": "BUtpk_lSGRmT",
        "outputId": "670db07a-90f1-40ed-c59f-7a5aa51d2f88"
      },
      "source": [
        "sns.set(style=\"dark\")\n",
        "fig, ax = plt.subplots(figsize=(8,3))\n",
        "sns.barplot(data=Accident_by_year, x=\"Start_Time\", y=\"Accident\")\n",
        "plt.xlabel('Year')\n",
        "plt.ylabel('Accidents', size=18)\n",
        "plt.title('Accident By Year', size=18)\n",
        "plt.xticks(size=14)\n",
        "plt.yticks(size=14)\n",
        "# sns.despine(left=True);"
      ],
      "execution_count": 124,
      "outputs": [
        {
          "output_type": "execute_result",
          "data": {
            "text/plain": [
              "(array([    0.,  2000.,  4000.,  6000.,  8000., 10000.]),\n",
              " <a list of 6 Text major ticklabel objects>)"
            ]
          },
          "metadata": {
            "tags": []
          },
          "execution_count": 124
        },
        {
          "output_type": "display_data",
          "data": {
            "image/png": "[encoded data removed]",
            "text/plain": [
              "<Figure size 576x216 with 1 Axes>"
            ]
          },
          "metadata": {
            "tags": []
          }
        }
      ]
    },
    {
      "cell_type": "markdown",
      "metadata": {
        "id": "oQlGs1qngqgb"
      },
      "source": [
        "Number of Accidents were lower and showed a more significant change in the early years as compared with those in recent years when the number of accidents has been raised high."
      ]
    },
    {
      "cell_type": "code",
      "metadata": {
        "colab": {
          "base_uri": "https://localhost:8080/",
          "height": 421
        },
        "id": "GyPivyeng2JX",
        "outputId": "29b7a96f-d6b6-4099-ae21-c6fc55e09d75"
      },
      "source": [
        "month = df.Start_Time.dt.month_name()\n",
        "Accident_by_month =df.value_counts([month]).reset_index(name= \"Accident\")\n",
        "Accident_by_month"
      ],
      "execution_count": 122,
      "outputs": [
        {
          "output_type": "execute_result",
          "data": {
            "text/html": [
              "<div>\n",
              "<style scoped>\n",
              "    .dataframe tbody tr th:only-of-type {\n",
              "        vertical-align: middle;\n",
              "    }\n",
              "\n",
              "    .dataframe tbody tr th {\n",
              "        vertical-align: top;\n",
              "    }\n",
              "\n",
              "    .dataframe thead th {\n",
              "        text-align: right;\n",
              "    }\n",
              "</style>\n",
              "<table border=\"1\" class=\"dataframe\">\n",
              "  <thead>\n",
              "    <tr style=\"text-align: right;\">\n",
              "      <th></th>\n",
              "      <th>Start_Time</th>\n",
              "      <th>Accident</th>\n",
              "    </tr>\n",
              "  </thead>\n",
              "  <tbody>\n",
              "    <tr>\n",
              "      <th>0</th>\n",
              "      <td>December</td>\n",
              "      <td>3536</td>\n",
              "    </tr>\n",
              "    <tr>\n",
              "      <th>1</th>\n",
              "      <td>November</td>\n",
              "      <td>2650</td>\n",
              "    </tr>\n",
              "    <tr>\n",
              "      <th>2</th>\n",
              "      <td>October</td>\n",
              "      <td>2196</td>\n",
              "    </tr>\n",
              "    <tr>\n",
              "      <th>3</th>\n",
              "      <td>February</td>\n",
              "      <td>1009</td>\n",
              "    </tr>\n",
              "    <tr>\n",
              "      <th>4</th>\n",
              "      <td>September</td>\n",
              "      <td>960</td>\n",
              "    </tr>\n",
              "    <tr>\n",
              "      <th>5</th>\n",
              "      <td>April</td>\n",
              "      <td>630</td>\n",
              "    </tr>\n",
              "    <tr>\n",
              "      <th>6</th>\n",
              "      <td>January</td>\n",
              "      <td>516</td>\n",
              "    </tr>\n",
              "    <tr>\n",
              "      <th>7</th>\n",
              "      <td>March</td>\n",
              "      <td>424</td>\n",
              "    </tr>\n",
              "    <tr>\n",
              "      <th>8</th>\n",
              "      <td>May</td>\n",
              "      <td>381</td>\n",
              "    </tr>\n",
              "    <tr>\n",
              "      <th>9</th>\n",
              "      <td>June</td>\n",
              "      <td>212</td>\n",
              "    </tr>\n",
              "    <tr>\n",
              "      <th>10</th>\n",
              "      <td>August</td>\n",
              "      <td>75</td>\n",
              "    </tr>\n",
              "    <tr>\n",
              "      <th>11</th>\n",
              "      <td>July</td>\n",
              "      <td>73</td>\n",
              "    </tr>\n",
              "  </tbody>\n",
              "</table>\n",
              "</div>"
            ],
            "text/plain": [
              "   Start_Time  Accident\n",
              "0    December      3536\n",
              "1    November      2650\n",
              "2     October      2196\n",
              "3    February      1009\n",
              "4   September       960\n",
              "5       April       630\n",
              "6     January       516\n",
              "7       March       424\n",
              "8         May       381\n",
              "9        June       212\n",
              "10     August        75\n",
              "11       July        73"
            ]
          },
          "metadata": {
            "tags": []
          },
          "execution_count": 122
        }
      ]
    },
    {
      "cell_type": "code",
      "metadata": {
        "colab": {
          "base_uri": "https://localhost:8080/",
          "height": 506
        },
        "id": "p4PC-xqZhQN6",
        "outputId": "486780a5-6fbe-4f04-d80c-4644e84b772c"
      },
      "source": [
        "\n",
        "sns.set(style=\"dark\")\n",
        "fig, ax = plt.subplots(figsize=(17,7))\n",
        "sns.barplot(data=Accident_by_month, x=\"Start_Time\", y=\"Accident\")\n",
        "plt.xlabel('Month')\n",
        "plt.ylabel('Accidents', size=18)\n",
        "plt.title('Accident By Month', size=18)\n",
        "plt.xticks(size=14)\n",
        "plt.yticks(size=14)\n",
        "# sns.despine(left=True);"
      ],
      "execution_count": 123,
      "outputs": [
        {
          "output_type": "execute_result",
          "data": {
            "text/plain": [
              "(array([   0.,  500., 1000., 1500., 2000., 2500., 3000., 3500., 4000.]),\n",
              " <a list of 9 Text major ticklabel objects>)"
            ]
          },
          "metadata": {
            "tags": []
          },
          "execution_count": 123
        },
        {
          "output_type": "display_data",
          "data": {
            "image/png": "[encoded data removed]",
            "text/plain": [
              "<Figure size 1224x504 with 1 Axes>"
            ]
          },
          "metadata": {
            "tags": []
          }
        }
      ]
    },
    {
      "cell_type": "markdown",
      "metadata": {
        "id": "6QOpsealhkkR"
      },
      "source": [
        "Monthly accidents increase steadily from  October-December. First half showing a smaller number of accidents compared to the second half of the year. "
      ]
    },
    {
      "cell_type": "code",
      "metadata": {
        "colab": {
          "base_uri": "https://localhost:8080/",
          "height": 173
        },
        "id": "Afjfz2tQGWnY",
        "outputId": "934bc63c-83fc-4f8c-c32a-1f32292cb161"
      },
      "source": [
        "Accident_by_Severity =df.value_counts(['Severity']).reset_index(name= \"Accident\")\n",
        "Accident_by_Severity\n",
        "\n"
      ],
      "execution_count": 98,
      "outputs": [
        {
          "output_type": "execute_result",
          "data": {
            "text/html": [
              "<div>\n",
              "<style scoped>\n",
              "    .dataframe tbody tr th:only-of-type {\n",
              "        vertical-align: middle;\n",
              "    }\n",
              "\n",
              "    .dataframe tbody tr th {\n",
              "        vertical-align: top;\n",
              "    }\n",
              "\n",
              "    .dataframe thead th {\n",
              "        text-align: right;\n",
              "    }\n",
              "</style>\n",
              "<table border=\"1\" class=\"dataframe\">\n",
              "  <thead>\n",
              "    <tr style=\"text-align: right;\">\n",
              "      <th></th>\n",
              "      <th>Severity</th>\n",
              "      <th>Accident</th>\n",
              "    </tr>\n",
              "  </thead>\n",
              "  <tbody>\n",
              "    <tr>\n",
              "      <th>0</th>\n",
              "      <td>2</td>\n",
              "      <td>10578</td>\n",
              "    </tr>\n",
              "    <tr>\n",
              "      <th>1</th>\n",
              "      <td>4</td>\n",
              "      <td>1538</td>\n",
              "    </tr>\n",
              "    <tr>\n",
              "      <th>2</th>\n",
              "      <td>3</td>\n",
              "      <td>525</td>\n",
              "    </tr>\n",
              "    <tr>\n",
              "      <th>3</th>\n",
              "      <td>1</td>\n",
              "      <td>21</td>\n",
              "    </tr>\n",
              "  </tbody>\n",
              "</table>\n",
              "</div>"
            ],
            "text/plain": [
              "   Severity  Accident\n",
              "0         2     10578\n",
              "1         4      1538\n",
              "2         3       525\n",
              "3         1        21"
            ]
          },
          "metadata": {
            "tags": []
          },
          "execution_count": 98
        }
      ]
    },
    {
      "cell_type": "code",
      "metadata": {
        "id": "6u3mkEpxMNFl"
      },
      "source": [
        "\n",
        "data = Accident_by_Severity.groupby(\"Severity\")[\"Accident\"].sum()"
      ],
      "execution_count": 99,
      "outputs": []
    },
    {
      "cell_type": "code",
      "metadata": {
        "colab": {
          "base_uri": "https://localhost:8080/",
          "height": 391
        },
        "id": "sWbY-ttVNRAq",
        "outputId": "fb894636-a38d-4696-c4f4-3245e7fe5892"
      },
      "source": [
        "pie, ax = plt.subplots(figsize=[10,6])\n",
        "labels = data.keys()\n",
        "plt.pie(x=data, autopct=\"%.1f%%\", explode=[0.09]*4, labels=labels, pctdistance=0.5)\n",
        "plt.title(\"Accident by Severity\", fontsize=14)"
      ],
      "execution_count": 102,
      "outputs": [
        {
          "output_type": "execute_result",
          "data": {
            "text/plain": [
              "Text(0.5, 1.0, 'Accident by Severity')"
            ]
          },
          "metadata": {
            "tags": []
          },
          "execution_count": 102
        },
        {
          "output_type": "display_data",
          "data": {
            "image/png": "[encoded data removed]",
            "text/plain": [
              "<Figure size 720x432 with 1 Axes>"
            ]
          },
          "metadata": {
            "tags": []
          }
        }
      ]
    },
    {
      "cell_type": "markdown",
      "metadata": {
        "id": "xFRopMO5iSlD"
      },
      "source": [
        "# **Severity indicates the impact of the accident.**\n",
        "\n",
        "There are hardly any accidents with very low severity(0 and 1).\n",
        "Severity 3&4 having a high impact. Severity 2 accidents are more compare to severity 3&4. Severity 3&4 accidents mostly involve fatalities and severity 2, having injuries. "
      ]
    },
    {
      "cell_type": "markdown",
      "metadata": {
        "id": "sb2LkuhNjYjF"
      },
      "source": [
        "## **Compare Number of Accident**"
      ]
    },
    {
      "cell_type": "code",
      "metadata": {
        "colab": {
          "base_uri": "https://localhost:8080/",
          "height": 419
        },
        "id": "25gGFFeaQwl-",
        "outputId": "9eaaffa8-c1b9-4b12-d138-9493810f51b7"
      },
      "source": [
        "df[[\"Side\"]]"
      ],
      "execution_count": 111,
      "outputs": [
        {
          "output_type": "execute_result",
          "data": {
            "text/html": [
              "<div>\n",
              "<style scoped>\n",
              "    .dataframe tbody tr th:only-of-type {\n",
              "        vertical-align: middle;\n",
              "    }\n",
              "\n",
              "    .dataframe tbody tr th {\n",
              "        vertical-align: top;\n",
              "    }\n",
              "\n",
              "    .dataframe thead th {\n",
              "        text-align: right;\n",
              "    }\n",
              "</style>\n",
              "<table border=\"1\" class=\"dataframe\">\n",
              "  <thead>\n",
              "    <tr style=\"text-align: right;\">\n",
              "      <th></th>\n",
              "      <th>Side</th>\n",
              "    </tr>\n",
              "  </thead>\n",
              "  <tbody>\n",
              "    <tr>\n",
              "      <th>0</th>\n",
              "      <td>R</td>\n",
              "    </tr>\n",
              "    <tr>\n",
              "      <th>1</th>\n",
              "      <td>L</td>\n",
              "    </tr>\n",
              "    <tr>\n",
              "      <th>2</th>\n",
              "      <td>L</td>\n",
              "    </tr>\n",
              "    <tr>\n",
              "      <th>3</th>\n",
              "      <td>L</td>\n",
              "    </tr>\n",
              "    <tr>\n",
              "      <th>4</th>\n",
              "      <td>L</td>\n",
              "    </tr>\n",
              "    <tr>\n",
              "      <th>...</th>\n",
              "      <td>...</td>\n",
              "    </tr>\n",
              "    <tr>\n",
              "      <th>12657</th>\n",
              "      <td>L</td>\n",
              "    </tr>\n",
              "    <tr>\n",
              "      <th>12658</th>\n",
              "      <td>L</td>\n",
              "    </tr>\n",
              "    <tr>\n",
              "      <th>12659</th>\n",
              "      <td>R</td>\n",
              "    </tr>\n",
              "    <tr>\n",
              "      <th>12660</th>\n",
              "      <td>R</td>\n",
              "    </tr>\n",
              "    <tr>\n",
              "      <th>12661</th>\n",
              "      <td>L</td>\n",
              "    </tr>\n",
              "  </tbody>\n",
              "</table>\n",
              "<p>12662 rows × 1 columns</p>\n",
              "</div>"
            ],
            "text/plain": [
              "      Side\n",
              "0        R\n",
              "1        L\n",
              "2        L\n",
              "3        L\n",
              "4        L\n",
              "...    ...\n",
              "12657    L\n",
              "12658    L\n",
              "12659    R\n",
              "12660    R\n",
              "12661    L\n",
              "\n",
              "[12662 rows x 1 columns]"
            ]
          },
          "metadata": {
            "tags": []
          },
          "execution_count": 111
        }
      ]
    },
    {
      "cell_type": "code",
      "metadata": {
        "colab": {
          "base_uri": "https://localhost:8080/",
          "height": 111
        },
        "id": "2WYGao86RpCw",
        "outputId": "6f0968ce-c01c-4be3-eb9a-005b923ab1dd"
      },
      "source": [
        "\n",
        "\n",
        "\n",
        "Accident_by_Side =df.value_counts(['Side']).reset_index(name= \"Accident\")\n",
        "Accident_by_Side\n"
      ],
      "execution_count": 108,
      "outputs": [
        {
          "output_type": "execute_result",
          "data": {
            "text/html": [
              "<div>\n",
              "<style scoped>\n",
              "    .dataframe tbody tr th:only-of-type {\n",
              "        vertical-align: middle;\n",
              "    }\n",
              "\n",
              "    .dataframe tbody tr th {\n",
              "        vertical-align: top;\n",
              "    }\n",
              "\n",
              "    .dataframe thead th {\n",
              "        text-align: right;\n",
              "    }\n",
              "</style>\n",
              "<table border=\"1\" class=\"dataframe\">\n",
              "  <thead>\n",
              "    <tr style=\"text-align: right;\">\n",
              "      <th></th>\n",
              "      <th>Side</th>\n",
              "      <th>Accident</th>\n",
              "    </tr>\n",
              "  </thead>\n",
              "  <tbody>\n",
              "    <tr>\n",
              "      <th>0</th>\n",
              "      <td>R</td>\n",
              "      <td>6919</td>\n",
              "    </tr>\n",
              "    <tr>\n",
              "      <th>1</th>\n",
              "      <td>L</td>\n",
              "      <td>5743</td>\n",
              "    </tr>\n",
              "  </tbody>\n",
              "</table>\n",
              "</div>"
            ],
            "text/plain": [
              "  Side  Accident\n",
              "0    R      6919\n",
              "1    L      5743"
            ]
          },
          "metadata": {
            "tags": []
          },
          "execution_count": 108
        }
      ]
    },
    {
      "cell_type": "code",
      "metadata": {
        "colab": {
          "base_uri": "https://localhost:8080/"
        },
        "id": "36ii6DuvQ2PP",
        "outputId": "33874b8e-6c0b-4f38-9a77-86439e7c7190"
      },
      "source": [
        "\n",
        "Compared = Accident_by_Side.groupby(\"Side\")[\"Accident\"].sum()\n",
        "Compared"
      ],
      "execution_count": 110,
      "outputs": [
        {
          "output_type": "execute_result",
          "data": {
            "text/plain": [
              "Side\n",
              "L    5743\n",
              "R    6919\n",
              "Name: Accident, dtype: int64"
            ]
          },
          "metadata": {
            "tags": []
          },
          "execution_count": 110
        }
      ]
    },
    {
      "cell_type": "code",
      "metadata": {
        "id": "HVFwsxFFR3Xq"
      },
      "source": [
        ""
      ],
      "execution_count": null,
      "outputs": []
    }
  ]
}