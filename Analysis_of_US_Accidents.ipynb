{
  "nbformat": 4,
  "nbformat_minor": 0,
  "metadata": {
    "colab": {
      "name": "Analysis-of-US-Accidents.ipynb",
      "provenance": [],
      "collapsed_sections": []
    },
    "kernelspec": {
      "display_name": "Python 3",
      "language": "python",
      "name": "python3"
    },
    "language_info": {
      "codemirror_mode": {
        "name": "ipython",
        "version": 3
      },
      "file_extension": ".py",
      "mimetype": "text/x-python",
      "name": "python",
      "nbconvert_exporter": "python",
      "pygments_lexer": "ipython3",
      "version": "3.7.6"
    }
  },
  "cells": [
    {
      "cell_type": "code",
      "metadata": {
        "id": "GRDiSQWkdzaE",
        "colab": {
          "base_uri": "https://localhost:8080/"
        },
        "outputId": "ad5febdf-a00a-43da-e517-43694faf334d"
      },
      "source": [
        "from google.colab import drive\n",
        "drive.mount('/content/drive')\n"
      ],
      "execution_count": 24,
      "outputs": [
        {
          "output_type": "stream",
          "text": [
            "Drive already mounted at /content/drive; to attempt to forcibly remount, call drive.mount(\"/content/drive\", force_remount=True).\n"
          ],
          "name": "stdout"
        }
      ]
    },
    {
      "cell_type": "code",
      "metadata": {
        "colab": {
          "base_uri": "https://localhost:8080/"
        },
        "id": "8kHZ31YA1i9-",
        "outputId": "2a714a13-7358-4ede-b175-7ca09e2256ff"
      },
      "source": [
        "# Jovian Commit Essentials\n",
        "# Please retain and execute this cell without modifying the contents for `jovian.commit` to work\n",
        "!pip install jovian --upgrade -q\n",
        "import jovian\n",
        "jovian.set_project('us-accidental-analysis')\n",
        "jovian.set_colab_id('1QfVIWX3xg8btKn1wC0N8DNz2ZyU7VQWa')\n"
      ],
      "execution_count": null,
      "outputs": [
        {
          "output_type": "stream",
          "text": [
            "\u001b[?25l\r\u001b[K     |████▊                           | 10 kB 29.3 MB/s eta 0:00:01\r\u001b[K     |█████████▌                      | 20 kB 31.8 MB/s eta 0:00:01\r\u001b[K     |██████████████▎                 | 30 kB 19.9 MB/s eta 0:00:01\r\u001b[K     |███████████████████             | 40 kB 16.5 MB/s eta 0:00:01\r\u001b[K     |███████████████████████▉        | 51 kB 8.1 MB/s eta 0:00:01\r\u001b[K     |████████████████████████████▋   | 61 kB 8.0 MB/s eta 0:00:01\r\u001b[K     |████████████████████████████████| 68 kB 4.3 MB/s \n",
            "\u001b[?25h  Building wheel for uuid (setup.py) ... \u001b[?25l\u001b[?25hdone\n"
          ],
          "name": "stdout"
        }
      ]
    },
    {
      "cell_type": "markdown",
      "metadata": {
        "id": "Pet4c3P-1i-C"
      },
      "source": [
        "# us-accidental-analysis\n",
        "\n",
        "Use the \"Run\" button to execute the code."
      ]
    },
    {
      "cell_type": "code",
      "metadata": {
        "id": "0hxbbxTq1i-C"
      },
      "source": [
        "!pip install jovian --upgrade --quiet"
      ],
      "execution_count": null,
      "outputs": []
    },
    {
      "cell_type": "code",
      "metadata": {
        "id": "kgZg3VYO1i-D"
      },
      "source": [
        "import jovian"
      ],
      "execution_count": null,
      "outputs": []
    },
    {
      "cell_type": "code",
      "metadata": {
        "colab": {
          "base_uri": "https://localhost:8080/",
          "height": 120
        },
        "id": "1HClHPZL1i-E",
        "outputId": "889205db-ea7f-48ef-bce4-11d482ca430a"
      },
      "source": [
        "# Execute this to save new versions of the notebook\n",
        "jovian.commit(project=\"us-accidental-analysis\")"
      ],
      "execution_count": null,
      "outputs": [
        {
          "output_type": "stream",
          "text": [
            "[jovian] Detected Colab notebook...\u001b[0m\n",
            "[jovian] Please enter your API key ( from https://jovian.ai/ ):\u001b[0m\n",
            "API KEY: ··········\n",
            "[jovian] Uploading colab notebook to Jovian...\u001b[0m\n",
            "Committed successfully! https://jovian.ai/temitopeyakub28/us-accidental-analysis\n"
          ],
          "name": "stdout"
        },
        {
          "output_type": "execute_result",
          "data": {
            "application/vnd.google.colaboratory.intrinsic+json": {
              "type": "string"
            },
            "text/plain": [
              "'https://jovian.ai/temitopeyakub28/us-accidental-analysis'"
            ]
          },
          "metadata": {
            "tags": []
          },
          "execution_count": 5
        }
      ]
    },
    {
      "cell_type": "code",
      "metadata": {
        "id": "OKOywEg61i-E"
      },
      "source": [
        "pip install opendatasets --quiet"
      ],
      "execution_count": null,
      "outputs": []
    },
    {
      "cell_type": "code",
      "metadata": {
        "id": "r1-WykVc3vHw"
      },
      "source": [
        "import opendatasets as od\n"
      ],
      "execution_count": null,
      "outputs": []
    },
    {
      "cell_type": "code",
      "metadata": {
        "id": "eQg0XQf64FsZ"
      },
      "source": [
        "dataset_url = \"https://www.kaggle.com/sobhanmoosavi/us-accidents\""
      ],
      "execution_count": null,
      "outputs": []
    },
    {
      "cell_type": "code",
      "metadata": {
        "colab": {
          "base_uri": "https://localhost:8080/"
        },
        "id": "fGt1GTRk4Od0",
        "outputId": "c1370090-d8ee-4bc8-ece7-61c1d13ef770"
      },
      "source": [
        "od.download(dataset_url)"
      ],
      "execution_count": null,
      "outputs": [
        {
          "output_type": "stream",
          "text": [
            "Please provide your Kaggle credentials to download this dataset. Learn more: http://bit.ly/kaggle-creds\n",
            "Your Kaggle username: temitopeyakub\n",
            "Your Kaggle Key: ··········\n",
            "Downloading us-accidents.zip to ./us-accidents\n"
          ],
          "name": "stdout"
        },
        {
          "output_type": "stream",
          "text": [
            "100%|██████████| 290M/290M [00:04<00:00, 62.9MB/s]\n"
          ],
          "name": "stderr"
        },
        {
          "output_type": "stream",
          "text": [
            "\n"
          ],
          "name": "stdout"
        }
      ]
    },
    {
      "cell_type": "code",
      "metadata": {
        "id": "z3avN0tT4Y3n"
      },
      "source": [
        "us_data = \"./content/us-accidents/US_Accidents_Dec20_Updated.csv\"\n"
      ],
      "execution_count": null,
      "outputs": []
    },
    {
      "cell_type": "code",
      "metadata": {
        "id": "iXdp6HWk9baS"
      },
      "source": [
        "from datetime import datetime as dt\n",
        "import pandas as pd\n",
        "import numpy as np\n",
        "import matplotlib.pyplot as plt # visualization\n",
        "import seaborn as sns #visualization\n",
        "%matplotlib inline\n",
        "sns.set()\n"
      ],
      "execution_count": null,
      "outputs": []
    },
    {
      "cell_type": "markdown",
      "metadata": {
        "id": "Ef_speCY1Jla"
      },
      "source": [
        ""
      ]
    },
    {
      "cell_type": "code",
      "metadata": {
        "colab": {
          "base_uri": "https://localhost:8080/",
          "height": 250
        },
        "id": "ub57uVjk9mT7",
        "outputId": "2dd1b80d-c7d5-4f08-e0b5-43c0536c6b36"
      },
      "source": [
        "\n",
        "df = pd.read_csv(\"/content/us-accidents/US_Accidents_Dec20_Updated.csv\")\n",
        "df.head(2)\n"
      ],
      "execution_count": 25,
      "outputs": [
        {
          "output_type": "execute_result",
          "data": {
            "text/html": [
              "<div>\n",
              "<style scoped>\n",
              "    .dataframe tbody tr th:only-of-type {\n",
              "        vertical-align: middle;\n",
              "    }\n",
              "\n",
              "    .dataframe tbody tr th {\n",
              "        vertical-align: top;\n",
              "    }\n",
              "\n",
              "    .dataframe thead th {\n",
              "        text-align: right;\n",
              "    }\n",
              "</style>\n",
              "<table border=\"1\" class=\"dataframe\">\n",
              "  <thead>\n",
              "    <tr style=\"text-align: right;\">\n",
              "      <th></th>\n",
              "      <th>ID</th>\n",
              "      <th>Severity</th>\n",
              "      <th>Start_Time</th>\n",
              "      <th>End_Time</th>\n",
              "      <th>Start_Lat</th>\n",
              "      <th>Start_Lng</th>\n",
              "      <th>End_Lat</th>\n",
              "      <th>End_Lng</th>\n",
              "      <th>Distance(mi)</th>\n",
              "      <th>Description</th>\n",
              "      <th>Number</th>\n",
              "      <th>Street</th>\n",
              "      <th>Side</th>\n",
              "      <th>City</th>\n",
              "      <th>County</th>\n",
              "      <th>State</th>\n",
              "      <th>Zipcode</th>\n",
              "      <th>Country</th>\n",
              "      <th>Timezone</th>\n",
              "      <th>Airport_Code</th>\n",
              "      <th>Weather_Timestamp</th>\n",
              "      <th>Temperature(F)</th>\n",
              "      <th>Wind_Chill(F)</th>\n",
              "      <th>Humidity(%)</th>\n",
              "      <th>Pressure(in)</th>\n",
              "      <th>Visibility(mi)</th>\n",
              "      <th>Wind_Direction</th>\n",
              "      <th>Wind_Speed(mph)</th>\n",
              "      <th>Precipitation(in)</th>\n",
              "      <th>Weather_Condition</th>\n",
              "      <th>Amenity</th>\n",
              "      <th>Bump</th>\n",
              "      <th>Crossing</th>\n",
              "      <th>Give_Way</th>\n",
              "      <th>Junction</th>\n",
              "      <th>No_Exit</th>\n",
              "      <th>Railway</th>\n",
              "      <th>Roundabout</th>\n",
              "      <th>Station</th>\n",
              "      <th>Stop</th>\n",
              "      <th>Traffic_Calming</th>\n",
              "      <th>Traffic_Signal</th>\n",
              "      <th>Turning_Loop</th>\n",
              "      <th>Sunrise_Sunset</th>\n",
              "      <th>Civil_Twilight</th>\n",
              "      <th>Nautical_Twilight</th>\n",
              "      <th>Astronomical_Twilight</th>\n",
              "    </tr>\n",
              "  </thead>\n",
              "  <tbody>\n",
              "    <tr>\n",
              "      <th>0</th>\n",
              "      <td>A-1</td>\n",
              "      <td>2</td>\n",
              "      <td>2019-05-21 08:29:55</td>\n",
              "      <td>2019-05-21 09:29:40</td>\n",
              "      <td>34.808868</td>\n",
              "      <td>-82.269157</td>\n",
              "      <td>34.808868</td>\n",
              "      <td>-82.269157</td>\n",
              "      <td>0.0</td>\n",
              "      <td>Accident on Tanner Rd at Pennbrooke Ln.</td>\n",
              "      <td>439.0</td>\n",
              "      <td>Tanner Rd</td>\n",
              "      <td>R</td>\n",
              "      <td>Greenville</td>\n",
              "      <td>Greenville</td>\n",
              "      <td>SC</td>\n",
              "      <td>29607-6027</td>\n",
              "      <td>US</td>\n",
              "      <td>US/Eastern</td>\n",
              "      <td>KGMU</td>\n",
              "      <td>2019-05-21 08:53:00</td>\n",
              "      <td>76.0</td>\n",
              "      <td>76.0</td>\n",
              "      <td>52.0</td>\n",
              "      <td>28.91</td>\n",
              "      <td>10.0</td>\n",
              "      <td>N</td>\n",
              "      <td>7.0</td>\n",
              "      <td>0.0</td>\n",
              "      <td>Fair</td>\n",
              "      <td>False</td>\n",
              "      <td>False</td>\n",
              "      <td>False</td>\n",
              "      <td>False</td>\n",
              "      <td>False</td>\n",
              "      <td>False</td>\n",
              "      <td>False</td>\n",
              "      <td>False</td>\n",
              "      <td>False</td>\n",
              "      <td>False</td>\n",
              "      <td>False</td>\n",
              "      <td>False</td>\n",
              "      <td>False</td>\n",
              "      <td>Day</td>\n",
              "      <td>Day</td>\n",
              "      <td>Day</td>\n",
              "      <td>Day</td>\n",
              "    </tr>\n",
              "    <tr>\n",
              "      <th>1</th>\n",
              "      <td>A-2</td>\n",
              "      <td>2</td>\n",
              "      <td>2019-10-07 17:43:09</td>\n",
              "      <td>2019-10-07 19:42:50</td>\n",
              "      <td>35.090080</td>\n",
              "      <td>-80.745560</td>\n",
              "      <td>35.090080</td>\n",
              "      <td>-80.745560</td>\n",
              "      <td>0.0</td>\n",
              "      <td>Accident on Houston Branch Rd at Providence Br...</td>\n",
              "      <td>3299.0</td>\n",
              "      <td>Providence Branch Ln</td>\n",
              "      <td>R</td>\n",
              "      <td>Charlotte</td>\n",
              "      <td>Mecklenburg</td>\n",
              "      <td>NC</td>\n",
              "      <td>28270-8560</td>\n",
              "      <td>US</td>\n",
              "      <td>US/Eastern</td>\n",
              "      <td>KEQY</td>\n",
              "      <td>2019-10-07 17:53:00</td>\n",
              "      <td>76.0</td>\n",
              "      <td>76.0</td>\n",
              "      <td>62.0</td>\n",
              "      <td>29.30</td>\n",
              "      <td>10.0</td>\n",
              "      <td>VAR</td>\n",
              "      <td>3.0</td>\n",
              "      <td>0.0</td>\n",
              "      <td>Cloudy</td>\n",
              "      <td>False</td>\n",
              "      <td>False</td>\n",
              "      <td>False</td>\n",
              "      <td>False</td>\n",
              "      <td>False</td>\n",
              "      <td>False</td>\n",
              "      <td>False</td>\n",
              "      <td>False</td>\n",
              "      <td>False</td>\n",
              "      <td>False</td>\n",
              "      <td>False</td>\n",
              "      <td>False</td>\n",
              "      <td>False</td>\n",
              "      <td>Day</td>\n",
              "      <td>Day</td>\n",
              "      <td>Day</td>\n",
              "      <td>Day</td>\n",
              "    </tr>\n",
              "  </tbody>\n",
              "</table>\n",
              "</div>"
            ],
            "text/plain": [
              "    ID  Severity  ... Nautical_Twilight Astronomical_Twilight\n",
              "0  A-1         2  ...               Day                   Day\n",
              "1  A-2         2  ...               Day                   Day\n",
              "\n",
              "[2 rows x 47 columns]"
            ]
          },
          "metadata": {
            "tags": []
          },
          "execution_count": 25
        }
      ]
    },
    {
      "cell_type": "code",
      "metadata": {
        "colab": {
          "base_uri": "https://localhost:8080/",
          "height": 428
        },
        "id": "8Y4yKn8bDK_u",
        "outputId": "f6fd775b-ee11-460c-8836-e98e1d76e0b8"
      },
      "source": [
        "df.tail() #TO DISPLAY THE BOOTOM FIVE ROWS \n"
      ],
      "execution_count": null,
      "outputs": [
        {
          "output_type": "execute_result",
          "data": {
            "text/html": [
              "<div>\n",
              "<style scoped>\n",
              "    .dataframe tbody tr th:only-of-type {\n",
              "        vertical-align: middle;\n",
              "    }\n",
              "\n",
              "    .dataframe tbody tr th {\n",
              "        vertical-align: top;\n",
              "    }\n",
              "\n",
              "    .dataframe thead th {\n",
              "        text-align: right;\n",
              "    }\n",
              "</style>\n",
              "<table border=\"1\" class=\"dataframe\">\n",
              "  <thead>\n",
              "    <tr style=\"text-align: right;\">\n",
              "      <th></th>\n",
              "      <th>ID</th>\n",
              "      <th>Severity</th>\n",
              "      <th>Start_Time</th>\n",
              "      <th>End_Time</th>\n",
              "      <th>Start_Lat</th>\n",
              "      <th>Start_Lng</th>\n",
              "      <th>End_Lat</th>\n",
              "      <th>End_Lng</th>\n",
              "      <th>Distance(mi)</th>\n",
              "      <th>Description</th>\n",
              "      <th>Number</th>\n",
              "      <th>Street</th>\n",
              "      <th>Side</th>\n",
              "      <th>City</th>\n",
              "      <th>County</th>\n",
              "      <th>State</th>\n",
              "      <th>Zipcode</th>\n",
              "      <th>Country</th>\n",
              "      <th>Timezone</th>\n",
              "      <th>Airport_Code</th>\n",
              "      <th>Weather_Timestamp</th>\n",
              "      <th>Temperature(F)</th>\n",
              "      <th>Wind_Chill(F)</th>\n",
              "      <th>Humidity(%)</th>\n",
              "      <th>Pressure(in)</th>\n",
              "      <th>Visibility(mi)</th>\n",
              "      <th>Wind_Direction</th>\n",
              "      <th>Wind_Speed(mph)</th>\n",
              "      <th>Precipitation(in)</th>\n",
              "      <th>Weather_Condition</th>\n",
              "      <th>Amenity</th>\n",
              "      <th>Bump</th>\n",
              "      <th>Crossing</th>\n",
              "      <th>Give_Way</th>\n",
              "      <th>Junction</th>\n",
              "      <th>No_Exit</th>\n",
              "      <th>Railway</th>\n",
              "      <th>Roundabout</th>\n",
              "      <th>Station</th>\n",
              "      <th>Stop</th>\n",
              "      <th>Traffic_Calming</th>\n",
              "      <th>Traffic_Signal</th>\n",
              "      <th>Turning_Loop</th>\n",
              "      <th>Sunrise_Sunset</th>\n",
              "      <th>Civil_Twilight</th>\n",
              "      <th>Nautical_Twilight</th>\n",
              "      <th>Astronomical_Twilight</th>\n",
              "    </tr>\n",
              "  </thead>\n",
              "  <tbody>\n",
              "    <tr>\n",
              "      <th>2906605</th>\n",
              "      <td>A-2906606</td>\n",
              "      <td>2</td>\n",
              "      <td>2018-06-28 08:49:01</td>\n",
              "      <td>2018-06-28 09:18:51</td>\n",
              "      <td>29.813824</td>\n",
              "      <td>-95.399437</td>\n",
              "      <td>29.813824</td>\n",
              "      <td>-95.399437</td>\n",
              "      <td>0.000</td>\n",
              "      <td>Accident on 30th St at Yale St.</td>\n",
              "      <td>3001.0</td>\n",
              "      <td>Yale St</td>\n",
              "      <td>L</td>\n",
              "      <td>Houston</td>\n",
              "      <td>Harris</td>\n",
              "      <td>TX</td>\n",
              "      <td>77018-8433</td>\n",
              "      <td>US</td>\n",
              "      <td>US/Central</td>\n",
              "      <td>KMCJ</td>\n",
              "      <td>2018-06-28 08:35:00</td>\n",
              "      <td>84.2</td>\n",
              "      <td>NaN</td>\n",
              "      <td>70.0</td>\n",
              "      <td>30.02</td>\n",
              "      <td>9.0</td>\n",
              "      <td>Variable</td>\n",
              "      <td>5.8</td>\n",
              "      <td>NaN</td>\n",
              "      <td>Clear</td>\n",
              "      <td>False</td>\n",
              "      <td>False</td>\n",
              "      <td>False</td>\n",
              "      <td>False</td>\n",
              "      <td>False</td>\n",
              "      <td>False</td>\n",
              "      <td>False</td>\n",
              "      <td>False</td>\n",
              "      <td>False</td>\n",
              "      <td>True</td>\n",
              "      <td>False</td>\n",
              "      <td>False</td>\n",
              "      <td>False</td>\n",
              "      <td>Day</td>\n",
              "      <td>Day</td>\n",
              "      <td>Day</td>\n",
              "      <td>Day</td>\n",
              "    </tr>\n",
              "    <tr>\n",
              "      <th>2906606</th>\n",
              "      <td>A-2906607</td>\n",
              "      <td>2</td>\n",
              "      <td>2019-01-10 02:01:01</td>\n",
              "      <td>2019-01-10 02:30:32</td>\n",
              "      <td>34.068890</td>\n",
              "      <td>-117.342010</td>\n",
              "      <td>34.068890</td>\n",
              "      <td>-117.342010</td>\n",
              "      <td>0.000</td>\n",
              "      <td>At Valley Blvd - Accident.</td>\n",
              "      <td>NaN</td>\n",
              "      <td>Cypress Ave</td>\n",
              "      <td>R</td>\n",
              "      <td>Colton</td>\n",
              "      <td>San Bernardino</td>\n",
              "      <td>CA</td>\n",
              "      <td>92324</td>\n",
              "      <td>US</td>\n",
              "      <td>US/Pacific</td>\n",
              "      <td>KSBD</td>\n",
              "      <td>2019-01-10 02:00:00</td>\n",
              "      <td>46.9</td>\n",
              "      <td>NaN</td>\n",
              "      <td>74.0</td>\n",
              "      <td>30.14</td>\n",
              "      <td>10.0</td>\n",
              "      <td>Calm</td>\n",
              "      <td>NaN</td>\n",
              "      <td>NaN</td>\n",
              "      <td>Clear</td>\n",
              "      <td>False</td>\n",
              "      <td>False</td>\n",
              "      <td>False</td>\n",
              "      <td>False</td>\n",
              "      <td>False</td>\n",
              "      <td>False</td>\n",
              "      <td>False</td>\n",
              "      <td>False</td>\n",
              "      <td>False</td>\n",
              "      <td>False</td>\n",
              "      <td>False</td>\n",
              "      <td>False</td>\n",
              "      <td>False</td>\n",
              "      <td>Night</td>\n",
              "      <td>Night</td>\n",
              "      <td>Night</td>\n",
              "      <td>Night</td>\n",
              "    </tr>\n",
              "    <tr>\n",
              "      <th>2906607</th>\n",
              "      <td>A-2906608</td>\n",
              "      <td>2</td>\n",
              "      <td>2020-11-23 12:52:00</td>\n",
              "      <td>2020-11-24 00:47:37</td>\n",
              "      <td>25.702200</td>\n",
              "      <td>-80.335556</td>\n",
              "      <td>25.703040</td>\n",
              "      <td>-80.334099</td>\n",
              "      <td>0.108</td>\n",
              "      <td>Stationary traffic on County Hwy-913 - FL-986 ...</td>\n",
              "      <td>8798.0</td>\n",
              "      <td>SW 72nd St</td>\n",
              "      <td>L</td>\n",
              "      <td>Miami</td>\n",
              "      <td>Miami-Dade</td>\n",
              "      <td>FL</td>\n",
              "      <td>33173-3512</td>\n",
              "      <td>US</td>\n",
              "      <td>US/Eastern</td>\n",
              "      <td>KTMB</td>\n",
              "      <td>2020-11-23 12:53:00</td>\n",
              "      <td>76.0</td>\n",
              "      <td>76.0</td>\n",
              "      <td>85.0</td>\n",
              "      <td>30.00</td>\n",
              "      <td>10.0</td>\n",
              "      <td>NNW</td>\n",
              "      <td>16.0</td>\n",
              "      <td>0.0</td>\n",
              "      <td>Mostly Cloudy</td>\n",
              "      <td>False</td>\n",
              "      <td>False</td>\n",
              "      <td>False</td>\n",
              "      <td>False</td>\n",
              "      <td>False</td>\n",
              "      <td>False</td>\n",
              "      <td>False</td>\n",
              "      <td>False</td>\n",
              "      <td>False</td>\n",
              "      <td>False</td>\n",
              "      <td>False</td>\n",
              "      <td>False</td>\n",
              "      <td>False</td>\n",
              "      <td>Day</td>\n",
              "      <td>Day</td>\n",
              "      <td>Day</td>\n",
              "      <td>Day</td>\n",
              "    </tr>\n",
              "    <tr>\n",
              "      <th>2906608</th>\n",
              "      <td>A-2906609</td>\n",
              "      <td>2</td>\n",
              "      <td>2019-12-29 22:38:00</td>\n",
              "      <td>2019-12-29 23:38:00</td>\n",
              "      <td>40.660140</td>\n",
              "      <td>-111.952460</td>\n",
              "      <td>40.660140</td>\n",
              "      <td>-111.952460</td>\n",
              "      <td>0.000</td>\n",
              "      <td>At UT-266/4700/Exit 15 - Accident.</td>\n",
              "      <td>NaN</td>\n",
              "      <td>I-215 N</td>\n",
              "      <td>R</td>\n",
              "      <td>Salt Lake City</td>\n",
              "      <td>Salt Lake</td>\n",
              "      <td>UT</td>\n",
              "      <td>84129</td>\n",
              "      <td>US</td>\n",
              "      <td>US/Mountain</td>\n",
              "      <td>KU42</td>\n",
              "      <td>2019-12-29 22:54:00</td>\n",
              "      <td>27.0</td>\n",
              "      <td>19.0</td>\n",
              "      <td>81.0</td>\n",
              "      <td>25.81</td>\n",
              "      <td>10.0</td>\n",
              "      <td>SSE</td>\n",
              "      <td>8.0</td>\n",
              "      <td>0.0</td>\n",
              "      <td>Cloudy</td>\n",
              "      <td>False</td>\n",
              "      <td>False</td>\n",
              "      <td>False</td>\n",
              "      <td>False</td>\n",
              "      <td>False</td>\n",
              "      <td>False</td>\n",
              "      <td>False</td>\n",
              "      <td>False</td>\n",
              "      <td>False</td>\n",
              "      <td>False</td>\n",
              "      <td>False</td>\n",
              "      <td>False</td>\n",
              "      <td>False</td>\n",
              "      <td>Night</td>\n",
              "      <td>Night</td>\n",
              "      <td>Night</td>\n",
              "      <td>Night</td>\n",
              "    </tr>\n",
              "    <tr>\n",
              "      <th>2906609</th>\n",
              "      <td>A-2906610</td>\n",
              "      <td>2</td>\n",
              "      <td>2018-03-26 13:35:03</td>\n",
              "      <td>2018-03-26 14:39:00</td>\n",
              "      <td>38.831749</td>\n",
              "      <td>-104.748161</td>\n",
              "      <td>38.831749</td>\n",
              "      <td>-104.748161</td>\n",
              "      <td>0.000</td>\n",
              "      <td>Accident on Murray Blvd at Byron Dr.</td>\n",
              "      <td>NaN</td>\n",
              "      <td>Byron Dr</td>\n",
              "      <td>R</td>\n",
              "      <td>Colorado Springs</td>\n",
              "      <td>El Paso</td>\n",
              "      <td>CO</td>\n",
              "      <td>80916</td>\n",
              "      <td>US</td>\n",
              "      <td>US/Mountain</td>\n",
              "      <td>KCOS</td>\n",
              "      <td>2018-03-26 13:54:00</td>\n",
              "      <td>51.1</td>\n",
              "      <td>NaN</td>\n",
              "      <td>38.0</td>\n",
              "      <td>29.77</td>\n",
              "      <td>10.0</td>\n",
              "      <td>SE</td>\n",
              "      <td>13.8</td>\n",
              "      <td>NaN</td>\n",
              "      <td>Scattered Clouds</td>\n",
              "      <td>False</td>\n",
              "      <td>False</td>\n",
              "      <td>True</td>\n",
              "      <td>False</td>\n",
              "      <td>False</td>\n",
              "      <td>False</td>\n",
              "      <td>False</td>\n",
              "      <td>False</td>\n",
              "      <td>False</td>\n",
              "      <td>False</td>\n",
              "      <td>False</td>\n",
              "      <td>True</td>\n",
              "      <td>False</td>\n",
              "      <td>Day</td>\n",
              "      <td>Day</td>\n",
              "      <td>Day</td>\n",
              "      <td>Day</td>\n",
              "    </tr>\n",
              "  </tbody>\n",
              "</table>\n",
              "</div>"
            ],
            "text/plain": [
              "                ID  Severity  ... Nautical_Twilight Astronomical_Twilight\n",
              "2906605  A-2906606         2  ...               Day                   Day\n",
              "2906606  A-2906607         2  ...             Night                 Night\n",
              "2906607  A-2906608         2  ...               Day                   Day\n",
              "2906608  A-2906609         2  ...             Night                 Night\n",
              "2906609  A-2906610         2  ...               Day                   Day\n",
              "\n",
              "[5 rows x 47 columns]"
            ]
          },
          "metadata": {
            "tags": []
          },
          "execution_count": 13
        }
      ]
    },
    {
      "cell_type": "code",
      "metadata": {
        "colab": {
          "base_uri": "https://localhost:8080/"
        },
        "id": "1kJNakKp9rjQ",
        "outputId": "116b0bf1-6c17-4a11-fbca-d977df3c40d4"
      },
      "source": [
        "df.columns  #TO CHECK THE HEADERS IF IT IS WELL WRITTEN\n",
        "\n"
      ],
      "execution_count": null,
      "outputs": [
        {
          "output_type": "execute_result",
          "data": {
            "text/plain": [
              "Index(['ID', 'Severity', 'Start_Time', 'End_Time', 'Start_Lat', 'Start_Lng',\n",
              "       'End_Lat', 'End_Lng', 'Distance(mi)', 'Description', 'Number', 'Street',\n",
              "       'Side', 'City', 'County', 'State', 'Zipcode', 'Country', 'Timezone',\n",
              "       'Airport_Code', 'Weather_Timestamp', 'Temperature(F)', 'Wind_Chill(F)',\n",
              "       'Humidity(%)', 'Pressure(in)', 'Visibility(mi)', 'Wind_Direction',\n",
              "       'Wind_Speed(mph)', 'Precipitation(in)', 'Weather_Condition', 'Amenity',\n",
              "       'Bump', 'Crossing', 'Give_Way', 'Junction', 'No_Exit', 'Railway',\n",
              "       'Roundabout', 'Station', 'Stop', 'Traffic_Calming', 'Traffic_Signal',\n",
              "       'Turning_Loop', 'Sunrise_Sunset', 'Civil_Twilight', 'Nautical_Twilight',\n",
              "       'Astronomical_Twilight'],\n",
              "      dtype='object')"
            ]
          },
          "metadata": {
            "tags": []
          },
          "execution_count": 14
        }
      ]
    },
    {
      "cell_type": "code",
      "metadata": {
        "id": "U1eAmQkGDJMd"
      },
      "source": [
        ""
      ],
      "execution_count": null,
      "outputs": []
    },
    {
      "cell_type": "code",
      "metadata": {
        "colab": {
          "base_uri": "https://localhost:8080/"
        },
        "id": "iXD6CfxC0DV8",
        "outputId": "16e02e7a-cc67-4592-8e97-6ccd52a6720c"
      },
      "source": [
        "df.info()  #TO GET THE SUMMARY OP THE DATATFRAME"
      ],
      "execution_count": null,
      "outputs": [
        {
          "output_type": "stream",
          "text": [
            "<class 'pandas.core.frame.DataFrame'>\n",
            "RangeIndex: 2906610 entries, 0 to 2906609\n",
            "Data columns (total 47 columns):\n",
            " #   Column                 Dtype  \n",
            "---  ------                 -----  \n",
            " 0   ID                     object \n",
            " 1   Severity               int64  \n",
            " 2   Start_Time             object \n",
            " 3   End_Time               object \n",
            " 4   Start_Lat              float64\n",
            " 5   Start_Lng              float64\n",
            " 6   End_Lat                float64\n",
            " 7   End_Lng                float64\n",
            " 8   Distance(mi)           float64\n",
            " 9   Description            object \n",
            " 10  Number                 float64\n",
            " 11  Street                 object \n",
            " 12  Side                   object \n",
            " 13  City                   object \n",
            " 14  County                 object \n",
            " 15  State                  object \n",
            " 16  Zipcode                object \n",
            " 17  Country                object \n",
            " 18  Timezone               object \n",
            " 19  Airport_Code           object \n",
            " 20  Weather_Timestamp      object \n",
            " 21  Temperature(F)         float64\n",
            " 22  Wind_Chill(F)          float64\n",
            " 23  Humidity(%)            float64\n",
            " 24  Pressure(in)           float64\n",
            " 25  Visibility(mi)         float64\n",
            " 26  Wind_Direction         object \n",
            " 27  Wind_Speed(mph)        float64\n",
            " 28  Precipitation(in)      float64\n",
            " 29  Weather_Condition      object \n",
            " 30  Amenity                bool   \n",
            " 31  Bump                   bool   \n",
            " 32  Crossing               bool   \n",
            " 33  Give_Way               bool   \n",
            " 34  Junction               bool   \n",
            " 35  No_Exit                bool   \n",
            " 36  Railway                bool   \n",
            " 37  Roundabout             bool   \n",
            " 38  Station                bool   \n",
            " 39  Stop                   bool   \n",
            " 40  Traffic_Calming        bool   \n",
            " 41  Traffic_Signal         bool   \n",
            " 42  Turning_Loop           bool   \n",
            " 43  Sunrise_Sunset         object \n",
            " 44  Civil_Twilight         object \n",
            " 45  Nautical_Twilight      object \n",
            " 46  Astronomical_Twilight  object \n",
            "dtypes: bool(13), float64(13), int64(1), object(20)\n",
            "memory usage: 790.0+ MB\n"
          ],
          "name": "stdout"
        }
      ]
    },
    {
      "cell_type": "markdown",
      "metadata": {
        "id": "Y1kWbKh-vsXV"
      },
      "source": [
        "\n",
        "From the above code, we have 3 major dtypes--- We need to change some, and we need to create new dtypes\n"
      ]
    },
    {
      "cell_type": "code",
      "metadata": {
        "colab": {
          "base_uri": "https://localhost:8080/"
        },
        "id": "8SbbfNds5JxA",
        "outputId": "48799b24-10bd-4a7e-8b5c-9673c05a0286"
      },
      "source": [
        "df.shape  #TO GET THE DIMENSIONS OF THE DATAFRAME"
      ],
      "execution_count": null,
      "outputs": [
        {
          "output_type": "execute_result",
          "data": {
            "text/plain": [
              "(2906610, 47)"
            ]
          },
          "metadata": {
            "tags": []
          },
          "execution_count": 12
        }
      ]
    },
    {
      "cell_type": "markdown",
      "metadata": {
        "id": "7fZDhWTev7gC"
      },
      "source": [
        "\n",
        "From the above code, we have 2906610 rows and 47 columns(features)"
      ]
    },
    {
      "cell_type": "code",
      "metadata": {
        "colab": {
          "base_uri": "https://localhost:8080/",
          "height": 317
        },
        "id": "akl4IjK5B88u",
        "outputId": "41a4935a-545d-450c-814f-7dfe45f2b691"
      },
      "source": [
        "\n",
        "#Check the describtion of the numeric features\n",
        "df.describe()\n"
      ],
      "execution_count": null,
      "outputs": [
        {
          "output_type": "execute_result",
          "data": {
            "text/html": [
              "<div>\n",
              "<style scoped>\n",
              "    .dataframe tbody tr th:only-of-type {\n",
              "        vertical-align: middle;\n",
              "    }\n",
              "\n",
              "    .dataframe tbody tr th {\n",
              "        vertical-align: top;\n",
              "    }\n",
              "\n",
              "    .dataframe thead th {\n",
              "        text-align: right;\n",
              "    }\n",
              "</style>\n",
              "<table border=\"1\" class=\"dataframe\">\n",
              "  <thead>\n",
              "    <tr style=\"text-align: right;\">\n",
              "      <th></th>\n",
              "      <th>Severity</th>\n",
              "      <th>Start_Lat</th>\n",
              "      <th>Start_Lng</th>\n",
              "      <th>End_Lat</th>\n",
              "      <th>End_Lng</th>\n",
              "      <th>Distance(mi)</th>\n",
              "      <th>Number</th>\n",
              "      <th>Temperature(F)</th>\n",
              "      <th>Wind_Chill(F)</th>\n",
              "      <th>Humidity(%)</th>\n",
              "      <th>Pressure(in)</th>\n",
              "      <th>Visibility(mi)</th>\n",
              "      <th>Wind_Speed(mph)</th>\n",
              "      <th>Precipitation(in)</th>\n",
              "    </tr>\n",
              "  </thead>\n",
              "  <tbody>\n",
              "    <tr>\n",
              "      <th>count</th>\n",
              "      <td>2.906610e+06</td>\n",
              "      <td>2.906610e+06</td>\n",
              "      <td>2.906610e+06</td>\n",
              "      <td>2.623789e+06</td>\n",
              "      <td>2.623789e+06</td>\n",
              "      <td>2.906610e+06</td>\n",
              "      <td>1.014938e+06</td>\n",
              "      <td>2.839386e+06</td>\n",
              "      <td>1.722751e+06</td>\n",
              "      <td>2.835340e+06</td>\n",
              "      <td>2.849702e+06</td>\n",
              "      <td>2.834532e+06</td>\n",
              "      <td>2.599447e+06</td>\n",
              "      <td>1.605284e+06</td>\n",
              "    </tr>\n",
              "    <tr>\n",
              "      <th>mean</th>\n",
              "      <td>2.288649e+00</td>\n",
              "      <td>3.653027e+01</td>\n",
              "      <td>-9.642676e+01</td>\n",
              "      <td>3.651733e+01</td>\n",
              "      <td>-9.620367e+01</td>\n",
              "      <td>3.980541e-01</td>\n",
              "      <td>6.789728e+03</td>\n",
              "      <td>6.098873e+01</td>\n",
              "      <td>5.499048e+01</td>\n",
              "      <td>6.537758e+01</td>\n",
              "      <td>2.965685e+01</td>\n",
              "      <td>9.116766e+00</td>\n",
              "      <td>7.818111e+00</td>\n",
              "      <td>1.119459e-02</td>\n",
              "    </tr>\n",
              "    <tr>\n",
              "      <th>std</th>\n",
              "      <td>5.541618e-01</td>\n",
              "      <td>5.013964e+00</td>\n",
              "      <td>1.775412e+01</td>\n",
              "      <td>5.016609e+00</td>\n",
              "      <td>1.765971e+01</td>\n",
              "      <td>1.592556e+00</td>\n",
              "      <td>1.697225e+04</td>\n",
              "      <td>1.845258e+01</td>\n",
              "      <td>2.219542e+01</td>\n",
              "      <td>2.287854e+01</td>\n",
              "      <td>9.094133e-01</td>\n",
              "      <td>2.837271e+00</td>\n",
              "      <td>5.431171e+00</td>\n",
              "      <td>1.540812e-01</td>\n",
              "    </tr>\n",
              "    <tr>\n",
              "      <th>min</th>\n",
              "      <td>1.000000e+00</td>\n",
              "      <td>2.455527e+01</td>\n",
              "      <td>-1.246238e+02</td>\n",
              "      <td>2.455527e+01</td>\n",
              "      <td>-1.246238e+02</td>\n",
              "      <td>0.000000e+00</td>\n",
              "      <td>0.000000e+00</td>\n",
              "      <td>-8.900000e+01</td>\n",
              "      <td>-8.900000e+01</td>\n",
              "      <td>1.000000e+00</td>\n",
              "      <td>0.000000e+00</td>\n",
              "      <td>0.000000e+00</td>\n",
              "      <td>0.000000e+00</td>\n",
              "      <td>0.000000e+00</td>\n",
              "    </tr>\n",
              "    <tr>\n",
              "      <th>25%</th>\n",
              "      <td>2.000000e+00</td>\n",
              "      <td>3.366453e+01</td>\n",
              "      <td>-1.178232e+02</td>\n",
              "      <td>3.364659e+01</td>\n",
              "      <td>-1.177020e+02</td>\n",
              "      <td>0.000000e+00</td>\n",
              "      <td>9.650000e+02</td>\n",
              "      <td>4.890000e+01</td>\n",
              "      <td>3.900000e+01</td>\n",
              "      <td>4.900000e+01</td>\n",
              "      <td>2.959000e+01</td>\n",
              "      <td>1.000000e+01</td>\n",
              "      <td>4.600000e+00</td>\n",
              "      <td>0.000000e+00</td>\n",
              "    </tr>\n",
              "    <tr>\n",
              "      <th>50%</th>\n",
              "      <td>2.000000e+00</td>\n",
              "      <td>3.609977e+01</td>\n",
              "      <td>-9.116690e+01</td>\n",
              "      <td>3.605898e+01</td>\n",
              "      <td>-9.105163e+01</td>\n",
              "      <td>0.000000e+00</td>\n",
              "      <td>3.093000e+03</td>\n",
              "      <td>6.300000e+01</td>\n",
              "      <td>5.800000e+01</td>\n",
              "      <td>6.800000e+01</td>\n",
              "      <td>2.992000e+01</td>\n",
              "      <td>1.000000e+01</td>\n",
              "      <td>7.000000e+00</td>\n",
              "      <td>0.000000e+00</td>\n",
              "    </tr>\n",
              "    <tr>\n",
              "      <th>75%</th>\n",
              "      <td>3.000000e+00</td>\n",
              "      <td>4.037505e+01</td>\n",
              "      <td>-8.085814e+01</td>\n",
              "      <td>4.033133e+01</td>\n",
              "      <td>-8.084679e+01</td>\n",
              "      <td>2.790000e-01</td>\n",
              "      <td>7.976000e+03</td>\n",
              "      <td>7.500000e+01</td>\n",
              "      <td>7.200000e+01</td>\n",
              "      <td>8.500000e+01</td>\n",
              "      <td>3.007000e+01</td>\n",
              "      <td>1.000000e+01</td>\n",
              "      <td>1.040000e+01</td>\n",
              "      <td>0.000000e+00</td>\n",
              "    </tr>\n",
              "    <tr>\n",
              "      <th>max</th>\n",
              "      <td>4.000000e+00</td>\n",
              "      <td>4.900220e+01</td>\n",
              "      <td>-6.711317e+01</td>\n",
              "      <td>4.907500e+01</td>\n",
              "      <td>-6.710924e+01</td>\n",
              "      <td>3.336300e+02</td>\n",
              "      <td>9.999997e+06</td>\n",
              "      <td>2.030000e+02</td>\n",
              "      <td>1.740000e+02</td>\n",
              "      <td>1.000000e+02</td>\n",
              "      <td>5.804000e+01</td>\n",
              "      <td>1.400000e+02</td>\n",
              "      <td>9.840000e+02</td>\n",
              "      <td>2.400000e+01</td>\n",
              "    </tr>\n",
              "  </tbody>\n",
              "</table>\n",
              "</div>"
            ],
            "text/plain": [
              "           Severity     Start_Lat  ...  Wind_Speed(mph)  Precipitation(in)\n",
              "count  2.906610e+06  2.906610e+06  ...     2.599447e+06       1.605284e+06\n",
              "mean   2.288649e+00  3.653027e+01  ...     7.818111e+00       1.119459e-02\n",
              "std    5.541618e-01  5.013964e+00  ...     5.431171e+00       1.540812e-01\n",
              "min    1.000000e+00  2.455527e+01  ...     0.000000e+00       0.000000e+00\n",
              "25%    2.000000e+00  3.366453e+01  ...     4.600000e+00       0.000000e+00\n",
              "50%    2.000000e+00  3.609977e+01  ...     7.000000e+00       0.000000e+00\n",
              "75%    3.000000e+00  4.037505e+01  ...     1.040000e+01       0.000000e+00\n",
              "max    4.000000e+00  4.900220e+01  ...     9.840000e+02       2.400000e+01\n",
              "\n",
              "[8 rows x 14 columns]"
            ]
          },
          "metadata": {
            "tags": []
          },
          "execution_count": 13
        }
      ]
    },
    {
      "cell_type": "code",
      "metadata": {
        "colab": {
          "base_uri": "https://localhost:8080/"
        },
        "id": "3dgRDDbLxwtw",
        "outputId": "addd8f9d-34c0-4fe2-f80e-e76acdc659d2"
      },
      "source": [
        "#Checking for the number of each data type----\n",
        "df_numeric = df.select_dtypes(include='number') # extract columns with number\n",
        "num = len(df_numeric.columns) # sum the columns extracted\n",
        "print(f'We have {num} numeric columns') #format string\n",
        "\n",
        "df_obj = df.select_dtypes(include='object')\n",
        "num_2 = len(df_obj.columns)\n",
        "print(f'we have {num_2} object columns')\n",
        "\n",
        "df_bool = df.select_dtypes(include='bool')\n",
        "num_3 = len(df_bool.columns)\n",
        "print(f'we have {num_3} boolean columns')\n",
        "\n",
        "print(f'With a total number of {num + num_2 + num_3} columns')"
      ],
      "execution_count": null,
      "outputs": [
        {
          "output_type": "stream",
          "text": [
            "We have 14 numeric columns\n",
            "we have 20 object columns\n",
            "we have 13 boolean columns\n",
            "With a total number of 47 columns\n"
          ],
          "name": "stdout"
        }
      ]
    },
    {
      "cell_type": "code",
      "metadata": {
        "colab": {
          "base_uri": "https://localhost:8080/"
        },
        "id": "MXjfVUXsyM7J",
        "outputId": "c3f3bc7d-afb4-44b0-d73e-44ccb4345a8a"
      },
      "source": [
        "df_numeric.columns"
      ],
      "execution_count": null,
      "outputs": [
        {
          "output_type": "execute_result",
          "data": {
            "text/plain": [
              "Index(['Severity', 'Start_Lat', 'Start_Lng', 'End_Lat', 'End_Lng',\n",
              "       'Distance(mi)', 'Number', 'Temperature(F)', 'Wind_Chill(F)',\n",
              "       'Humidity(%)', 'Pressure(in)', 'Visibility(mi)', 'Wind_Speed(mph)',\n",
              "       'Precipitation(in)'],\n",
              "      dtype='object')"
            ]
          },
          "metadata": {
            "tags": []
          },
          "execution_count": 19
        }
      ]
    },
    {
      "cell_type": "code",
      "metadata": {
        "id": "rjcIDgcl2Upd"
      },
      "source": [
        "#To replce empty cell to NAN\n",
        "# df.replace(r'^\\s*$', np.nan, regex=True) \n"
      ],
      "execution_count": null,
      "outputs": []
    },
    {
      "cell_type": "code",
      "metadata": {
        "colab": {
          "base_uri": "https://localhost:8080/"
        },
        "id": "-vN-OI-0Ccgu",
        "outputId": "3e0a2eed-1d3d-4c30-ff25-944234fbd32c"
      },
      "source": [
        "#To check if there is missing data in the datframe\n",
        "df.isnull().values.any() "
      ],
      "execution_count": null,
      "outputs": [
        {
          "output_type": "execute_result",
          "data": {
            "text/plain": [
              "True"
            ]
          },
          "metadata": {
            "tags": []
          },
          "execution_count": 20
        }
      ]
    },
    {
      "cell_type": "markdown",
      "metadata": {
        "id": "ScT-XCX8xYU2"
      },
      "source": [
        "From the above code we can see there are missing data in the dataframe. We need to find percentage of missing data and drop all neccesary columns>"
      ]
    },
    {
      "cell_type": "code",
      "metadata": {
        "id": "HBv-QDuWXHpi",
        "colab": {
          "base_uri": "https://localhost:8080/",
          "height": 204
        },
        "outputId": "11ebc765-895a-46db-b43f-6ebfcede0ca3"
      },
      "source": [
        "#Checking for the percentage of the missing data\n",
        "\n",
        "#creating a dataframe for percebtage of missing data\n",
        "percentage_of_missing_data = pd.DataFrame({'Percentage of Missing of Data':round((df.isnull().sum()/len(df.index)) * 100,2)}) \n",
        "percentage_of_missing_data = percentage_of_missing_data.sort_values(by='Percentage of Missing of Data',ascending=False)\n",
        "percentage_of_missing_data.head(5)\n"
      ],
      "execution_count": null,
      "outputs": [
        {
          "output_type": "execute_result",
          "data": {
            "text/html": [
              "<div>\n",
              "<style scoped>\n",
              "    .dataframe tbody tr th:only-of-type {\n",
              "        vertical-align: middle;\n",
              "    }\n",
              "\n",
              "    .dataframe tbody tr th {\n",
              "        vertical-align: top;\n",
              "    }\n",
              "\n",
              "    .dataframe thead th {\n",
              "        text-align: right;\n",
              "    }\n",
              "</style>\n",
              "<table border=\"1\" class=\"dataframe\">\n",
              "  <thead>\n",
              "    <tr style=\"text-align: right;\">\n",
              "      <th></th>\n",
              "      <th>Percentage of Missing of Data</th>\n",
              "    </tr>\n",
              "  </thead>\n",
              "  <tbody>\n",
              "    <tr>\n",
              "      <th>Number</th>\n",
              "      <td>65.08</td>\n",
              "    </tr>\n",
              "    <tr>\n",
              "      <th>Precipitation(in)</th>\n",
              "      <td>44.77</td>\n",
              "    </tr>\n",
              "    <tr>\n",
              "      <th>Wind_Chill(F)</th>\n",
              "      <td>40.73</td>\n",
              "    </tr>\n",
              "    <tr>\n",
              "      <th>Wind_Speed(mph)</th>\n",
              "      <td>10.57</td>\n",
              "    </tr>\n",
              "    <tr>\n",
              "      <th>End_Lat</th>\n",
              "      <td>9.73</td>\n",
              "    </tr>\n",
              "  </tbody>\n",
              "</table>\n",
              "</div>"
            ],
            "text/plain": [
              "                   Percentage of Missing of Data\n",
              "Number                                     65.08\n",
              "Precipitation(in)                          44.77\n",
              "Wind_Chill(F)                              40.73\n",
              "Wind_Speed(mph)                            10.57\n",
              "End_Lat                                     9.73"
            ]
          },
          "metadata": {
            "tags": []
          },
          "execution_count": 14
        }
      ]
    },
    {
      "cell_type": "markdown",
      "metadata": {
        "id": "j7rynmq_80J_"
      },
      "source": [
        "\n",
        "\n",
        "\n",
        "\n",
        "\n",
        "\n",
        "\n",
        "\n",
        "*   65% of Number are missing. That means we can't really get any insight from it.\n",
        "\n",
        "*   44.8% of Precipitation is missing. We can work with that. We will have to come up with a way to fill the missing data up. Precipitation can't be ignored.\n",
        "\n",
        "\n",
        "*  We are just going to drop Number\n",
        "\n",
        "\n",
        "\n",
        "\n",
        "\n",
        "\n",
        "\n",
        "\n",
        "\n",
        "\n",
        "\n"
      ]
    },
    {
      "cell_type": "code",
      "metadata": {
        "id": "9orGKoC-XI3q",
        "colab": {
          "base_uri": "https://localhost:8080/",
          "height": 250
        },
        "outputId": "7cc2be1e-b63d-4d50-a510-b51ea9995f0a"
      },
      "source": [
        "df_obj.head(2)"
      ],
      "execution_count": null,
      "outputs": [
        {
          "output_type": "execute_result",
          "data": {
            "text/html": [
              "<div>\n",
              "<style scoped>\n",
              "    .dataframe tbody tr th:only-of-type {\n",
              "        vertical-align: middle;\n",
              "    }\n",
              "\n",
              "    .dataframe tbody tr th {\n",
              "        vertical-align: top;\n",
              "    }\n",
              "\n",
              "    .dataframe thead th {\n",
              "        text-align: right;\n",
              "    }\n",
              "</style>\n",
              "<table border=\"1\" class=\"dataframe\">\n",
              "  <thead>\n",
              "    <tr style=\"text-align: right;\">\n",
              "      <th></th>\n",
              "      <th>ID</th>\n",
              "      <th>Start_Time</th>\n",
              "      <th>End_Time</th>\n",
              "      <th>Description</th>\n",
              "      <th>Street</th>\n",
              "      <th>Side</th>\n",
              "      <th>City</th>\n",
              "      <th>County</th>\n",
              "      <th>State</th>\n",
              "      <th>Zipcode</th>\n",
              "      <th>Country</th>\n",
              "      <th>Timezone</th>\n",
              "      <th>Airport_Code</th>\n",
              "      <th>Weather_Timestamp</th>\n",
              "      <th>Wind_Direction</th>\n",
              "      <th>Weather_Condition</th>\n",
              "      <th>Sunrise_Sunset</th>\n",
              "      <th>Civil_Twilight</th>\n",
              "      <th>Nautical_Twilight</th>\n",
              "      <th>Astronomical_Twilight</th>\n",
              "    </tr>\n",
              "  </thead>\n",
              "  <tbody>\n",
              "    <tr>\n",
              "      <th>0</th>\n",
              "      <td>A-1</td>\n",
              "      <td>2019-05-21 08:29:55</td>\n",
              "      <td>2019-05-21 09:29:40</td>\n",
              "      <td>Accident on Tanner Rd at Pennbrooke Ln.</td>\n",
              "      <td>Tanner Rd</td>\n",
              "      <td>R</td>\n",
              "      <td>Greenville</td>\n",
              "      <td>Greenville</td>\n",
              "      <td>SC</td>\n",
              "      <td>29607-6027</td>\n",
              "      <td>US</td>\n",
              "      <td>US/Eastern</td>\n",
              "      <td>KGMU</td>\n",
              "      <td>2019-05-21 08:53:00</td>\n",
              "      <td>N</td>\n",
              "      <td>Fair</td>\n",
              "      <td>Day</td>\n",
              "      <td>Day</td>\n",
              "      <td>Day</td>\n",
              "      <td>Day</td>\n",
              "    </tr>\n",
              "    <tr>\n",
              "      <th>1</th>\n",
              "      <td>A-2</td>\n",
              "      <td>2019-10-07 17:43:09</td>\n",
              "      <td>2019-10-07 19:42:50</td>\n",
              "      <td>Accident on Houston Branch Rd at Providence Br...</td>\n",
              "      <td>Providence Branch Ln</td>\n",
              "      <td>R</td>\n",
              "      <td>Charlotte</td>\n",
              "      <td>Mecklenburg</td>\n",
              "      <td>NC</td>\n",
              "      <td>28270-8560</td>\n",
              "      <td>US</td>\n",
              "      <td>US/Eastern</td>\n",
              "      <td>KEQY</td>\n",
              "      <td>2019-10-07 17:53:00</td>\n",
              "      <td>VAR</td>\n",
              "      <td>Cloudy</td>\n",
              "      <td>Day</td>\n",
              "      <td>Day</td>\n",
              "      <td>Day</td>\n",
              "      <td>Day</td>\n",
              "    </tr>\n",
              "  </tbody>\n",
              "</table>\n",
              "</div>"
            ],
            "text/plain": [
              "    ID           Start_Time  ... Nautical_Twilight Astronomical_Twilight\n",
              "0  A-1  2019-05-21 08:29:55  ...               Day                   Day\n",
              "1  A-2  2019-10-07 17:43:09  ...               Day                   Day\n",
              "\n",
              "[2 rows x 20 columns]"
            ]
          },
          "metadata": {
            "tags": []
          },
          "execution_count": 16
        }
      ]
    },
    {
      "cell_type": "markdown",
      "metadata": {
        "id": "Ih_izz_oAPMJ"
      },
      "source": [
        "\n",
        "From the above datframe, these are my observations to note\n",
        "*   \n",
        "\n",
        "*   The date need to change to date type(dtype)\n",
        "\n",
        "*  The categorical data need to  change  to categorical type(dtype)\n",
        "\n",
        "\n",
        "*   The description column is not needed\n",
        "\n",
        "\n",
        "\n",
        "\n",
        "*  The city is not needed beacuse the Country is located in the State. Let's stick with State.\n",
        "\n",
        "*   The street is needed too. \n",
        "\n",
        "\n",
        "\n",
        "*   The country is not neeeded beacuse US is the only items in the Country.\n",
        "\n",
        "*   The zipcode is not needed beacause they represent each state\n",
        "\n",
        "\n",
        "\n",
        "\n",
        "\n",
        "\n",
        "\n",
        "\n"
      ]
    },
    {
      "cell_type": "code",
      "metadata": {
        "colab": {
          "base_uri": "https://localhost:8080/"
        },
        "id": "lCO3R4D0GEmV",
        "outputId": "4d2a534c-83df-4674-ee3a-b8ffd73f4dff"
      },
      "source": [
        "#Checking to see the unique  items in Side\n",
        "print(df.Side.unique())\n",
        "print(f'Total number of sides: {len(df.Side.unique())}')"
      ],
      "execution_count": null,
      "outputs": [
        {
          "output_type": "stream",
          "text": [
            "['R' 'L' ' ']\n",
            "Total number of sides: 3\n"
          ],
          "name": "stdout"
        }
      ]
    },
    {
      "cell_type": "markdown",
      "metadata": {
        "id": "zL5ERKW1Glvi"
      },
      "source": [
        "From the observation above, we have empty cell as the items. We should replece it with NAN values. "
      ]
    },
    {
      "cell_type": "code",
      "metadata": {
        "colab": {
          "base_uri": "https://localhost:8080/"
        },
        "id": "wyp6nAGCHNYP",
        "outputId": "a254a833-278a-4172-9792-4604316f3d8e"
      },
      "source": [
        "#checking to see the  uniques States \n",
        "print(df.State.unique())\n",
        "print(f\"The total number of States: {len(df.State.unique())}\")"
      ],
      "execution_count": null,
      "outputs": [
        {
          "output_type": "stream",
          "text": [
            "['SC' 'NC' 'CA' 'NV' 'FL' 'CO' 'TN' 'NY' 'TX' 'AZ' 'NJ' 'MI' 'GA' 'VA'\n",
            " 'IN' 'LA' 'PA' 'MN' 'OH' 'MD' 'CT' 'IL' 'MO' 'OR' 'NE' 'OK' 'UT' 'WA'\n",
            " 'AL' 'WI' 'MA' 'DC' 'MS' 'KS' 'KY' 'ME' 'IA' 'WV' 'AR' 'ID' 'RI' 'WY'\n",
            " 'NM' 'MT' 'NH' 'DE' 'ND' 'SD' 'VT']\n",
            "The total number of States: 49\n"
          ],
          "name": "stdout"
        }
      ]
    },
    {
      "cell_type": "code",
      "metadata": {
        "colab": {
          "base_uri": "https://localhost:8080/"
        },
        "id": "6N9oHlxHIDuv",
        "outputId": "f3075de9-e233-4a38-b7bc-cb96c79ad348"
      },
      "source": [
        "#Checking itmes in Timezones. Take note of categorical data\n",
        "print(df.Timezone.unique())\n",
        "print(f\"The total number of Timezones is {len(df.Timezone.unique())}\")"
      ],
      "execution_count": null,
      "outputs": [
        {
          "output_type": "stream",
          "text": [
            "['US/Eastern' 'US/Pacific' 'US/Mountain' 'US/Central' nan]\n",
            "The total number of Timezones is 5\n"
          ],
          "name": "stdout"
        }
      ]
    },
    {
      "cell_type": "code",
      "metadata": {
        "colab": {
          "base_uri": "https://localhost:8080/"
        },
        "id": "KxgI4wzgH93_",
        "outputId": "e1b56837-c3bc-4b22-def8-337516831a7f"
      },
      "source": [
        "#Checking to see the Airport Code\n",
        "print(df.Airport_Code.unique())\n",
        "print(f'The total number of Airport: {len(df.Airport_Code.unique())}')"
      ],
      "execution_count": null,
      "outputs": [
        {
          "output_type": "stream",
          "text": [
            "['KGMU' 'KEQY' 'KSJC' ... 'KCOM' 'KSIB' 'KGUY']\n",
            "The total number of Airport: 2014\n"
          ],
          "name": "stdout"
        }
      ]
    },
    {
      "cell_type": "code",
      "metadata": {
        "colab": {
          "base_uri": "https://localhost:8080/"
        },
        "id": "JcaTrqnAILLj",
        "outputId": "6fae1dcd-3ddd-422f-a132-a43f38f1c545"
      },
      "source": [
        "#Checking for unique  Wind_Direction\n",
        "print(df.Wind_Direction.unique())\n",
        "print(f\"Total number of Wind_Direction is {len(df.Wind_Direction.unique())}\")"
      ],
      "execution_count": null,
      "outputs": [
        {
          "output_type": "stream",
          "text": [
            "['N' 'VAR' 'W' 'SSW' 'SSE' 'NNW' 'NE' 'E' 'West' 'S' 'Variable' 'WSW' 'SW'\n",
            " 'ESE' 'South' 'ENE' 'Calm' 'NNE' 'CALM' 'NW' 'East' 'North' 'WNW' 'SE'\n",
            " nan]\n",
            "Total number of Wind_Direction is 25\n"
          ],
          "name": "stdout"
        }
      ]
    },
    {
      "cell_type": "code",
      "metadata": {
        "colab": {
          "base_uri": "https://localhost:8080/"
        },
        "id": "VmEGQdw6ITd9",
        "outputId": "44e6e746-ede2-4446-8c20-1797d83d5592"
      },
      "source": [
        "#Checking for unique weather conditions\n",
        "print(df.Weather_Condition.unique())\n",
        "print(f'The total number of weather condition is {len(df.Weather_Condition.unique())}')"
      ],
      "execution_count": null,
      "outputs": [
        {
          "output_type": "stream",
          "text": [
            "['Fair' 'Cloudy' 'Clear' 'Overcast' 'Light Snow' 'Mostly Cloudy'\n",
            " 'Partly Cloudy' 'Scattered Clouds' 'Wintry Mix' 'Shallow Fog' 'Fog'\n",
            " 'Haze' nan 'Light Rain' 'Smoke' 'Rain' 'Cloudy / Windy' 'Light Drizzle'\n",
            " 'Heavy Snow' 'Snow' 'Thunderstorm' 'Light Rain Shower' 'Heavy Rain'\n",
            " 'Mist' 'Thunderstorms and Rain' 'Fair / Windy' 'Light Freezing Rain'\n",
            " 'Light Thunderstorms and Rain' 'Light Snow / Windy'\n",
            " 'Thunder in the Vicinity' 'Drizzle' 'Rain / Windy' 'Thunder'\n",
            " 'Drizzle and Fog' 'Heavy Thunderstorms and Rain' 'T-Storm'\n",
            " 'Light Rain with Thunder' 'Partly Cloudy / Windy' 'Patches of Fog'\n",
            " 'Mostly Cloudy / Windy' 'Haze / Windy' 'Heavy T-Storm'\n",
            " 'Light Rain / Windy' 'Blowing Snow' 'Light Freezing Fog'\n",
            " 'Light Freezing Drizzle' 'Small Hail' 'Widespread Dust' 'Heavy Drizzle'\n",
            " 'Heavy Rain / Windy' 'Heavy T-Storm / Windy' 'Snow / Windy'\n",
            " 'Light Blowing Snow' 'Showers in the Vicinity' 'Fog / Windy' 'Sleet'\n",
            " 'Light Ice Pellets' 'Blowing Dust / Windy' 'Smoke / Windy'\n",
            " 'T-Storm / Windy' 'Ice Pellets' 'Heavy Ice Pellets' 'Partial Fog'\n",
            " 'Light Drizzle / Windy' 'Heavy Thunderstorms and Snow' 'Squalls / Windy'\n",
            " 'Low Drifting Snow' 'Snow and Sleet' 'N/A Precipitation'\n",
            " 'Sand / Dust Whirlwinds' 'Heavy Rain Shower' 'Thunder / Windy' 'Squalls'\n",
            " 'Rain Showers' 'Blowing Snow / Windy' 'Light Rain Showers'\n",
            " 'Light Snow with Thunder' 'Light Snow and Sleet' 'Rain Shower'\n",
            " 'Blowing Dust' 'Light Snow and Sleet / Windy' 'Wintry Mix / Windy'\n",
            " 'Light Snow Showers' 'Heavy Snow with Thunder' 'Heavy Snow / Windy'\n",
            " 'Sand / Dust Whirls Nearby' 'Light Sleet' 'Light Haze' 'Snow Showers'\n",
            " 'Freezing Rain' 'Heavy Smoke' 'Heavy Sleet' 'Snow and Sleet / Windy'\n",
            " 'Thunder and Hail' 'Light Thunderstorms and Snow'\n",
            " 'Light Freezing Rain / Windy' 'Patches of Fog / Windy' 'Snow Grains'\n",
            " 'Funnel Cloud' 'Sand' 'Light Thunderstorm' 'Light Rain Shower / Windy'\n",
            " 'Drizzle / Windy' 'Thunderstorms and Snow' 'Tornado'\n",
            " 'Thunder and Hail / Windy' 'Thunder / Wintry Mix / Windy' 'Volcanic Ash'\n",
            " 'Heavy Blowing Snow' 'Light Snow Grains' 'Light Sleet / Windy'\n",
            " 'Freezing Drizzle' 'Rain and Sleet' 'Hail' 'Blowing Sand' 'Mist / Windy'\n",
            " 'Light Fog' 'Light Snow Shower' 'Heavy Freezing Rain'\n",
            " 'Heavy Thunderstorms with Small Hail' 'Light Hail' 'Thunder / Wintry Mix'\n",
            " 'Freezing Rain / Windy' 'Widespread Dust / Windy' 'Drifting Snow'\n",
            " 'Dust Whirls' 'Heavy Rain Showers' 'Heavy Freezing Drizzle'\n",
            " 'Sleet / Windy']\n",
            "The total number of weather condition is 129\n"
          ],
          "name": "stdout"
        }
      ]
    },
    {
      "cell_type": "markdown",
      "metadata": {
        "id": "TZqM2E4II7b6"
      },
      "source": [
        "\n",
        "# COLUMNS FOR TWILIGHT & SUNSET\n",
        "Since the columns for twighlt, together with Sunset have the same items(Day & Night), I have to check for the correlation to see if they are highly corrrelated or not."
      ]
    },
    {
      "cell_type": "code",
      "metadata": {
        "colab": {
          "base_uri": "https://localhost:8080/",
          "height": 142
        },
        "id": "QgyrPBfxJt3D",
        "outputId": "f34b8d17-2a7e-4221-c34b-8619838dd1bf"
      },
      "source": [
        "#Checking for how they correlate\n",
        "twilight = df[['Sunrise_Sunset','Civil_Twilight','Nautical_Twilight','Astronomical_Twilight']]\n",
        "twilight.head(3)"
      ],
      "execution_count": null,
      "outputs": [
        {
          "output_type": "execute_result",
          "data": {
            "text/html": [
              "<div>\n",
              "<style scoped>\n",
              "    .dataframe tbody tr th:only-of-type {\n",
              "        vertical-align: middle;\n",
              "    }\n",
              "\n",
              "    .dataframe tbody tr th {\n",
              "        vertical-align: top;\n",
              "    }\n",
              "\n",
              "    .dataframe thead th {\n",
              "        text-align: right;\n",
              "    }\n",
              "</style>\n",
              "<table border=\"1\" class=\"dataframe\">\n",
              "  <thead>\n",
              "    <tr style=\"text-align: right;\">\n",
              "      <th></th>\n",
              "      <th>Sunrise_Sunset</th>\n",
              "      <th>Civil_Twilight</th>\n",
              "      <th>Nautical_Twilight</th>\n",
              "      <th>Astronomical_Twilight</th>\n",
              "    </tr>\n",
              "  </thead>\n",
              "  <tbody>\n",
              "    <tr>\n",
              "      <th>0</th>\n",
              "      <td>Day</td>\n",
              "      <td>Day</td>\n",
              "      <td>Day</td>\n",
              "      <td>Day</td>\n",
              "    </tr>\n",
              "    <tr>\n",
              "      <th>1</th>\n",
              "      <td>Day</td>\n",
              "      <td>Day</td>\n",
              "      <td>Day</td>\n",
              "      <td>Day</td>\n",
              "    </tr>\n",
              "    <tr>\n",
              "      <th>2</th>\n",
              "      <td>Night</td>\n",
              "      <td>Night</td>\n",
              "      <td>Night</td>\n",
              "      <td>Night</td>\n",
              "    </tr>\n",
              "  </tbody>\n",
              "</table>\n",
              "</div>"
            ],
            "text/plain": [
              "  Sunrise_Sunset Civil_Twilight Nautical_Twilight Astronomical_Twilight\n",
              "0            Day            Day               Day                   Day\n",
              "1            Day            Day               Day                   Day\n",
              "2          Night          Night             Night                 Night"
            ]
          },
          "metadata": {
            "tags": []
          },
          "execution_count": 21
        }
      ]
    },
    {
      "cell_type": "markdown",
      "metadata": {
        "id": "foUzH8tpKM1Z"
      },
      "source": [
        "From the above table, from the glance look, day is consistent in all columns and Night is the same. Note, that's not enough to conclude. We don't have the total look of the dataset. One way to go about this is to change it to numbers and find the correlation.\n",
        "\n"
      ]
    },
    {
      "cell_type": "code",
      "metadata": {
        "id": "VvUUJToyKW6f"
      },
      "source": [
        "#getting the dummies  for each data point\n",
        "twilight = pd.get_dummies(twilight)"
      ],
      "execution_count": null,
      "outputs": []
    },
    {
      "cell_type": "code",
      "metadata": {
        "id": "qQ5GLpVRqZE3"
      },
      "source": [
        ""
      ],
      "execution_count": null,
      "outputs": []
    },
    {
      "cell_type": "code",
      "metadata": {
        "colab": {
          "base_uri": "https://localhost:8080/",
          "height": 439
        },
        "id": "_nsalwHyL3MZ",
        "outputId": "06f9d63a-6389-47cc-b2f1-e8a81d830452"
      },
      "source": [
        "twilight"
      ],
      "execution_count": null,
      "outputs": [
        {
          "output_type": "execute_result",
          "data": {
            "text/html": [
              "<div>\n",
              "<style scoped>\n",
              "    .dataframe tbody tr th:only-of-type {\n",
              "        vertical-align: middle;\n",
              "    }\n",
              "\n",
              "    .dataframe tbody tr th {\n",
              "        vertical-align: top;\n",
              "    }\n",
              "\n",
              "    .dataframe thead th {\n",
              "        text-align: right;\n",
              "    }\n",
              "</style>\n",
              "<table border=\"1\" class=\"dataframe\">\n",
              "  <thead>\n",
              "    <tr style=\"text-align: right;\">\n",
              "      <th></th>\n",
              "      <th>Sunrise_Sunset_Day</th>\n",
              "      <th>Sunrise_Sunset_Night</th>\n",
              "      <th>Civil_Twilight_Day</th>\n",
              "      <th>Civil_Twilight_Night</th>\n",
              "      <th>Nautical_Twilight_Day</th>\n",
              "      <th>Nautical_Twilight_Night</th>\n",
              "      <th>Astronomical_Twilight_Day</th>\n",
              "      <th>Astronomical_Twilight_Night</th>\n",
              "    </tr>\n",
              "  </thead>\n",
              "  <tbody>\n",
              "    <tr>\n",
              "      <th>0</th>\n",
              "      <td>1</td>\n",
              "      <td>0</td>\n",
              "      <td>1</td>\n",
              "      <td>0</td>\n",
              "      <td>1</td>\n",
              "      <td>0</td>\n",
              "      <td>1</td>\n",
              "      <td>0</td>\n",
              "    </tr>\n",
              "    <tr>\n",
              "      <th>1</th>\n",
              "      <td>1</td>\n",
              "      <td>0</td>\n",
              "      <td>1</td>\n",
              "      <td>0</td>\n",
              "      <td>1</td>\n",
              "      <td>0</td>\n",
              "      <td>1</td>\n",
              "      <td>0</td>\n",
              "    </tr>\n",
              "    <tr>\n",
              "      <th>2</th>\n",
              "      <td>0</td>\n",
              "      <td>1</td>\n",
              "      <td>0</td>\n",
              "      <td>1</td>\n",
              "      <td>0</td>\n",
              "      <td>1</td>\n",
              "      <td>0</td>\n",
              "      <td>1</td>\n",
              "    </tr>\n",
              "    <tr>\n",
              "      <th>3</th>\n",
              "      <td>1</td>\n",
              "      <td>0</td>\n",
              "      <td>1</td>\n",
              "      <td>0</td>\n",
              "      <td>1</td>\n",
              "      <td>0</td>\n",
              "      <td>1</td>\n",
              "      <td>0</td>\n",
              "    </tr>\n",
              "    <tr>\n",
              "      <th>4</th>\n",
              "      <td>1</td>\n",
              "      <td>0</td>\n",
              "      <td>1</td>\n",
              "      <td>0</td>\n",
              "      <td>1</td>\n",
              "      <td>0</td>\n",
              "      <td>1</td>\n",
              "      <td>0</td>\n",
              "    </tr>\n",
              "    <tr>\n",
              "      <th>...</th>\n",
              "      <td>...</td>\n",
              "      <td>...</td>\n",
              "      <td>...</td>\n",
              "      <td>...</td>\n",
              "      <td>...</td>\n",
              "      <td>...</td>\n",
              "      <td>...</td>\n",
              "      <td>...</td>\n",
              "    </tr>\n",
              "    <tr>\n",
              "      <th>2906605</th>\n",
              "      <td>1</td>\n",
              "      <td>0</td>\n",
              "      <td>1</td>\n",
              "      <td>0</td>\n",
              "      <td>1</td>\n",
              "      <td>0</td>\n",
              "      <td>1</td>\n",
              "      <td>0</td>\n",
              "    </tr>\n",
              "    <tr>\n",
              "      <th>2906606</th>\n",
              "      <td>0</td>\n",
              "      <td>1</td>\n",
              "      <td>0</td>\n",
              "      <td>1</td>\n",
              "      <td>0</td>\n",
              "      <td>1</td>\n",
              "      <td>0</td>\n",
              "      <td>1</td>\n",
              "    </tr>\n",
              "    <tr>\n",
              "      <th>2906607</th>\n",
              "      <td>1</td>\n",
              "      <td>0</td>\n",
              "      <td>1</td>\n",
              "      <td>0</td>\n",
              "      <td>1</td>\n",
              "      <td>0</td>\n",
              "      <td>1</td>\n",
              "      <td>0</td>\n",
              "    </tr>\n",
              "    <tr>\n",
              "      <th>2906608</th>\n",
              "      <td>0</td>\n",
              "      <td>1</td>\n",
              "      <td>0</td>\n",
              "      <td>1</td>\n",
              "      <td>0</td>\n",
              "      <td>1</td>\n",
              "      <td>0</td>\n",
              "      <td>1</td>\n",
              "    </tr>\n",
              "    <tr>\n",
              "      <th>2906609</th>\n",
              "      <td>1</td>\n",
              "      <td>0</td>\n",
              "      <td>1</td>\n",
              "      <td>0</td>\n",
              "      <td>1</td>\n",
              "      <td>0</td>\n",
              "      <td>1</td>\n",
              "      <td>0</td>\n",
              "    </tr>\n",
              "  </tbody>\n",
              "</table>\n",
              "<p>2906610 rows × 8 columns</p>\n",
              "</div>"
            ],
            "text/plain": [
              "         Sunrise_Sunset_Day  ...  Astronomical_Twilight_Night\n",
              "0                         1  ...                            0\n",
              "1                         1  ...                            0\n",
              "2                         0  ...                            1\n",
              "3                         1  ...                            0\n",
              "4                         1  ...                            0\n",
              "...                     ...  ...                          ...\n",
              "2906605                   1  ...                            0\n",
              "2906606                   0  ...                            1\n",
              "2906607                   1  ...                            0\n",
              "2906608                   0  ...                            1\n",
              "2906609                   1  ...                            0\n",
              "\n",
              "[2906610 rows x 8 columns]"
            ]
          },
          "metadata": {
            "tags": []
          },
          "execution_count": 36
        }
      ]
    },
    {
      "cell_type": "markdown",
      "metadata": {
        "id": "esmTE98dPUUU"
      },
      "source": [
        "After changing it to numbers, Let's create a dataframe for day and night."
      ]
    },
    {
      "cell_type": "code",
      "metadata": {
        "colab": {
          "base_uri": "https://localhost:8080/",
          "height": 204
        },
        "id": "8LrHye_BLXPI",
        "outputId": "99ff9f6a-a299-434a-d9ab-4500d2452bc2"
      },
      "source": [
        "# A dataframe for day only\n",
        "twilight_day = twilight[['Sunrise_Sunset_Day','Civil_Twilight_Day','Nautical_Twilight_Day','Astronomical_Twilight_Day']]\n",
        "twilight_day.head(5)"
      ],
      "execution_count": null,
      "outputs": [
        {
          "output_type": "execute_result",
          "data": {
            "text/html": [
              "<div>\n",
              "<style scoped>\n",
              "    .dataframe tbody tr th:only-of-type {\n",
              "        vertical-align: middle;\n",
              "    }\n",
              "\n",
              "    .dataframe tbody tr th {\n",
              "        vertical-align: top;\n",
              "    }\n",
              "\n",
              "    .dataframe thead th {\n",
              "        text-align: right;\n",
              "    }\n",
              "</style>\n",
              "<table border=\"1\" class=\"dataframe\">\n",
              "  <thead>\n",
              "    <tr style=\"text-align: right;\">\n",
              "      <th></th>\n",
              "      <th>Sunrise_Sunset_Day</th>\n",
              "      <th>Civil_Twilight_Day</th>\n",
              "      <th>Nautical_Twilight_Day</th>\n",
              "      <th>Astronomical_Twilight_Day</th>\n",
              "    </tr>\n",
              "  </thead>\n",
              "  <tbody>\n",
              "    <tr>\n",
              "      <th>0</th>\n",
              "      <td>1</td>\n",
              "      <td>1</td>\n",
              "      <td>1</td>\n",
              "      <td>1</td>\n",
              "    </tr>\n",
              "    <tr>\n",
              "      <th>1</th>\n",
              "      <td>1</td>\n",
              "      <td>1</td>\n",
              "      <td>1</td>\n",
              "      <td>1</td>\n",
              "    </tr>\n",
              "    <tr>\n",
              "      <th>2</th>\n",
              "      <td>0</td>\n",
              "      <td>0</td>\n",
              "      <td>0</td>\n",
              "      <td>0</td>\n",
              "    </tr>\n",
              "    <tr>\n",
              "      <th>3</th>\n",
              "      <td>1</td>\n",
              "      <td>1</td>\n",
              "      <td>1</td>\n",
              "      <td>1</td>\n",
              "    </tr>\n",
              "    <tr>\n",
              "      <th>4</th>\n",
              "      <td>1</td>\n",
              "      <td>1</td>\n",
              "      <td>1</td>\n",
              "      <td>1</td>\n",
              "    </tr>\n",
              "  </tbody>\n",
              "</table>\n",
              "</div>"
            ],
            "text/plain": [
              "   Sunrise_Sunset_Day  ...  Astronomical_Twilight_Day\n",
              "0                   1  ...                          1\n",
              "1                   1  ...                          1\n",
              "2                   0  ...                          0\n",
              "3                   1  ...                          1\n",
              "4                   1  ...                          1\n",
              "\n",
              "[5 rows x 4 columns]"
            ]
          },
          "metadata": {
            "tags": []
          },
          "execution_count": 23
        }
      ]
    },
    {
      "cell_type": "code",
      "metadata": {
        "colab": {
          "base_uri": "https://localhost:8080/",
          "height": 204
        },
        "id": "DBE7vfvpPyhZ",
        "outputId": "a84f84a8-87b6-422d-92a7-7cfed1230128"
      },
      "source": [
        "# A dataframe for night  only\n",
        "twilight_night = twilight[['Sunrise_Sunset_Night','Civil_Twilight_Night','Nautical_Twilight_Night','Astronomical_Twilight_Night']]\n",
        "twilight_night.head(5)"
      ],
      "execution_count": null,
      "outputs": [
        {
          "output_type": "execute_result",
          "data": {
            "text/html": [
              "<div>\n",
              "<style scoped>\n",
              "    .dataframe tbody tr th:only-of-type {\n",
              "        vertical-align: middle;\n",
              "    }\n",
              "\n",
              "    .dataframe tbody tr th {\n",
              "        vertical-align: top;\n",
              "    }\n",
              "\n",
              "    .dataframe thead th {\n",
              "        text-align: right;\n",
              "    }\n",
              "</style>\n",
              "<table border=\"1\" class=\"dataframe\">\n",
              "  <thead>\n",
              "    <tr style=\"text-align: right;\">\n",
              "      <th></th>\n",
              "      <th>Sunrise_Sunset_Night</th>\n",
              "      <th>Civil_Twilight_Night</th>\n",
              "      <th>Nautical_Twilight_Night</th>\n",
              "      <th>Astronomical_Twilight_Night</th>\n",
              "    </tr>\n",
              "  </thead>\n",
              "  <tbody>\n",
              "    <tr>\n",
              "      <th>0</th>\n",
              "      <td>0</td>\n",
              "      <td>0</td>\n",
              "      <td>0</td>\n",
              "      <td>0</td>\n",
              "    </tr>\n",
              "    <tr>\n",
              "      <th>1</th>\n",
              "      <td>0</td>\n",
              "      <td>0</td>\n",
              "      <td>0</td>\n",
              "      <td>0</td>\n",
              "    </tr>\n",
              "    <tr>\n",
              "      <th>2</th>\n",
              "      <td>1</td>\n",
              "      <td>1</td>\n",
              "      <td>1</td>\n",
              "      <td>1</td>\n",
              "    </tr>\n",
              "    <tr>\n",
              "      <th>3</th>\n",
              "      <td>0</td>\n",
              "      <td>0</td>\n",
              "      <td>0</td>\n",
              "      <td>0</td>\n",
              "    </tr>\n",
              "    <tr>\n",
              "      <th>4</th>\n",
              "      <td>0</td>\n",
              "      <td>0</td>\n",
              "      <td>0</td>\n",
              "      <td>0</td>\n",
              "    </tr>\n",
              "  </tbody>\n",
              "</table>\n",
              "</div>"
            ],
            "text/plain": [
              "   Sunrise_Sunset_Night  ...  Astronomical_Twilight_Night\n",
              "0                     0  ...                            0\n",
              "1                     0  ...                            0\n",
              "2                     1  ...                            1\n",
              "3                     0  ...                            0\n",
              "4                     0  ...                            0\n",
              "\n",
              "[5 rows x 4 columns]"
            ]
          },
          "metadata": {
            "tags": []
          },
          "execution_count": 24
        }
      ]
    },
    {
      "cell_type": "code",
      "metadata": {
        "colab": {
          "base_uri": "https://localhost:8080/",
          "height": 193
        },
        "id": "ozW65FN0QGZd",
        "outputId": "270ca3b3-43d0-46fb-ffb4-3ee62f078aeb"
      },
      "source": [
        "#Checking for day correlation\n",
        "twilight_day = twilight_day.corr()\n",
        "twilight_day"
      ],
      "execution_count": null,
      "outputs": [
        {
          "output_type": "execute_result",
          "data": {
            "text/html": [
              "<div>\n",
              "<style scoped>\n",
              "    .dataframe tbody tr th:only-of-type {\n",
              "        vertical-align: middle;\n",
              "    }\n",
              "\n",
              "    .dataframe tbody tr th {\n",
              "        vertical-align: top;\n",
              "    }\n",
              "\n",
              "    .dataframe thead th {\n",
              "        text-align: right;\n",
              "    }\n",
              "</style>\n",
              "<table border=\"1\" class=\"dataframe\">\n",
              "  <thead>\n",
              "    <tr style=\"text-align: right;\">\n",
              "      <th></th>\n",
              "      <th>Sunrise_Sunset_Day</th>\n",
              "      <th>Civil_Twilight_Day</th>\n",
              "      <th>Nautical_Twilight_Day</th>\n",
              "      <th>Astronomical_Twilight_Day</th>\n",
              "    </tr>\n",
              "  </thead>\n",
              "  <tbody>\n",
              "    <tr>\n",
              "      <th>Sunrise_Sunset_Day</th>\n",
              "      <td>1.000000</td>\n",
              "      <td>0.898599</td>\n",
              "      <td>0.794332</td>\n",
              "      <td>0.707199</td>\n",
              "    </tr>\n",
              "    <tr>\n",
              "      <th>Civil_Twilight_Day</th>\n",
              "      <td>0.898599</td>\n",
              "      <td>1.000000</td>\n",
              "      <td>0.883924</td>\n",
              "      <td>0.787076</td>\n",
              "    </tr>\n",
              "    <tr>\n",
              "      <th>Nautical_Twilight_Day</th>\n",
              "      <td>0.794332</td>\n",
              "      <td>0.883924</td>\n",
              "      <td>1.000000</td>\n",
              "      <td>0.890480</td>\n",
              "    </tr>\n",
              "    <tr>\n",
              "      <th>Astronomical_Twilight_Day</th>\n",
              "      <td>0.707199</td>\n",
              "      <td>0.787076</td>\n",
              "      <td>0.890480</td>\n",
              "      <td>1.000000</td>\n",
              "    </tr>\n",
              "  </tbody>\n",
              "</table>\n",
              "</div>"
            ],
            "text/plain": [
              "                           Sunrise_Sunset_Day  ...  Astronomical_Twilight_Day\n",
              "Sunrise_Sunset_Day                   1.000000  ...                   0.707199\n",
              "Civil_Twilight_Day                   0.898599  ...                   0.787076\n",
              "Nautical_Twilight_Day                0.794332  ...                   0.890480\n",
              "Astronomical_Twilight_Day            0.707199  ...                   1.000000\n",
              "\n",
              "[4 rows x 4 columns]"
            ]
          },
          "metadata": {
            "tags": []
          },
          "execution_count": 25
        }
      ]
    },
    {
      "cell_type": "code",
      "metadata": {
        "colab": {
          "base_uri": "https://localhost:8080/",
          "height": 193
        },
        "id": "m2RnGICXQOEU",
        "outputId": "1f4b7a84-ddeb-40d0-9598-be0e82810f49"
      },
      "source": [
        "#Checking for day correlation\n",
        "twilight_night = twilight_night.corr()\n",
        "twilight_night"
      ],
      "execution_count": null,
      "outputs": [
        {
          "output_type": "execute_result",
          "data": {
            "text/html": [
              "<div>\n",
              "<style scoped>\n",
              "    .dataframe tbody tr th:only-of-type {\n",
              "        vertical-align: middle;\n",
              "    }\n",
              "\n",
              "    .dataframe tbody tr th {\n",
              "        vertical-align: top;\n",
              "    }\n",
              "\n",
              "    .dataframe thead th {\n",
              "        text-align: right;\n",
              "    }\n",
              "</style>\n",
              "<table border=\"1\" class=\"dataframe\">\n",
              "  <thead>\n",
              "    <tr style=\"text-align: right;\">\n",
              "      <th></th>\n",
              "      <th>Sunrise_Sunset_Night</th>\n",
              "      <th>Civil_Twilight_Night</th>\n",
              "      <th>Nautical_Twilight_Night</th>\n",
              "      <th>Astronomical_Twilight_Night</th>\n",
              "    </tr>\n",
              "  </thead>\n",
              "  <tbody>\n",
              "    <tr>\n",
              "      <th>Sunrise_Sunset_Night</th>\n",
              "      <td>1.000000</td>\n",
              "      <td>0.898592</td>\n",
              "      <td>0.794317</td>\n",
              "      <td>0.707175</td>\n",
              "    </tr>\n",
              "    <tr>\n",
              "      <th>Civil_Twilight_Night</th>\n",
              "      <td>0.898592</td>\n",
              "      <td>1.000000</td>\n",
              "      <td>0.883914</td>\n",
              "      <td>0.787055</td>\n",
              "    </tr>\n",
              "    <tr>\n",
              "      <th>Nautical_Twilight_Night</th>\n",
              "      <td>0.794317</td>\n",
              "      <td>0.883914</td>\n",
              "      <td>1.000000</td>\n",
              "      <td>0.890467</td>\n",
              "    </tr>\n",
              "    <tr>\n",
              "      <th>Astronomical_Twilight_Night</th>\n",
              "      <td>0.707175</td>\n",
              "      <td>0.787055</td>\n",
              "      <td>0.890467</td>\n",
              "      <td>1.000000</td>\n",
              "    </tr>\n",
              "  </tbody>\n",
              "</table>\n",
              "</div>"
            ],
            "text/plain": [
              "                             Sunrise_Sunset_Night  ...  Astronomical_Twilight_Night\n",
              "Sunrise_Sunset_Night                     1.000000  ...                     0.707175\n",
              "Civil_Twilight_Night                     0.898592  ...                     0.787055\n",
              "Nautical_Twilight_Night                  0.794317  ...                     0.890467\n",
              "Astronomical_Twilight_Night              0.707175  ...                     1.000000\n",
              "\n",
              "[4 rows x 4 columns]"
            ]
          },
          "metadata": {
            "tags": []
          },
          "execution_count": 26
        }
      ]
    },
    {
      "cell_type": "markdown",
      "metadata": {
        "id": "bJQi0LhZQiks"
      },
      "source": [
        "From the above observation, twiliht day and  twilight night shows the items are highly correlated. This means there is a high level that they all predict each other. we can drop all except one that will be used in the analysis.\n",
        "\n"
      ]
    },
    {
      "cell_type": "code",
      "metadata": {
        "id": "JCgU2MM5XGA1",
        "colab": {
          "base_uri": "https://localhost:8080/",
          "height": 131
        },
        "outputId": "dd94e045-eebd-4fbc-fcd3-53aa09f0ec24"
      },
      "source": [
        "df_bool.head(2)"
      ],
      "execution_count": null,
      "outputs": [
        {
          "output_type": "execute_result",
          "data": {
            "text/html": [
              "<div>\n",
              "<style scoped>\n",
              "    .dataframe tbody tr th:only-of-type {\n",
              "        vertical-align: middle;\n",
              "    }\n",
              "\n",
              "    .dataframe tbody tr th {\n",
              "        vertical-align: top;\n",
              "    }\n",
              "\n",
              "    .dataframe thead th {\n",
              "        text-align: right;\n",
              "    }\n",
              "</style>\n",
              "<table border=\"1\" class=\"dataframe\">\n",
              "  <thead>\n",
              "    <tr style=\"text-align: right;\">\n",
              "      <th></th>\n",
              "      <th>Amenity</th>\n",
              "      <th>Bump</th>\n",
              "      <th>Crossing</th>\n",
              "      <th>Give_Way</th>\n",
              "      <th>Junction</th>\n",
              "      <th>No_Exit</th>\n",
              "      <th>Railway</th>\n",
              "      <th>Roundabout</th>\n",
              "      <th>Station</th>\n",
              "      <th>Stop</th>\n",
              "      <th>Traffic_Calming</th>\n",
              "      <th>Traffic_Signal</th>\n",
              "      <th>Turning_Loop</th>\n",
              "    </tr>\n",
              "  </thead>\n",
              "  <tbody>\n",
              "    <tr>\n",
              "      <th>0</th>\n",
              "      <td>False</td>\n",
              "      <td>False</td>\n",
              "      <td>False</td>\n",
              "      <td>False</td>\n",
              "      <td>False</td>\n",
              "      <td>False</td>\n",
              "      <td>False</td>\n",
              "      <td>False</td>\n",
              "      <td>False</td>\n",
              "      <td>False</td>\n",
              "      <td>False</td>\n",
              "      <td>False</td>\n",
              "      <td>False</td>\n",
              "    </tr>\n",
              "    <tr>\n",
              "      <th>1</th>\n",
              "      <td>False</td>\n",
              "      <td>False</td>\n",
              "      <td>False</td>\n",
              "      <td>False</td>\n",
              "      <td>False</td>\n",
              "      <td>False</td>\n",
              "      <td>False</td>\n",
              "      <td>False</td>\n",
              "      <td>False</td>\n",
              "      <td>False</td>\n",
              "      <td>False</td>\n",
              "      <td>False</td>\n",
              "      <td>False</td>\n",
              "    </tr>\n",
              "  </tbody>\n",
              "</table>\n",
              "</div>"
            ],
            "text/plain": [
              "   Amenity   Bump  Crossing  ...  Traffic_Calming  Traffic_Signal  Turning_Loop\n",
              "0    False  False     False  ...            False           False         False\n",
              "1    False  False     False  ...            False           False         False\n",
              "\n",
              "[2 rows x 13 columns]"
            ]
          },
          "metadata": {
            "tags": []
          },
          "execution_count": 27
        }
      ]
    },
    {
      "cell_type": "code",
      "metadata": {
        "colab": {
          "base_uri": "https://localhost:8080/"
        },
        "id": "hlvN9mWQd9HV",
        "outputId": "5a64cffb-b231-484e-bebc-ddb47f4bce1a"
      },
      "source": [
        "print(df.Turning_Loop.unique())"
      ],
      "execution_count": null,
      "outputs": [
        {
          "output_type": "stream",
          "text": [
            "[False]\n"
          ],
          "name": "stdout"
        }
      ]
    },
    {
      "cell_type": "markdown",
      "metadata": {
        "id": "KGQbhjdwEz11"
      },
      "source": [
        "I observed the Turning loop column has only one entries(False), which we need to  drop."
      ]
    },
    {
      "cell_type": "code",
      "metadata": {
        "id": "5KwXOZdSJRAd",
        "colab": {
          "base_uri": "https://localhost:8080/",
          "height": 131
        },
        "outputId": "6a27ed93-54a0-4f0c-ddab-6eccc6f95c15"
      },
      "source": [
        "df_numeric.head(2)"
      ],
      "execution_count": null,
      "outputs": [
        {
          "output_type": "execute_result",
          "data": {
            "text/html": [
              "<div>\n",
              "<style scoped>\n",
              "    .dataframe tbody tr th:only-of-type {\n",
              "        vertical-align: middle;\n",
              "    }\n",
              "\n",
              "    .dataframe tbody tr th {\n",
              "        vertical-align: top;\n",
              "    }\n",
              "\n",
              "    .dataframe thead th {\n",
              "        text-align: right;\n",
              "    }\n",
              "</style>\n",
              "<table border=\"1\" class=\"dataframe\">\n",
              "  <thead>\n",
              "    <tr style=\"text-align: right;\">\n",
              "      <th></th>\n",
              "      <th>Severity</th>\n",
              "      <th>Start_Lat</th>\n",
              "      <th>Start_Lng</th>\n",
              "      <th>End_Lat</th>\n",
              "      <th>End_Lng</th>\n",
              "      <th>Distance(mi)</th>\n",
              "      <th>Number</th>\n",
              "      <th>Temperature(F)</th>\n",
              "      <th>Wind_Chill(F)</th>\n",
              "      <th>Humidity(%)</th>\n",
              "      <th>Pressure(in)</th>\n",
              "      <th>Visibility(mi)</th>\n",
              "      <th>Wind_Speed(mph)</th>\n",
              "      <th>Precipitation(in)</th>\n",
              "    </tr>\n",
              "  </thead>\n",
              "  <tbody>\n",
              "    <tr>\n",
              "      <th>0</th>\n",
              "      <td>2</td>\n",
              "      <td>34.808868</td>\n",
              "      <td>-82.269157</td>\n",
              "      <td>34.808868</td>\n",
              "      <td>-82.269157</td>\n",
              "      <td>0.0</td>\n",
              "      <td>439.0</td>\n",
              "      <td>76.0</td>\n",
              "      <td>76.0</td>\n",
              "      <td>52.0</td>\n",
              "      <td>28.91</td>\n",
              "      <td>10.0</td>\n",
              "      <td>7.0</td>\n",
              "      <td>0.0</td>\n",
              "    </tr>\n",
              "    <tr>\n",
              "      <th>1</th>\n",
              "      <td>2</td>\n",
              "      <td>35.090080</td>\n",
              "      <td>-80.745560</td>\n",
              "      <td>35.090080</td>\n",
              "      <td>-80.745560</td>\n",
              "      <td>0.0</td>\n",
              "      <td>3299.0</td>\n",
              "      <td>76.0</td>\n",
              "      <td>76.0</td>\n",
              "      <td>62.0</td>\n",
              "      <td>29.30</td>\n",
              "      <td>10.0</td>\n",
              "      <td>3.0</td>\n",
              "      <td>0.0</td>\n",
              "    </tr>\n",
              "  </tbody>\n",
              "</table>\n",
              "</div>"
            ],
            "text/plain": [
              "   Severity  Start_Lat  ...  Wind_Speed(mph)  Precipitation(in)\n",
              "0         2  34.808868  ...              7.0                0.0\n",
              "1         2  35.090080  ...              3.0                0.0\n",
              "\n",
              "[2 rows x 14 columns]"
            ]
          },
          "metadata": {
            "tags": []
          },
          "execution_count": 26
        }
      ]
    },
    {
      "cell_type": "code",
      "metadata": {
        "id": "FeH5ChDpXN_7",
        "colab": {
          "base_uri": "https://localhost:8080/"
        },
        "outputId": "30caf7ff-e301-4571-d8b4-8156205ed9f8"
      },
      "source": [
        "len(df.ID.unique())\n",
        "\n",
        " "
      ],
      "execution_count": null,
      "outputs": [
        {
          "output_type": "execute_result",
          "data": {
            "text/plain": [
              "2906610"
            ]
          },
          "metadata": {
            "tags": []
          },
          "execution_count": 29
        }
      ]
    },
    {
      "cell_type": "markdown",
      "metadata": {
        "id": "yAa50SA5dUe2"
      },
      "source": [
        "The unique ID represent tne number of accidents in the data set."
      ]
    },
    {
      "cell_type": "code",
      "metadata": {
        "colab": {
          "base_uri": "https://localhost:8080/"
        },
        "id": "9Ritbbj6deep",
        "outputId": "c1a74a4a-f7e4-4acb-959d-82bcd18495fd"
      },
      "source": [
        "df.columns"
      ],
      "execution_count": null,
      "outputs": [
        {
          "output_type": "execute_result",
          "data": {
            "text/plain": [
              "Index(['ID', 'Severity', 'Start_Time', 'End_Time', 'Start_Lat', 'Start_Lng',\n",
              "       'End_Lat', 'End_Lng', 'Distance(mi)', 'Description', 'Number', 'Street',\n",
              "       'Side', 'City', 'County', 'State', 'Zipcode', 'Country', 'Timezone',\n",
              "       'Airport_Code', 'Weather_Timestamp', 'Temperature(F)', 'Wind_Chill(F)',\n",
              "       'Humidity(%)', 'Pressure(in)', 'Visibility(mi)', 'Wind_Direction',\n",
              "       'Wind_Speed(mph)', 'Precipitation(in)', 'Weather_Condition', 'Amenity',\n",
              "       'Bump', 'Crossing', 'Give_Way', 'Junction', 'No_Exit', 'Railway',\n",
              "       'Roundabout', 'Station', 'Stop', 'Traffic_Calming', 'Traffic_Signal',\n",
              "       'Turning_Loop', 'Sunrise_Sunset', 'Civil_Twilight', 'Nautical_Twilight',\n",
              "       'Astronomical_Twilight'],\n",
              "      dtype='object')"
            ]
          },
          "metadata": {
            "tags": []
          },
          "execution_count": 40
        }
      ]
    },
    {
      "cell_type": "code",
      "metadata": {
        "id": "-YEEmKBOdqWA"
      },
      "source": [
        "\n",
        "#Drop Colums that needs to be dropped. \n",
        "df.drop(columns=['Number','Country','Description','City','Zipcode','Turning_Loop','Astronomical_Twilight','Civil_Twilight','Nautical_Twilight'],inplace=True)"
      ],
      "execution_count": null,
      "outputs": []
    },
    {
      "cell_type": "code",
      "metadata": {
        "id": "9nnWeO3bHRwV"
      },
      "source": [
        "df.drop(columns=\"County\", inplace=True) #The above code didn't drop the country beacuse Country\n",
        "# is splet as \"County\". I had to write another code to drop it\n",
        "\n"
      ],
      "execution_count": null,
      "outputs": []
    },
    {
      "cell_type": "markdown",
      "metadata": {
        "id": "qDoTInGQ4CsH"
      },
      "source": [
        "\n",
        "\n",
        "*   We are dropping Number because it is more than 50% that is missing\n",
        "\n",
        "*  We are dropping country because the accidents all happened in the same Country\n",
        "\n",
        "\n",
        "*  We are dropping Description because we are not working on a NLP project\n",
        "\n",
        "\n",
        "*  We are dropping Zipcode because they rep each state\n",
        "\n",
        "*   We are dropping Astronomical_Twilight, Civil_Twilight,Nautical_Twilight because they are highly correlated with sunrise_sunset.... We should use just one of them. They predict each other\n",
        "\n",
        "\n",
        "*  We are dropping Turning loop beacuse it has only one entry(False).\n",
        "\n",
        "\n",
        "\n"
      ]
    },
    {
      "cell_type": "code",
      "metadata": {
        "colab": {
          "base_uri": "https://localhost:8080/"
        },
        "id": "u6ieUcO-3Fpc",
        "outputId": "07548028-a91e-4a7f-9a30-92332da2102d"
      },
      "source": [
        "df.isnull().any()"
      ],
      "execution_count": null,
      "outputs": [
        {
          "output_type": "execute_result",
          "data": {
            "text/plain": [
              "ID                       False\n",
              "Severity                 False\n",
              "Start_Time               False\n",
              "End_Time                 False\n",
              "Start_Lat                False\n",
              "Start_Lng                False\n",
              "End_Lat                   True\n",
              "End_Lng                   True\n",
              "Distance(mi)             False\n",
              "Description              False\n",
              "Number                    True\n",
              "Street                   False\n",
              "Side                     False\n",
              "City                      True\n",
              "County                   False\n",
              "State                    False\n",
              "Zipcode                   True\n",
              "Country                  False\n",
              "Timezone                  True\n",
              "Airport_Code              True\n",
              "Weather_Timestamp         True\n",
              "Temperature(F)            True\n",
              "Wind_Chill(F)             True\n",
              "Humidity(%)               True\n",
              "Pressure(in)              True\n",
              "Visibility(mi)            True\n",
              "Wind_Direction            True\n",
              "Wind_Speed(mph)           True\n",
              "Precipitation(in)         True\n",
              "Weather_Condition         True\n",
              "Amenity                  False\n",
              "Bump                     False\n",
              "Crossing                 False\n",
              "Give_Way                 False\n",
              "Junction                 False\n",
              "No_Exit                  False\n",
              "Railway                  False\n",
              "Roundabout               False\n",
              "Station                  False\n",
              "Stop                     False\n",
              "Traffic_Calming          False\n",
              "Traffic_Signal           False\n",
              "Turning_Loop             False\n",
              "Sunrise_Sunset            True\n",
              "Civil_Twilight            True\n",
              "Nautical_Twilight         True\n",
              "Astronomical_Twilight     True\n",
              "dtype: bool"
            ]
          },
          "metadata": {
            "tags": []
          },
          "execution_count": 28
        }
      ]
    },
    {
      "cell_type": "code",
      "metadata": {
        "colab": {
          "base_uri": "https://localhost:8080/",
          "height": 394
        },
        "id": "CFsbu2AyIrdC",
        "outputId": "fa4363ed-13a9-463e-99b6-15fa2cd9458c"
      },
      "source": [
        "df.head(5)"
      ],
      "execution_count": null,
      "outputs": [
        {
          "output_type": "execute_result",
          "data": {
            "text/html": [
              "<div>\n",
              "<style scoped>\n",
              "    .dataframe tbody tr th:only-of-type {\n",
              "        vertical-align: middle;\n",
              "    }\n",
              "\n",
              "    .dataframe tbody tr th {\n",
              "        vertical-align: top;\n",
              "    }\n",
              "\n",
              "    .dataframe thead th {\n",
              "        text-align: right;\n",
              "    }\n",
              "</style>\n",
              "<table border=\"1\" class=\"dataframe\">\n",
              "  <thead>\n",
              "    <tr style=\"text-align: right;\">\n",
              "      <th></th>\n",
              "      <th>ID</th>\n",
              "      <th>Severity</th>\n",
              "      <th>Start_Time</th>\n",
              "      <th>End_Time</th>\n",
              "      <th>Start_Lat</th>\n",
              "      <th>Start_Lng</th>\n",
              "      <th>End_Lat</th>\n",
              "      <th>End_Lng</th>\n",
              "      <th>Distance(mi)</th>\n",
              "      <th>Street</th>\n",
              "      <th>Side</th>\n",
              "      <th>State</th>\n",
              "      <th>Timezone</th>\n",
              "      <th>Airport_Code</th>\n",
              "      <th>Weather_Timestamp</th>\n",
              "      <th>Temperature(F)</th>\n",
              "      <th>Wind_Chill(F)</th>\n",
              "      <th>Humidity(%)</th>\n",
              "      <th>Pressure(in)</th>\n",
              "      <th>Visibility(mi)</th>\n",
              "      <th>Wind_Direction</th>\n",
              "      <th>Wind_Speed(mph)</th>\n",
              "      <th>Precipitation(in)</th>\n",
              "      <th>Weather_Condition</th>\n",
              "      <th>Amenity</th>\n",
              "      <th>Bump</th>\n",
              "      <th>Crossing</th>\n",
              "      <th>Give_Way</th>\n",
              "      <th>Junction</th>\n",
              "      <th>No_Exit</th>\n",
              "      <th>Railway</th>\n",
              "      <th>Roundabout</th>\n",
              "      <th>Station</th>\n",
              "      <th>Stop</th>\n",
              "      <th>Traffic_Calming</th>\n",
              "      <th>Traffic_Signal</th>\n",
              "      <th>Sunrise_Sunset</th>\n",
              "    </tr>\n",
              "  </thead>\n",
              "  <tbody>\n",
              "    <tr>\n",
              "      <th>0</th>\n",
              "      <td>A-1</td>\n",
              "      <td>2</td>\n",
              "      <td>2019-05-21 08:29:55</td>\n",
              "      <td>2019-05-21 09:29:40</td>\n",
              "      <td>34.808868</td>\n",
              "      <td>-82.269157</td>\n",
              "      <td>34.808868</td>\n",
              "      <td>-82.269157</td>\n",
              "      <td>0.0</td>\n",
              "      <td>Tanner Rd</td>\n",
              "      <td>R</td>\n",
              "      <td>SC</td>\n",
              "      <td>US/Eastern</td>\n",
              "      <td>KGMU</td>\n",
              "      <td>2019-05-21 08:53:00</td>\n",
              "      <td>76.0</td>\n",
              "      <td>76.0</td>\n",
              "      <td>52.0</td>\n",
              "      <td>28.91</td>\n",
              "      <td>10.0</td>\n",
              "      <td>N</td>\n",
              "      <td>7.0</td>\n",
              "      <td>0.0</td>\n",
              "      <td>Fair</td>\n",
              "      <td>False</td>\n",
              "      <td>False</td>\n",
              "      <td>False</td>\n",
              "      <td>False</td>\n",
              "      <td>False</td>\n",
              "      <td>False</td>\n",
              "      <td>False</td>\n",
              "      <td>False</td>\n",
              "      <td>False</td>\n",
              "      <td>False</td>\n",
              "      <td>False</td>\n",
              "      <td>False</td>\n",
              "      <td>Day</td>\n",
              "    </tr>\n",
              "    <tr>\n",
              "      <th>1</th>\n",
              "      <td>A-2</td>\n",
              "      <td>2</td>\n",
              "      <td>2019-10-07 17:43:09</td>\n",
              "      <td>2019-10-07 19:42:50</td>\n",
              "      <td>35.090080</td>\n",
              "      <td>-80.745560</td>\n",
              "      <td>35.090080</td>\n",
              "      <td>-80.745560</td>\n",
              "      <td>0.0</td>\n",
              "      <td>Providence Branch Ln</td>\n",
              "      <td>R</td>\n",
              "      <td>NC</td>\n",
              "      <td>US/Eastern</td>\n",
              "      <td>KEQY</td>\n",
              "      <td>2019-10-07 17:53:00</td>\n",
              "      <td>76.0</td>\n",
              "      <td>76.0</td>\n",
              "      <td>62.0</td>\n",
              "      <td>29.30</td>\n",
              "      <td>10.0</td>\n",
              "      <td>VAR</td>\n",
              "      <td>3.0</td>\n",
              "      <td>0.0</td>\n",
              "      <td>Cloudy</td>\n",
              "      <td>False</td>\n",
              "      <td>False</td>\n",
              "      <td>False</td>\n",
              "      <td>False</td>\n",
              "      <td>False</td>\n",
              "      <td>False</td>\n",
              "      <td>False</td>\n",
              "      <td>False</td>\n",
              "      <td>False</td>\n",
              "      <td>False</td>\n",
              "      <td>False</td>\n",
              "      <td>False</td>\n",
              "      <td>Day</td>\n",
              "    </tr>\n",
              "    <tr>\n",
              "      <th>2</th>\n",
              "      <td>A-3</td>\n",
              "      <td>2</td>\n",
              "      <td>2020-12-13 21:53:00</td>\n",
              "      <td>2020-12-13 22:44:00</td>\n",
              "      <td>37.145730</td>\n",
              "      <td>-121.985052</td>\n",
              "      <td>37.165850</td>\n",
              "      <td>-121.988062</td>\n",
              "      <td>1.4</td>\n",
              "      <td>Santa Cruz Hwy</td>\n",
              "      <td>R</td>\n",
              "      <td>CA</td>\n",
              "      <td>US/Pacific</td>\n",
              "      <td>KSJC</td>\n",
              "      <td>2020-12-13 21:53:00</td>\n",
              "      <td>51.0</td>\n",
              "      <td>51.0</td>\n",
              "      <td>80.0</td>\n",
              "      <td>30.17</td>\n",
              "      <td>10.0</td>\n",
              "      <td>W</td>\n",
              "      <td>6.0</td>\n",
              "      <td>0.0</td>\n",
              "      <td>Fair</td>\n",
              "      <td>False</td>\n",
              "      <td>False</td>\n",
              "      <td>False</td>\n",
              "      <td>False</td>\n",
              "      <td>False</td>\n",
              "      <td>False</td>\n",
              "      <td>False</td>\n",
              "      <td>False</td>\n",
              "      <td>False</td>\n",
              "      <td>False</td>\n",
              "      <td>False</td>\n",
              "      <td>False</td>\n",
              "      <td>Night</td>\n",
              "    </tr>\n",
              "    <tr>\n",
              "      <th>3</th>\n",
              "      <td>A-4</td>\n",
              "      <td>2</td>\n",
              "      <td>2018-04-17 16:51:23</td>\n",
              "      <td>2018-04-17 17:50:46</td>\n",
              "      <td>39.110390</td>\n",
              "      <td>-119.773781</td>\n",
              "      <td>39.110390</td>\n",
              "      <td>-119.773781</td>\n",
              "      <td>0.0</td>\n",
              "      <td>US Highway 395 S</td>\n",
              "      <td>R</td>\n",
              "      <td>NV</td>\n",
              "      <td>US/Pacific</td>\n",
              "      <td>KCXP</td>\n",
              "      <td>2018-04-17 16:55:00</td>\n",
              "      <td>53.6</td>\n",
              "      <td>NaN</td>\n",
              "      <td>16.0</td>\n",
              "      <td>30.16</td>\n",
              "      <td>10.0</td>\n",
              "      <td>SSW</td>\n",
              "      <td>4.6</td>\n",
              "      <td>NaN</td>\n",
              "      <td>Clear</td>\n",
              "      <td>False</td>\n",
              "      <td>False</td>\n",
              "      <td>False</td>\n",
              "      <td>False</td>\n",
              "      <td>False</td>\n",
              "      <td>False</td>\n",
              "      <td>False</td>\n",
              "      <td>False</td>\n",
              "      <td>False</td>\n",
              "      <td>False</td>\n",
              "      <td>False</td>\n",
              "      <td>True</td>\n",
              "      <td>Day</td>\n",
              "    </tr>\n",
              "    <tr>\n",
              "      <th>4</th>\n",
              "      <td>A-5</td>\n",
              "      <td>3</td>\n",
              "      <td>2016-08-31 17:40:49</td>\n",
              "      <td>2016-08-31 18:10:49</td>\n",
              "      <td>26.102942</td>\n",
              "      <td>-80.265091</td>\n",
              "      <td>26.102942</td>\n",
              "      <td>-80.265091</td>\n",
              "      <td>0.0</td>\n",
              "      <td>I-595 W</td>\n",
              "      <td>R</td>\n",
              "      <td>FL</td>\n",
              "      <td>US/Eastern</td>\n",
              "      <td>KHWO</td>\n",
              "      <td>2016-08-31 17:53:00</td>\n",
              "      <td>84.2</td>\n",
              "      <td>NaN</td>\n",
              "      <td>84.0</td>\n",
              "      <td>29.92</td>\n",
              "      <td>10.0</td>\n",
              "      <td>SSE</td>\n",
              "      <td>13.8</td>\n",
              "      <td>NaN</td>\n",
              "      <td>Overcast</td>\n",
              "      <td>False</td>\n",
              "      <td>False</td>\n",
              "      <td>False</td>\n",
              "      <td>False</td>\n",
              "      <td>True</td>\n",
              "      <td>False</td>\n",
              "      <td>False</td>\n",
              "      <td>False</td>\n",
              "      <td>False</td>\n",
              "      <td>False</td>\n",
              "      <td>False</td>\n",
              "      <td>True</td>\n",
              "      <td>Day</td>\n",
              "    </tr>\n",
              "  </tbody>\n",
              "</table>\n",
              "</div>"
            ],
            "text/plain": [
              "    ID  Severity  ... Traffic_Signal Sunrise_Sunset\n",
              "0  A-1         2  ...          False            Day\n",
              "1  A-2         2  ...          False            Day\n",
              "2  A-3         2  ...          False          Night\n",
              "3  A-4         2  ...           True            Day\n",
              "4  A-5         3  ...           True            Day\n",
              "\n",
              "[5 rows x 37 columns]"
            ]
          },
          "metadata": {
            "tags": []
          },
          "execution_count": 35
        }
      ]
    },
    {
      "cell_type": "markdown",
      "metadata": {
        "id": "dauP6UB5Lmqz"
      },
      "source": [
        "Now, we are going to group the above dataframe  into date, category, numeric and boolean in respect with ID(The ID is the number of accident)"
      ]
    },
    {
      "cell_type": "code",
      "metadata": {
        "id": "Cnj4MCmhL5vl"
      },
      "source": [
        "#For the Date DataFrame--- \n",
        "date_DataFrame = df[['ID','Start_Time','End_Time','Weather_Timestamp']]\n",
        "\n",
        "#For the numeric DataFrame---\n",
        "number_DataFrame = df[['ID',\n",
        "                       'Start_Lat',\n",
        "                       'Start_Lng',\n",
        "                       'End_Lat',\n",
        "                       'End_Lng',\n",
        "                       'Distance(mi)',\n",
        "                       'Temperature(F)',\n",
        "                       'Wind_Chill(F)',\n",
        "                       'Humidity(%)',\n",
        "                       'Pressure(in)',\n",
        "                       'Visibility(mi)',\n",
        "                       'Wind_Speed(mph)',\n",
        "                       'Precipitation(in)']]\n",
        "\n",
        "#The DataFrame for the categorical Data\n",
        "Categorical_DataFrame = df[['ID','Side','State','Timezone','Wind_Direction','Weather_Condition','Severity','Sunrise_Sunset']]\n",
        "\n",
        "#The DataFrame for Boolean Data\n",
        "bool_DataFrame = df[['ID',\n",
        "                     'Amenity',\n",
        "                     'Bump',\n",
        "                     'Crossing',\n",
        "                     'Give_Way',\n",
        "                     'Junction',\n",
        "                     'No_Exit',\n",
        "                     'Railway',\n",
        "                     'Roundabout',\n",
        "                     'Station',\n",
        "                     'Stop',\n",
        "                     'Traffic_Calming',\n",
        "                     'Traffic_Signal']]\n",
        "                     "
      ],
      "execution_count": 26,
      "outputs": []
    },
    {
      "cell_type": "markdown",
      "metadata": {
        "id": "J5FcbVzfNG8Q"
      },
      "source": [
        "Now, that we have divided the dataframe , let's change the dataframe"
      ]
    },
    {
      "cell_type": "code",
      "metadata": {
        "colab": {
          "base_uri": "https://localhost:8080/",
          "height": 142
        },
        "id": "LwGeiNTVNQMr",
        "outputId": "d0331d04-4feb-4c50-9dfc-a017406348e2"
      },
      "source": [
        "date_DataFrame.head(3)"
      ],
      "execution_count": null,
      "outputs": [
        {
          "output_type": "execute_result",
          "data": {
            "text/html": [
              "<div>\n",
              "<style scoped>\n",
              "    .dataframe tbody tr th:only-of-type {\n",
              "        vertical-align: middle;\n",
              "    }\n",
              "\n",
              "    .dataframe tbody tr th {\n",
              "        vertical-align: top;\n",
              "    }\n",
              "\n",
              "    .dataframe thead th {\n",
              "        text-align: right;\n",
              "    }\n",
              "</style>\n",
              "<table border=\"1\" class=\"dataframe\">\n",
              "  <thead>\n",
              "    <tr style=\"text-align: right;\">\n",
              "      <th></th>\n",
              "      <th>ID</th>\n",
              "      <th>Start_Time</th>\n",
              "      <th>End_Time</th>\n",
              "      <th>Weather_Timestamp</th>\n",
              "    </tr>\n",
              "  </thead>\n",
              "  <tbody>\n",
              "    <tr>\n",
              "      <th>0</th>\n",
              "      <td>A-1</td>\n",
              "      <td>2019-05-21 08:29:55</td>\n",
              "      <td>2019-05-21 09:29:40</td>\n",
              "      <td>2019-05-21 08:53:00</td>\n",
              "    </tr>\n",
              "    <tr>\n",
              "      <th>1</th>\n",
              "      <td>A-2</td>\n",
              "      <td>2019-10-07 17:43:09</td>\n",
              "      <td>2019-10-07 19:42:50</td>\n",
              "      <td>2019-10-07 17:53:00</td>\n",
              "    </tr>\n",
              "    <tr>\n",
              "      <th>2</th>\n",
              "      <td>A-3</td>\n",
              "      <td>2020-12-13 21:53:00</td>\n",
              "      <td>2020-12-13 22:44:00</td>\n",
              "      <td>2020-12-13 21:53:00</td>\n",
              "    </tr>\n",
              "  </tbody>\n",
              "</table>\n",
              "</div>"
            ],
            "text/plain": [
              "    ID           Start_Time             End_Time    Weather_Timestamp\n",
              "0  A-1  2019-05-21 08:29:55  2019-05-21 09:29:40  2019-05-21 08:53:00\n",
              "1  A-2  2019-10-07 17:43:09  2019-10-07 19:42:50  2019-10-07 17:53:00\n",
              "2  A-3  2020-12-13 21:53:00  2020-12-13 22:44:00  2020-12-13 21:53:00"
            ]
          },
          "metadata": {
            "tags": []
          },
          "execution_count": 19
        }
      ]
    },
    {
      "cell_type": "code",
      "metadata": {
        "colab": {
          "base_uri": "https://localhost:8080/"
        },
        "id": "i4I1iQlGNclr",
        "outputId": "25006554-3478-4879-8157-e87e1354f8aa"
      },
      "source": [
        "#To check the data type\n",
        "date_DataFrame.dtypes"
      ],
      "execution_count": null,
      "outputs": [
        {
          "output_type": "execute_result",
          "data": {
            "text/plain": [
              "ID                   object\n",
              "Start_Time           object\n",
              "End_Time             object\n",
              "Weather_Timestamp    object\n",
              "dtype: object"
            ]
          },
          "metadata": {
            "tags": []
          },
          "execution_count": 51
        }
      ]
    },
    {
      "cell_type": "markdown",
      "metadata": {
        "id": "0kPyp3mjNjsA"
      },
      "source": [
        "Here, the dates are not in date time. We need to change the type of date to a date time object  "
      ]
    },
    {
      "cell_type": "code",
      "metadata": {
        "colab": {
          "base_uri": "https://localhost:8080/"
        },
        "id": "q92bUapNPkWr",
        "outputId": "b3fc2d70-9a4a-43d8-c275-e3ff60fce432"
      },
      "source": [
        "#Transform to datetime obeject\n",
        "date_DataFrame['Start_Time'] = pd.to_datetime(date_DataFrame['Start_Time'], format='%Y-%m-%d')\n",
        "date_DataFrame['End_Time'] = pd.to_datetime(date_DataFrame['End_Time'], format='%Y-%m-%d')\n",
        "date_DataFrame['Weather_Timestamp'] = pd.to_datetime(date_DataFrame['Weather_Timestamp'], format='%Y-%m-%d')\n"
      ],
      "execution_count": null,
      "outputs": [
        {
          "output_type": "stream",
          "text": [
            "/usr/local/lib/python3.7/dist-packages/ipykernel_launcher.py:2: SettingWithCopyWarning: \n",
            "A value is trying to be set on a copy of a slice from a DataFrame.\n",
            "Try using .loc[row_indexer,col_indexer] = value instead\n",
            "\n",
            "See the caveats in the documentation: https://pandas.pydata.org/pandas-docs/stable/user_guide/indexing.html#returning-a-view-versus-a-copy\n",
            "  \n",
            "/usr/local/lib/python3.7/dist-packages/ipykernel_launcher.py:3: SettingWithCopyWarning: \n",
            "A value is trying to be set on a copy of a slice from a DataFrame.\n",
            "Try using .loc[row_indexer,col_indexer] = value instead\n",
            "\n",
            "See the caveats in the documentation: https://pandas.pydata.org/pandas-docs/stable/user_guide/indexing.html#returning-a-view-versus-a-copy\n",
            "  This is separate from the ipykernel package so we can avoid doing imports until\n",
            "/usr/local/lib/python3.7/dist-packages/ipykernel_launcher.py:4: SettingWithCopyWarning: \n",
            "A value is trying to be set on a copy of a slice from a DataFrame.\n",
            "Try using .loc[row_indexer,col_indexer] = value instead\n",
            "\n",
            "See the caveats in the documentation: https://pandas.pydata.org/pandas-docs/stable/user_guide/indexing.html#returning-a-view-versus-a-copy\n",
            "  after removing the cwd from sys.path.\n"
          ],
          "name": "stderr"
        }
      ]
    },
    {
      "cell_type": "markdown",
      "metadata": {
        "id": "qJfI3VA7P7M6"
      },
      "source": [
        "from the above code, it has changed to date time object"
      ]
    },
    {
      "cell_type": "markdown",
      "metadata": {
        "id": "LouWSCKcQCmT"
      },
      "source": [
        "Now, we need to get the year, month, days from the date dataframe"
      ]
    },
    {
      "cell_type": "code",
      "metadata": {
        "colab": {
          "base_uri": "https://localhost:8080/"
        },
        "id": "lwRf7seWTHeT",
        "outputId": "90f57d5f-03c8-44d4-a226-d0aa1ec2ce4b"
      },
      "source": [
        "date_DataFrame[\"Year\"] = date_DataFrame[\"Start_Time\"].dt.year\n",
        "date_DataFrame['Month'] = date_DataFrame['Start_Time'].dt.month_name()\n",
        "date_DataFrame['Day'] = date_DataFrame['Start_Time'].dt.day_name()\n",
        "date_DataFrame['Hour'] = date_DataFrame['Start_Time'].dt.hour"
      ],
      "execution_count": null,
      "outputs": [
        {
          "output_type": "stream",
          "text": [
            "/usr/local/lib/python3.7/dist-packages/ipykernel_launcher.py:1: SettingWithCopyWarning: \n",
            "A value is trying to be set on a copy of a slice from a DataFrame.\n",
            "Try using .loc[row_indexer,col_indexer] = value instead\n",
            "\n",
            "See the caveats in the documentation: https://pandas.pydata.org/pandas-docs/stable/user_guide/indexing.html#returning-a-view-versus-a-copy\n",
            "  \"\"\"Entry point for launching an IPython kernel.\n",
            "/usr/local/lib/python3.7/dist-packages/ipykernel_launcher.py:2: SettingWithCopyWarning: \n",
            "A value is trying to be set on a copy of a slice from a DataFrame.\n",
            "Try using .loc[row_indexer,col_indexer] = value instead\n",
            "\n",
            "See the caveats in the documentation: https://pandas.pydata.org/pandas-docs/stable/user_guide/indexing.html#returning-a-view-versus-a-copy\n",
            "  \n",
            "/usr/local/lib/python3.7/dist-packages/ipykernel_launcher.py:3: SettingWithCopyWarning: \n",
            "A value is trying to be set on a copy of a slice from a DataFrame.\n",
            "Try using .loc[row_indexer,col_indexer] = value instead\n",
            "\n",
            "See the caveats in the documentation: https://pandas.pydata.org/pandas-docs/stable/user_guide/indexing.html#returning-a-view-versus-a-copy\n",
            "  This is separate from the ipykernel package so we can avoid doing imports until\n",
            "/usr/local/lib/python3.7/dist-packages/ipykernel_launcher.py:4: SettingWithCopyWarning: \n",
            "A value is trying to be set on a copy of a slice from a DataFrame.\n",
            "Try using .loc[row_indexer,col_indexer] = value instead\n",
            "\n",
            "See the caveats in the documentation: https://pandas.pydata.org/pandas-docs/stable/user_guide/indexing.html#returning-a-view-versus-a-copy\n",
            "  after removing the cwd from sys.path.\n"
          ],
          "name": "stderr"
        }
      ]
    },
    {
      "cell_type": "code",
      "metadata": {
        "colab": {
          "base_uri": "https://localhost:8080/",
          "height": 142
        },
        "id": "0EI5fwxQRiWA",
        "outputId": "ef645a74-4fc3-46db-9388-7ca7d00286b5"
      },
      "source": [
        "date_DataFrame.head(3\n",
        "                    )"
      ],
      "execution_count": null,
      "outputs": [
        {
          "output_type": "execute_result",
          "data": {
            "text/html": [
              "<div>\n",
              "<style scoped>\n",
              "    .dataframe tbody tr th:only-of-type {\n",
              "        vertical-align: middle;\n",
              "    }\n",
              "\n",
              "    .dataframe tbody tr th {\n",
              "        vertical-align: top;\n",
              "    }\n",
              "\n",
              "    .dataframe thead th {\n",
              "        text-align: right;\n",
              "    }\n",
              "</style>\n",
              "<table border=\"1\" class=\"dataframe\">\n",
              "  <thead>\n",
              "    <tr style=\"text-align: right;\">\n",
              "      <th></th>\n",
              "      <th>ID</th>\n",
              "      <th>Start_Time</th>\n",
              "      <th>End_Time</th>\n",
              "      <th>Weather_Timestamp</th>\n",
              "      <th>Year</th>\n",
              "      <th>Month</th>\n",
              "      <th>Day</th>\n",
              "      <th>Hour</th>\n",
              "    </tr>\n",
              "  </thead>\n",
              "  <tbody>\n",
              "    <tr>\n",
              "      <th>0</th>\n",
              "      <td>A-1</td>\n",
              "      <td>2019-05-21 08:29:55</td>\n",
              "      <td>2019-05-21 09:29:40</td>\n",
              "      <td>2019-05-21 08:53:00</td>\n",
              "      <td>2019</td>\n",
              "      <td>May</td>\n",
              "      <td>Tuesday</td>\n",
              "      <td>8</td>\n",
              "    </tr>\n",
              "    <tr>\n",
              "      <th>1</th>\n",
              "      <td>A-2</td>\n",
              "      <td>2019-10-07 17:43:09</td>\n",
              "      <td>2019-10-07 19:42:50</td>\n",
              "      <td>2019-10-07 17:53:00</td>\n",
              "      <td>2019</td>\n",
              "      <td>October</td>\n",
              "      <td>Monday</td>\n",
              "      <td>17</td>\n",
              "    </tr>\n",
              "    <tr>\n",
              "      <th>2</th>\n",
              "      <td>A-3</td>\n",
              "      <td>2020-12-13 21:53:00</td>\n",
              "      <td>2020-12-13 22:44:00</td>\n",
              "      <td>2020-12-13 21:53:00</td>\n",
              "      <td>2020</td>\n",
              "      <td>December</td>\n",
              "      <td>Sunday</td>\n",
              "      <td>21</td>\n",
              "    </tr>\n",
              "  </tbody>\n",
              "</table>\n",
              "</div>"
            ],
            "text/plain": [
              "    ID          Start_Time            End_Time  ...     Month      Day Hour\n",
              "0  A-1 2019-05-21 08:29:55 2019-05-21 09:29:40  ...       May  Tuesday    8\n",
              "1  A-2 2019-10-07 17:43:09 2019-10-07 19:42:50  ...   October   Monday   17\n",
              "2  A-3 2020-12-13 21:53:00 2020-12-13 22:44:00  ...  December   Sunday   21\n",
              "\n",
              "[3 rows x 8 columns]"
            ]
          },
          "metadata": {
            "tags": []
          },
          "execution_count": 41
        }
      ]
    },
    {
      "cell_type": "markdown",
      "metadata": {
        "id": "M5V5fGWGRrwx"
      },
      "source": [
        "Here, we have extracted the Year, Month, Day, and Hour. We can now drop all neccesary columns we don't need."
      ]
    },
    {
      "cell_type": "code",
      "metadata": {
        "colab": {
          "base_uri": "https://localhost:8080/"
        },
        "id": "NgQVu_6kSAPf",
        "outputId": "7ac01559-05e7-4bb2-dd44-f4ed3c922d84"
      },
      "source": [
        "date_DataFrame.drop(columns=[\"Start_Time\", \"End_Time\", \"Weather_Timestamp\"], inplace=True)"
      ],
      "execution_count": null,
      "outputs": [
        {
          "output_type": "stream",
          "text": [
            "/usr/local/lib/python3.7/dist-packages/pandas/core/frame.py:4174: SettingWithCopyWarning: \n",
            "A value is trying to be set on a copy of a slice from a DataFrame\n",
            "\n",
            "See the caveats in the documentation: https://pandas.pydata.org/pandas-docs/stable/user_guide/indexing.html#returning-a-view-versus-a-copy\n",
            "  errors=errors,\n"
          ],
          "name": "stderr"
        }
      ]
    },
    {
      "cell_type": "code",
      "metadata": {
        "colab": {
          "base_uri": "https://localhost:8080/",
          "height": 111
        },
        "id": "Q79VA68vTtqw",
        "outputId": "3644c6af-a612-4897-cd04-6e4476061764"
      },
      "source": [
        "date_DataFrame.head(2)"
      ],
      "execution_count": null,
      "outputs": [
        {
          "output_type": "execute_result",
          "data": {
            "text/html": [
              "<div>\n",
              "<style scoped>\n",
              "    .dataframe tbody tr th:only-of-type {\n",
              "        vertical-align: middle;\n",
              "    }\n",
              "\n",
              "    .dataframe tbody tr th {\n",
              "        vertical-align: top;\n",
              "    }\n",
              "\n",
              "    .dataframe thead th {\n",
              "        text-align: right;\n",
              "    }\n",
              "</style>\n",
              "<table border=\"1\" class=\"dataframe\">\n",
              "  <thead>\n",
              "    <tr style=\"text-align: right;\">\n",
              "      <th></th>\n",
              "      <th>ID</th>\n",
              "      <th>Year</th>\n",
              "      <th>Month</th>\n",
              "      <th>Day</th>\n",
              "      <th>Hour</th>\n",
              "    </tr>\n",
              "  </thead>\n",
              "  <tbody>\n",
              "    <tr>\n",
              "      <th>0</th>\n",
              "      <td>A-1</td>\n",
              "      <td>2019</td>\n",
              "      <td>May</td>\n",
              "      <td>Tuesday</td>\n",
              "      <td>8</td>\n",
              "    </tr>\n",
              "    <tr>\n",
              "      <th>1</th>\n",
              "      <td>A-2</td>\n",
              "      <td>2019</td>\n",
              "      <td>October</td>\n",
              "      <td>Monday</td>\n",
              "      <td>17</td>\n",
              "    </tr>\n",
              "  </tbody>\n",
              "</table>\n",
              "</div>"
            ],
            "text/plain": [
              "    ID  Year    Month      Day  Hour\n",
              "0  A-1  2019      May  Tuesday     8\n",
              "1  A-2  2019  October   Monday    17"
            ]
          },
          "metadata": {
            "tags": []
          },
          "execution_count": 33
        }
      ]
    },
    {
      "cell_type": "code",
      "metadata": {
        "colab": {
          "base_uri": "https://localhost:8080/"
        },
        "id": "iq9IrKT-rSSR",
        "outputId": "82ebd229-316c-4921-da53-9bdfe8a6002b"
      },
      "source": [
        "date_DataFrame.isnull().values.any()"
      ],
      "execution_count": null,
      "outputs": [
        {
          "output_type": "execute_result",
          "data": {
            "text/plain": [
              "False"
            ]
          },
          "metadata": {
            "tags": []
          },
          "execution_count": 36
        }
      ]
    },
    {
      "cell_type": "markdown",
      "metadata": {
        "id": "y9WoFGFyrroQ"
      },
      "source": [
        "From the above date dataframe, We don't have any missing data again. it showw we have celanse the data."
      ]
    },
    {
      "cell_type": "markdown",
      "metadata": {
        "id": "H4FHo6fkUGxh"
      },
      "source": [
        "The Hours when most accidents occured"
      ]
    },
    {
      "cell_type": "code",
      "metadata": {
        "id": "Amp7o6WWUF2n"
      },
      "source": [
        "# #Hours with the highest number of Accidents\n",
        "# accidents_by_hour = pd.DataFrame(date_DataFrame.groupby('Hour')['ID'].count())\n",
        "# accidents_by_hour.reset_index(inplace=True)"
      ],
      "execution_count": null,
      "outputs": []
    },
    {
      "cell_type": "code",
      "metadata": {
        "id": "FeP5USnqu6pz"
      },
      "source": [
        "# date_DataFrame.set_index(pd.Index([num for num in range(1, len(date_DataFrame) + 1)]), inplace = True)"
      ],
      "execution_count": null,
      "outputs": []
    },
    {
      "cell_type": "code",
      "metadata": {
        "colab": {
          "base_uri": "https://localhost:8080/",
          "height": 419
        },
        "id": "fBK5gG87VNqL",
        "outputId": "c271403b-a940-44e0-a5ec-b98afb9ed5c1"
      },
      "source": [
        "date_DataFrame"
      ],
      "execution_count": null,
      "outputs": [
        {
          "output_type": "execute_result",
          "data": {
            "text/html": [
              "<div>\n",
              "<style scoped>\n",
              "    .dataframe tbody tr th:only-of-type {\n",
              "        vertical-align: middle;\n",
              "    }\n",
              "\n",
              "    .dataframe tbody tr th {\n",
              "        vertical-align: top;\n",
              "    }\n",
              "\n",
              "    .dataframe thead th {\n",
              "        text-align: right;\n",
              "    }\n",
              "</style>\n",
              "<table border=\"1\" class=\"dataframe\">\n",
              "  <thead>\n",
              "    <tr style=\"text-align: right;\">\n",
              "      <th></th>\n",
              "      <th>ID</th>\n",
              "      <th>Year</th>\n",
              "      <th>Month</th>\n",
              "      <th>Day</th>\n",
              "      <th>Hour</th>\n",
              "    </tr>\n",
              "  </thead>\n",
              "  <tbody>\n",
              "    <tr>\n",
              "      <th>0</th>\n",
              "      <td>A-1</td>\n",
              "      <td>2019</td>\n",
              "      <td>May</td>\n",
              "      <td>Tuesday</td>\n",
              "      <td>8</td>\n",
              "    </tr>\n",
              "    <tr>\n",
              "      <th>1</th>\n",
              "      <td>A-2</td>\n",
              "      <td>2019</td>\n",
              "      <td>October</td>\n",
              "      <td>Monday</td>\n",
              "      <td>17</td>\n",
              "    </tr>\n",
              "    <tr>\n",
              "      <th>2</th>\n",
              "      <td>A-3</td>\n",
              "      <td>2020</td>\n",
              "      <td>December</td>\n",
              "      <td>Sunday</td>\n",
              "      <td>21</td>\n",
              "    </tr>\n",
              "    <tr>\n",
              "      <th>3</th>\n",
              "      <td>A-4</td>\n",
              "      <td>2018</td>\n",
              "      <td>April</td>\n",
              "      <td>Tuesday</td>\n",
              "      <td>16</td>\n",
              "    </tr>\n",
              "    <tr>\n",
              "      <th>4</th>\n",
              "      <td>A-5</td>\n",
              "      <td>2016</td>\n",
              "      <td>August</td>\n",
              "      <td>Wednesday</td>\n",
              "      <td>17</td>\n",
              "    </tr>\n",
              "    <tr>\n",
              "      <th>...</th>\n",
              "      <td>...</td>\n",
              "      <td>...</td>\n",
              "      <td>...</td>\n",
              "      <td>...</td>\n",
              "      <td>...</td>\n",
              "    </tr>\n",
              "    <tr>\n",
              "      <th>2906605</th>\n",
              "      <td>A-2906606</td>\n",
              "      <td>2018</td>\n",
              "      <td>June</td>\n",
              "      <td>Thursday</td>\n",
              "      <td>8</td>\n",
              "    </tr>\n",
              "    <tr>\n",
              "      <th>2906606</th>\n",
              "      <td>A-2906607</td>\n",
              "      <td>2019</td>\n",
              "      <td>January</td>\n",
              "      <td>Thursday</td>\n",
              "      <td>2</td>\n",
              "    </tr>\n",
              "    <tr>\n",
              "      <th>2906607</th>\n",
              "      <td>A-2906608</td>\n",
              "      <td>2020</td>\n",
              "      <td>November</td>\n",
              "      <td>Monday</td>\n",
              "      <td>12</td>\n",
              "    </tr>\n",
              "    <tr>\n",
              "      <th>2906608</th>\n",
              "      <td>A-2906609</td>\n",
              "      <td>2019</td>\n",
              "      <td>December</td>\n",
              "      <td>Sunday</td>\n",
              "      <td>22</td>\n",
              "    </tr>\n",
              "    <tr>\n",
              "      <th>2906609</th>\n",
              "      <td>A-2906610</td>\n",
              "      <td>2018</td>\n",
              "      <td>March</td>\n",
              "      <td>Monday</td>\n",
              "      <td>13</td>\n",
              "    </tr>\n",
              "  </tbody>\n",
              "</table>\n",
              "<p>2906610 rows × 5 columns</p>\n",
              "</div>"
            ],
            "text/plain": [
              "                ID  Year     Month        Day  Hour\n",
              "0              A-1  2019       May    Tuesday     8\n",
              "1              A-2  2019   October     Monday    17\n",
              "2              A-3  2020  December     Sunday    21\n",
              "3              A-4  2018     April    Tuesday    16\n",
              "4              A-5  2016    August  Wednesday    17\n",
              "...            ...   ...       ...        ...   ...\n",
              "2906605  A-2906606  2018      June   Thursday     8\n",
              "2906606  A-2906607  2019   January   Thursday     2\n",
              "2906607  A-2906608  2020  November     Monday    12\n",
              "2906608  A-2906609  2019  December     Sunday    22\n",
              "2906609  A-2906610  2018     March     Monday    13\n",
              "\n",
              "[2906610 rows x 5 columns]"
            ]
          },
          "metadata": {
            "tags": []
          },
          "execution_count": 36
        }
      ]
    },
    {
      "cell_type": "code",
      "metadata": {
        "id": "CamGtIN-v4E6"
      },
      "source": [
        "# #Hours with the highest number of Accidents\n",
        "accidents_by_hour = pd.DataFrame(date_DataFrame.groupby('Hour')['ID'].count())\n",
        "accidents_by_hour.reset_index(inplace=True)"
      ],
      "execution_count": null,
      "outputs": []
    },
    {
      "cell_type": "code",
      "metadata": {
        "id": "K3MyFGqKv8Ca"
      },
      "source": [
        "accidents_by_hour.isnull().any()"
      ],
      "execution_count": null,
      "outputs": []
    },
    {
      "cell_type": "code",
      "metadata": {
        "colab": {
          "base_uri": "https://localhost:8080/",
          "height": 410
        },
        "id": "U7fNFhJ5xBKE",
        "outputId": "9f74d52e-5246-4a90-fbac-5f3a7c93ceb7"
      },
      "source": [
        "\n",
        "plt.figure(figsize=(10,6))\n",
        "sns.lineplot(data=accidents_by_hour, x='Hour', y='ID', color= \"red\")\n",
        "plt.title(\"Hours When Most Accidents Occured \")\n",
        "\n",
        "plt.show()"
      ],
      "execution_count": null,
      "outputs": [
        {
          "output_type": "display_data",
          "data": {
            "image/png": "[encoded data removed]",
            "text/plain": [
              "<Figure size 720x432 with 1 Axes>"
            ]
          },
          "metadata": {
            "tags": []
          }
        }
      ]
    },
    {
      "cell_type": "markdown",
      "metadata": {
        "id": "rxNIe5ZiyrGA"
      },
      "source": [
        "From the chart above ,  the peak hours of the accidents are 7 AM, 8 AM, 5 PM, and 6 PM. Nightime(10 PM-5 AM) is the safest time to travel which is showing less number of accidents. This is as a reuslt of people rushing to work in the morning and closing hours of work."
      ]
    },
    {
      "cell_type": "code",
      "metadata": {
        "id": "t0HG44eK13JQ"
      },
      "source": [
        "\n",
        "#Year with the highest number of Accidents\n",
        "accidents_by_year = pd.DataFrame(date_DataFrame.groupby('Year')['ID'].count())\n",
        "accidents_by_year.reset_index(inplace=True)"
      ],
      "execution_count": null,
      "outputs": []
    },
    {
      "cell_type": "code",
      "metadata": {
        "colab": {
          "base_uri": "https://localhost:8080/",
          "height": 204
        },
        "id": "3ia_PKXB2COU",
        "outputId": "9f74c981-7c80-4a33-c934-57b94bc3d0bc"
      },
      "source": [
        "accidents_by_year"
      ],
      "execution_count": null,
      "outputs": [
        {
          "output_type": "execute_result",
          "data": {
            "text/html": [
              "<div>\n",
              "<style scoped>\n",
              "    .dataframe tbody tr th:only-of-type {\n",
              "        vertical-align: middle;\n",
              "    }\n",
              "\n",
              "    .dataframe tbody tr th {\n",
              "        vertical-align: top;\n",
              "    }\n",
              "\n",
              "    .dataframe thead th {\n",
              "        text-align: right;\n",
              "    }\n",
              "</style>\n",
              "<table border=\"1\" class=\"dataframe\">\n",
              "  <thead>\n",
              "    <tr style=\"text-align: right;\">\n",
              "      <th></th>\n",
              "      <th>Year</th>\n",
              "      <th>ID</th>\n",
              "    </tr>\n",
              "  </thead>\n",
              "  <tbody>\n",
              "    <tr>\n",
              "      <th>0</th>\n",
              "      <td>2016</td>\n",
              "      <td>270881</td>\n",
              "    </tr>\n",
              "    <tr>\n",
              "      <th>1</th>\n",
              "      <td>2017</td>\n",
              "      <td>448268</td>\n",
              "    </tr>\n",
              "    <tr>\n",
              "      <th>2</th>\n",
              "      <td>2018</td>\n",
              "      <td>535921</td>\n",
              "    </tr>\n",
              "    <tr>\n",
              "      <th>3</th>\n",
              "      <td>2019</td>\n",
              "      <td>617712</td>\n",
              "    </tr>\n",
              "    <tr>\n",
              "      <th>4</th>\n",
              "      <td>2020</td>\n",
              "      <td>1033828</td>\n",
              "    </tr>\n",
              "  </tbody>\n",
              "</table>\n",
              "</div>"
            ],
            "text/plain": [
              "   Year       ID\n",
              "0  2016   270881\n",
              "1  2017   448268\n",
              "2  2018   535921\n",
              "3  2019   617712\n",
              "4  2020  1033828"
            ]
          },
          "metadata": {
            "tags": []
          },
          "execution_count": 41
        }
      ]
    },
    {
      "cell_type": "code",
      "metadata": {
        "colab": {
          "base_uri": "https://localhost:8080/",
          "height": 410
        },
        "id": "sU59eEaz1OYh",
        "outputId": "a1d7896e-eb70-48a2-b57e-270d2353b529"
      },
      "source": [
        "\n",
        "plt.figure(figsize=(10,6))\n",
        "sns.barplot(data=accidents_by_year, x='Year', y='ID')\n",
        "plt.title(\"Trend of Accident by year\")\n",
        "\n",
        "plt.show()"
      ],
      "execution_count": null,
      "outputs": [
        {
          "output_type": "display_data",
          "data": {
            "image/png": "[encoded data removed]",
            "text/plain": [
              "<Figure size 720x432 with 1 Axes>"
            ]
          },
          "metadata": {
            "tags": []
          }
        }
      ]
    },
    {
      "cell_type": "markdown",
      "metadata": {
        "id": "DgRsvH7t2LEP"
      },
      "source": [
        "\n",
        "From the chart above, number of Accidents were lower and showed a more significant change in the early years as compared with those in recent years when the number of accidents has been raised high. Highest number of accidents were recorded in 2020.\n",
        "\n",
        "\n"
      ]
    },
    {
      "cell_type": "code",
      "metadata": {
        "id": "0aoX27IP2x2h"
      },
      "source": [
        "#Months that recorded the highest number of Accidents\n",
        "accidents_by_month = pd.DataFrame(date_DataFrame.groupby('Month')['ID'].count()).sort_values(by = \"ID\", ascending= True)\n",
        "\n",
        "accidents_by_month.reset_index(inplace=True)"
      ],
      "execution_count": null,
      "outputs": []
    },
    {
      "cell_type": "code",
      "metadata": {
        "colab": {
          "base_uri": "https://localhost:8080/",
          "height": 421
        },
        "id": "9_E6GCNx3RL7",
        "outputId": "a489e37e-40e7-4027-8ec0-cacfe1ba20e4"
      },
      "source": [
        "accidents_by_month"
      ],
      "execution_count": null,
      "outputs": [
        {
          "output_type": "execute_result",
          "data": {
            "text/html": [
              "<div>\n",
              "<style scoped>\n",
              "    .dataframe tbody tr th:only-of-type {\n",
              "        vertical-align: middle;\n",
              "    }\n",
              "\n",
              "    .dataframe tbody tr th {\n",
              "        vertical-align: top;\n",
              "    }\n",
              "\n",
              "    .dataframe thead th {\n",
              "        text-align: right;\n",
              "    }\n",
              "</style>\n",
              "<table border=\"1\" class=\"dataframe\">\n",
              "  <thead>\n",
              "    <tr style=\"text-align: right;\">\n",
              "      <th></th>\n",
              "      <th>Month</th>\n",
              "      <th>ID</th>\n",
              "    </tr>\n",
              "  </thead>\n",
              "  <tbody>\n",
              "    <tr>\n",
              "      <th>0</th>\n",
              "      <td>July</td>\n",
              "      <td>157112</td>\n",
              "    </tr>\n",
              "    <tr>\n",
              "      <th>1</th>\n",
              "      <td>February</td>\n",
              "      <td>186660</td>\n",
              "    </tr>\n",
              "    <tr>\n",
              "      <th>2</th>\n",
              "      <td>August</td>\n",
              "      <td>196597</td>\n",
              "    </tr>\n",
              "    <tr>\n",
              "      <th>3</th>\n",
              "      <td>March</td>\n",
              "      <td>197969</td>\n",
              "    </tr>\n",
              "    <tr>\n",
              "      <th>4</th>\n",
              "      <td>January</td>\n",
              "      <td>198485</td>\n",
              "    </tr>\n",
              "    <tr>\n",
              "      <th>5</th>\n",
              "      <td>May</td>\n",
              "      <td>204889</td>\n",
              "    </tr>\n",
              "    <tr>\n",
              "      <th>6</th>\n",
              "      <td>April</td>\n",
              "      <td>205487</td>\n",
              "    </tr>\n",
              "    <tr>\n",
              "      <th>7</th>\n",
              "      <td>June</td>\n",
              "      <td>214558</td>\n",
              "    </tr>\n",
              "    <tr>\n",
              "      <th>8</th>\n",
              "      <td>September</td>\n",
              "      <td>255159</td>\n",
              "    </tr>\n",
              "    <tr>\n",
              "      <th>9</th>\n",
              "      <td>October</td>\n",
              "      <td>326430</td>\n",
              "    </tr>\n",
              "    <tr>\n",
              "      <th>10</th>\n",
              "      <td>November</td>\n",
              "      <td>360169</td>\n",
              "    </tr>\n",
              "    <tr>\n",
              "      <th>11</th>\n",
              "      <td>December</td>\n",
              "      <td>403095</td>\n",
              "    </tr>\n",
              "  </tbody>\n",
              "</table>\n",
              "</div>"
            ],
            "text/plain": [
              "        Month      ID\n",
              "0        July  157112\n",
              "1    February  186660\n",
              "2      August  196597\n",
              "3       March  197969\n",
              "4     January  198485\n",
              "5         May  204889\n",
              "6       April  205487\n",
              "7        June  214558\n",
              "8   September  255159\n",
              "9     October  326430\n",
              "10   November  360169\n",
              "11   December  403095"
            ]
          },
          "metadata": {
            "tags": []
          },
          "execution_count": 44
        }
      ]
    },
    {
      "cell_type": "code",
      "metadata": {
        "colab": {
          "base_uri": "https://localhost:8080/",
          "height": 518
        },
        "id": "ehp09u6Z3ynV",
        "outputId": "4ef149f7-efaa-4d0b-9814-e5bf4974242d"
      },
      "source": [
        "\n",
        "plt.figure(figsize=(13,8))\n",
        "sns.barplot(data=accidents_by_month, x='Month', y='ID')\n",
        "plt.title(\"Trend of Accident by Month\")\n",
        "\n",
        "plt.show()"
      ],
      "execution_count": null,
      "outputs": [
        {
          "output_type": "display_data",
          "data": {
            "image/png": "[encoded data removed]",
            "text/plain": [
              "<Figure size 936x576 with 1 Axes>"
            ]
          },
          "metadata": {
            "tags": []
          }
        }
      ]
    },
    {
      "cell_type": "markdown",
      "metadata": {
        "id": "n_W4jtRO6vp9"
      },
      "source": [
        "From the chart for the month above, Monthly accidents increase steadily from September-December. First half showing a smaller number of accidents compared to the second half of the year."
      ]
    },
    {
      "cell_type": "code",
      "metadata": {
        "id": "Nx28HhZo7KQn"
      },
      "source": [
        "#Months that recorded the highest number of Accidents\n",
        "accidents_by_day = pd.DataFrame(date_DataFrame.groupby('Day')['ID'].count()).sort_values(by = \"ID\", ascending= True)\n",
        "\n",
        "\n",
        "accidents_by_day.reset_index(inplace=True)"
      ],
      "execution_count": null,
      "outputs": []
    },
    {
      "cell_type": "code",
      "metadata": {
        "colab": {
          "base_uri": "https://localhost:8080/",
          "height": 266
        },
        "id": "cK1mdBrO7RNo",
        "outputId": "e8fe7b47-e7d4-4e67-8c08-20043ba36d52"
      },
      "source": [
        "accidents_by_day"
      ],
      "execution_count": null,
      "outputs": [
        {
          "output_type": "execute_result",
          "data": {
            "text/html": [
              "<div>\n",
              "<style scoped>\n",
              "    .dataframe tbody tr th:only-of-type {\n",
              "        vertical-align: middle;\n",
              "    }\n",
              "\n",
              "    .dataframe tbody tr th {\n",
              "        vertical-align: top;\n",
              "    }\n",
              "\n",
              "    .dataframe thead th {\n",
              "        text-align: right;\n",
              "    }\n",
              "</style>\n",
              "<table border=\"1\" class=\"dataframe\">\n",
              "  <thead>\n",
              "    <tr style=\"text-align: right;\">\n",
              "      <th></th>\n",
              "      <th>Day</th>\n",
              "      <th>ID</th>\n",
              "    </tr>\n",
              "  </thead>\n",
              "  <tbody>\n",
              "    <tr>\n",
              "      <th>0</th>\n",
              "      <td>Sunday</td>\n",
              "      <td>191547</td>\n",
              "    </tr>\n",
              "    <tr>\n",
              "      <th>1</th>\n",
              "      <td>Saturday</td>\n",
              "      <td>215791</td>\n",
              "    </tr>\n",
              "    <tr>\n",
              "      <th>2</th>\n",
              "      <td>Monday</td>\n",
              "      <td>475111</td>\n",
              "    </tr>\n",
              "    <tr>\n",
              "      <th>3</th>\n",
              "      <td>Tuesday</td>\n",
              "      <td>504308</td>\n",
              "    </tr>\n",
              "    <tr>\n",
              "      <th>4</th>\n",
              "      <td>Thursday</td>\n",
              "      <td>505811</td>\n",
              "    </tr>\n",
              "    <tr>\n",
              "      <th>5</th>\n",
              "      <td>Friday</td>\n",
              "      <td>506750</td>\n",
              "    </tr>\n",
              "    <tr>\n",
              "      <th>6</th>\n",
              "      <td>Wednesday</td>\n",
              "      <td>507292</td>\n",
              "    </tr>\n",
              "  </tbody>\n",
              "</table>\n",
              "</div>"
            ],
            "text/plain": [
              "         Day      ID\n",
              "0     Sunday  191547\n",
              "1   Saturday  215791\n",
              "2     Monday  475111\n",
              "3    Tuesday  504308\n",
              "4   Thursday  505811\n",
              "5     Friday  506750\n",
              "6  Wednesday  507292"
            ]
          },
          "metadata": {
            "tags": []
          },
          "execution_count": 45
        }
      ]
    },
    {
      "cell_type": "code",
      "metadata": {
        "colab": {
          "base_uri": "https://localhost:8080/",
          "height": 410
        },
        "id": "ihRyqXQT7bBe",
        "outputId": "75522b67-cddd-4ca5-866c-e16666f06eea"
      },
      "source": [
        "\n",
        "plt.figure(figsize=(8,6))\n",
        "sns.barplot(data=accidents_by_day, x='Day', y='ID', color=\"red\")\n",
        "plt.title(\"Trend of Accident by Day\")\n",
        "\n",
        "plt.show()"
      ],
      "execution_count": null,
      "outputs": [
        {
          "output_type": "display_data",
          "data": {
            "image/png": "[encoded data removed]",
            "text/plain": [
              "<Figure size 576x432 with 1 Axes>"
            ]
          },
          "metadata": {
            "tags": []
          }
        }
      ]
    },
    {
      "cell_type": "markdown",
      "metadata": {
        "id": "BNLpcXPy8Coi"
      },
      "source": [
        "Between 2016 and 2020, there is a large number of accidents during weekdays (Monday to Thursday). On the contrary, there are relatively fewer accidents on weekends (Saturday, and Sunday). During the weekends people stay at home. It shows that Friday, there were high number of accodents, it might be probably people having fun forthe weeknd and going to clubs and bar\n"
      ]
    },
    {
      "cell_type": "markdown",
      "metadata": {
        "id": "Pu8Z8VFs8vE4"
      },
      "source": [
        "**Now, Let's move to the categorical data**"
      ]
    },
    {
      "cell_type": "code",
      "metadata": {
        "colab": {
          "base_uri": "https://localhost:8080/",
          "height": 142
        },
        "id": "CCWZqGHHpByp",
        "outputId": "33821542-d1bd-4dbe-c5c5-9501f02c7611"
      },
      "source": [
        "Categorical_DataFrame.head(3)\n"
      ],
      "execution_count": null,
      "outputs": [
        {
          "output_type": "execute_result",
          "data": {
            "text/html": [
              "<div>\n",
              "<style scoped>\n",
              "    .dataframe tbody tr th:only-of-type {\n",
              "        vertical-align: middle;\n",
              "    }\n",
              "\n",
              "    .dataframe tbody tr th {\n",
              "        vertical-align: top;\n",
              "    }\n",
              "\n",
              "    .dataframe thead th {\n",
              "        text-align: right;\n",
              "    }\n",
              "</style>\n",
              "<table border=\"1\" class=\"dataframe\">\n",
              "  <thead>\n",
              "    <tr style=\"text-align: right;\">\n",
              "      <th></th>\n",
              "      <th>ID</th>\n",
              "      <th>Side</th>\n",
              "      <th>State</th>\n",
              "      <th>Timezone</th>\n",
              "      <th>Wind_Direction</th>\n",
              "      <th>Weather_Condition</th>\n",
              "      <th>Severity</th>\n",
              "      <th>Sunrise_Sunset</th>\n",
              "    </tr>\n",
              "  </thead>\n",
              "  <tbody>\n",
              "    <tr>\n",
              "      <th>0</th>\n",
              "      <td>A-1</td>\n",
              "      <td>R</td>\n",
              "      <td>SC</td>\n",
              "      <td>US/Eastern</td>\n",
              "      <td>N</td>\n",
              "      <td>Fair</td>\n",
              "      <td>2</td>\n",
              "      <td>Day</td>\n",
              "    </tr>\n",
              "    <tr>\n",
              "      <th>1</th>\n",
              "      <td>A-2</td>\n",
              "      <td>R</td>\n",
              "      <td>NC</td>\n",
              "      <td>US/Eastern</td>\n",
              "      <td>VAR</td>\n",
              "      <td>Cloudy</td>\n",
              "      <td>2</td>\n",
              "      <td>Day</td>\n",
              "    </tr>\n",
              "    <tr>\n",
              "      <th>2</th>\n",
              "      <td>A-3</td>\n",
              "      <td>R</td>\n",
              "      <td>CA</td>\n",
              "      <td>US/Pacific</td>\n",
              "      <td>W</td>\n",
              "      <td>Fair</td>\n",
              "      <td>2</td>\n",
              "      <td>Night</td>\n",
              "    </tr>\n",
              "  </tbody>\n",
              "</table>\n",
              "</div>"
            ],
            "text/plain": [
              "    ID Side State  ... Weather_Condition Severity Sunrise_Sunset\n",
              "0  A-1    R    SC  ...              Fair        2            Day\n",
              "1  A-2    R    NC  ...            Cloudy        2            Day\n",
              "2  A-3    R    CA  ...              Fair        2          Night\n",
              "\n",
              "[3 rows x 8 columns]"
            ]
          },
          "metadata": {
            "tags": []
          },
          "execution_count": 54
        }
      ]
    },
    {
      "cell_type": "markdown",
      "metadata": {
        "id": "xYJ_zf9PwUJo"
      },
      "source": [
        "Changing the datatypes to Category"
      ]
    },
    {
      "cell_type": "code",
      "metadata": {
        "colab": {
          "base_uri": "https://localhost:8080/"
        },
        "id": "P0kEsVbkwNu_",
        "outputId": "4348da3f-31df-44fa-d9fb-4ee6f7e14c49"
      },
      "source": [
        "Categorical_DataFrame['Side'] = Categorical_DataFrame.Side.astype('category')\n",
        "Categorical_DataFrame['State'] = Categorical_DataFrame.State.astype('category')\n",
        "Categorical_DataFrame['Timezone'] = Categorical_DataFrame.Timezone.astype('category')\n",
        "Categorical_DataFrame['Wind_Direction'] = Categorical_DataFrame.Wind_Direction.astype('category')\n",
        "Categorical_DataFrame['Weather_Condition'] = Categorical_DataFrame.Weather_Condition.astype('category')\n",
        "Categorical_DataFrame['Severity'] = Categorical_DataFrame.Severity.astype('category')\n",
        "Categorical_DataFrame['Sunrise_Sunset'] = Categorical_DataFrame.Sunrise_Sunset.astype('category')\n",
        "\n"
      ],
      "execution_count": null,
      "outputs": [
        {
          "output_type": "stream",
          "text": [
            "/usr/local/lib/python3.7/dist-packages/ipykernel_launcher.py:1: SettingWithCopyWarning: \n",
            "A value is trying to be set on a copy of a slice from a DataFrame.\n",
            "Try using .loc[row_indexer,col_indexer] = value instead\n",
            "\n",
            "See the caveats in the documentation: https://pandas.pydata.org/pandas-docs/stable/user_guide/indexing.html#returning-a-view-versus-a-copy\n",
            "  \"\"\"Entry point for launching an IPython kernel.\n",
            "/usr/local/lib/python3.7/dist-packages/ipykernel_launcher.py:2: SettingWithCopyWarning: \n",
            "A value is trying to be set on a copy of a slice from a DataFrame.\n",
            "Try using .loc[row_indexer,col_indexer] = value instead\n",
            "\n",
            "See the caveats in the documentation: https://pandas.pydata.org/pandas-docs/stable/user_guide/indexing.html#returning-a-view-versus-a-copy\n",
            "  \n",
            "/usr/local/lib/python3.7/dist-packages/ipykernel_launcher.py:3: SettingWithCopyWarning: \n",
            "A value is trying to be set on a copy of a slice from a DataFrame.\n",
            "Try using .loc[row_indexer,col_indexer] = value instead\n",
            "\n",
            "See the caveats in the documentation: https://pandas.pydata.org/pandas-docs/stable/user_guide/indexing.html#returning-a-view-versus-a-copy\n",
            "  This is separate from the ipykernel package so we can avoid doing imports until\n",
            "/usr/local/lib/python3.7/dist-packages/ipykernel_launcher.py:4: SettingWithCopyWarning: \n",
            "A value is trying to be set on a copy of a slice from a DataFrame.\n",
            "Try using .loc[row_indexer,col_indexer] = value instead\n",
            "\n",
            "See the caveats in the documentation: https://pandas.pydata.org/pandas-docs/stable/user_guide/indexing.html#returning-a-view-versus-a-copy\n",
            "  after removing the cwd from sys.path.\n",
            "/usr/local/lib/python3.7/dist-packages/ipykernel_launcher.py:5: SettingWithCopyWarning: \n",
            "A value is trying to be set on a copy of a slice from a DataFrame.\n",
            "Try using .loc[row_indexer,col_indexer] = value instead\n",
            "\n",
            "See the caveats in the documentation: https://pandas.pydata.org/pandas-docs/stable/user_guide/indexing.html#returning-a-view-versus-a-copy\n",
            "  \"\"\"\n",
            "/usr/local/lib/python3.7/dist-packages/ipykernel_launcher.py:6: SettingWithCopyWarning: \n",
            "A value is trying to be set on a copy of a slice from a DataFrame.\n",
            "Try using .loc[row_indexer,col_indexer] = value instead\n",
            "\n",
            "See the caveats in the documentation: https://pandas.pydata.org/pandas-docs/stable/user_guide/indexing.html#returning-a-view-versus-a-copy\n",
            "  \n",
            "/usr/local/lib/python3.7/dist-packages/ipykernel_launcher.py:7: SettingWithCopyWarning: \n",
            "A value is trying to be set on a copy of a slice from a DataFrame.\n",
            "Try using .loc[row_indexer,col_indexer] = value instead\n",
            "\n",
            "See the caveats in the documentation: https://pandas.pydata.org/pandas-docs/stable/user_guide/indexing.html#returning-a-view-versus-a-copy\n",
            "  import sys\n"
          ],
          "name": "stderr"
        }
      ]
    },
    {
      "cell_type": "code",
      "metadata": {
        "colab": {
          "base_uri": "https://localhost:8080/"
        },
        "id": "jDgqME6Tz2Qb",
        "outputId": "39cccca4-0fd6-420a-d7ac-695006390614"
      },
      "source": [
        "Categorical_DataFrame.dtypes"
      ],
      "execution_count": null,
      "outputs": [
        {
          "output_type": "execute_result",
          "data": {
            "text/plain": [
              "ID                     object\n",
              "Side                 category\n",
              "State                category\n",
              "Timezone             category\n",
              "Wind_Direction       category\n",
              "Weather_Condition    category\n",
              "Severity             category\n",
              "Sunrise_Sunset       category\n",
              "dtype: object"
            ]
          },
          "metadata": {
            "tags": []
          },
          "execution_count": 89
        }
      ]
    },
    {
      "cell_type": "markdown",
      "metadata": {
        "id": "WyaGRUuMyQN3"
      },
      "source": [
        "From our earlier code, We kno we need to replace (\" \") as NAN  for Side coliumn"
      ]
    },
    {
      "cell_type": "code",
      "metadata": {
        "colab": {
          "base_uri": "https://localhost:8080/"
        },
        "id": "2hNxILn2yh53",
        "outputId": "7f2378d1-6ba5-475a-947a-407a8964531d"
      },
      "source": [
        "Categorical_DataFrame.Side.unique()"
      ],
      "execution_count": null,
      "outputs": [
        {
          "output_type": "execute_result",
          "data": {
            "text/plain": [
              "['R', 'L', ' ']\n",
              "Categories (3, object): ['R', 'L', ' ']"
            ]
          },
          "metadata": {
            "tags": []
          },
          "execution_count": 48
        }
      ]
    },
    {
      "cell_type": "code",
      "metadata": {
        "colab": {
          "base_uri": "https://localhost:8080/"
        },
        "id": "W0WXntwfypj_",
        "outputId": "5bb7e6eb-8d25-4fe3-9b44-f98f77ef91e6"
      },
      "source": [
        "#replacing\n",
        "Categorical_DataFrame.Side.replace(' ', np.nan, inplace=True)\n"
      ],
      "execution_count": null,
      "outputs": [
        {
          "output_type": "stream",
          "text": [
            "/usr/local/lib/python3.7/dist-packages/pandas/core/series.py:4582: SettingWithCopyWarning: \n",
            "A value is trying to be set on a copy of a slice from a DataFrame\n",
            "\n",
            "See the caveats in the documentation: https://pandas.pydata.org/pandas-docs/stable/user_guide/indexing.html#returning-a-view-versus-a-copy\n",
            "  method=method,\n"
          ],
          "name": "stderr"
        }
      ]
    },
    {
      "cell_type": "code",
      "metadata": {
        "colab": {
          "base_uri": "https://localhost:8080/"
        },
        "id": "t5jalsOcpsdC",
        "outputId": "d47e5b52-8dfd-43ac-e37d-e3074c2b0b0e"
      },
      "source": [
        "#To check if there is a missing dat in Categorical Dataframe.\n",
        "Categorical_DataFrame.isnull().any().values"
      ],
      "execution_count": null,
      "outputs": [
        {
          "output_type": "execute_result",
          "data": {
            "text/plain": [
              "array([False,  True, False,  True,  True,  True, False,  True])"
            ]
          },
          "metadata": {
            "tags": []
          },
          "execution_count": 50
        }
      ]
    },
    {
      "cell_type": "markdown",
      "metadata": {
        "id": "v11XHHBfsCkO"
      },
      "source": [
        "From the above code, we have some missing data in the categorical data. We have to find a method to fill in the missing data before analyzing"
      ]
    },
    {
      "cell_type": "code",
      "metadata": {
        "id": "u8Z6LV8wzo2e"
      },
      "source": [
        "# USING MODE TO FILL IN THE MISIING DATA.\n",
        "Categorical_DataFrame = Categorical_DataFrame.fillna(Categorical_DataFrame.mode().iloc[0])"
      ],
      "execution_count": null,
      "outputs": []
    },
    {
      "cell_type": "code",
      "metadata": {
        "colab": {
          "base_uri": "https://localhost:8080/"
        },
        "id": "Q0zAlijKtofH",
        "outputId": "ce9ec13d-fc55-4ba4-e996-029d25486ca7"
      },
      "source": [
        "#TO CHECK IF THERE IS STILL MISSING DATA IN THE DATAFRAME AFTER FILLING IN WITH THE MODE\n",
        "Categorical_DataFrame.isnull().values.any()"
      ],
      "execution_count": null,
      "outputs": [
        {
          "output_type": "execute_result",
          "data": {
            "text/plain": [
              "False"
            ]
          },
          "metadata": {
            "tags": []
          },
          "execution_count": 52
        }
      ]
    },
    {
      "cell_type": "markdown",
      "metadata": {
        "id": "h6FGN94Fum6H"
      },
      "source": [
        "From the above code, we can see we don't have any missing data. We can start drawing our insight now.\n"
      ]
    },
    {
      "cell_type": "code",
      "metadata": {
        "colab": {
          "base_uri": "https://localhost:8080/",
          "height": 111
        },
        "id": "tDcixrJPu4vg",
        "outputId": "44798bfd-817c-4c08-c447-5476f85bc0a5"
      },
      "source": [
        "Categorical_DataFrame.head(2)"
      ],
      "execution_count": null,
      "outputs": [
        {
          "output_type": "execute_result",
          "data": {
            "text/html": [
              "<div>\n",
              "<style scoped>\n",
              "    .dataframe tbody tr th:only-of-type {\n",
              "        vertical-align: middle;\n",
              "    }\n",
              "\n",
              "    .dataframe tbody tr th {\n",
              "        vertical-align: top;\n",
              "    }\n",
              "\n",
              "    .dataframe thead th {\n",
              "        text-align: right;\n",
              "    }\n",
              "</style>\n",
              "<table border=\"1\" class=\"dataframe\">\n",
              "  <thead>\n",
              "    <tr style=\"text-align: right;\">\n",
              "      <th></th>\n",
              "      <th>ID</th>\n",
              "      <th>Side</th>\n",
              "      <th>State</th>\n",
              "      <th>Timezone</th>\n",
              "      <th>Wind_Direction</th>\n",
              "      <th>Weather_Condition</th>\n",
              "      <th>Severity</th>\n",
              "      <th>Sunrise_Sunset</th>\n",
              "    </tr>\n",
              "  </thead>\n",
              "  <tbody>\n",
              "    <tr>\n",
              "      <th>0</th>\n",
              "      <td>A-1</td>\n",
              "      <td>R</td>\n",
              "      <td>SC</td>\n",
              "      <td>US/Eastern</td>\n",
              "      <td>N</td>\n",
              "      <td>Fair</td>\n",
              "      <td>2</td>\n",
              "      <td>Day</td>\n",
              "    </tr>\n",
              "    <tr>\n",
              "      <th>1</th>\n",
              "      <td>A-2</td>\n",
              "      <td>R</td>\n",
              "      <td>NC</td>\n",
              "      <td>US/Eastern</td>\n",
              "      <td>VAR</td>\n",
              "      <td>Cloudy</td>\n",
              "      <td>2</td>\n",
              "      <td>Day</td>\n",
              "    </tr>\n",
              "  </tbody>\n",
              "</table>\n",
              "</div>"
            ],
            "text/plain": [
              "    ID Side State  ... Weather_Condition Severity Sunrise_Sunset\n",
              "0  A-1    R    SC  ...              Fair        2            Day\n",
              "1  A-2    R    NC  ...            Cloudy        2            Day\n",
              "\n",
              "[2 rows x 8 columns]"
            ]
          },
          "metadata": {
            "tags": []
          },
          "execution_count": 70
        }
      ]
    },
    {
      "cell_type": "markdown",
      "metadata": {
        "id": "JiCfXVNuz_Z5"
      },
      "source": [
        "Timezone by Accident"
      ]
    },
    {
      "cell_type": "code",
      "metadata": {
        "id": "INKZqREw0I7r"
      },
      "source": [
        "accidents_by_Timezone = pd.DataFrame(Categorical_DataFrame.groupby(\"Timezone\")[\"ID\"].count()).sort_values(by=\"ID\", ascending=True)\n",
        "\n",
        "\n",
        "\n",
        "accidents_by_Timezone.reset_index(inplace=True)\n"
      ],
      "execution_count": null,
      "outputs": []
    },
    {
      "cell_type": "code",
      "metadata": {
        "colab": {
          "base_uri": "https://localhost:8080/",
          "height": 173
        },
        "id": "ZfsfWkLT3Rhk",
        "outputId": "1cac7099-3f08-4626-b3dd-a7af879f38b8"
      },
      "source": [
        "accidents_by_Timezone"
      ],
      "execution_count": null,
      "outputs": [
        {
          "output_type": "execute_result",
          "data": {
            "text/html": [
              "<div>\n",
              "<style scoped>\n",
              "    .dataframe tbody tr th:only-of-type {\n",
              "        vertical-align: middle;\n",
              "    }\n",
              "\n",
              "    .dataframe tbody tr th {\n",
              "        vertical-align: top;\n",
              "    }\n",
              "\n",
              "    .dataframe thead th {\n",
              "        text-align: right;\n",
              "    }\n",
              "</style>\n",
              "<table border=\"1\" class=\"dataframe\">\n",
              "  <thead>\n",
              "    <tr style=\"text-align: right;\">\n",
              "      <th></th>\n",
              "      <th>Timezone</th>\n",
              "      <th>ID</th>\n",
              "    </tr>\n",
              "  </thead>\n",
              "  <tbody>\n",
              "    <tr>\n",
              "      <th>0</th>\n",
              "      <td>US/Mountain</td>\n",
              "      <td>166823</td>\n",
              "    </tr>\n",
              "    <tr>\n",
              "      <th>1</th>\n",
              "      <td>US/Central</td>\n",
              "      <td>631219</td>\n",
              "    </tr>\n",
              "    <tr>\n",
              "      <th>2</th>\n",
              "      <td>US/Pacific</td>\n",
              "      <td>888512</td>\n",
              "    </tr>\n",
              "    <tr>\n",
              "      <th>3</th>\n",
              "      <td>US/Eastern</td>\n",
              "      <td>1220056</td>\n",
              "    </tr>\n",
              "  </tbody>\n",
              "</table>\n",
              "</div>"
            ],
            "text/plain": [
              "      Timezone       ID\n",
              "0  US/Mountain   166823\n",
              "1   US/Central   631219\n",
              "2   US/Pacific   888512\n",
              "3   US/Eastern  1220056"
            ]
          },
          "metadata": {
            "tags": []
          },
          "execution_count": 62
        }
      ]
    },
    {
      "cell_type": "code",
      "metadata": {
        "id": "6rE6WcwFvW_b"
      },
      "source": [
        "accidents_by_Timezone[\"Percentage %\"] = round((accidents_by_Timezone[\"ID\"]/accidents_by_Timezone['ID'].sum()) * 100, 2)\n",
        "\n"
      ],
      "execution_count": null,
      "outputs": []
    },
    {
      "cell_type": "code",
      "metadata": {
        "colab": {
          "base_uri": "https://localhost:8080/",
          "height": 173
        },
        "id": "ow6f6qpG47Ku",
        "outputId": "34857d14-c025-4826-abc2-9b29dcaaa9dc"
      },
      "source": [
        "accidents_by_Timezone"
      ],
      "execution_count": null,
      "outputs": [
        {
          "output_type": "execute_result",
          "data": {
            "text/html": [
              "<div>\n",
              "<style scoped>\n",
              "    .dataframe tbody tr th:only-of-type {\n",
              "        vertical-align: middle;\n",
              "    }\n",
              "\n",
              "    .dataframe tbody tr th {\n",
              "        vertical-align: top;\n",
              "    }\n",
              "\n",
              "    .dataframe thead th {\n",
              "        text-align: right;\n",
              "    }\n",
              "</style>\n",
              "<table border=\"1\" class=\"dataframe\">\n",
              "  <thead>\n",
              "    <tr style=\"text-align: right;\">\n",
              "      <th></th>\n",
              "      <th>Timezone</th>\n",
              "      <th>ID</th>\n",
              "      <th>Percentage %</th>\n",
              "    </tr>\n",
              "  </thead>\n",
              "  <tbody>\n",
              "    <tr>\n",
              "      <th>0</th>\n",
              "      <td>US/Mountain</td>\n",
              "      <td>166823</td>\n",
              "      <td>5.74</td>\n",
              "    </tr>\n",
              "    <tr>\n",
              "      <th>1</th>\n",
              "      <td>US/Central</td>\n",
              "      <td>631219</td>\n",
              "      <td>21.72</td>\n",
              "    </tr>\n",
              "    <tr>\n",
              "      <th>2</th>\n",
              "      <td>US/Pacific</td>\n",
              "      <td>888512</td>\n",
              "      <td>30.57</td>\n",
              "    </tr>\n",
              "    <tr>\n",
              "      <th>3</th>\n",
              "      <td>US/Eastern</td>\n",
              "      <td>1220056</td>\n",
              "      <td>41.98</td>\n",
              "    </tr>\n",
              "  </tbody>\n",
              "</table>\n",
              "</div>"
            ],
            "text/plain": [
              "      Timezone       ID  Percentage %\n",
              "0  US/Mountain   166823          5.74\n",
              "1   US/Central   631219         21.72\n",
              "2   US/Pacific   888512         30.57\n",
              "3   US/Eastern  1220056         41.98"
            ]
          },
          "metadata": {
            "tags": []
          },
          "execution_count": 55
        }
      ]
    },
    {
      "cell_type": "code",
      "metadata": {
        "colab": {
          "base_uri": "https://localhost:8080/",
          "height": 410
        },
        "id": "LujuT-Wx6Xqb",
        "outputId": "bded8297-b27e-4312-884b-da94b9f8371d"
      },
      "source": [
        "\n",
        "plt.figure(figsize=(8,6))\n",
        "sns.barplot(data=accidents_by_Timezone, x='Timezone', y='ID')\n",
        "plt.title(\"Accident by Timezone\")\n",
        "\n",
        "plt.show()"
      ],
      "execution_count": null,
      "outputs": [
        {
          "output_type": "display_data",
          "data": {
            "image/png": "[encoded data removed]",
            "text/plain": [
              "<Figure size 576x432 with 1 Axes>"
            ]
          },
          "metadata": {
            "tags": []
          }
        }
      ]
    },
    {
      "cell_type": "markdown",
      "metadata": {
        "id": "6zfMf0Zd9s-m"
      },
      "source": [
        "From the chart above, We can seee that most numbers of accidents that took place in regions with timezone are Eastern Standard Time followed by Pacific Standard Time.\n",
        "\n"
      ]
    },
    {
      "cell_type": "markdown",
      "metadata": {
        "id": "qJKq5hzsd0a3"
      },
      "source": [
        "Accident on the Left & Right Side of the Road."
      ]
    },
    {
      "cell_type": "code",
      "metadata": {
        "id": "4YeJ7C5h9_lF"
      },
      "source": [
        "accidents_by_side = pd.DataFrame(Categorical_DataFrame.groupby('Side')['ID'].count()).sort_values(by=\"ID\", ascending=False)\n",
        "accidents_by_side.reset_index(inplace=True)\n",
        "\n",
        "accidents_by_side['Percentage %'] = round((accidents_by_side['ID']/accidents_by_side['ID'].sum()) * 100,2)"
      ],
      "execution_count": null,
      "outputs": []
    },
    {
      "cell_type": "code",
      "metadata": {
        "colab": {
          "base_uri": "https://localhost:8080/",
          "height": 111
        },
        "id": "w4xU3_cF-JCW",
        "outputId": "31ca5ac3-e31c-4836-f895-6a4c444cbb20"
      },
      "source": [
        "accidents_by_side"
      ],
      "execution_count": null,
      "outputs": [
        {
          "output_type": "execute_result",
          "data": {
            "text/html": [
              "<div>\n",
              "<style scoped>\n",
              "    .dataframe tbody tr th:only-of-type {\n",
              "        vertical-align: middle;\n",
              "    }\n",
              "\n",
              "    .dataframe tbody tr th {\n",
              "        vertical-align: top;\n",
              "    }\n",
              "\n",
              "    .dataframe thead th {\n",
              "        text-align: right;\n",
              "    }\n",
              "</style>\n",
              "<table border=\"1\" class=\"dataframe\">\n",
              "  <thead>\n",
              "    <tr style=\"text-align: right;\">\n",
              "      <th></th>\n",
              "      <th>Side</th>\n",
              "      <th>ID</th>\n",
              "      <th>Percentage %</th>\n",
              "    </tr>\n",
              "  </thead>\n",
              "  <tbody>\n",
              "    <tr>\n",
              "      <th>0</th>\n",
              "      <td>R</td>\n",
              "      <td>2409663</td>\n",
              "      <td>82.9</td>\n",
              "    </tr>\n",
              "    <tr>\n",
              "      <th>1</th>\n",
              "      <td>L</td>\n",
              "      <td>496947</td>\n",
              "      <td>17.1</td>\n",
              "    </tr>\n",
              "  </tbody>\n",
              "</table>\n",
              "</div>"
            ],
            "text/plain": [
              "  Side       ID  Percentage %\n",
              "0    R  2409663          82.9\n",
              "1    L   496947          17.1"
            ]
          },
          "metadata": {
            "tags": []
          },
          "execution_count": 58
        }
      ]
    },
    {
      "cell_type": "code",
      "metadata": {
        "id": "_0m9Z_SRDzM6"
      },
      "source": [
        "# accidents_by_side.to_list\n",
        "# plt.figure(figsize=(6,6))\n",
        "# sns.barplot(data=accidents_by_side, x='Side', y='ID')\n",
        "# plt.title(\"Accident by Side\")\n",
        "\n",
        "# plt.show()"
      ],
      "execution_count": null,
      "outputs": []
    },
    {
      "cell_type": "code",
      "metadata": {
        "colab": {
          "base_uri": "https://localhost:8080/",
          "height": 311
        },
        "id": "lgPCmk9AEHuG",
        "outputId": "0a038ad2-3e3b-423a-8624-2c60f4913746"
      },
      "source": [
        "side_percentage = accidents_by_side[\"Percentage %\"].to_list()\n",
        "plt.title('Accident on the Left & Right side of the Road', fontsize=20, loc='Left')\n",
        "plt.pie(side_percentage, colors=['#5DADE2', '#EAA100'], labels= [\"Right\", \"Left\"], radius=1.6, autopct= \"%0.1f%%\", pctdistance = 0.77,\n",
        "        textprops = {\"size\" : 17, \"color\" : \"#000000\"}, explode= [0.00, 0.00])\n",
        "\n",
        "centre_circle = plt.Circle((0,0), 0.8, fc = \"w\")\n",
        "fig = plt.gcf()\n",
        "fig.gca().add_artist(centre_circle)\n",
        "plt.show()\n",
        "# \"#5B92EE\", \"#EAA100\""
      ],
      "execution_count": null,
      "outputs": [
        {
          "output_type": "display_data",
          "data": {
            "image/png": "[encoded data removed]",
            "text/plain": [
              "<Figure size 432x288 with 1 Axes>"
            ]
          },
          "metadata": {
            "tags": []
          }
        }
      ]
    },
    {
      "cell_type": "markdown",
      "metadata": {
        "id": "uw8emSgmI6S0"
      },
      "source": [
        "From the dougnurt chart above, most accidents occured on the Right  side of the road than the  left."
      ]
    },
    {
      "cell_type": "markdown",
      "metadata": {
        "id": "-3CnX4G4eFVm"
      },
      "source": [
        "State with the highest number of acciidents"
      ]
    },
    {
      "cell_type": "code",
      "metadata": {
        "id": "y9IniO47-ord"
      },
      "source": [
        "accidents_by_states = pd.DataFrame(Categorical_DataFrame.groupby('State')['ID'].count()).sort_values(by=\"ID\", ascending=False)\n",
        "accidents_by_states.reset_index(inplace=True)\n",
        "accidents_by_states['Percentage %'] = round((accidents_by_states['ID']/accidents_by_states['ID'].sum()) *100,2)"
      ],
      "execution_count": null,
      "outputs": []
    },
    {
      "cell_type": "code",
      "metadata": {
        "colab": {
          "base_uri": "https://localhost:8080/",
          "height": 359
        },
        "id": "_UUZhWZCJ5L9",
        "outputId": "3c0e2fc7-3323-4161-e6c9-135ac1c372fb"
      },
      "source": [
        " Top_10 = accidents_by_states.head(10)\n",
        " Top_10\n"
      ],
      "execution_count": null,
      "outputs": [
        {
          "output_type": "execute_result",
          "data": {
            "text/html": [
              "<div>\n",
              "<style scoped>\n",
              "    .dataframe tbody tr th:only-of-type {\n",
              "        vertical-align: middle;\n",
              "    }\n",
              "\n",
              "    .dataframe tbody tr th {\n",
              "        vertical-align: top;\n",
              "    }\n",
              "\n",
              "    .dataframe thead th {\n",
              "        text-align: right;\n",
              "    }\n",
              "</style>\n",
              "<table border=\"1\" class=\"dataframe\">\n",
              "  <thead>\n",
              "    <tr style=\"text-align: right;\">\n",
              "      <th></th>\n",
              "      <th>State</th>\n",
              "      <th>ID</th>\n",
              "      <th>Percentage %</th>\n",
              "    </tr>\n",
              "  </thead>\n",
              "  <tbody>\n",
              "    <tr>\n",
              "      <th>0</th>\n",
              "      <td>CA</td>\n",
              "      <td>730744</td>\n",
              "      <td>25.14</td>\n",
              "    </tr>\n",
              "    <tr>\n",
              "      <th>1</th>\n",
              "      <td>FL</td>\n",
              "      <td>263300</td>\n",
              "      <td>9.06</td>\n",
              "    </tr>\n",
              "    <tr>\n",
              "      <th>2</th>\n",
              "      <td>TX</td>\n",
              "      <td>226640</td>\n",
              "      <td>7.80</td>\n",
              "    </tr>\n",
              "    <tr>\n",
              "      <th>3</th>\n",
              "      <td>NY</td>\n",
              "      <td>126176</td>\n",
              "      <td>4.34</td>\n",
              "    </tr>\n",
              "    <tr>\n",
              "      <th>4</th>\n",
              "      <td>NC</td>\n",
              "      <td>122797</td>\n",
              "      <td>4.22</td>\n",
              "    </tr>\n",
              "    <tr>\n",
              "      <th>5</th>\n",
              "      <td>SC</td>\n",
              "      <td>120462</td>\n",
              "      <td>4.14</td>\n",
              "    </tr>\n",
              "    <tr>\n",
              "      <th>6</th>\n",
              "      <td>OR</td>\n",
              "      <td>98352</td>\n",
              "      <td>3.38</td>\n",
              "    </tr>\n",
              "    <tr>\n",
              "      <th>7</th>\n",
              "      <td>PA</td>\n",
              "      <td>89745</td>\n",
              "      <td>3.09</td>\n",
              "    </tr>\n",
              "    <tr>\n",
              "      <th>8</th>\n",
              "      <td>VA</td>\n",
              "      <td>89730</td>\n",
              "      <td>3.09</td>\n",
              "    </tr>\n",
              "    <tr>\n",
              "      <th>9</th>\n",
              "      <td>MN</td>\n",
              "      <td>79712</td>\n",
              "      <td>2.74</td>\n",
              "    </tr>\n",
              "  </tbody>\n",
              "</table>\n",
              "</div>"
            ],
            "text/plain": [
              "  State      ID  Percentage %\n",
              "0    CA  730744         25.14\n",
              "1    FL  263300          9.06\n",
              "2    TX  226640          7.80\n",
              "3    NY  126176          4.34\n",
              "4    NC  122797          4.22\n",
              "5    SC  120462          4.14\n",
              "6    OR   98352          3.38\n",
              "7    PA   89745          3.09\n",
              "8    VA   89730          3.09\n",
              "9    MN   79712          2.74"
            ]
          },
          "metadata": {
            "tags": []
          },
          "execution_count": 69
        }
      ]
    },
    {
      "cell_type": "code",
      "metadata": {
        "colab": {
          "base_uri": "https://localhost:8080/",
          "height": 411
        },
        "id": "hHTvalE-K_x2",
        "outputId": "1077af35-e988-4836-e1ba-bf8e7590d5ec"
      },
      "source": [
        "# Product = ['Computer','Monitor','Laptop','Printer','Tablet']\n",
        "# Quantity = [320,450,300,120,280]\n",
        "id_list = Top_10['ID'][:10].to_list()\n",
        "state_list = Top_10['State'].to_list()\n",
        "\n",
        "plt.style.use('ggplot')\n",
        "\n",
        "plt.figure(figsize=(12,6))\n",
        "plt.barh(state_list, id_list)\n",
        "\n",
        "plt.title('Accident by State(Top 10)')\n",
        "plt.ylabel('ID')\n",
        "plt.xlabel('State')\n",
        "plt.show()"
      ],
      "execution_count": null,
      "outputs": [
        {
          "output_type": "display_data",
          "data": {
            "image/png": "[encoded data removed]",
            "text/plain": [
              "<Figure size 864x432 with 1 Axes>"
            ]
          },
          "metadata": {
            "tags": []
          }
        }
      ]
    },
    {
      "cell_type": "markdown",
      "metadata": {
        "id": "Ya-4FSl-H1rc"
      },
      "source": [
        "The plotabove  potrays that Canada(CA) has the highest number of accidents followed by Florida(FL) and Texas(TX)."
      ]
    },
    {
      "cell_type": "markdown",
      "metadata": {
        "id": "Wx-4AtKSIGbR"
      },
      "source": [
        "## Wind Direction"
      ]
    },
    {
      "cell_type": "code",
      "metadata": {
        "id": "JSParMqdIitq"
      },
      "source": [
        "\n",
        "accidents_by_wind_direction = pd.DataFrame(Categorical_DataFrame.groupby('Wind_Direction')['ID'].count()).sort_values(by=\"ID\", ascending=False)\n",
        "accidents_by_wind_direction.reset_index(inplace=True)\n",
        "\n",
        "accidents_by_wind_direction['Percentage'] = round(accidents_by_wind_direction.ID / accidents_by_wind_direction.ID.sum() * 100, 2)"
      ],
      "execution_count": null,
      "outputs": []
    },
    {
      "cell_type": "code",
      "metadata": {
        "colab": {
          "base_uri": "https://localhost:8080/",
          "height": 359
        },
        "id": "iRtAsxq_Jrj9",
        "outputId": "7f35fee1-71b1-4951-d47c-30c1db0fb088"
      },
      "source": [
        "Top_10_wd = accidents_by_wind_direction[:10]\n",
        "Top_10_wd"
      ],
      "execution_count": null,
      "outputs": [
        {
          "output_type": "execute_result",
          "data": {
            "text/html": [
              "<div>\n",
              "<style scoped>\n",
              "    .dataframe tbody tr th:only-of-type {\n",
              "        vertical-align: middle;\n",
              "    }\n",
              "\n",
              "    .dataframe tbody tr th {\n",
              "        vertical-align: top;\n",
              "    }\n",
              "\n",
              "    .dataframe thead th {\n",
              "        text-align: right;\n",
              "    }\n",
              "</style>\n",
              "<table border=\"1\" class=\"dataframe\">\n",
              "  <thead>\n",
              "    <tr style=\"text-align: right;\">\n",
              "      <th></th>\n",
              "      <th>Wind_Direction</th>\n",
              "      <th>ID</th>\n",
              "      <th>Percentage</th>\n",
              "    </tr>\n",
              "  </thead>\n",
              "  <tbody>\n",
              "    <tr>\n",
              "      <th>0</th>\n",
              "      <td>CALM</td>\n",
              "      <td>359877</td>\n",
              "      <td>12.38</td>\n",
              "    </tr>\n",
              "    <tr>\n",
              "      <th>1</th>\n",
              "      <td>Calm</td>\n",
              "      <td>225941</td>\n",
              "      <td>7.77</td>\n",
              "    </tr>\n",
              "    <tr>\n",
              "      <th>2</th>\n",
              "      <td>WNW</td>\n",
              "      <td>142701</td>\n",
              "      <td>4.91</td>\n",
              "    </tr>\n",
              "    <tr>\n",
              "      <th>3</th>\n",
              "      <td>SSW</td>\n",
              "      <td>140728</td>\n",
              "      <td>4.84</td>\n",
              "    </tr>\n",
              "    <tr>\n",
              "      <th>4</th>\n",
              "      <td>NW</td>\n",
              "      <td>138418</td>\n",
              "      <td>4.76</td>\n",
              "    </tr>\n",
              "    <tr>\n",
              "      <th>5</th>\n",
              "      <td>SW</td>\n",
              "      <td>132955</td>\n",
              "      <td>4.57</td>\n",
              "    </tr>\n",
              "    <tr>\n",
              "      <th>6</th>\n",
              "      <td>WSW</td>\n",
              "      <td>131533</td>\n",
              "      <td>4.53</td>\n",
              "    </tr>\n",
              "    <tr>\n",
              "      <th>7</th>\n",
              "      <td>SSE</td>\n",
              "      <td>130509</td>\n",
              "      <td>4.49</td>\n",
              "    </tr>\n",
              "    <tr>\n",
              "      <th>8</th>\n",
              "      <td>NNW</td>\n",
              "      <td>124828</td>\n",
              "      <td>4.29</td>\n",
              "    </tr>\n",
              "    <tr>\n",
              "      <th>9</th>\n",
              "      <td>S</td>\n",
              "      <td>110587</td>\n",
              "      <td>3.80</td>\n",
              "    </tr>\n",
              "  </tbody>\n",
              "</table>\n",
              "</div>"
            ],
            "text/plain": [
              "  Wind_Direction      ID  Percentage\n",
              "0           CALM  359877       12.38\n",
              "1           Calm  225941        7.77\n",
              "2            WNW  142701        4.91\n",
              "3            SSW  140728        4.84\n",
              "4             NW  138418        4.76\n",
              "5             SW  132955        4.57\n",
              "6            WSW  131533        4.53\n",
              "7            SSE  130509        4.49\n",
              "8            NNW  124828        4.29\n",
              "9              S  110587        3.80"
            ]
          },
          "metadata": {
            "tags": []
          },
          "execution_count": 82
        }
      ]
    },
    {
      "cell_type": "code",
      "metadata": {
        "colab": {
          "base_uri": "https://localhost:8080/",
          "height": 497
        },
        "id": "fRHe--YtKDKX",
        "outputId": "e76e3d33-ecb4-4893-97b9-5fe164b0c7ba"
      },
      "source": [
        "id_list = Top_10_wd.ID.to_list()\n",
        "wind_list = Top_10_wd.Wind_Direction.to_list()\n",
        "sns.set_theme(style=\"darkgrid\")\n",
        "plt.figure(figsize=(15,8))\n",
        "plt.bar(wind_list, id_list, width = 0.8, color = \"#E8710B\")\n",
        "plt.xlabel(\"Wind Directions\", fontdict= {\"fontsize\" : 18}, labelpad= 18)\n",
        "plt.ylabel(\"No Of Accident\", fontdict= {\"fontsize\" : 18}, labelpad= 18)\n",
        "plt.title(\"Wind Direction With The Highest Number Of Accidents\", fontdict= {\"fontsize\" : 20, \"fontweight\" : \"bold\"})\n",
        "\n",
        "\n",
        "plt.show()"
      ],
      "execution_count": null,
      "outputs": [
        {
          "output_type": "display_data",
          "data": {
            "image/png": "[encoded data removed]",
            "text/plain": [
              "<Figure size 1080x576 with 1 Axes>"
            ]
          },
          "metadata": {
            "tags": []
          }
        }
      ]
    },
    {
      "cell_type": "markdown",
      "metadata": {
        "id": "AomF87FlS0cx"
      },
      "source": [
        "From the chart above, It shows that the direction of the wind was calm, which means that wind direction does not paly a major role in the accidents."
      ]
    },
    {
      "cell_type": "markdown",
      "metadata": {
        "id": "V4waDy_7OxeU"
      },
      "source": [
        "From the charts above, It shows the wind direction doesn't causes the high number of accidents."
      ]
    },
    {
      "cell_type": "markdown",
      "metadata": {
        "id": "L42FqTvgPGkt"
      },
      "source": [
        "### Weather Condition"
      ]
    },
    {
      "cell_type": "code",
      "metadata": {
        "id": "akyhgohBPJ9u"
      },
      "source": [
        "\n",
        "accidents_by_weather_condition = pd.DataFrame(Categorical_DataFrame.groupby('Weather_Condition')['ID'].count()).sort_values(by=\"ID\", ascending=False)\n",
        "accidents_by_weather_condition.reset_index(inplace=True)\n",
        "\n",
        "accidents_by_weather_condition['Percentage'] = round(accidents_by_weather_condition.ID / accidents_by_weather_condition.ID.sum() * 100, 2)"
      ],
      "execution_count": null,
      "outputs": []
    },
    {
      "cell_type": "code",
      "metadata": {
        "colab": {
          "base_uri": "https://localhost:8080/",
          "height": 359
        },
        "id": "2njBY671P6S6",
        "outputId": "788b5538-41ef-4c2b-f16e-425a688668f7"
      },
      "source": [
        "Top_10_WC = accidents_by_weather_condition[:10]\n",
        "Top_10_WC\n",
        "\n",
        "                                  "
      ],
      "execution_count": null,
      "outputs": [
        {
          "output_type": "execute_result",
          "data": {
            "text/html": [
              "<div>\n",
              "<style scoped>\n",
              "    .dataframe tbody tr th:only-of-type {\n",
              "        vertical-align: middle;\n",
              "    }\n",
              "\n",
              "    .dataframe tbody tr th {\n",
              "        vertical-align: top;\n",
              "    }\n",
              "\n",
              "    .dataframe thead th {\n",
              "        text-align: right;\n",
              "    }\n",
              "</style>\n",
              "<table border=\"1\" class=\"dataframe\">\n",
              "  <thead>\n",
              "    <tr style=\"text-align: right;\">\n",
              "      <th></th>\n",
              "      <th>Weather_Condition</th>\n",
              "      <th>ID</th>\n",
              "      <th>Percentage</th>\n",
              "    </tr>\n",
              "  </thead>\n",
              "  <tbody>\n",
              "    <tr>\n",
              "      <th>0</th>\n",
              "      <td>Fair</td>\n",
              "      <td>764531</td>\n",
              "      <td>26.30</td>\n",
              "    </tr>\n",
              "    <tr>\n",
              "      <th>1</th>\n",
              "      <td>Clear</td>\n",
              "      <td>498925</td>\n",
              "      <td>17.17</td>\n",
              "    </tr>\n",
              "    <tr>\n",
              "      <th>2</th>\n",
              "      <td>Mostly Cloudy</td>\n",
              "      <td>386122</td>\n",
              "      <td>13.28</td>\n",
              "    </tr>\n",
              "    <tr>\n",
              "      <th>3</th>\n",
              "      <td>Partly Cloudy</td>\n",
              "      <td>268851</td>\n",
              "      <td>9.25</td>\n",
              "    </tr>\n",
              "    <tr>\n",
              "      <th>4</th>\n",
              "      <td>Cloudy</td>\n",
              "      <td>245054</td>\n",
              "      <td>8.43</td>\n",
              "    </tr>\n",
              "    <tr>\n",
              "      <th>5</th>\n",
              "      <td>Overcast</td>\n",
              "      <td>237068</td>\n",
              "      <td>8.16</td>\n",
              "    </tr>\n",
              "    <tr>\n",
              "      <th>6</th>\n",
              "      <td>Light Rain</td>\n",
              "      <td>140946</td>\n",
              "      <td>4.85</td>\n",
              "    </tr>\n",
              "    <tr>\n",
              "      <th>7</th>\n",
              "      <td>Scattered Clouds</td>\n",
              "      <td>127090</td>\n",
              "      <td>4.37</td>\n",
              "    </tr>\n",
              "    <tr>\n",
              "      <th>8</th>\n",
              "      <td>Light Snow</td>\n",
              "      <td>39941</td>\n",
              "      <td>1.37</td>\n",
              "    </tr>\n",
              "    <tr>\n",
              "      <th>9</th>\n",
              "      <td>Fog</td>\n",
              "      <td>33424</td>\n",
              "      <td>1.15</td>\n",
              "    </tr>\n",
              "  </tbody>\n",
              "</table>\n",
              "</div>"
            ],
            "text/plain": [
              "  Weather_Condition      ID  Percentage\n",
              "0              Fair  764531       26.30\n",
              "1             Clear  498925       17.17\n",
              "2     Mostly Cloudy  386122       13.28\n",
              "3     Partly Cloudy  268851        9.25\n",
              "4            Cloudy  245054        8.43\n",
              "5          Overcast  237068        8.16\n",
              "6        Light Rain  140946        4.85\n",
              "7  Scattered Clouds  127090        4.37\n",
              "8        Light Snow   39941        1.37\n",
              "9               Fog   33424        1.15"
            ]
          },
          "metadata": {
            "tags": []
          },
          "execution_count": 87
        }
      ]
    },
    {
      "cell_type": "code",
      "metadata": {
        "colab": {
          "base_uri": "https://localhost:8080/",
          "height": 497
        },
        "id": "eUu2g2n0QSGz",
        "outputId": "005d9832-80d0-400e-d262-69ba89b75333"
      },
      "source": [
        "id_list = Top_10_WC.ID.to_list()\n",
        "weather_list = Top_10_WC.Weather_Condition.to_list()\n",
        "sns.set_theme(style=\"darkgrid\")\n",
        "plt.figure(figsize=(15,8))\n",
        "plt.bar(weather_list, id_list, width = 0.8, color = \"#689F38\")\n",
        "\n",
        "plt.xlabel(\"Weather Conditions\", fontdict= {\"fontsize\" : 18}, labelpad= 18)\n",
        "plt.ylabel(\"No Of Accident\", fontdict= {\"fontsize\" : 18}, labelpad= 18)\n",
        "plt.title(\"Weather Condition(Top 10 Entries)\", fontdict= {\"fontsize\" : 20, \"fontweight\" : \"bold\"})\n",
        "\n",
        "\n",
        "plt.show()\n"
      ],
      "execution_count": null,
      "outputs": [
        {
          "output_type": "display_data",
          "data": {
            "image/png": "[encoded data removed]",
            "text/plain": [
              "<Figure size 1080x576 with 1 Axes>"
            ]
          },
          "metadata": {
            "tags": []
          }
        }
      ]
    },
    {
      "cell_type": "markdown",
      "metadata": {
        "id": "eoHLnudNSOgo"
      },
      "source": [
        "From the above chart, The plot shows that the weather condition for most of the accidents was Fair, folowed by Clear, and Most Cloudy. Most Cloudy may be a reasonable factors for accidents unlike clear and fair, which means that weather conditions also does not play a major role."
      ]
    },
    {
      "cell_type": "markdown",
      "metadata": {
        "id": "VvxBDo5sThlT"
      },
      "source": [
        "Severity"
      ]
    },
    {
      "cell_type": "code",
      "metadata": {
        "id": "TU-QlqLPTlkD"
      },
      "source": [
        "accidents_by_severity = pd.DataFrame(Categorical_DataFrame.groupby('Severity')['ID'].count()).sort_values(by=\"ID\", ascending=False)\n",
        "accidents_by_severity.reset_index(inplace=True)\n",
        "\n",
        "accidents_by_severity['Percentage'] = round(accidents_by_severity.ID / accidents_by_severity.ID.sum() * 100, 2)"
      ],
      "execution_count": null,
      "outputs": []
    },
    {
      "cell_type": "code",
      "metadata": {
        "colab": {
          "base_uri": "https://localhost:8080/",
          "height": 173
        },
        "id": "II69e7YaT9-l",
        "outputId": "b0f372b1-e6a4-4b75-e810-59c985e40d4d"
      },
      "source": [
        "accidents_by_severity"
      ],
      "execution_count": null,
      "outputs": [
        {
          "output_type": "execute_result",
          "data": {
            "text/html": [
              "<div>\n",
              "<style scoped>\n",
              "    .dataframe tbody tr th:only-of-type {\n",
              "        vertical-align: middle;\n",
              "    }\n",
              "\n",
              "    .dataframe tbody tr th {\n",
              "        vertical-align: top;\n",
              "    }\n",
              "\n",
              "    .dataframe thead th {\n",
              "        text-align: right;\n",
              "    }\n",
              "</style>\n",
              "<table border=\"1\" class=\"dataframe\">\n",
              "  <thead>\n",
              "    <tr style=\"text-align: right;\">\n",
              "      <th></th>\n",
              "      <th>Severity</th>\n",
              "      <th>ID</th>\n",
              "      <th>Percentage</th>\n",
              "    </tr>\n",
              "  </thead>\n",
              "  <tbody>\n",
              "    <tr>\n",
              "      <th>0</th>\n",
              "      <td>2</td>\n",
              "      <td>2129263</td>\n",
              "      <td>73.26</td>\n",
              "    </tr>\n",
              "    <tr>\n",
              "      <th>1</th>\n",
              "      <td>3</td>\n",
              "      <td>629452</td>\n",
              "      <td>21.66</td>\n",
              "    </tr>\n",
              "    <tr>\n",
              "      <th>2</th>\n",
              "      <td>4</td>\n",
              "      <td>119144</td>\n",
              "      <td>4.10</td>\n",
              "    </tr>\n",
              "    <tr>\n",
              "      <th>3</th>\n",
              "      <td>1</td>\n",
              "      <td>28751</td>\n",
              "      <td>0.99</td>\n",
              "    </tr>\n",
              "  </tbody>\n",
              "</table>\n",
              "</div>"
            ],
            "text/plain": [
              "  Severity       ID  Percentage\n",
              "0        2  2129263       73.26\n",
              "1        3   629452       21.66\n",
              "2        4   119144        4.10\n",
              "3        1    28751        0.99"
            ]
          },
          "metadata": {
            "tags": []
          },
          "execution_count": 93
        }
      ]
    },
    {
      "cell_type": "code",
      "metadata": {
        "colab": {
          "base_uri": "https://localhost:8080/",
          "height": 328
        },
        "id": "1t-J8EveUGeU",
        "outputId": "a5c20060-a484-4b70-f2f3-73d77023097c"
      },
      "source": [
        "severity_percentage = accidents_by_severity[\"Percentage\"].to_list()\n",
        "plt.title('Severity', fontsize=24, loc='Center')\n",
        "plt.pie(severity_percentage, colors=['#3BBFF6', '#8733AF', '#467EF5','#E102CF'], labels= [\"2\",\"3\",\"4\",\"1\"], radius=1.6, autopct= \"%0.1f%%\", pctdistance = 0.77,\n",
        "        textprops = {\"size\" : 17, \"color\" : \"#000000\"}, explode= [0.10, 0.10, 0.4, 0.7])\n",
        "\n",
        "centre_circle = plt.Circle((0,0), 0.8, fc = \"w\")\n",
        "fig = plt.gcf()\n",
        "fig.gca().add_artist(centre_circle)\n",
        "plt.show()"
      ],
      "execution_count": null,
      "outputs": [
        {
          "output_type": "display_data",
          "data": {
            "image/png": "[encoded data removed]",
            "text/plain": [
              "<Figure size 432x288 with 1 Axes>"
            ]
          },
          "metadata": {
            "tags": []
          }
        }
      ]
    },
    {
      "cell_type": "markdown",
      "metadata": {
        "id": "mZogB49AZ3Dn"
      },
      "source": [
        "## **Severity indicate the impact of the accident**\n",
        "\n",
        "The above plot shows that mostly the accidents had severity equal to 2(average) followed by 3(above average), which is unfortunate. There are hardly any accidents with very low severity(1)."
      ]
    },
    {
      "cell_type": "markdown",
      "metadata": {
        "id": "D6MnvtRAbhre"
      },
      "source": [
        "Sunrise_Set\n",
        "\n",
        "\n",
        "Accident that happened during the day and night"
      ]
    },
    {
      "cell_type": "code",
      "metadata": {
        "id": "CIWb3OrsbmJ0"
      },
      "source": [
        "accidents_by_sunrise_set = pd.DataFrame(Categorical_DataFrame.groupby('Sunrise_Sunset')['ID'].count()).sort_values(by=\"ID\", ascending=False)\n",
        "accidents_by_sunrise_set.reset_index(inplace=True)\n",
        "\n",
        "accidents_by_sunrise_set['Percentage'] = round(accidents_by_sunrise_set.ID / accidents_by_sunrise_set.ID.sum() * 100, 2)"
      ],
      "execution_count": null,
      "outputs": []
    },
    {
      "cell_type": "code",
      "metadata": {
        "colab": {
          "base_uri": "https://localhost:8080/",
          "height": 111
        },
        "id": "kosvMdhTdU_7",
        "outputId": "7a143cdc-ad0a-4ab5-ffcd-0f9c75852c4d"
      },
      "source": [
        "accidents_by_sunrise_set"
      ],
      "execution_count": null,
      "outputs": [
        {
          "output_type": "execute_result",
          "data": {
            "text/html": [
              "<div>\n",
              "<style scoped>\n",
              "    .dataframe tbody tr th:only-of-type {\n",
              "        vertical-align: middle;\n",
              "    }\n",
              "\n",
              "    .dataframe tbody tr th {\n",
              "        vertical-align: top;\n",
              "    }\n",
              "\n",
              "    .dataframe thead th {\n",
              "        text-align: right;\n",
              "    }\n",
              "</style>\n",
              "<table border=\"1\" class=\"dataframe\">\n",
              "  <thead>\n",
              "    <tr style=\"text-align: right;\">\n",
              "      <th></th>\n",
              "      <th>Sunrise_Sunset</th>\n",
              "      <th>ID</th>\n",
              "      <th>Percentage</th>\n",
              "    </tr>\n",
              "  </thead>\n",
              "  <tbody>\n",
              "    <tr>\n",
              "      <th>0</th>\n",
              "      <td>Day</td>\n",
              "      <td>1941178</td>\n",
              "      <td>66.78</td>\n",
              "    </tr>\n",
              "    <tr>\n",
              "      <th>1</th>\n",
              "      <td>Night</td>\n",
              "      <td>965432</td>\n",
              "      <td>33.22</td>\n",
              "    </tr>\n",
              "  </tbody>\n",
              "</table>\n",
              "</div>"
            ],
            "text/plain": [
              "  Sunrise_Sunset       ID  Percentage\n",
              "0            Day  1941178       66.78\n",
              "1          Night   965432       33.22"
            ]
          },
          "metadata": {
            "tags": []
          },
          "execution_count": 115
        }
      ]
    },
    {
      "cell_type": "code",
      "metadata": {
        "colab": {
          "base_uri": "https://localhost:8080/",
          "height": 313
        },
        "id": "4GAOJu-vdkLC",
        "outputId": "6137d8aa-9142-4cd2-e192-e56aff4cef34"
      },
      "source": [
        "sunset_percentage = accidents_by_sunrise_set[\"Percentage\"].to_list()\n",
        "plt.title('Accident that happened during the day & night', fontsize=20, loc='Left')\n",
        "plt.pie(sunset_percentage, colors=['#CC1413', '#7A0404'], labels= [\"Day\", \"Night\"], radius=1.6, autopct= \"%0.1f%%\", pctdistance = 0.77,\n",
        "        textprops = {\"size\" : 17, \"color\" : \"#FFF\"}, explode= [0.00, 0.00])\n",
        "\n",
        "centre_circle = plt.Circle((0,0), 0.8, fc = \"w\")\n",
        "fig = plt.gcf()\n",
        "fig.gca().add_artist(centre_circle)\n",
        "plt.show()"
      ],
      "execution_count": null,
      "outputs": [
        {
          "output_type": "display_data",
          "data": {
            "image/png": "[encoded data removed]",
            "text/plain": [
              "<Figure size 432x288 with 1 Axes>"
            ]
          },
          "metadata": {
            "tags": []
          }
        }
      ]
    },
    {
      "cell_type": "markdown",
      "metadata": {
        "id": "9FpXZCnQfBZ2"
      },
      "source": [
        "From the above plot, It shows most accidents occured during the day. This is as a result that the road is always busy during the day."
      ]
    },
    {
      "cell_type": "markdown",
      "metadata": {
        "id": "mChrQcLYfkfZ"
      },
      "source": [
        "**Now, to the numerical dataframe**"
      ]
    },
    {
      "cell_type": "code",
      "metadata": {
        "colab": {
          "base_uri": "https://localhost:8080/",
          "height": 213
        },
        "id": "MsOKNK_7fr8Z",
        "outputId": "2f62c5c0-6be9-40d2-d55f-47f912092d87"
      },
      "source": [
        "number_DataFrame.head(3)"
      ],
      "execution_count": 27,
      "outputs": [
        {
          "output_type": "execute_result",
          "data": {
            "text/html": [
              "<div>\n",
              "<style scoped>\n",
              "    .dataframe tbody tr th:only-of-type {\n",
              "        vertical-align: middle;\n",
              "    }\n",
              "\n",
              "    .dataframe tbody tr th {\n",
              "        vertical-align: top;\n",
              "    }\n",
              "\n",
              "    .dataframe thead th {\n",
              "        text-align: right;\n",
              "    }\n",
              "</style>\n",
              "<table border=\"1\" class=\"dataframe\">\n",
              "  <thead>\n",
              "    <tr style=\"text-align: right;\">\n",
              "      <th></th>\n",
              "      <th>ID</th>\n",
              "      <th>Start_Lat</th>\n",
              "      <th>Start_Lng</th>\n",
              "      <th>End_Lat</th>\n",
              "      <th>End_Lng</th>\n",
              "      <th>Distance(mi)</th>\n",
              "      <th>Temperature(F)</th>\n",
              "      <th>Wind_Chill(F)</th>\n",
              "      <th>Humidity(%)</th>\n",
              "      <th>Pressure(in)</th>\n",
              "      <th>Visibility(mi)</th>\n",
              "      <th>Wind_Speed(mph)</th>\n",
              "      <th>Precipitation(in)</th>\n",
              "    </tr>\n",
              "  </thead>\n",
              "  <tbody>\n",
              "    <tr>\n",
              "      <th>0</th>\n",
              "      <td>A-1</td>\n",
              "      <td>34.808868</td>\n",
              "      <td>-82.269157</td>\n",
              "      <td>34.808868</td>\n",
              "      <td>-82.269157</td>\n",
              "      <td>0.0</td>\n",
              "      <td>76.0</td>\n",
              "      <td>76.0</td>\n",
              "      <td>52.0</td>\n",
              "      <td>28.91</td>\n",
              "      <td>10.0</td>\n",
              "      <td>7.0</td>\n",
              "      <td>0.0</td>\n",
              "    </tr>\n",
              "    <tr>\n",
              "      <th>1</th>\n",
              "      <td>A-2</td>\n",
              "      <td>35.090080</td>\n",
              "      <td>-80.745560</td>\n",
              "      <td>35.090080</td>\n",
              "      <td>-80.745560</td>\n",
              "      <td>0.0</td>\n",
              "      <td>76.0</td>\n",
              "      <td>76.0</td>\n",
              "      <td>62.0</td>\n",
              "      <td>29.30</td>\n",
              "      <td>10.0</td>\n",
              "      <td>3.0</td>\n",
              "      <td>0.0</td>\n",
              "    </tr>\n",
              "    <tr>\n",
              "      <th>2</th>\n",
              "      <td>A-3</td>\n",
              "      <td>37.145730</td>\n",
              "      <td>-121.985052</td>\n",
              "      <td>37.165850</td>\n",
              "      <td>-121.988062</td>\n",
              "      <td>1.4</td>\n",
              "      <td>51.0</td>\n",
              "      <td>51.0</td>\n",
              "      <td>80.0</td>\n",
              "      <td>30.17</td>\n",
              "      <td>10.0</td>\n",
              "      <td>6.0</td>\n",
              "      <td>0.0</td>\n",
              "    </tr>\n",
              "  </tbody>\n",
              "</table>\n",
              "</div>"
            ],
            "text/plain": [
              "    ID  Start_Lat  ...  Wind_Speed(mph)  Precipitation(in)\n",
              "0  A-1  34.808868  ...              7.0                0.0\n",
              "1  A-2  35.090080  ...              3.0                0.0\n",
              "2  A-3  37.145730  ...              6.0                0.0\n",
              "\n",
              "[3 rows x 13 columns]"
            ]
          },
          "metadata": {
            "tags": []
          },
          "execution_count": 27
        }
      ]
    },
    {
      "cell_type": "markdown",
      "metadata": {
        "id": "Tqa6TUHWV94U"
      },
      "source": [
        "### **Observation**\n",
        "\n",
        "\n",
        "\n",
        "*  We have to check for misiing data.\n",
        "\n",
        "*   If there is any mising data, check for the percentage of the mising data. If  the missing data for each column is more than 50%, we have to drop.  Otherwise, we fill it in with any method of our choice.\n",
        "*   We have to check for the correlation, if two features are highly positive correlated absolutely, we can drop one of it. \n",
        "\n",
        "\n",
        "*   Drop any column we don't neccesary need.\n",
        "\n"
      ]
    },
    {
      "cell_type": "code",
      "metadata": {
        "colab": {
          "base_uri": "https://localhost:8080/"
        },
        "id": "NUe9Ri1pf6w0",
        "outputId": "537b25d9-0add-4c64-975d-0fde367dbe49"
      },
      "source": [
        "number_DataFrame.isnull().any()"
      ],
      "execution_count": 28,
      "outputs": [
        {
          "output_type": "execute_result",
          "data": {
            "text/plain": [
              "ID                   False\n",
              "Start_Lat            False\n",
              "Start_Lng            False\n",
              "End_Lat               True\n",
              "End_Lng               True\n",
              "Distance(mi)         False\n",
              "Temperature(F)        True\n",
              "Wind_Chill(F)         True\n",
              "Humidity(%)           True\n",
              "Pressure(in)          True\n",
              "Visibility(mi)        True\n",
              "Wind_Speed(mph)       True\n",
              "Precipitation(in)     True\n",
              "dtype: bool"
            ]
          },
          "metadata": {
            "tags": []
          },
          "execution_count": 28
        }
      ]
    },
    {
      "cell_type": "code",
      "metadata": {
        "id": "Umwy4_EQYKNc"
      },
      "source": [
        ""
      ],
      "execution_count": null,
      "outputs": []
    },
    {
      "cell_type": "markdown",
      "metadata": {
        "id": "aEMPs6Q_Xb2T"
      },
      "source": [
        "From the above code, we can see there are missing data. Let's check for the perecentage to know which features to drop or fill."
      ]
    },
    {
      "cell_type": "code",
      "metadata": {
        "id": "GAA9J4OvXowa"
      },
      "source": [
        "percentage_missing = pd.DataFrame({\"Percentage\": round(number_DataFrame.isnull().sum()/len(number_DataFrame.index) * 100, 2\n",
        ")})"
      ],
      "execution_count": 29,
      "outputs": []
    },
    {
      "cell_type": "code",
      "metadata": {
        "colab": {
          "base_uri": "https://localhost:8080/",
          "height": 452
        },
        "id": "pBp8Qf5WZKYd",
        "outputId": "e695a547-a5a7-4e30-b59f-4264c6daf88e"
      },
      "source": [
        "percentage_missing"
      ],
      "execution_count": 30,
      "outputs": [
        {
          "output_type": "execute_result",
          "data": {
            "text/html": [
              "<div>\n",
              "<style scoped>\n",
              "    .dataframe tbody tr th:only-of-type {\n",
              "        vertical-align: middle;\n",
              "    }\n",
              "\n",
              "    .dataframe tbody tr th {\n",
              "        vertical-align: top;\n",
              "    }\n",
              "\n",
              "    .dataframe thead th {\n",
              "        text-align: right;\n",
              "    }\n",
              "</style>\n",
              "<table border=\"1\" class=\"dataframe\">\n",
              "  <thead>\n",
              "    <tr style=\"text-align: right;\">\n",
              "      <th></th>\n",
              "      <th>Percentage</th>\n",
              "    </tr>\n",
              "  </thead>\n",
              "  <tbody>\n",
              "    <tr>\n",
              "      <th>ID</th>\n",
              "      <td>0.00</td>\n",
              "    </tr>\n",
              "    <tr>\n",
              "      <th>Start_Lat</th>\n",
              "      <td>0.00</td>\n",
              "    </tr>\n",
              "    <tr>\n",
              "      <th>Start_Lng</th>\n",
              "      <td>0.00</td>\n",
              "    </tr>\n",
              "    <tr>\n",
              "      <th>End_Lat</th>\n",
              "      <td>9.73</td>\n",
              "    </tr>\n",
              "    <tr>\n",
              "      <th>End_Lng</th>\n",
              "      <td>9.73</td>\n",
              "    </tr>\n",
              "    <tr>\n",
              "      <th>Distance(mi)</th>\n",
              "      <td>0.00</td>\n",
              "    </tr>\n",
              "    <tr>\n",
              "      <th>Temperature(F)</th>\n",
              "      <td>2.31</td>\n",
              "    </tr>\n",
              "    <tr>\n",
              "      <th>Wind_Chill(F)</th>\n",
              "      <td>40.73</td>\n",
              "    </tr>\n",
              "    <tr>\n",
              "      <th>Humidity(%)</th>\n",
              "      <td>2.45</td>\n",
              "    </tr>\n",
              "    <tr>\n",
              "      <th>Pressure(in)</th>\n",
              "      <td>1.96</td>\n",
              "    </tr>\n",
              "    <tr>\n",
              "      <th>Visibility(mi)</th>\n",
              "      <td>2.48</td>\n",
              "    </tr>\n",
              "    <tr>\n",
              "      <th>Wind_Speed(mph)</th>\n",
              "      <td>10.57</td>\n",
              "    </tr>\n",
              "    <tr>\n",
              "      <th>Precipitation(in)</th>\n",
              "      <td>44.77</td>\n",
              "    </tr>\n",
              "  </tbody>\n",
              "</table>\n",
              "</div>"
            ],
            "text/plain": [
              "                   Percentage\n",
              "ID                       0.00\n",
              "Start_Lat                0.00\n",
              "Start_Lng                0.00\n",
              "End_Lat                  9.73\n",
              "End_Lng                  9.73\n",
              "Distance(mi)             0.00\n",
              "Temperature(F)           2.31\n",
              "Wind_Chill(F)           40.73\n",
              "Humidity(%)              2.45\n",
              "Pressure(in)             1.96\n",
              "Visibility(mi)           2.48\n",
              "Wind_Speed(mph)         10.57\n",
              "Precipitation(in)       44.77"
            ]
          },
          "metadata": {
            "tags": []
          },
          "execution_count": 30
        }
      ]
    },
    {
      "cell_type": "markdown",
      "metadata": {
        "id": "YBz-9hHTZPa1"
      },
      "source": [
        "From the above table no features is more than 50%. We have to fill in missing data with mean>"
      ]
    },
    {
      "cell_type": "code",
      "metadata": {
        "id": "qujSgdSujHp9"
      },
      "source": [
        "#  numeric = number_DataFrame.fillna(number_DataFrame.mean().iloc[0])"
      ],
      "execution_count": null,
      "outputs": []
    },
    {
      "cell_type": "code",
      "metadata": {
        "id": "21Wts5VlgqER"
      },
      "source": [
        "number_DataFrame.corr(\n",
        "    \n",
        ")\n"
      ],
      "execution_count": null,
      "outputs": []
    },
    {
      "cell_type": "markdown",
      "metadata": {
        "id": "6minSkGYhsva"
      },
      "source": [
        "\n",
        "### **Observation**\n",
        "*   We can see that Start Lat & End Lat are highly positive correlated. I'II be dropping one of it\n",
        "\n",
        "*   Also, Start Lng & End lng are highly positive correlated. \n",
        "*   Likewise Temperature & WindChill are highly positive correlated too. \n",
        "\n",
        "\n",
        "*   List item\n",
        "\n"
      ]
    },
    {
      "cell_type": "markdown",
      "metadata": {
        "id": "RyL_bKFUiz-i"
      },
      "source": [
        "## **Dropping Columns**"
      ]
    },
    {
      "cell_type": "code",
      "metadata": {
        "id": "KRY9uT4fi7gV"
      },
      "source": [
        "number_DataFrame_d = number_DataFrame.drop(columns=[\"End_Lat\", \"End_Lng\",\"Wind_Chill(F)\"])"
      ],
      "execution_count": 32,
      "outputs": []
    },
    {
      "cell_type": "code",
      "metadata": {
        "id": "uyH460TdkPuy",
        "colab": {
          "base_uri": "https://localhost:8080/",
          "height": 142
        },
        "outputId": "98e88ef1-9aae-4c6a-a582-fed9c148c789"
      },
      "source": [
        "number_DataFrame_d.head(3\n",
        "                        )"
      ],
      "execution_count": 33,
      "outputs": [
        {
          "output_type": "execute_result",
          "data": {
            "text/html": [
              "<div>\n",
              "<style scoped>\n",
              "    .dataframe tbody tr th:only-of-type {\n",
              "        vertical-align: middle;\n",
              "    }\n",
              "\n",
              "    .dataframe tbody tr th {\n",
              "        vertical-align: top;\n",
              "    }\n",
              "\n",
              "    .dataframe thead th {\n",
              "        text-align: right;\n",
              "    }\n",
              "</style>\n",
              "<table border=\"1\" class=\"dataframe\">\n",
              "  <thead>\n",
              "    <tr style=\"text-align: right;\">\n",
              "      <th></th>\n",
              "      <th>ID</th>\n",
              "      <th>Start_Lat</th>\n",
              "      <th>Start_Lng</th>\n",
              "      <th>Distance(mi)</th>\n",
              "      <th>Temperature(F)</th>\n",
              "      <th>Humidity(%)</th>\n",
              "      <th>Pressure(in)</th>\n",
              "      <th>Visibility(mi)</th>\n",
              "      <th>Wind_Speed(mph)</th>\n",
              "      <th>Precipitation(in)</th>\n",
              "    </tr>\n",
              "  </thead>\n",
              "  <tbody>\n",
              "    <tr>\n",
              "      <th>0</th>\n",
              "      <td>A-1</td>\n",
              "      <td>34.808868</td>\n",
              "      <td>-82.269157</td>\n",
              "      <td>0.0</td>\n",
              "      <td>76.0</td>\n",
              "      <td>52.0</td>\n",
              "      <td>28.91</td>\n",
              "      <td>10.0</td>\n",
              "      <td>7.0</td>\n",
              "      <td>0.0</td>\n",
              "    </tr>\n",
              "    <tr>\n",
              "      <th>1</th>\n",
              "      <td>A-2</td>\n",
              "      <td>35.090080</td>\n",
              "      <td>-80.745560</td>\n",
              "      <td>0.0</td>\n",
              "      <td>76.0</td>\n",
              "      <td>62.0</td>\n",
              "      <td>29.30</td>\n",
              "      <td>10.0</td>\n",
              "      <td>3.0</td>\n",
              "      <td>0.0</td>\n",
              "    </tr>\n",
              "    <tr>\n",
              "      <th>2</th>\n",
              "      <td>A-3</td>\n",
              "      <td>37.145730</td>\n",
              "      <td>-121.985052</td>\n",
              "      <td>1.4</td>\n",
              "      <td>51.0</td>\n",
              "      <td>80.0</td>\n",
              "      <td>30.17</td>\n",
              "      <td>10.0</td>\n",
              "      <td>6.0</td>\n",
              "      <td>0.0</td>\n",
              "    </tr>\n",
              "  </tbody>\n",
              "</table>\n",
              "</div>"
            ],
            "text/plain": [
              "    ID  Start_Lat  ...  Wind_Speed(mph)  Precipitation(in)\n",
              "0  A-1  34.808868  ...              7.0                0.0\n",
              "1  A-2  35.090080  ...              3.0                0.0\n",
              "2  A-3  37.145730  ...              6.0                0.0\n",
              "\n",
              "[3 rows x 10 columns]"
            ]
          },
          "metadata": {
            "tags": []
          },
          "execution_count": 33
        }
      ]
    },
    {
      "cell_type": "code",
      "metadata": {
        "colab": {
          "base_uri": "https://localhost:8080/"
        },
        "id": "E4OZqWV30eoH",
        "outputId": "e9ce5d97-2598-4525-b2a8-ab621074add5"
      },
      "source": [
        "number_DataFrame_d.columns"
      ],
      "execution_count": 35,
      "outputs": [
        {
          "output_type": "execute_result",
          "data": {
            "text/plain": [
              "Index(['ID', 'Start_Lat', 'Start_Lng', 'Distance(mi)', 'Temperature(F)',\n",
              "       'Humidity(%)', 'Pressure(in)', 'Visibility(mi)', 'Wind_Speed(mph)',\n",
              "       'Precipitation(in)'],\n",
              "      dtype='object')"
            ]
          },
          "metadata": {
            "tags": []
          },
          "execution_count": 35
        }
      ]
    },
    {
      "cell_type": "code",
      "metadata": {
        "id": "7CJaDvtfzR2Q"
      },
      "source": [
        "#FILLING OF MISSING DATA\n",
        "number_DataFrame_d.fillna(number_DataFrame_d.Start_Lat.mean(), inplace=True)\n",
        "number_DataFrame_d.fillna(number_DataFrame_d.Start_Lng.mean(), inplace=True)\n",
        "number_DataFrame_d.fillna(number_DataFrame_d[\"Temperature(F)\"].mean(), inplace=True)\n",
        "number_DataFrame_d"
      ],
      "execution_count": null,
      "outputs": []
    },
    {
      "cell_type": "code",
      "metadata": {
        "colab": {
          "base_uri": "https://localhost:8080/"
        },
        "id": "hwJZneVr01us",
        "outputId": "cfec02d2-f370-4bea-d16e-203e2599bcea"
      },
      "source": [
        "number_DataFrame_d[[\"Start_Lat\", \"Start_Lng\", \"Temperature(F)\"]].isnull().values.any()"
      ],
      "execution_count": 39,
      "outputs": [
        {
          "output_type": "execute_result",
          "data": {
            "text/plain": [
              "False"
            ]
          },
          "metadata": {
            "tags": []
          },
          "execution_count": 39
        }
      ]
    },
    {
      "cell_type": "markdown",
      "metadata": {
        "id": "uWAW8mng2wPx"
      },
      "source": [
        "From the above code, the three features doen't have mising data again.\n",
        "\n",
        "\n",
        "Now, I can analyze the three features to draw insight>"
      ]
    },
    {
      "cell_type": "markdown",
      "metadata": {
        "id": "5ppsFeJoX8oj"
      },
      "source": [
        "### **DISTANCE**"
      ]
    },
    {
      "cell_type": "code",
      "metadata": {
        "colab": {
          "base_uri": "https://localhost:8080/"
        },
        "id": "9w6DY8nQYGOj",
        "outputId": "b2dca64b-5356-4eb4-f60a-04526d253b2f"
      },
      "source": [
        "#TO CHECK THE MAXIMUM DISTANCE\n",
        "number_DataFrame[\"Distance(mi)\"].max()"
      ],
      "execution_count": 133,
      "outputs": [
        {
          "output_type": "execute_result",
          "data": {
            "text/plain": [
              "333.63000488299997"
            ]
          },
          "metadata": {
            "tags": []
          },
          "execution_count": 133
        }
      ]
    },
    {
      "cell_type": "code",
      "metadata": {
        "colab": {
          "base_uri": "https://localhost:8080/",
          "height": 448
        },
        "id": "FkGsERiqYBCq",
        "outputId": "eba5121a-e484-4961-b926-689333f0a5ae"
      },
      "source": [
        "plt.figure(figsize=(10,6))\n",
        "sns.distplot(a=number_DataFrame['Distance(mi)'], bins=30)\n",
        "plt.show()"
      ],
      "execution_count": 134,
      "outputs": [
        {
          "output_type": "stream",
          "text": [
            "/usr/local/lib/python3.7/dist-packages/seaborn/distributions.py:2557: FutureWarning: `distplot` is a deprecated function and will be removed in a future version. Please adapt your code to use either `displot` (a figure-level function with similar flexibility) or `histplot` (an axes-level function for histograms).\n",
            "  warnings.warn(msg, FutureWarning)\n"
          ],
          "name": "stderr"
        },
        {
          "output_type": "display_data",
          "data": {
            "image/png": "[encoded data removed]",
            "text/plain": [
              "<Figure size 720x432 with 1 Axes>"
            ]
          },
          "metadata": {
            "tags": []
          }
        }
      ]
    },
    {
      "cell_type": "markdown",
      "metadata": {
        "id": "PA1vAeNrYdaG"
      },
      "source": [
        "\n",
        "Most accident occured in short distance. The above graph is skewed to the right."
      ]
    },
    {
      "cell_type": "markdown",
      "metadata": {
        "id": "NM1bZUNN3Jiw"
      },
      "source": [
        "### **SCATTER PLOT**\n",
        "The Start_Lat and Start_Lng features are interesting since \n",
        "they can be plotted on a map, to get the exact location of \n",
        "the accident. First, I will draw a scatterplot between the two."
      ]
    },
    {
      "cell_type": "code",
      "metadata": {
        "colab": {
          "base_uri": "https://localhost:8080/",
          "height": 395
        },
        "id": "Gtww7iK73eWI",
        "outputId": "60cff82c-d3c4-43d7-803d-9f232bb959e0"
      },
      "source": [
        "\n",
        "plt.figure(figsize=(10,6))\n",
        "sns.scatterplot(x=number_DataFrame_d.Start_Lng, y=number_DataFrame_d.Start_Lat)\n",
        "plt.show()"
      ],
      "execution_count": 40,
      "outputs": [
        {
          "output_type": "display_data",
          "data": {
            "image/png": "[encoded data removed]",
            "text/plain": [
              "<Figure size 720x432 with 1 Axes>"
            ]
          },
          "metadata": {
            "tags": []
          }
        }
      ]
    },
    {
      "cell_type": "markdown",
      "metadata": {
        "id": "0cCxnDOo3vd_"
      },
      "source": [
        "From the above plot, it is alarming that almost every corner\n",
        "of the USA is covered, meaning that the accidents occurred \n",
        "over a large number of locations."
      ]
    },
    {
      "cell_type": "markdown",
      "metadata": {
        "id": "8Nuziasg_JHp"
      },
      "source": [
        "### **Temperature**"
      ]
    },
    {
      "cell_type": "code",
      "metadata": {
        "colab": {
          "base_uri": "https://localhost:8080/",
          "height": 111
        },
        "id": "TZTbao-X_Nyi",
        "outputId": "119a4e89-3c60-441b-d863-0a52bc57b380"
      },
      "source": [
        "temp_df = number_DataFrame[['ID','Temperature(F)']]\n",
        "temp_df.head(2)"
      ],
      "execution_count": 43,
      "outputs": [
        {
          "output_type": "execute_result",
          "data": {
            "text/html": [
              "<div>\n",
              "<style scoped>\n",
              "    .dataframe tbody tr th:only-of-type {\n",
              "        vertical-align: middle;\n",
              "    }\n",
              "\n",
              "    .dataframe tbody tr th {\n",
              "        vertical-align: top;\n",
              "    }\n",
              "\n",
              "    .dataframe thead th {\n",
              "        text-align: right;\n",
              "    }\n",
              "</style>\n",
              "<table border=\"1\" class=\"dataframe\">\n",
              "  <thead>\n",
              "    <tr style=\"text-align: right;\">\n",
              "      <th></th>\n",
              "      <th>ID</th>\n",
              "      <th>Temperature(F)</th>\n",
              "    </tr>\n",
              "  </thead>\n",
              "  <tbody>\n",
              "    <tr>\n",
              "      <th>0</th>\n",
              "      <td>A-1</td>\n",
              "      <td>76.0</td>\n",
              "    </tr>\n",
              "    <tr>\n",
              "      <th>1</th>\n",
              "      <td>A-2</td>\n",
              "      <td>76.0</td>\n",
              "    </tr>\n",
              "  </tbody>\n",
              "</table>\n",
              "</div>"
            ],
            "text/plain": [
              "    ID  Temperature(F)\n",
              "0  A-1            76.0\n",
              "1  A-2            76.0"
            ]
          },
          "metadata": {
            "tags": []
          },
          "execution_count": 43
        }
      ]
    },
    {
      "cell_type": "code",
      "metadata": {
        "colab": {
          "base_uri": "https://localhost:8080/"
        },
        "id": "edBTVatE_Wor",
        "outputId": "545f3c7d-b2db-4809-e009-d3878908e8c5"
      },
      "source": [
        "#to find the lowest degree of the temperature\n",
        "temp_df[\"Temperature(F)\"].min()"
      ],
      "execution_count": 48,
      "outputs": [
        {
          "output_type": "execute_result",
          "data": {
            "text/plain": [
              "-89.0"
            ]
          },
          "metadata": {
            "tags": []
          },
          "execution_count": 48
        }
      ]
    },
    {
      "cell_type": "code",
      "metadata": {
        "colab": {
          "base_uri": "https://localhost:8080/"
        },
        "id": "fpAw8cWd_488",
        "outputId": "7d3ea8b2-eb2a-4a8a-8fa2-a6fe5225bcde"
      },
      "source": [
        "#to find the highest degree of the temperature in temp_df\n",
        "temp_df[\"Temperature(F)\"].max()\n"
      ],
      "execution_count": 49,
      "outputs": [
        {
          "output_type": "execute_result",
          "data": {
            "text/plain": [
              "203.0"
            ]
          },
          "metadata": {
            "tags": []
          },
          "execution_count": 49
        }
      ]
    },
    {
      "cell_type": "markdown",
      "metadata": {
        "id": "WkDouucOAcOd"
      },
      "source": [
        "I will divide the temperature into five category:\n",
        "\n",
        "\n",
        "*   Extremely Cold\n",
        "\n",
        "*   Cold\n",
        "*   Warm\n",
        "\n",
        "\n",
        "*   Hot\n",
        "\n",
        "\n",
        "*   Extremely Hot\n",
        "\n",
        "\n",
        "\n",
        "\n"
      ]
    },
    {
      "cell_type": "code",
      "metadata": {
        "id": "KcA3SbJaAMgB"
      },
      "source": [
        "#The function to divide it.\n",
        "\n",
        "def get_group(T, low = -89.0, High= 202.0):\n",
        "  if T >= low  and  T < 32:\n",
        "    return \"Extremely Cold\"\n",
        "  elif T >= 32 and T < 59:\n",
        "    return \"Cold\"\n",
        "  elif T >= 59 and T < 79:\n",
        "    return \"Warm\"\n",
        "\n",
        "  elif T >= 79 and T < 99:\n",
        "    return \"Hot\"\n",
        "  else:\n",
        "    return \"Extremely  Hot\"\n",
        "\n",
        "\n",
        "\n"
      ],
      "execution_count": 85,
      "outputs": []
    },
    {
      "cell_type": "code",
      "metadata": {
        "colab": {
          "base_uri": "https://localhost:8080/"
        },
        "id": "wZua6SdkERDx",
        "outputId": "70bd56f6-d871-4447-b001-7413dd54552d"
      },
      "source": [
        "#Applying the function\n",
        "\n",
        "temp_df[\"Group\"] = temp_df[\"Temperature(F)\"].apply(get_group)\n"
      ],
      "execution_count": 86,
      "outputs": [
        {
          "output_type": "stream",
          "text": [
            "/usr/local/lib/python3.7/dist-packages/ipykernel_launcher.py:3: SettingWithCopyWarning: \n",
            "A value is trying to be set on a copy of a slice from a DataFrame.\n",
            "Try using .loc[row_indexer,col_indexer] = value instead\n",
            "\n",
            "See the caveats in the documentation: https://pandas.pydata.org/pandas-docs/stable/user_guide/indexing.html#returning-a-view-versus-a-copy\n",
            "  This is separate from the ipykernel package so we can avoid doing imports until\n"
          ],
          "name": "stderr"
        }
      ]
    },
    {
      "cell_type": "code",
      "metadata": {
        "colab": {
          "base_uri": "https://localhost:8080/",
          "height": 266
        },
        "id": "HIYwEq8gGZlB",
        "outputId": "3b8fb9ed-1647-4770-8744-406a1a5e4269"
      },
      "source": [
        "temp_df.head(7)"
      ],
      "execution_count": 74,
      "outputs": [
        {
          "output_type": "execute_result",
          "data": {
            "text/html": [
              "<div>\n",
              "<style scoped>\n",
              "    .dataframe tbody tr th:only-of-type {\n",
              "        vertical-align: middle;\n",
              "    }\n",
              "\n",
              "    .dataframe tbody tr th {\n",
              "        vertical-align: top;\n",
              "    }\n",
              "\n",
              "    .dataframe thead th {\n",
              "        text-align: right;\n",
              "    }\n",
              "</style>\n",
              "<table border=\"1\" class=\"dataframe\">\n",
              "  <thead>\n",
              "    <tr style=\"text-align: right;\">\n",
              "      <th></th>\n",
              "      <th>ID</th>\n",
              "      <th>Temperature(F)</th>\n",
              "      <th>Group</th>\n",
              "    </tr>\n",
              "  </thead>\n",
              "  <tbody>\n",
              "    <tr>\n",
              "      <th>0</th>\n",
              "      <td>A-1</td>\n",
              "      <td>76.0</td>\n",
              "      <td>Warm</td>\n",
              "    </tr>\n",
              "    <tr>\n",
              "      <th>1</th>\n",
              "      <td>A-2</td>\n",
              "      <td>76.0</td>\n",
              "      <td>Warm</td>\n",
              "    </tr>\n",
              "    <tr>\n",
              "      <th>2</th>\n",
              "      <td>A-3</td>\n",
              "      <td>51.0</td>\n",
              "      <td>Cold</td>\n",
              "    </tr>\n",
              "    <tr>\n",
              "      <th>3</th>\n",
              "      <td>A-4</td>\n",
              "      <td>53.6</td>\n",
              "      <td>Cold</td>\n",
              "    </tr>\n",
              "    <tr>\n",
              "      <th>4</th>\n",
              "      <td>A-5</td>\n",
              "      <td>84.2</td>\n",
              "      <td>Hot</td>\n",
              "    </tr>\n",
              "    <tr>\n",
              "      <th>5</th>\n",
              "      <td>A-6</td>\n",
              "      <td>73.4</td>\n",
              "      <td>Warm</td>\n",
              "    </tr>\n",
              "    <tr>\n",
              "      <th>6</th>\n",
              "      <td>A-7</td>\n",
              "      <td>28.0</td>\n",
              "      <td>Extremely Cold</td>\n",
              "    </tr>\n",
              "  </tbody>\n",
              "</table>\n",
              "</div>"
            ],
            "text/plain": [
              "    ID  Temperature(F)           Group\n",
              "0  A-1            76.0            Warm\n",
              "1  A-2            76.0            Warm\n",
              "2  A-3            51.0            Cold\n",
              "3  A-4            53.6            Cold\n",
              "4  A-5            84.2             Hot\n",
              "5  A-6            73.4            Warm\n",
              "6  A-7            28.0  Extremely Cold"
            ]
          },
          "metadata": {
            "tags": []
          },
          "execution_count": 74
        }
      ]
    },
    {
      "cell_type": "code",
      "metadata": {
        "id": "br6xb89hGldV"
      },
      "source": [
        "#I want to group it so that i can visualize\n",
        "temp_df_G = pd.DataFrame(temp_df.groupby('Group')['ID'].count()).sort_values(by=\"ID\", ascending= False)\n",
        "temp_df_G.reset_index(inplace=True)"
      ],
      "execution_count": 90,
      "outputs": []
    },
    {
      "cell_type": "code",
      "metadata": {
        "id": "E50AILp8Hd6E"
      },
      "source": [
        "temp_df_G[\"Percentage\"] = round(temp_df_G.ID/temp_df_G.ID.sum() * 100, 2)"
      ],
      "execution_count": 91,
      "outputs": []
    },
    {
      "cell_type": "code",
      "metadata": {
        "colab": {
          "base_uri": "https://localhost:8080/",
          "height": 204
        },
        "id": "G8lZF4XnHIDq",
        "outputId": "cf37187e-a960-4057-db7e-0674ccaf5c51"
      },
      "source": [
        "temp_df_G\n"
      ],
      "execution_count": 92,
      "outputs": [
        {
          "output_type": "execute_result",
          "data": {
            "text/html": [
              "<div>\n",
              "<style scoped>\n",
              "    .dataframe tbody tr th:only-of-type {\n",
              "        vertical-align: middle;\n",
              "    }\n",
              "\n",
              "    .dataframe tbody tr th {\n",
              "        vertical-align: top;\n",
              "    }\n",
              "\n",
              "    .dataframe thead th {\n",
              "        text-align: right;\n",
              "    }\n",
              "</style>\n",
              "<table border=\"1\" class=\"dataframe\">\n",
              "  <thead>\n",
              "    <tr style=\"text-align: right;\">\n",
              "      <th></th>\n",
              "      <th>Group</th>\n",
              "      <th>ID</th>\n",
              "      <th>Percentage</th>\n",
              "    </tr>\n",
              "  </thead>\n",
              "  <tbody>\n",
              "    <tr>\n",
              "      <th>0</th>\n",
              "      <td>Warm</td>\n",
              "      <td>1140892</td>\n",
              "      <td>39.25</td>\n",
              "    </tr>\n",
              "    <tr>\n",
              "      <th>1</th>\n",
              "      <td>Cold</td>\n",
              "      <td>999478</td>\n",
              "      <td>34.39</td>\n",
              "    </tr>\n",
              "    <tr>\n",
              "      <th>2</th>\n",
              "      <td>Hot</td>\n",
              "      <td>493995</td>\n",
              "      <td>17.00</td>\n",
              "    </tr>\n",
              "    <tr>\n",
              "      <th>3</th>\n",
              "      <td>Extremely Cold</td>\n",
              "      <td>190551</td>\n",
              "      <td>6.56</td>\n",
              "    </tr>\n",
              "    <tr>\n",
              "      <th>4</th>\n",
              "      <td>Extremely  Hot</td>\n",
              "      <td>81694</td>\n",
              "      <td>2.81</td>\n",
              "    </tr>\n",
              "  </tbody>\n",
              "</table>\n",
              "</div>"
            ],
            "text/plain": [
              "            Group       ID  Percentage\n",
              "0            Warm  1140892       39.25\n",
              "1            Cold   999478       34.39\n",
              "2             Hot   493995       17.00\n",
              "3  Extremely Cold   190551        6.56\n",
              "4  Extremely  Hot    81694        2.81"
            ]
          },
          "metadata": {
            "tags": []
          },
          "execution_count": 92
        }
      ]
    },
    {
      "cell_type": "code",
      "metadata": {
        "colab": {
          "base_uri": "https://localhost:8080/",
          "height": 379
        },
        "id": "tLml4MxXJmWm",
        "outputId": "1bc1ea37-c2f8-454e-f873-ee2f6fd8ee9d"
      },
      "source": [
        "id_list = temp_df_G.ID.to_list()\n",
        "Group_list = temp_df_G.Group.to_list()\n",
        "sns.set_theme(style=\"darkgrid\")\n",
        "plt.figure(figsize=(10,5))\n",
        "plt.bar(Group_list, id_list, width = 0.8, color = \"#00286D\")\n",
        "\n",
        "plt.xlabel(\"Weather\", fontdict= {\"fontsize\" : 18}, labelpad= 18)\n",
        "plt.ylabel(\"No Of Accident\", fontdict= {\"fontsize\" : 18}, labelpad= 18)\n",
        "plt.title(\"Temperature\", fontdict= {\"fontsize\" : 20, \"fontweight\" : \"bold\"})\n",
        "\n",
        "\n",
        "plt.show()\n"
      ],
      "execution_count": 101,
      "outputs": [
        {
          "output_type": "display_data",
          "data": {
            "image/png": "[encoded data removed]",
            "text/plain": [
              "<Figure size 720x360 with 1 Axes>"
            ]
          },
          "metadata": {
            "tags": []
          }
        }
      ]
    },
    {
      "cell_type": "markdown",
      "metadata": {
        "id": "NT9j4e5lLqVW"
      },
      "source": [
        "\n",
        "Most Accident occurs whenever the weather is cold and warm. \n",
        "This means that people are likely to stay indoor when is extremely hot and cold.\n"
      ]
    },
    {
      "cell_type": "markdown",
      "metadata": {
        "id": "NQPYddtyL8FR"
      },
      "source": [
        "### BOOLEAN"
      ]
    },
    {
      "cell_type": "code",
      "metadata": {
        "colab": {
          "base_uri": "https://localhost:8080/",
          "height": 142
        },
        "id": "AmMpg94RMAgb",
        "outputId": "d26d846b-9600-4cc3-db2a-9aa1ca6d81dd"
      },
      "source": [
        "bool_DataFrame.head(3)"
      ],
      "execution_count": 103,
      "outputs": [
        {
          "output_type": "execute_result",
          "data": {
            "text/html": [
              "<div>\n",
              "<style scoped>\n",
              "    .dataframe tbody tr th:only-of-type {\n",
              "        vertical-align: middle;\n",
              "    }\n",
              "\n",
              "    .dataframe tbody tr th {\n",
              "        vertical-align: top;\n",
              "    }\n",
              "\n",
              "    .dataframe thead th {\n",
              "        text-align: right;\n",
              "    }\n",
              "</style>\n",
              "<table border=\"1\" class=\"dataframe\">\n",
              "  <thead>\n",
              "    <tr style=\"text-align: right;\">\n",
              "      <th></th>\n",
              "      <th>ID</th>\n",
              "      <th>Amenity</th>\n",
              "      <th>Bump</th>\n",
              "      <th>Crossing</th>\n",
              "      <th>Give_Way</th>\n",
              "      <th>Junction</th>\n",
              "      <th>No_Exit</th>\n",
              "      <th>Railway</th>\n",
              "      <th>Roundabout</th>\n",
              "      <th>Station</th>\n",
              "      <th>Stop</th>\n",
              "      <th>Traffic_Calming</th>\n",
              "      <th>Traffic_Signal</th>\n",
              "    </tr>\n",
              "  </thead>\n",
              "  <tbody>\n",
              "    <tr>\n",
              "      <th>0</th>\n",
              "      <td>A-1</td>\n",
              "      <td>False</td>\n",
              "      <td>False</td>\n",
              "      <td>False</td>\n",
              "      <td>False</td>\n",
              "      <td>False</td>\n",
              "      <td>False</td>\n",
              "      <td>False</td>\n",
              "      <td>False</td>\n",
              "      <td>False</td>\n",
              "      <td>False</td>\n",
              "      <td>False</td>\n",
              "      <td>False</td>\n",
              "    </tr>\n",
              "    <tr>\n",
              "      <th>1</th>\n",
              "      <td>A-2</td>\n",
              "      <td>False</td>\n",
              "      <td>False</td>\n",
              "      <td>False</td>\n",
              "      <td>False</td>\n",
              "      <td>False</td>\n",
              "      <td>False</td>\n",
              "      <td>False</td>\n",
              "      <td>False</td>\n",
              "      <td>False</td>\n",
              "      <td>False</td>\n",
              "      <td>False</td>\n",
              "      <td>False</td>\n",
              "    </tr>\n",
              "    <tr>\n",
              "      <th>2</th>\n",
              "      <td>A-3</td>\n",
              "      <td>False</td>\n",
              "      <td>False</td>\n",
              "      <td>False</td>\n",
              "      <td>False</td>\n",
              "      <td>False</td>\n",
              "      <td>False</td>\n",
              "      <td>False</td>\n",
              "      <td>False</td>\n",
              "      <td>False</td>\n",
              "      <td>False</td>\n",
              "      <td>False</td>\n",
              "      <td>False</td>\n",
              "    </tr>\n",
              "  </tbody>\n",
              "</table>\n",
              "</div>"
            ],
            "text/plain": [
              "    ID  Amenity   Bump  ...   Stop  Traffic_Calming  Traffic_Signal\n",
              "0  A-1    False  False  ...  False            False           False\n",
              "1  A-2    False  False  ...  False            False           False\n",
              "2  A-3    False  False  ...  False            False           False\n",
              "\n",
              "[3 rows x 13 columns]"
            ]
          },
          "metadata": {
            "tags": []
          },
          "execution_count": 103
        }
      ]
    },
    {
      "cell_type": "code",
      "metadata": {
        "colab": {
          "base_uri": "https://localhost:8080/",
          "height": 441
        },
        "id": "2zTcYW-lMOGj",
        "outputId": "3dd35c13-92fe-4013-f45d-b1ba2435a40e"
      },
      "source": [
        "bool_DataFrame.corr()"
      ],
      "execution_count": 119,
      "outputs": [
        {
          "output_type": "execute_result",
          "data": {
            "text/html": [
              "<div>\n",
              "<style scoped>\n",
              "    .dataframe tbody tr th:only-of-type {\n",
              "        vertical-align: middle;\n",
              "    }\n",
              "\n",
              "    .dataframe tbody tr th {\n",
              "        vertical-align: top;\n",
              "    }\n",
              "\n",
              "    .dataframe thead th {\n",
              "        text-align: right;\n",
              "    }\n",
              "</style>\n",
              "<table border=\"1\" class=\"dataframe\">\n",
              "  <thead>\n",
              "    <tr style=\"text-align: right;\">\n",
              "      <th></th>\n",
              "      <th>Amenity</th>\n",
              "      <th>Bump</th>\n",
              "      <th>Crossing</th>\n",
              "      <th>Give_Way</th>\n",
              "      <th>Junction</th>\n",
              "      <th>No_Exit</th>\n",
              "      <th>Railway</th>\n",
              "      <th>Roundabout</th>\n",
              "      <th>Station</th>\n",
              "      <th>Stop</th>\n",
              "      <th>Traffic_Calming</th>\n",
              "      <th>Traffic_Signal</th>\n",
              "    </tr>\n",
              "  </thead>\n",
              "  <tbody>\n",
              "    <tr>\n",
              "      <th>Amenity</th>\n",
              "      <td>1.000000</td>\n",
              "      <td>0.004188</td>\n",
              "      <td>0.121591</td>\n",
              "      <td>0.006664</td>\n",
              "      <td>-0.027331</td>\n",
              "      <td>0.012471</td>\n",
              "      <td>0.048310</td>\n",
              "      <td>0.000699</td>\n",
              "      <td>0.169276</td>\n",
              "      <td>0.032189</td>\n",
              "      <td>0.024798</td>\n",
              "      <td>0.102440</td>\n",
              "    </tr>\n",
              "    <tr>\n",
              "      <th>Bump</th>\n",
              "      <td>0.004188</td>\n",
              "      <td>1.000000</td>\n",
              "      <td>0.009828</td>\n",
              "      <td>-0.000752</td>\n",
              "      <td>-0.000083</td>\n",
              "      <td>0.029617</td>\n",
              "      <td>0.002809</td>\n",
              "      <td>-0.000099</td>\n",
              "      <td>0.002872</td>\n",
              "      <td>0.014530</td>\n",
              "      <td>0.665499</td>\n",
              "      <td>-0.004257</td>\n",
              "    </tr>\n",
              "    <tr>\n",
              "      <th>Crossing</th>\n",
              "      <td>0.121591</td>\n",
              "      <td>0.009828</td>\n",
              "      <td>1.000000</td>\n",
              "      <td>0.063578</td>\n",
              "      <td>-0.083039</td>\n",
              "      <td>0.049284</td>\n",
              "      <td>0.223063</td>\n",
              "      <td>0.000057</td>\n",
              "      <td>0.119229</td>\n",
              "      <td>0.067607</td>\n",
              "      <td>0.024631</td>\n",
              "      <td>0.455875</td>\n",
              "    </tr>\n",
              "    <tr>\n",
              "      <th>Give_Way</th>\n",
              "      <td>0.006664</td>\n",
              "      <td>-0.000752</td>\n",
              "      <td>0.063578</td>\n",
              "      <td>1.000000</td>\n",
              "      <td>-0.009828</td>\n",
              "      <td>0.011582</td>\n",
              "      <td>0.001631</td>\n",
              "      <td>-0.000372</td>\n",
              "      <td>-0.000963</td>\n",
              "      <td>0.041432</td>\n",
              "      <td>0.001315</td>\n",
              "      <td>0.057462</td>\n",
              "    </tr>\n",
              "    <tr>\n",
              "      <th>Junction</th>\n",
              "      <td>-0.027331</td>\n",
              "      <td>-0.000083</td>\n",
              "      <td>-0.083039</td>\n",
              "      <td>-0.009828</td>\n",
              "      <td>1.000000</td>\n",
              "      <td>-0.003624</td>\n",
              "      <td>-0.011440</td>\n",
              "      <td>0.016036</td>\n",
              "      <td>-0.033703</td>\n",
              "      <td>-0.030959</td>\n",
              "      <td>-0.001281</td>\n",
              "      <td>-0.128115</td>\n",
              "    </tr>\n",
              "    <tr>\n",
              "      <th>No_Exit</th>\n",
              "      <td>0.012471</td>\n",
              "      <td>0.029617</td>\n",
              "      <td>0.049284</td>\n",
              "      <td>0.011582</td>\n",
              "      <td>-0.003624</td>\n",
              "      <td>1.000000</td>\n",
              "      <td>0.007798</td>\n",
              "      <td>-0.000255</td>\n",
              "      <td>0.016847</td>\n",
              "      <td>0.012694</td>\n",
              "      <td>0.020622</td>\n",
              "      <td>0.024314</td>\n",
              "    </tr>\n",
              "    <tr>\n",
              "      <th>Railway</th>\n",
              "      <td>0.048310</td>\n",
              "      <td>0.002809</td>\n",
              "      <td>0.223063</td>\n",
              "      <td>0.001631</td>\n",
              "      <td>-0.011440</td>\n",
              "      <td>0.007798</td>\n",
              "      <td>1.000000</td>\n",
              "      <td>-0.000663</td>\n",
              "      <td>0.144320</td>\n",
              "      <td>0.007596</td>\n",
              "      <td>0.001267</td>\n",
              "      <td>0.057128</td>\n",
              "    </tr>\n",
              "    <tr>\n",
              "      <th>Roundabout</th>\n",
              "      <td>0.000699</td>\n",
              "      <td>-0.000099</td>\n",
              "      <td>0.000057</td>\n",
              "      <td>-0.000372</td>\n",
              "      <td>0.016036</td>\n",
              "      <td>-0.000255</td>\n",
              "      <td>-0.000663</td>\n",
              "      <td>1.000000</td>\n",
              "      <td>-0.000292</td>\n",
              "      <td>0.003086</td>\n",
              "      <td>0.013783</td>\n",
              "      <td>-0.003006</td>\n",
              "    </tr>\n",
              "    <tr>\n",
              "      <th>Station</th>\n",
              "      <td>0.169276</td>\n",
              "      <td>0.002872</td>\n",
              "      <td>0.119229</td>\n",
              "      <td>-0.000963</td>\n",
              "      <td>-0.033703</td>\n",
              "      <td>0.016847</td>\n",
              "      <td>0.144320</td>\n",
              "      <td>-0.000292</td>\n",
              "      <td>1.000000</td>\n",
              "      <td>0.021539</td>\n",
              "      <td>0.009286</td>\n",
              "      <td>0.122166</td>\n",
              "    </tr>\n",
              "    <tr>\n",
              "      <th>Stop</th>\n",
              "      <td>0.032189</td>\n",
              "      <td>0.014530</td>\n",
              "      <td>0.067607</td>\n",
              "      <td>0.041432</td>\n",
              "      <td>-0.030959</td>\n",
              "      <td>0.012694</td>\n",
              "      <td>0.007596</td>\n",
              "      <td>0.003086</td>\n",
              "      <td>0.021539</td>\n",
              "      <td>1.000000</td>\n",
              "      <td>0.015507</td>\n",
              "      <td>-0.040345</td>\n",
              "    </tr>\n",
              "    <tr>\n",
              "      <th>Traffic_Calming</th>\n",
              "      <td>0.024798</td>\n",
              "      <td>0.665499</td>\n",
              "      <td>0.024631</td>\n",
              "      <td>0.001315</td>\n",
              "      <td>-0.001281</td>\n",
              "      <td>0.020622</td>\n",
              "      <td>0.001267</td>\n",
              "      <td>0.013783</td>\n",
              "      <td>0.009286</td>\n",
              "      <td>0.015507</td>\n",
              "      <td>1.000000</td>\n",
              "      <td>0.004248</td>\n",
              "    </tr>\n",
              "    <tr>\n",
              "      <th>Traffic_Signal</th>\n",
              "      <td>0.102440</td>\n",
              "      <td>-0.004257</td>\n",
              "      <td>0.455875</td>\n",
              "      <td>0.057462</td>\n",
              "      <td>-0.128115</td>\n",
              "      <td>0.024314</td>\n",
              "      <td>0.057128</td>\n",
              "      <td>-0.003006</td>\n",
              "      <td>0.122166</td>\n",
              "      <td>-0.040345</td>\n",
              "      <td>0.004248</td>\n",
              "      <td>1.000000</td>\n",
              "    </tr>\n",
              "  </tbody>\n",
              "</table>\n",
              "</div>"
            ],
            "text/plain": [
              "                  Amenity      Bump  ...  Traffic_Calming  Traffic_Signal\n",
              "Amenity          1.000000  0.004188  ...         0.024798        0.102440\n",
              "Bump             0.004188  1.000000  ...         0.665499       -0.004257\n",
              "Crossing         0.121591  0.009828  ...         0.024631        0.455875\n",
              "Give_Way         0.006664 -0.000752  ...         0.001315        0.057462\n",
              "Junction        -0.027331 -0.000083  ...        -0.001281       -0.128115\n",
              "No_Exit          0.012471  0.029617  ...         0.020622        0.024314\n",
              "Railway          0.048310  0.002809  ...         0.001267        0.057128\n",
              "Roundabout       0.000699 -0.000099  ...         0.013783       -0.003006\n",
              "Station          0.169276  0.002872  ...         0.009286        0.122166\n",
              "Stop             0.032189  0.014530  ...         0.015507       -0.040345\n",
              "Traffic_Calming  0.024798  0.665499  ...         1.000000        0.004248\n",
              "Traffic_Signal   0.102440 -0.004257  ...         0.004248        1.000000\n",
              "\n",
              "[12 rows x 12 columns]"
            ]
          },
          "metadata": {
            "tags": []
          },
          "execution_count": 119
        }
      ]
    },
    {
      "cell_type": "markdown",
      "metadata": {
        "id": "k2HAcIRhU7uy"
      },
      "source": [
        "### **Observation**\n",
        "\n",
        "*   Presence of traffic  signal in a nearby location will result to high number of people crossing or Give way.  A  traffic signal will show peedsterian crosiing\n",
        "\n",
        "*  \n"
      ]
    },
    {
      "cell_type": "code",
      "metadata": {
        "colab": {
          "base_uri": "https://localhost:8080/"
        },
        "id": "KeuT9XovMO0u",
        "outputId": "7ce60636-7e4d-4a73-b2e4-3ff89f3b1c81"
      },
      "source": [
        "bool_DataFrame.isnull().values.any()"
      ],
      "execution_count": 104,
      "outputs": [
        {
          "output_type": "execute_result",
          "data": {
            "text/plain": [
              "False"
            ]
          },
          "metadata": {
            "tags": []
          },
          "execution_count": 104
        }
      ]
    },
    {
      "cell_type": "markdown",
      "metadata": {
        "id": "jPmiBJA0MWtw"
      },
      "source": [
        "From the above code, it shows that there is no missing data in the dataframe."
      ]
    },
    {
      "cell_type": "code",
      "metadata": {
        "colab": {
          "base_uri": "https://localhost:8080/",
          "height": 111
        },
        "id": "S75raWatQXBK",
        "outputId": "3d9eb752-e008-46b9-de9e-79a386a8c841"
      },
      "source": [
        "#Grouping the bump\n",
        "bump_df = pd.DataFrame(bool_DataFrame.groupby(\"Bump\")[\"ID\"].count())\n",
        "bump_df.reset_index(inplace=True)\n",
        "bump_df.head(3)"
      ],
      "execution_count": 112,
      "outputs": [
        {
          "output_type": "execute_result",
          "data": {
            "text/html": [
              "<div>\n",
              "<style scoped>\n",
              "    .dataframe tbody tr th:only-of-type {\n",
              "        vertical-align: middle;\n",
              "    }\n",
              "\n",
              "    .dataframe tbody tr th {\n",
              "        vertical-align: top;\n",
              "    }\n",
              "\n",
              "    .dataframe thead th {\n",
              "        text-align: right;\n",
              "    }\n",
              "</style>\n",
              "<table border=\"1\" class=\"dataframe\">\n",
              "  <thead>\n",
              "    <tr style=\"text-align: right;\">\n",
              "      <th></th>\n",
              "      <th>Bump</th>\n",
              "      <th>ID</th>\n",
              "    </tr>\n",
              "  </thead>\n",
              "  <tbody>\n",
              "    <tr>\n",
              "      <th>0</th>\n",
              "      <td>False</td>\n",
              "      <td>2906031</td>\n",
              "    </tr>\n",
              "    <tr>\n",
              "      <th>1</th>\n",
              "      <td>True</td>\n",
              "      <td>579</td>\n",
              "    </tr>\n",
              "  </tbody>\n",
              "</table>\n",
              "</div>"
            ],
            "text/plain": [
              "    Bump       ID\n",
              "0  False  2906031\n",
              "1   True      579"
            ]
          },
          "metadata": {
            "tags": []
          },
          "execution_count": 112
        }
      ]
    },
    {
      "cell_type": "code",
      "metadata": {
        "id": "GcIkwXxDRdnS"
      },
      "source": [
        "bump_df[\"Percentage\"] = round(bump_df.ID/bump_df.ID.sum() * 100, 4)"
      ],
      "execution_count": 125,
      "outputs": []
    },
    {
      "cell_type": "code",
      "metadata": {
        "colab": {
          "base_uri": "https://localhost:8080/",
          "height": 111
        },
        "id": "XzedWqusR0um",
        "outputId": "1bb43ecd-d203-4b7d-ace5-044faeb9f98b"
      },
      "source": [
        "bump_df.head(3)"
      ],
      "execution_count": 126,
      "outputs": [
        {
          "output_type": "execute_result",
          "data": {
            "text/html": [
              "<div>\n",
              "<style scoped>\n",
              "    .dataframe tbody tr th:only-of-type {\n",
              "        vertical-align: middle;\n",
              "    }\n",
              "\n",
              "    .dataframe tbody tr th {\n",
              "        vertical-align: top;\n",
              "    }\n",
              "\n",
              "    .dataframe thead th {\n",
              "        text-align: right;\n",
              "    }\n",
              "</style>\n",
              "<table border=\"1\" class=\"dataframe\">\n",
              "  <thead>\n",
              "    <tr style=\"text-align: right;\">\n",
              "      <th></th>\n",
              "      <th>Bump</th>\n",
              "      <th>ID</th>\n",
              "      <th>Percentage</th>\n",
              "    </tr>\n",
              "  </thead>\n",
              "  <tbody>\n",
              "    <tr>\n",
              "      <th>0</th>\n",
              "      <td>False</td>\n",
              "      <td>2906031</td>\n",
              "      <td>99.9801</td>\n",
              "    </tr>\n",
              "    <tr>\n",
              "      <th>1</th>\n",
              "      <td>True</td>\n",
              "      <td>579</td>\n",
              "      <td>0.0199</td>\n",
              "    </tr>\n",
              "  </tbody>\n",
              "</table>\n",
              "</div>"
            ],
            "text/plain": [
              "    Bump       ID  Percentage\n",
              "0  False  2906031     99.9801\n",
              "1   True      579      0.0199"
            ]
          },
          "metadata": {
            "tags": []
          },
          "execution_count": 126
        }
      ]
    },
    {
      "cell_type": "code",
      "metadata": {
        "colab": {
          "base_uri": "https://localhost:8080/",
          "height": 309
        },
        "id": "bJojIv62RTuF",
        "outputId": "ee73f61d-69d9-4746-e797-dc8ea0243fda"
      },
      "source": [
        "bump_percentage = bump_df[\"Percentage\"].to_list()\n",
        "plt.title('Bump', fontsize=24, loc='Left')\n",
        "plt.pie(bump_percentage, colors=['#E20614','#FFCE00',], labels= [\"False\", \"True\"], radius=1.6, autopct= \"%0.1f%%\", pctdistance = 0.77,\n",
        "        textprops = {\"size\" : 17, \"color\" : \"#000\"}, explode= [0.00, 0.00])\n",
        "\n",
        "centre_circle = plt.Circle((0,0), 0.8, fc = \"w\")\n",
        "fig = plt.gcf()\n",
        "fig.gca().add_artist(centre_circle)\n",
        "plt.show()"
      ],
      "execution_count": 131,
      "outputs": [
        {
          "output_type": "display_data",
          "data": {
            "image/png": "[encoded data removed]",
            "text/plain": [
              "<Figure size 432x288 with 1 Axes>"
            ]
          },
          "metadata": {
            "tags": []
          }
        }
      ]
    },
    {
      "cell_type": "markdown",
      "metadata": {
        "id": "6-dTqI0YUZHg"
      },
      "source": [
        "From the chart above,  we  see the accident is not caused by Bump. We see that 99.99% of the accidents were not due to a speed bump"
      ]
    },
    {
      "cell_type": "code",
      "metadata": {
        "colab": {
          "base_uri": "https://localhost:8080/",
          "height": 86
        },
        "id": "j1pzRIitoib9",
        "outputId": "78ba48ee-3b41-4375-9c7b-7cea3b12ae61"
      },
      "source": [
        "# Execute this to save new versions of the notebook\n",
        "jovian.commit(project=\"EDA OF US ACCIDENTS\")"
      ],
      "execution_count": 135,
      "outputs": [
        {
          "output_type": "stream",
          "text": [
            "[jovian] Detected Colab notebook...\u001b[0m\n",
            "[jovian] Uploading colab notebook to Jovian...\u001b[0m\n",
            "Committed successfully! https://jovian.ai/temitopeyakub28/eda-of-us-accidents\n"
          ],
          "name": "stdout"
        },
        {
          "output_type": "execute_result",
          "data": {
            "application/vnd.google.colaboratory.intrinsic+json": {
              "type": "string"
            },
            "text/plain": [
              "'https://jovian.ai/temitopeyakub28/eda-of-us-accidents'"
            ]
          },
          "metadata": {
            "tags": []
          },
          "execution_count": 135
        }
      ]
    },
    {
      "cell_type": "code",
      "metadata": {
        "id": "crw-YeRqIhqI"
      },
      "source": [
        ""
      ],
      "execution_count": null,
      "outputs": []
    },
    {
      "cell_type": "code",
      "metadata": {
        "id": "C-wHEXD_Hyet"
      },
      "source": [
        ""
      ],
      "execution_count": null,
      "outputs": []
    }
  ]
}